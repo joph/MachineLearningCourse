{
 "cells": [
  {
   "cell_type": "code",
   "execution_count": 2,
   "metadata": {
    "ExecuteTime": {
     "end_time": "2019-11-11T20:49:27.572044Z",
     "start_time": "2019-11-11T20:49:27.521207Z"
    }
   },
   "outputs": [
    {
     "name": "stdout",
     "output_type": "stream",
     "text": [
      "/data/projects/windturbine-identification/MachineLearningCourse\n"
     ]
    }
   ],
   "source": [
    "cd /data/projects/windturbine-identification/MachineLearningCourse"
   ]
  },
  {
   "cell_type": "code",
   "execution_count": 5,
   "metadata": {
    "ExecuteTime": {
     "end_time": "2019-11-11T20:50:03.034235Z",
     "start_time": "2019-11-11T20:50:01.399507Z"
    }
   },
   "outputs": [
    {
     "data": {
      "text/plain": [
       "<module 'scripts.windturbines.functions_pattern_recognition' from '/data/projects/windturbine-identification/MachineLearningCourse/scripts/windturbines/functions_pattern_recognition.py'>"
      ]
     },
     "execution_count": 5,
     "metadata": {},
     "output_type": "execute_result"
    }
   ],
   "source": [
    "# -*- coding: utf-8 -*-\n",
    "\"\"\"\n",
    "Created on Mon Feb 18 13:04:17 2019\n",
    "\n",
    "\n",
    "@author: jschmidt\n",
    "\"\"\"\n",
    "import imp\n",
    "import scripts.windturbines.functions_pattern_recognition as fpr\n",
    "imp.reload(fpr)\n",
    "\n",
    "\n"
   ]
  },
  {
   "cell_type": "markdown",
   "metadata": {},
   "source": [
    "# Training Phase"
   ]
  },
  {
   "cell_type": "code",
   "execution_count": 4,
   "metadata": {
    "ExecuteTime": {
     "end_time": "2019-11-11T20:49:37.154143Z",
     "start_time": "2019-11-11T20:49:37.151384Z"
    }
   },
   "outputs": [],
   "source": [
    "COUNTRY = \"US\"\n",
    "\n"
   ]
  },
  {
   "cell_type": "code",
   "execution_count": null,
   "metadata": {},
   "outputs": [],
   "source": [
    "fpr.train_model_res(13, COUNTRY, 30)"
   ]
  },
  {
   "cell_type": "code",
   "execution_count": null,
   "metadata": {
    "ExecuteTime": {
     "start_time": "2019-11-09T17:37:29.046Z"
    }
   },
   "outputs": [],
   "source": [
    "fpr.train_model_res(14, COUNTRY, 30)"
   ]
  },
  {
   "cell_type": "code",
   "execution_count": null,
   "metadata": {
    "ExecuteTime": {
     "start_time": "2019-11-09T17:37:32.452Z"
    }
   },
   "outputs": [],
   "source": [
    "fpr.train_model_res(15, COUNTRY, 30)\n"
   ]
  },
  {
   "cell_type": "code",
   "execution_count": 5,
   "metadata": {
    "ExecuteTime": {
     "end_time": "2019-11-10T10:35:16.125606Z",
     "start_time": "2019-11-10T09:36:58.006181Z"
    }
   },
   "outputs": [
    {
     "name": "stderr",
     "output_type": "stream",
     "text": [
      "/home/jschmidt/.conda/envs/windturbine-identification/lib/python3.7/site-packages/keras_preprocessing/image/dataframe_iterator.py:273: UserWarning: Found 2 invalid image filename(s) in x_col=\"id\". These filename(s) will be ignored.\n",
      "  .format(n_invalid, x_col)\n"
     ]
    },
    {
     "name": "stdout",
     "output_type": "stream",
     "text": [
      "Found 57195 validated image filenames belonging to 2 classes.\n",
      "Found 19065 validated image filenames belonging to 2 classes.\n",
      "Found 19064 validated image filenames belonging to 2 classes.\n",
      "WARNING:tensorflow:From /home/jschmidt/.conda/envs/windturbine-identification/lib/python3.7/site-packages/tensorflow/python/framework/op_def_library.py:263: colocate_with (from tensorflow.python.framework.ops) is deprecated and will be removed in a future version.\n",
      "Instructions for updating:\n",
      "Colocations handled automatically by placer.\n"
     ]
    },
    {
     "name": "stderr",
     "output_type": "stream",
     "text": [
      "/home/jschmidt/.conda/envs/windturbine-identification/lib/python3.7/site-packages/keras_preprocessing/image/dataframe_iterator.py:273: UserWarning: Found 4 invalid image filename(s) in x_col=\"id\". These filename(s) will be ignored.\n",
      "  .format(n_invalid, x_col)\n"
     ]
    },
    {
     "name": "stdout",
     "output_type": "stream",
     "text": [
      "WARNING:tensorflow:From /home/jschmidt/.conda/envs/windturbine-identification/lib/python3.7/site-packages/tensorflow/python/ops/math_ops.py:3066: to_int32 (from tensorflow.python.ops.math_ops) is deprecated and will be removed in a future version.\n",
      "Instructions for updating:\n",
      "Use tf.cast instead.\n",
      "Epoch 1/30\n",
      " - 157s - loss: 0.4856 - acc: 0.7575 - val_loss: 0.9560 - val_acc: 0.4740\n",
      "Epoch 2/30\n",
      " - 131s - loss: 0.3646 - acc: 0.8440 - val_loss: 1.5406 - val_acc: 0.2870\n",
      "Epoch 3/30\n",
      " - 127s - loss: 0.3121 - acc: 0.8695 - val_loss: 0.5920 - val_acc: 0.7150\n",
      "Epoch 4/30\n",
      " - 144s - loss: 0.3103 - acc: 0.8670 - val_loss: 0.4514 - val_acc: 0.8020\n",
      "Epoch 5/30\n",
      " - 133s - loss: 0.2837 - acc: 0.8860 - val_loss: 0.6785 - val_acc: 0.6770\n",
      "Epoch 6/30\n",
      " - 134s - loss: 0.2698 - acc: 0.8900 - val_loss: 0.4202 - val_acc: 0.8060\n",
      "Epoch 7/30\n",
      " - 121s - loss: 0.2507 - acc: 0.8990 - val_loss: 0.3991 - val_acc: 0.8140\n",
      "Epoch 8/30\n",
      " - 130s - loss: 0.2375 - acc: 0.9080 - val_loss: 0.3820 - val_acc: 0.8210\n",
      "Epoch 9/30\n",
      " - 128s - loss: 0.2251 - acc: 0.9165 - val_loss: 1.2753 - val_acc: 0.6620\n",
      "Epoch 10/30\n",
      " - 119s - loss: 0.2202 - acc: 0.9200 - val_loss: 0.4304 - val_acc: 0.8220\n",
      "Epoch 11/30\n",
      " - 144s - loss: 0.1833 - acc: 0.9305 - val_loss: 0.3143 - val_acc: 0.8790\n",
      "Epoch 12/30\n",
      " - 122s - loss: 0.2083 - acc: 0.9235 - val_loss: 0.4399 - val_acc: 0.7980\n",
      "Epoch 13/30\n",
      " - 123s - loss: 0.1990 - acc: 0.9280 - val_loss: 0.5579 - val_acc: 0.7700\n",
      "Epoch 14/30\n",
      " - 126s - loss: 0.2022 - acc: 0.9320 - val_loss: 0.5935 - val_acc: 0.8030\n",
      "Epoch 15/30\n",
      " - 118s - loss: 0.1915 - acc: 0.9325 - val_loss: 0.4197 - val_acc: 0.8460\n",
      "Epoch 16/30\n",
      " - 118s - loss: 0.1926 - acc: 0.9335 - val_loss: 0.7654 - val_acc: 0.6640\n",
      "Epoch 17/30\n",
      " - 119s - loss: 0.1732 - acc: 0.9310 - val_loss: 0.3879 - val_acc: 0.8450\n",
      "Epoch 18/30\n",
      " - 122s - loss: 0.1961 - acc: 0.9305 - val_loss: 0.8668 - val_acc: 0.7090\n",
      "Epoch 19/30\n",
      " - 118s - loss: 0.1630 - acc: 0.9420 - val_loss: 0.4722 - val_acc: 0.8220\n",
      "Epoch 20/30\n",
      " - 100s - loss: 0.1793 - acc: 0.9355 - val_loss: 0.3949 - val_acc: 0.8284\n",
      "Epoch 21/30\n",
      " - 104s - loss: 0.1748 - acc: 0.9395 - val_loss: 0.4631 - val_acc: 0.7950\n",
      "Epoch 22/30\n",
      " - 98s - loss: 0.1686 - acc: 0.9435 - val_loss: 0.2836 - val_acc: 0.8990\n",
      "Epoch 23/30\n",
      " - 96s - loss: 0.1734 - acc: 0.9355 - val_loss: 0.6502 - val_acc: 0.7600\n",
      "Epoch 24/30\n",
      " - 100s - loss: 0.1771 - acc: 0.9400 - val_loss: 0.5538 - val_acc: 0.7430\n",
      "Epoch 25/30\n",
      " - 100s - loss: 0.1669 - acc: 0.9415 - val_loss: 0.7563 - val_acc: 0.7720\n",
      "Epoch 26/30\n",
      " - 95s - loss: 0.1860 - acc: 0.9380 - val_loss: 0.4223 - val_acc: 0.8440\n",
      "Epoch 27/30\n",
      " - 104s - loss: 0.1656 - acc: 0.9475 - val_loss: 0.3934 - val_acc: 0.8280\n",
      "Epoch 28/30\n",
      " - 93s - loss: 0.1826 - acc: 0.9370 - val_loss: 0.9535 - val_acc: 0.7770\n",
      "Epoch 29/30\n",
      " - 73s - loss: 0.1862 - acc: 0.9425 - val_loss: 0.4031 - val_acc: 0.8640\n",
      "Epoch 30/30\n",
      " - 54s - loss: 0.1628 - acc: 0.9425 - val_loss: 0.8501 - val_acc: 0.7550\n"
     ]
    },
    {
     "data": {
      "image/png": "[encoded data removed]",
      "text/plain": [
       "<Figure size 432x288 with 1 Axes>"
      ]
     },
     "metadata": {
      "needs_background": "light"
     },
     "output_type": "display_data"
    },
    {
     "data": {
      "image/png": "[encoded data removed]",
      "text/plain": [
       "<Figure size 432x288 with 1 Axes>"
      ]
     },
     "metadata": {
      "needs_background": "light"
     },
     "output_type": "display_data"
    }
   ],
   "source": [
    "fpr.train_model_res(16, COUNTRY, 30)"
   ]
  },
  {
   "cell_type": "code",
   "execution_count": null,
   "metadata": {
    "ExecuteTime": {
     "start_time": "2019-11-11T21:18:28.383Z"
    }
   },
   "outputs": [
    {
     "name": "stdout",
     "output_type": "stream",
     "text": [
      "Found 57189 validated image filenames belonging to 2 classes.\n",
      "Found 19062 validated image filenames belonging to 2 classes.\n",
      "Found 19064 validated image filenames belonging to 2 classes.\n",
      "Epoch 1/30\n"
     ]
    }
   ],
   "source": [
    "fpr.train_model_res(17, COUNTRY, 30)\n",
    "\n",
    "                    "
   ]
  },
  {
   "cell_type": "code",
   "execution_count": null,
   "metadata": {
    "ExecuteTime": {
     "end_time": "2019-11-08T21:37:04.750903Z",
     "start_time": "2019-11-08T21:36:14.253Z"
    }
   },
   "outputs": [],
   "source": [
    "fpr.train_model_res(18, COUNTRY, 30)"
   ]
  },
  {
   "cell_type": "code",
   "execution_count": null,
   "metadata": {
    "ExecuteTime": {
     "end_time": "2019-11-08T21:37:04.751550Z",
     "start_time": "2019-11-08T21:36:17.801Z"
    }
   },
   "outputs": [],
   "source": [
    "fpr.train_model_res(19, COUNTRY, 30)"
   ]
  },
  {
   "cell_type": "markdown",
   "metadata": {},
   "source": [
    "# Model selection"
   ]
  },
  {
   "cell_type": "code",
   "execution_count": null,
   "metadata": {
    "ExecuteTime": {
     "end_time": "2019-10-21T20:34:57.737167Z",
     "start_time": "2019-10-21T20:17:05.194Z"
    }
   },
   "outputs": [],
   "source": [
    "min_val_loss = min(val_loss)\n",
    "\n",
    "i = val_loss.index(min_val_loss) + 1\n",
    "\n",
    "best_model = \"models/model-unfreezed-2-layer-2-layer-classification-6497-turbines-\" + \"{0:0=4d}\".format(i) + \"-\" + \"{0:.4f}\".format(min_val_loss) + \".h5\"\n",
    "\n",
    "#best_model = \"models/model-unfreezed-2-layer-2-layer-classification-6497-turbines-0005-0.0339.h5\"\n",
    "\n",
    "best_model"
   ]
  },
  {
   "cell_type": "markdown",
   "metadata": {},
   "source": [
    "# Test"
   ]
  },
  {
   "cell_type": "code",
   "execution_count": null,
   "metadata": {
    "ExecuteTime": {
     "end_time": "2019-10-21T20:34:57.738237Z",
     "start_time": "2019-10-21T20:17:05.199Z"
    }
   },
   "outputs": [],
   "source": [
    "test_base_dir = fpr.get_param(COUNTRY, \"PATH_ML_IMAGES_TURBINES_TEST\")+\"../\"\n",
    "\n",
    "test_model = models.load_model(best_model)\n",
    "\n",
    "test_datagen = ImageDataGenerator(rescale=1./255)\n",
    "\n",
    "test_generator = test_datagen.flow_from_directory(\n",
    "        test_base_dir,\n",
    "        target_size=(256, 256),\n",
    "        batch_size=32,\n",
    "        class_mode='binary')\n",
    "\n",
    "test_loss, test_acc = test_model.evaluate_generator(test_generator, steps=32)\n",
    "print('test acc:', test_acc)\n",
    "print('test loss:', test_loss)\n"
   ]
  }
 ],
 "metadata": {
  "kernelspec": {
   "display_name": "Python [conda env:.conda-windturbine-identification]",
   "language": "python",
   "name": "conda-env-.conda-windturbine-identification-py"
  },
  "language_info": {
   "codemirror_mode": {
    "name": "ipython",
    "version": 3
   },
   "file_extension": ".py",
   "mimetype": "text/x-python",
   "name": "python",
   "nbconvert_exporter": "python",
   "pygments_lexer": "ipython3",
   "version": "3.7.0"
  }
 },
 "nbformat": 4,
 "nbformat_minor": 2
}
