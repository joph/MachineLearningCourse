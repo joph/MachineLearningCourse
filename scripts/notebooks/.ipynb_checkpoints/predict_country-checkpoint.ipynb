{
 "cells": [
  {
   "cell_type": "code",
   "execution_count": 1,
   "metadata": {
    "ExecuteTime": {
     "end_time": "2019-08-23T14:32:36.230636Z",
     "start_time": "2019-08-23T14:32:36.164650Z"
    }
   },
   "outputs": [
    {
     "name": "stdout",
     "output_type": "stream",
     "text": [
      "/data/projects/windturbine-identification/MachineLearningCourse\n"
     ]
    }
   ],
   "source": [
    "cd /data/projects/windturbine-identification/MachineLearningCourse/"
   ]
  },
  {
   "cell_type": "code",
   "execution_count": 2,
   "metadata": {
    "ExecuteTime": {
     "end_time": "2019-08-23T14:32:46.442083Z",
     "start_time": "2019-08-23T14:32:37.373306Z"
    }
   },
   "outputs": [
    {
     "name": "stderr",
     "output_type": "stream",
     "text": [
      "Using TensorFlow backend.\n"
     ]
    }
   ],
   "source": [
    "# -*- coding: utf-8 -*-\n",
    "\"\"\"\n",
    "Created on Fri Jun 14 13:28:53 2019\n",
    "\n",
    "@author: jschmidt\n",
    "\"\"\"\n",
    "\n",
    "# -*- coding: utf-8 -*-\n",
    "\"\"\"\n",
    "Created on Wed Mar  6 12:33:58 2019\n",
    "\n",
    "@author: jschmidt\n",
    "\"\"\"\n",
    "\n",
    "import os\n",
    "from keras import models\n",
    "import imp\n",
    "import scripts.windturbines.functions_pattern_recognition as fpr\n",
    "imp.reload(fpr)\n",
    "import pandas as pd\n",
    "\n",
    "\n"
   ]
  },
  {
   "cell_type": "code",
   "execution_count": 3,
   "metadata": {
    "ExecuteTime": {
     "end_time": "2019-08-23T14:32:51.406634Z",
     "start_time": "2019-08-23T14:32:46.443900Z"
    },
    "scrolled": false
   },
   "outputs": [
    {
     "name": "stdout",
     "output_type": "stream",
     "text": [
      "WARNING:tensorflow:From /home/jschmidt/.conda/envs/windturbine-identification/lib/python3.7/site-packages/tensorflow/python/framework/op_def_library.py:263: colocate_with (from tensorflow.python.framework.ops) is deprecated and will be removed in a future version.\n",
      "Instructions for updating:\n",
      "Colocations handled automatically by placer.\n",
      "WARNING:tensorflow:From /home/jschmidt/.conda/envs/windturbine-identification/lib/python3.7/site-packages/tensorflow/python/ops/math_ops.py:3066: to_int32 (from tensorflow.python.ops.math_ops) is deprecated and will be removed in a future version.\n",
      "Instructions for updating:\n",
      "Use tf.cast instead.\n"
     ]
    }
   ],
   "source": [
    "model = models.load_model('models/model-0005-0.0191.h5')\n",
    "\n",
    "\n",
    "\n",
    "                \n"
   ]
  },
  {
   "cell_type": "code",
   "execution_count": 36,
   "metadata": {
    "ExecuteTime": {
     "end_time": "2019-08-23T15:32:53.217001Z",
     "start_time": "2019-08-23T15:32:51.868899Z"
    }
   },
   "outputs": [
    {
     "name": "stdout",
     "output_type": "stream",
     "text": [
      "found ready predictions file\n",
      "New Country: AT\n",
      "0 turbines assessed\n",
      "AT\n",
      "100 turbines assessed\n",
      "AT\n",
      "200 turbines assessed\n",
      "AT\n",
      "300 turbines assessed\n",
      "AT\n",
      "400 turbines assessed\n",
      "AT\n",
      "500 turbines assessed\n",
      "AT\n",
      "600 turbines assessed\n",
      "AT\n",
      "700 turbines assessed\n",
      "AT\n",
      "800 turbines assessed\n",
      "AT\n",
      "900 turbines assessed\n",
      "AT\n",
      "1000 turbines assessed\n",
      "AT\n",
      "1100 turbines assessed\n",
      "AT\n",
      "1141\n",
      "Exception gdal 1142.tif\n",
      "Received a NULL pointer.\n"
     ]
    },
    {
     "name": "stderr",
     "output_type": "stream",
     "text": [
      "/home/jschmidt/.conda/envs/windturbine-identification/lib/python3.7/site-packages/ipykernel_launcher.py:53: SettingWithCopyWarning: \n",
      "A value is trying to be set on a copy of a slice from a DataFrame\n",
      "\n",
      "See the caveats in the documentation: http://pandas.pydata.org/pandas-docs/stable/indexing.html#indexing-view-versus-copy\n"
     ]
    },
    {
     "name": "stdout",
     "output_type": "stream",
     "text": [
      "1162\n",
      "Exception gdal 1163.tif\n",
      "Received a NULL pointer.\n",
      "1200 turbines assessed\n",
      "AT\n"
     ]
    }
   ],
   "source": [
    "#predictions = pd.DataFrame(columns=['lon', 'lat', 'prediction', 'filenames', 'directory', 'country'])\n",
    "countries = [\"AT\"]\n",
    "\n",
    "\n",
    "for COUNTRY in countries:\n",
    "    path_raw = fpr.get_param(COUNTRY,\"PATH_RAW_IMAGES_TURBINES\")\n",
    "    \n",
    "    predictions = None\n",
    "    \n",
    "    predictions_file = path_raw + \"all_predictions.feather\"\n",
    "    \n",
    "    if(os.path.isfile(predictions_file)):\n",
    "        predictions = pd.read_feather(predictions_file)\n",
    "        print(\"found ready predictions file\")\n",
    "    \n",
    "    else:\n",
    "        windTurbines = pd.read_csv(fpr.get_param(COUNTRY,\n",
    "                                 \"FILE_TURBINE_LOCATIONS\"))\n",
    "        \n",
    "        windTurbines_filtered = windTurbines[windTurbines[\"KW\"]>fpr.get_param(COUNTRY,\"FILTER_WINDTURBINES_KW\")] \n",
    "        predictions = windTurbines_filtered[['Long', 'Lat']].copy()\n",
    "        predictions['prediction'] = [-1] * predictions.shape[0]\n",
    "        file_names = [str(cnt) + '.tif' for cnt in range(1, predictions.shape[0] + 1)]\n",
    "        predictions['filenames'] = file_names\n",
    "        predictions['directory'] = ''\n",
    "        predictions['country'] = COUNTRY\n",
    "        \n",
    "    \n",
    "        \n",
    "    print(f'New Country: {COUNTRY}')\n",
    "    \n",
    "    cnt = 0\n",
    "    \n",
    "    for index, prediction in predictions.iterrows():\n",
    "        \n",
    "        \n",
    "    \n",
    "        if(cnt % 100 == 0):\n",
    "            print(f'{cnt} turbines assessed')\n",
    "            print(COUNTRY)\n",
    "            predictions.to_feather(\"temp/all_predictions_intermediate.feather\")\n",
    "    \n",
    "        f = prediction[\"filenames\"]\n",
    "        src = fpr.get_param(COUNTRY, \"PATH_RAW_IMAGES_TURBINES\") + f\n",
    "        temp_dir = fpr.get_param(COUNTRY, \"PATH_TEMP\")\n",
    "    \n",
    "        if(prediction['prediction'] < 0):\n",
    "            #print(cnt)\n",
    "            dst = temp_dir + f[:-4] + \"_osm-assessment.png\"\n",
    "            #print(dst)\n",
    "            #print(src)\n",
    "            element = fpr.assess_location(f, src, dst, \"\", model)\n",
    "            predictions['prediction'][cnt] = element[1]\n",
    "        \n",
    "        cnt = cnt + 1\n",
    "            \n",
    "predictions.to_feather(predictions_file)   \n",
    "        \n",
    "    \n"
   ]
  },
  {
   "cell_type": "code",
   "execution_count": 32,
   "metadata": {
    "ExecuteTime": {
     "end_time": "2019-08-23T15:09:48.316790Z",
     "start_time": "2019-08-23T15:09:48.259639Z"
    }
   },
   "outputs": [],
   "source": [
    " windTurbines = pd.read_csv(fpr.get_param(COUNTRY,\n",
    "                                 \"FILE_TURBINE_LOCATIONS\"))\n",
    "        \n",
    "windTurbines_filtered = windTurbines[windTurbines[\"KW\"]>fpr.get_param(COUNTRY,\"FILTER_WINDTURBINES_KW\")] \n",
    "predictions = windTurbines_filtered[['Long', 'Lat']].copy()\n",
    "predictions['prediction'] = [-1] * (predictions.shape[0])\n",
    "file_names = [str(cnt) + '.tif' for cnt in range(1, predictions.shape[0] + 1)]\n",
    "predictions['filenames'] = file_names\n",
    "predictions['directory'] = ''\n",
    "predictions['country'] = COUNTRY"
   ]
  },
  {
   "cell_type": "code",
   "execution_count": 29,
   "metadata": {
    "ExecuteTime": {
     "end_time": "2019-08-23T15:08:50.319148Z",
     "start_time": "2019-08-23T15:08:50.314150Z"
    }
   },
   "outputs": [],
   "source": []
  },
  {
   "cell_type": "code",
   "execution_count": 28,
   "metadata": {
    "ExecuteTime": {
     "end_time": "2019-08-23T15:06:58.992287Z",
     "start_time": "2019-08-23T15:06:58.987458Z"
    }
   },
   "outputs": [
    {
     "data": {
      "text/plain": [
       "(1223,)"
      ]
     },
     "execution_count": 28,
     "metadata": {},
     "output_type": "execute_result"
    }
   ],
   "source": [
    "predictions[\"country\"].shape"
   ]
  },
  {
   "cell_type": "code",
   "execution_count": 20,
   "metadata": {
    "ExecuteTime": {
     "end_time": "2019-08-23T15:05:31.549531Z",
     "start_time": "2019-08-23T15:05:31.219892Z"
    }
   },
   "outputs": [
    {
     "ename": "ValueError",
     "evalue": "Arrays were not all the same length: 1224 vs 1223",
     "output_type": "error",
     "traceback": [
      "\u001b[0;31m---------------------------------------------------------------------------\u001b[0m",
      "\u001b[0;31mValueError\u001b[0m                                Traceback (most recent call last)",
      "\u001b[0;32m<ipython-input-20-2547af01aed1>\u001b[0m in \u001b[0;36m<module>\u001b[0;34m\u001b[0m\n\u001b[0;32m----> 1\u001b[0;31m \u001b[0mpredictions\u001b[0m\u001b[0;34m.\u001b[0m\u001b[0mto_feather\u001b[0m\u001b[0;34m(\u001b[0m\u001b[0mpredictions_file\u001b[0m\u001b[0;34m)\u001b[0m\u001b[0;34m\u001b[0m\u001b[0m\n\u001b[0m",
      "\u001b[0;32m~/.conda/envs/windturbine-identification/lib/python3.7/site-packages/pandas/core/frame.py\u001b[0m in \u001b[0;36mto_feather\u001b[0;34m(self, fname)\u001b[0m\n\u001b[1;32m   2129\u001b[0m         \"\"\"\n\u001b[1;32m   2130\u001b[0m         \u001b[0;32mfrom\u001b[0m \u001b[0mpandas\u001b[0m\u001b[0;34m.\u001b[0m\u001b[0mio\u001b[0m\u001b[0;34m.\u001b[0m\u001b[0mfeather_format\u001b[0m \u001b[0;32mimport\u001b[0m \u001b[0mto_feather\u001b[0m\u001b[0;34m\u001b[0m\u001b[0m\n\u001b[0;32m-> 2131\u001b[0;31m         \u001b[0mto_feather\u001b[0m\u001b[0;34m(\u001b[0m\u001b[0mself\u001b[0m\u001b[0;34m,\u001b[0m \u001b[0mfname\u001b[0m\u001b[0;34m)\u001b[0m\u001b[0;34m\u001b[0m\u001b[0m\n\u001b[0m\u001b[1;32m   2132\u001b[0m \u001b[0;34m\u001b[0m\u001b[0m\n\u001b[1;32m   2133\u001b[0m     def to_parquet(self, fname, engine='auto', compression='snappy',\n",
      "\u001b[0;32m~/.conda/envs/windturbine-identification/lib/python3.7/site-packages/pandas/io/feather_format.py\u001b[0m in \u001b[0;36mto_feather\u001b[0;34m(df, path)\u001b[0m\n\u001b[1;32m     81\u001b[0m         \u001b[0;32mraise\u001b[0m \u001b[0mValueError\u001b[0m\u001b[0;34m(\u001b[0m\u001b[0;34m\"feather must have string column names\"\u001b[0m\u001b[0;34m)\u001b[0m\u001b[0;34m\u001b[0m\u001b[0m\n\u001b[1;32m     82\u001b[0m \u001b[0;34m\u001b[0m\u001b[0m\n\u001b[0;32m---> 83\u001b[0;31m     \u001b[0mfeather\u001b[0m\u001b[0;34m.\u001b[0m\u001b[0mwrite_feather\u001b[0m\u001b[0;34m(\u001b[0m\u001b[0mdf\u001b[0m\u001b[0;34m,\u001b[0m \u001b[0mpath\u001b[0m\u001b[0;34m)\u001b[0m\u001b[0;34m\u001b[0m\u001b[0m\n\u001b[0m\u001b[1;32m     84\u001b[0m \u001b[0;34m\u001b[0m\u001b[0m\n\u001b[1;32m     85\u001b[0m \u001b[0;34m\u001b[0m\u001b[0m\n",
      "\u001b[0;32m~/.conda/envs/windturbine-identification/lib/python3.7/site-packages/pyarrow/feather.py\u001b[0m in \u001b[0;36mwrite_feather\u001b[0;34m(df, dest)\u001b[0m\n\u001b[1;32m    176\u001b[0m     \u001b[0mwriter\u001b[0m \u001b[0;34m=\u001b[0m \u001b[0mFeatherWriter\u001b[0m\u001b[0;34m(\u001b[0m\u001b[0mdest\u001b[0m\u001b[0;34m)\u001b[0m\u001b[0;34m\u001b[0m\u001b[0m\n\u001b[1;32m    177\u001b[0m     \u001b[0;32mtry\u001b[0m\u001b[0;34m:\u001b[0m\u001b[0;34m\u001b[0m\u001b[0m\n\u001b[0;32m--> 178\u001b[0;31m         \u001b[0mwriter\u001b[0m\u001b[0;34m.\u001b[0m\u001b[0mwrite\u001b[0m\u001b[0;34m(\u001b[0m\u001b[0mdf\u001b[0m\u001b[0;34m)\u001b[0m\u001b[0;34m\u001b[0m\u001b[0m\n\u001b[0m\u001b[1;32m    179\u001b[0m     \u001b[0;32mexcept\u001b[0m \u001b[0mException\u001b[0m\u001b[0;34m:\u001b[0m\u001b[0;34m\u001b[0m\u001b[0m\n\u001b[1;32m    180\u001b[0m         \u001b[0;31m# Try to make sure the resource is closed\u001b[0m\u001b[0;34m\u001b[0m\u001b[0;34m\u001b[0m\u001b[0m\n",
      "\u001b[0;32m~/.conda/envs/windturbine-identification/lib/python3.7/site-packages/pyarrow/feather.py\u001b[0m in \u001b[0;36mwrite\u001b[0;34m(self, df)\u001b[0m\n\u001b[1;32m     89\u001b[0m         \u001b[0;31m# TODO(wesm): Remove this length check, see ARROW-1732\u001b[0m\u001b[0;34m\u001b[0m\u001b[0;34m\u001b[0m\u001b[0m\n\u001b[1;32m     90\u001b[0m         \u001b[0;32mif\u001b[0m \u001b[0mlen\u001b[0m\u001b[0;34m(\u001b[0m\u001b[0mdf\u001b[0m\u001b[0;34m.\u001b[0m\u001b[0mcolumns\u001b[0m\u001b[0;34m)\u001b[0m \u001b[0;34m>\u001b[0m \u001b[0;36m0\u001b[0m\u001b[0;34m:\u001b[0m\u001b[0;34m\u001b[0m\u001b[0m\n\u001b[0;32m---> 91\u001b[0;31m             \u001b[0mbatch\u001b[0m \u001b[0;34m=\u001b[0m \u001b[0mRecordBatch\u001b[0m\u001b[0;34m.\u001b[0m\u001b[0mfrom_pandas\u001b[0m\u001b[0;34m(\u001b[0m\u001b[0mdf\u001b[0m\u001b[0;34m,\u001b[0m \u001b[0mpreserve_index\u001b[0m\u001b[0;34m=\u001b[0m\u001b[0;32mFalse\u001b[0m\u001b[0;34m)\u001b[0m\u001b[0;34m\u001b[0m\u001b[0m\n\u001b[0m\u001b[1;32m     92\u001b[0m             \u001b[0;32mfor\u001b[0m \u001b[0mi\u001b[0m\u001b[0;34m,\u001b[0m \u001b[0mname\u001b[0m \u001b[0;32min\u001b[0m \u001b[0menumerate\u001b[0m\u001b[0;34m(\u001b[0m\u001b[0mbatch\u001b[0m\u001b[0;34m.\u001b[0m\u001b[0mschema\u001b[0m\u001b[0;34m.\u001b[0m\u001b[0mnames\u001b[0m\u001b[0;34m)\u001b[0m\u001b[0;34m:\u001b[0m\u001b[0;34m\u001b[0m\u001b[0m\n\u001b[1;32m     93\u001b[0m                 \u001b[0mcol\u001b[0m \u001b[0;34m=\u001b[0m \u001b[0mbatch\u001b[0m\u001b[0;34m[\u001b[0m\u001b[0mi\u001b[0m\u001b[0;34m]\u001b[0m\u001b[0;34m\u001b[0m\u001b[0m\n",
      "\u001b[0;32m~/.conda/envs/windturbine-identification/lib/python3.7/site-packages/pyarrow/table.pxi\u001b[0m in \u001b[0;36mpyarrow.lib.RecordBatch.from_pandas\u001b[0;34m()\u001b[0m\n",
      "\u001b[0;32m~/.conda/envs/windturbine-identification/lib/python3.7/site-packages/pyarrow/table.pxi\u001b[0m in \u001b[0;36mpyarrow.lib.RecordBatch.from_arrays\u001b[0;34m()\u001b[0m\n",
      "\u001b[0;31mValueError\u001b[0m: Arrays were not all the same length: 1224 vs 1223"
     ]
    }
   ],
   "source": [
    "\n"
   ]
  },
  {
   "cell_type": "code",
   "execution_count": null,
   "metadata": {
    "ExecuteTime": {
     "end_time": "2019-08-23T07:40:45.495683Z",
     "start_time": "2019-08-23T07:40:45.471651Z"
    }
   },
   "outputs": [],
   "source": [
    "predictions"
   ]
  },
  {
   "cell_type": "code",
   "execution_count": null,
   "metadata": {},
   "outputs": [],
   "source": []
  },
  {
   "cell_type": "code",
   "execution_count": null,
   "metadata": {
    "ExecuteTime": {
     "end_time": "2019-08-23T08:48:31.720736Z",
     "start_time": "2019-08-23T08:02:39.088233Z"
    }
   },
   "outputs": [],
   "source": [
    "\n",
    "\n",
    "for index, prediction in predictions.iterrows():\n",
    "    \n",
    "    cnt = cnt + 1\n",
    "    \n",
    "    COUNTRY = prediction[\"country\"]\n",
    "    \n",
    "    if(country_old != COUNTRY):\n",
    "        print(f'New Country {COUNTRY}')\n",
    "        country_old = COUNTRY\n",
    "        \n",
    "    if(cnt % 10000 == 0):\n",
    "        print(f'{cnt} turbines assessed')\n",
    "        print(COUNTRY)\n",
    "        print\n",
    "        predictions.to_feather(\"data/osm/all_predictions_intermediate.feather\")\n",
    "    \n",
    "    #print(\"--------Current country: \" + COUNTRY + \"--------\")\n",
    "    \n",
    "    f = prediction[\"filenames\"]\n",
    "    src = fpr.get_param(COUNTRY, \"PATH_RAW_IMAGES_OSM\") + f\n",
    "    temp_dir = fpr.get_param(COUNTRY, \"PATH_TEMP\")\n",
    "    \n",
    "    if(prediction['prediction'] < 0):\n",
    "            \n",
    "            dst = temp_dir + f[:-4] + \"_osm-assessment.png\"\n",
    "            #print(dst)\n",
    "            #print(src)\n",
    "            element = fpr.assess_location(f, src, dst, \"\", model)\n",
    "            predictions['prediction'][cnt] = element[1]\n",
    "            \n",
    "    \n",
    "predictions.to_feather(\"data/osm/all_predictions.feather\")              \n",
    "            "
   ]
  },
  {
   "cell_type": "code",
   "execution_count": null,
   "metadata": {
    "ExecuteTime": {
     "end_time": "2019-08-23T08:48:34.031684Z",
     "start_time": "2019-08-23T08:48:33.982203Z"
    }
   },
   "outputs": [],
   "source": [
    "predictions.to_feather(\"data/osm/all_predictions.feather\") "
   ]
  },
  {
   "cell_type": "code",
   "execution_count": null,
   "metadata": {
    "ExecuteTime": {
     "end_time": "2019-08-23T07:42:17.914699Z",
     "start_time": "2019-08-23T07:42:05.985670Z"
    }
   },
   "outputs": [],
   "source": [
    "for COUNTRY in countries:\n",
    "\n",
    "    print(\"--------Current country: \" + COUNTRY + \"--------\")\n",
    "\n",
    "    raw_dir = fpr.get_param(COUNTRY, \"PATH_RAW_IMAGES_OSM\")\n",
    "    temp_dir = fpr.get_param(COUNTRY, \"PATH_TEMP\")\n",
    "\n",
    "    lon_lat = pd.read_csv(fpr.get_param(COUNTRY, \"FILE_OSM_TURBINE_LOCATIONS\"))\n",
    "\n",
    "\n",
    "    files = []\n",
    "\n",
    "    for i in range(lon_lat.shape[0]):\n",
    "        files.append(str(i + 1) + \".tif\")\n",
    "\n",
    "   \n",
    "    for i in range(len(files)):\n",
    "    \n",
    "    \n",
    "        f = files[i]\n",
    "\n",
    "        if(i%1000 == 0):\n",
    "            print(\"File \" + f)\n",
    "\n",
    "\n",
    "        src = raw_dir + f\n",
    "        dst = temp_dir + f[:-4] + \"_osm-assessment.png\"\n",
    "\n",
    "        element = fpr.assess_location(f, src, dst, \"\", model)\n",
    "        \n",
    "        predictions = predictions.append({\"lon\" : lon_lat.Long[i], \"lat\" : lon_lat.Lat[i], \n",
    "                            \"prediction\" : element[1], \"filenames\" : f, \n",
    "                            \"directory\" : \"\", \"country\" : COUNTRY}, ignore_index = True)\n",
    "        \n",
    "        \n",
    "        predictions.to_feather(\"data/osm/all_predictions.feather\")\n",
    "        \n",
    "        \n",
    "        \n"
   ]
  },
  {
   "cell_type": "code",
   "execution_count": null,
   "metadata": {
    "ExecuteTime": {
     "end_time": "2019-08-22T16:33:16.261345Z",
     "start_time": "2019-08-22T16:33:14.347130Z"
    }
   },
   "outputs": [],
   "source": [
    "predictions.to_csv(\"data/osm/all_predictions.csv\")\n"
   ]
  },
  {
   "cell_type": "code",
   "execution_count": null,
   "metadata": {},
   "outputs": [],
   "source": [
    "predictions.head()"
   ]
  },
  {
   "cell_type": "code",
   "execution_count": null,
   "metadata": {},
   "outputs": [],
   "source": [
    "predictions.to_csv(fpr.get_param(\"MIX\", \"FILE_OSM_TURBINE_LOCATIONS\") + \"assessment.csv\")"
   ]
  },
  {
   "cell_type": "code",
   "execution_count": null,
   "metadata": {},
   "outputs": [],
   "source": [
    "predictions.head()"
   ]
  }
 ],
 "metadata": {
  "kernelspec": {
   "display_name": "Python [conda env:.conda-windturbine-identification]",
   "language": "python",
   "name": "conda-env-.conda-windturbine-identification-py"
  },
  "language_info": {
   "codemirror_mode": {
    "name": "ipython",
    "version": 3
   },
   "file_extension": ".py",
   "mimetype": "text/x-python",
   "name": "python",
   "nbconvert_exporter": "python",
   "pygments_lexer": "ipython3",
   "version": "3.7.0"
  }
 },
 "nbformat": 4,
 "nbformat_minor": 2
}
