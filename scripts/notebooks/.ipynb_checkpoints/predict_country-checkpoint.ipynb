{
 "cells": [
  {
   "cell_type": "code",
   "execution_count": 1,
   "metadata": {
    "ExecuteTime": {
     "end_time": "2019-10-02T14:51:29.619593Z",
     "start_time": "2019-10-02T14:51:29.615780Z"
    }
   },
   "outputs": [
    {
     "name": "stdout",
     "output_type": "stream",
     "text": [
      "/data/projects/windturbine-identification/MachineLearningCourse\n"
     ]
    }
   ],
   "source": [
    "cd /data/projects/windturbine-identification/MachineLearningCourse/"
   ]
  },
  {
   "cell_type": "code",
   "execution_count": 2,
   "metadata": {
    "ExecuteTime": {
     "end_time": "2019-10-02T14:51:39.353657Z",
     "start_time": "2019-10-02T14:51:31.215637Z"
    }
   },
   "outputs": [
    {
     "name": "stderr",
     "output_type": "stream",
     "text": [
      "Using TensorFlow backend.\n"
     ]
    }
   ],
   "source": [
    "# -*- coding: utf-8 -*-\n",
    "\"\"\"\n",
    "Created on Fri Jun 14 13:28:53 2019\n",
    "\n",
    "@author: jschmidt\n",
    "\"\"\"\n",
    "\n",
    "# -*- coding: utf-8 -*-\n",
    "\"\"\"\n",
    "Created on Wed Mar  6 12:33:58 2019\n",
    "\n",
    "@author: jschmidt\n",
    "\"\"\"\n",
    "\n",
    "import os\n",
    "from keras import models\n",
    "import imp\n",
    "import scripts.windturbines.functions_pattern_recognition as fpr\n",
    "imp.reload(fpr)\n",
    "import pandas as pd\n",
    "\n",
    "\n"
   ]
  },
  {
   "cell_type": "code",
   "execution_count": null,
   "metadata": {
    "ExecuteTime": {
     "start_time": "2019-10-02T14:51:33.829Z"
    },
    "scrolled": false
   },
   "outputs": [
    {
     "name": "stdout",
     "output_type": "stream",
     "text": [
      "WARNING:tensorflow:From /home/jschmidt/.conda/envs/windturbine-identification/lib/python3.7/site-packages/tensorflow/python/framework/op_def_library.py:263: colocate_with (from tensorflow.python.framework.ops) is deprecated and will be removed in a future version.\n",
      "Instructions for updating:\n",
      "Colocations handled automatically by placer.\n"
     ]
    }
   ],
   "source": [
    "model = models.load_model('models/model-0005-0.0191.h5')\n",
    "\n",
    "\n",
    "\n",
    "                \n"
   ]
  },
  {
   "cell_type": "code",
   "execution_count": 30,
   "metadata": {
    "ExecuteTime": {
     "end_time": "2019-09-24T14:58:40.675964Z",
     "start_time": "2019-09-24T14:56:20.201438Z"
    }
   },
   "outputs": [
    {
     "name": "stdout",
     "output_type": "stream",
     "text": [
      "found ready predictions file\n",
      "New Country: BR\n",
      "0 turbines assessed\n",
      "BR\n"
     ]
    },
    {
     "name": "stderr",
     "output_type": "stream",
     "text": [
      "/home/jschmidt/.conda/envs/windturbine-identification/lib/python3.7/site-packages/ipykernel_launcher.py:60: SettingWithCopyWarning: \n",
      "A value is trying to be set on a copy of a slice from a DataFrame\n",
      "\n",
      "See the caveats in the documentation: http://pandas.pydata.org/pandas-docs/stable/indexing.html#indexing-view-versus-copy\n"
     ]
    },
    {
     "name": "stdout",
     "output_type": "stream",
     "text": [
      "100 turbines assessed\n",
      "BR\n",
      "200 turbines assessed\n",
      "BR\n",
      "300 turbines assessed\n",
      "BR\n",
      "400 turbines assessed\n",
      "BR\n",
      "500 turbines assessed\n",
      "BR\n",
      "600 turbines assessed\n",
      "BR\n",
      "700 turbines assessed\n",
      "BR\n",
      "800 turbines assessed\n",
      "BR\n",
      "900 turbines assessed\n",
      "BR\n"
     ]
    }
   ],
   "source": [
    "#predictions = pd.DataFrame(columns=['lon', 'lat', 'prediction', 'filenames', 'directory', 'country'])\n",
    "for i in range(0, 1):\n",
    "    countries = [\"US\"]\n",
    "    #countries = [\"US\"]\n",
    "\n",
    "\n",
    "    for COUNTRY in countries:\n",
    "        path_raw = fpr.get_param(COUNTRY,\"PATH_RAW_IMAGES_TURBINES\")\n",
    "    \n",
    "        predictions = None\n",
    "    \n",
    "        predictions_file = path_raw + \"all_predictions.feather\"\n",
    "    \n",
    "        if(os.path.isfile(predictions_file)):\n",
    "            predictions = pd.read_feather(predictions_file)\n",
    "            print(\"found ready predictions file\")\n",
    "    \n",
    "        else:\n",
    "            print(\"creating new predictions file\")\n",
    "            windTurbines = pd.read_csv(fpr.get_param(COUNTRY,\n",
    "                                 \"FILE_TURBINE_LOCATIONS\"))\n",
    "        \n",
    "            windTurbines_filtered = windTurbines\n",
    "            #windTurbines[windTurbines[\"KW\"]>fpr.get_param(COUNTRY,\"FILTER_WINDTURBINES_KW\")] \n",
    "            windTurbines_filtered = windTurbines_filtered.reset_index()\n",
    "            predictions = windTurbines_filtered[['Long', 'Lat']].copy()\n",
    "            predictions['prediction'] = [-1.0] * predictions.shape[0]\n",
    "            file_names = [str(cnt) + '.tif' for cnt in range(1, predictions.shape[0] + 1)]\n",
    "            predictions['filenames'] = file_names\n",
    "            predictions['directory'] = ''\n",
    "            predictions['country'] = COUNTRY\n",
    "        \n",
    "        print(f'New Country: {COUNTRY}')\n",
    "    \n",
    "        cnt = 0\n",
    "    \n",
    "        for index, prediction in predictions.iterrows():\n",
    "        \n",
    "        \n",
    "    \n",
    "            if(cnt % 100 == 0):\n",
    "                print(f'{cnt} turbines assessed')\n",
    "                print(COUNTRY)\n",
    "                predictions.to_feather(\"temp/all_predictions_intermediate.feather\")\n",
    "    \n",
    "            f = prediction[\"filenames\"]\n",
    "            src = fpr.get_param(COUNTRY, \"PATH_RAW_IMAGES_TURBINES\") + f\n",
    "            temp_dir = fpr.get_param(COUNTRY, \"PATH_TEMP\")\n",
    "    \n",
    "            if(prediction['prediction'] < 0):\n",
    "                #print(cnt)\n",
    "                dst = temp_dir + f[:-4] + \"_osm-assessment.png\"\n",
    "                #print(src)\n",
    "                #print(dst)\n",
    "                #print(index)\n",
    "            \n",
    "                #print(dst)\n",
    "                #print(src)\n",
    "                element = fpr.assess_location(f, src, dst, \"\", model)\n",
    "                predictions['prediction'][index] = element[1]\n",
    "                #print(element[1])\n",
    "        \n",
    "            cnt = cnt + 1\n",
    "            \n",
    "        predictions.to_feather(predictions_file)   \n",
    "        \n",
    "    \n"
   ]
  },
  {
   "cell_type": "code",
   "execution_count": 31,
   "metadata": {
    "ExecuteTime": {
     "end_time": "2019-09-24T15:03:26.341733Z",
     "start_time": "2019-09-24T15:03:26.329518Z"
    }
   },
   "outputs": [
    {
     "data": {
      "text/html": [
       "<div>\n",
       "<style scoped>\n",
       "    .dataframe tbody tr th:only-of-type {\n",
       "        vertical-align: middle;\n",
       "    }\n",
       "\n",
       "    .dataframe tbody tr th {\n",
       "        vertical-align: top;\n",
       "    }\n",
       "\n",
       "    .dataframe thead th {\n",
       "        text-align: right;\n",
       "    }\n",
       "</style>\n",
       "<table border=\"1\" class=\"dataframe\">\n",
       "  <thead>\n",
       "    <tr style=\"text-align: right;\">\n",
       "      <th></th>\n",
       "      <th>Long</th>\n",
       "      <th>Lat</th>\n",
       "      <th>prediction</th>\n",
       "      <th>filenames</th>\n",
       "      <th>directory</th>\n",
       "      <th>country</th>\n",
       "    </tr>\n",
       "  </thead>\n",
       "  <tbody>\n",
       "    <tr>\n",
       "      <th>0</th>\n",
       "      <td>-39.298039</td>\n",
       "      <td>-3.263042</td>\n",
       "      <td>0.999999</td>\n",
       "      <td>1.tif</td>\n",
       "      <td></td>\n",
       "      <td>BR</td>\n",
       "    </tr>\n",
       "    <tr>\n",
       "      <th>1</th>\n",
       "      <td>-38.934464</td>\n",
       "      <td>-3.495031</td>\n",
       "      <td>0.999995</td>\n",
       "      <td>2.tif</td>\n",
       "      <td></td>\n",
       "      <td>BR</td>\n",
       "    </tr>\n",
       "    <tr>\n",
       "      <th>2</th>\n",
       "      <td>-37.687978</td>\n",
       "      <td>-4.598573</td>\n",
       "      <td>1.000000</td>\n",
       "      <td>3.tif</td>\n",
       "      <td></td>\n",
       "      <td>BR</td>\n",
       "    </tr>\n",
       "    <tr>\n",
       "      <th>3</th>\n",
       "      <td>-38.084578</td>\n",
       "      <td>-4.184218</td>\n",
       "      <td>1.000000</td>\n",
       "      <td>4.tif</td>\n",
       "      <td></td>\n",
       "      <td>BR</td>\n",
       "    </tr>\n",
       "    <tr>\n",
       "      <th>4</th>\n",
       "      <td>-39.839670</td>\n",
       "      <td>-2.956923</td>\n",
       "      <td>1.000000</td>\n",
       "      <td>5.tif</td>\n",
       "      <td></td>\n",
       "      <td>BR</td>\n",
       "    </tr>\n",
       "  </tbody>\n",
       "</table>\n",
       "</div>"
      ],
      "text/plain": [
       "        Long       Lat  prediction filenames directory country\n",
       "0 -39.298039 -3.263042    0.999999     1.tif                BR\n",
       "1 -38.934464 -3.495031    0.999995     2.tif                BR\n",
       "2 -37.687978 -4.598573    1.000000     3.tif                BR\n",
       "3 -38.084578 -4.184218    1.000000     4.tif                BR\n",
       "4 -39.839670 -2.956923    1.000000     5.tif                BR"
      ]
     },
     "execution_count": 31,
     "metadata": {},
     "output_type": "execute_result"
    }
   ],
   "source": [
    "predictions.head()"
   ]
  },
  {
   "cell_type": "code",
   "execution_count": 37,
   "metadata": {
    "ExecuteTime": {
     "end_time": "2019-09-24T15:06:15.580805Z",
     "start_time": "2019-09-24T15:06:15.571011Z"
    }
   },
   "outputs": [
    {
     "data": {
      "text/plain": [
       "Long          979\n",
       "Lat           979\n",
       "prediction    979\n",
       "filenames     979\n",
       "directory     979\n",
       "country       979\n",
       "dtype: int64"
      ]
     },
     "execution_count": 37,
     "metadata": {},
     "output_type": "execute_result"
    }
   ],
   "source": [
    "predictions[predictions[\"prediction\"] > 0.5].count()"
   ]
  },
  {
   "cell_type": "code",
   "execution_count": 29,
   "metadata": {
    "ExecuteTime": {
     "end_time": "2019-09-24T14:42:30.597472Z",
     "start_time": "2019-09-24T14:42:30.591396Z"
    }
   },
   "outputs": [
    {
     "data": {
      "text/plain": [
       "(997, 22)"
      ]
     },
     "execution_count": 29,
     "metadata": {},
     "output_type": "execute_result"
    }
   ],
   "source": [
    "windTurbines_filtered.shape"
   ]
  }
 ],
 "metadata": {
  "kernelspec": {
   "display_name": "Python [conda env:.conda-windturbine-identification]",
   "language": "python",
   "name": "conda-env-.conda-windturbine-identification-py"
  },
  "language_info": {
   "codemirror_mode": {
    "name": "ipython",
    "version": 3
   },
   "file_extension": ".py",
   "mimetype": "text/x-python",
   "name": "python",
   "nbconvert_exporter": "python",
   "pygments_lexer": "ipython3",
   "version": "3.7.0"
  }
 },
 "nbformat": 4,
 "nbformat_minor": 2
}
