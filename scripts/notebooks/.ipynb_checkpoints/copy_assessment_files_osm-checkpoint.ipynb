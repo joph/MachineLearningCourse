{
 "cells": [
  {
   "cell_type": "code",
   "execution_count": 27,
   "metadata": {},
   "outputs": [
    {
     "name": "stdout",
     "output_type": "stream",
     "text": [
      "/data/projects/windturbine-identification/MachineLearningCourse\n"
     ]
    }
   ],
   "source": [
    "cd /data/projects/windturbine-identification/MachineLearningCourse"
   ]
  },
  {
   "cell_type": "code",
   "execution_count": 28,
   "metadata": {},
   "outputs": [],
   "source": [
    "import imp\n",
    "import scripts.windturbines.functions_pattern_recognition as fpr\n",
    "imp.reload(fpr)\n",
    "import pandas as pd\n",
    "import numpy as np\n",
    "import shutil\n",
    "import os\n"
   ]
  },
  {
   "cell_type": "code",
   "execution_count": 66,
   "metadata": {},
   "outputs": [],
   "source": [
    "COUNTRY = \"DE\"\n",
    "\n",
    "assessment_file = (fpr.get_param(COUNTRY, \"FILE_OSM_TURBINE_LOCATIONS\") + \"assessment.csv\")\n",
    "\n",
    "p = pd.read_csv(assessment_file)"
   ]
  },
  {
   "cell_type": "code",
   "execution_count": 67,
   "metadata": {},
   "outputs": [],
   "source": [
    "p\n",
    "\n",
    "np.sum(p.prediction < 0)\n",
    "\n",
    "p = p.iloc[(p.prediction > 0).values,:]\n",
    "\n",
    "raw_dir = fpr.get_param(COUNTRY, \"PATH_RAW_IMAGES_OSM\")"
   ]
  },
  {
   "cell_type": "code",
   "execution_count": 68,
   "metadata": {},
   "outputs": [
    {
     "data": {
      "text/html": [
       "<div>\n",
       "<style scoped>\n",
       "    .dataframe tbody tr th:only-of-type {\n",
       "        vertical-align: middle;\n",
       "    }\n",
       "\n",
       "    .dataframe tbody tr th {\n",
       "        vertical-align: top;\n",
       "    }\n",
       "\n",
       "    .dataframe thead th {\n",
       "        text-align: right;\n",
       "    }\n",
       "</style>\n",
       "<table border=\"1\" class=\"dataframe\">\n",
       "  <thead>\n",
       "    <tr style=\"text-align: right;\">\n",
       "      <th></th>\n",
       "      <th>Unnamed: 0</th>\n",
       "      <th>Long</th>\n",
       "      <th>Lat</th>\n",
       "      <th>filenames</th>\n",
       "      <th>prediction</th>\n",
       "    </tr>\n",
       "  </thead>\n",
       "  <tbody>\n",
       "    <tr>\n",
       "      <th>0</th>\n",
       "      <td>0</td>\n",
       "      <td>8.908045</td>\n",
       "      <td>53.001961</td>\n",
       "      <td>1.tif</td>\n",
       "      <td>1.000000</td>\n",
       "    </tr>\n",
       "    <tr>\n",
       "      <th>1</th>\n",
       "      <td>1</td>\n",
       "      <td>8.906407</td>\n",
       "      <td>52.999098</td>\n",
       "      <td>2.tif</td>\n",
       "      <td>1.000000</td>\n",
       "    </tr>\n",
       "    <tr>\n",
       "      <th>2</th>\n",
       "      <td>2</td>\n",
       "      <td>8.912388</td>\n",
       "      <td>53.000557</td>\n",
       "      <td>3.tif</td>\n",
       "      <td>1.000000</td>\n",
       "    </tr>\n",
       "    <tr>\n",
       "      <th>3</th>\n",
       "      <td>3</td>\n",
       "      <td>8.841145</td>\n",
       "      <td>52.937948</td>\n",
       "      <td>4.tif</td>\n",
       "      <td>0.999974</td>\n",
       "    </tr>\n",
       "    <tr>\n",
       "      <th>4</th>\n",
       "      <td>4</td>\n",
       "      <td>8.843934</td>\n",
       "      <td>52.937405</td>\n",
       "      <td>5.tif</td>\n",
       "      <td>0.999912</td>\n",
       "    </tr>\n",
       "  </tbody>\n",
       "</table>\n",
       "</div>"
      ],
      "text/plain": [
       "   Unnamed: 0      Long        Lat filenames  prediction\n",
       "0           0  8.908045  53.001961     1.tif    1.000000\n",
       "1           1  8.906407  52.999098     2.tif    1.000000\n",
       "2           2  8.912388  53.000557     3.tif    1.000000\n",
       "3           3  8.841145  52.937948     4.tif    0.999974\n",
       "4           4  8.843934  52.937405     5.tif    0.999912"
      ]
     },
     "execution_count": 68,
     "metadata": {},
     "output_type": "execute_result"
    }
   ],
   "source": [
    "p.head()"
   ]
  },
  {
   "cell_type": "markdown",
   "metadata": {},
   "source": [
    "# Assess quantity of turbines"
   ]
  },
  {
   "cell_type": "code",
   "execution_count": 69,
   "metadata": {},
   "outputs": [],
   "source": [
    "p.columns = ['id', 'lon', 'lat', 'filenames', 'prediction']\n",
    "\n",
    "p = p[['id', 'lon', 'lat', 'prediction', 'filenames']]\n",
    "\n",
    "p['directory'] = \"\"\n",
    "\n",
    "\n",
    "\n",
    "\n",
    "\n",
    "\n",
    "\n",
    "\n",
    "\n"
   ]
  },
  {
   "cell_type": "code",
   "execution_count": 70,
   "metadata": {},
   "outputs": [
    {
     "data": {
      "text/html": [
       "<div>\n",
       "<style scoped>\n",
       "    .dataframe tbody tr th:only-of-type {\n",
       "        vertical-align: middle;\n",
       "    }\n",
       "\n",
       "    .dataframe tbody tr th {\n",
       "        vertical-align: top;\n",
       "    }\n",
       "\n",
       "    .dataframe thead th {\n",
       "        text-align: right;\n",
       "    }\n",
       "</style>\n",
       "<table border=\"1\" class=\"dataframe\">\n",
       "  <thead>\n",
       "    <tr style=\"text-align: right;\">\n",
       "      <th></th>\n",
       "      <th>id</th>\n",
       "      <th>lon</th>\n",
       "      <th>lat</th>\n",
       "      <th>prediction</th>\n",
       "      <th>filenames</th>\n",
       "      <th>directory</th>\n",
       "    </tr>\n",
       "  </thead>\n",
       "  <tbody>\n",
       "    <tr>\n",
       "      <th>0</th>\n",
       "      <td>0</td>\n",
       "      <td>8.908045</td>\n",
       "      <td>53.001961</td>\n",
       "      <td>1.000000</td>\n",
       "      <td>1.tif</td>\n",
       "      <td></td>\n",
       "    </tr>\n",
       "    <tr>\n",
       "      <th>1</th>\n",
       "      <td>1</td>\n",
       "      <td>8.906407</td>\n",
       "      <td>52.999098</td>\n",
       "      <td>1.000000</td>\n",
       "      <td>2.tif</td>\n",
       "      <td></td>\n",
       "    </tr>\n",
       "    <tr>\n",
       "      <th>2</th>\n",
       "      <td>2</td>\n",
       "      <td>8.912388</td>\n",
       "      <td>53.000557</td>\n",
       "      <td>1.000000</td>\n",
       "      <td>3.tif</td>\n",
       "      <td></td>\n",
       "    </tr>\n",
       "    <tr>\n",
       "      <th>3</th>\n",
       "      <td>3</td>\n",
       "      <td>8.841145</td>\n",
       "      <td>52.937948</td>\n",
       "      <td>0.999974</td>\n",
       "      <td>4.tif</td>\n",
       "      <td></td>\n",
       "    </tr>\n",
       "    <tr>\n",
       "      <th>4</th>\n",
       "      <td>4</td>\n",
       "      <td>8.843934</td>\n",
       "      <td>52.937405</td>\n",
       "      <td>0.999912</td>\n",
       "      <td>5.tif</td>\n",
       "      <td></td>\n",
       "    </tr>\n",
       "  </tbody>\n",
       "</table>\n",
       "</div>"
      ],
      "text/plain": [
       "   id       lon        lat  prediction filenames directory\n",
       "0   0  8.908045  53.001961    1.000000     1.tif          \n",
       "1   1  8.906407  52.999098    1.000000     2.tif          \n",
       "2   2  8.912388  53.000557    1.000000     3.tif          \n",
       "3   3  8.841145  52.937948    0.999974     4.tif          \n",
       "4   4  8.843934  52.937405    0.999912     5.tif          "
      ]
     },
     "execution_count": 70,
     "metadata": {},
     "output_type": "execute_result"
    }
   ],
   "source": [
    "p.head()"
   ]
  },
  {
   "cell_type": "code",
   "execution_count": 74,
   "metadata": {},
   "outputs": [
    {
     "name": "stdout",
     "output_type": "stream",
     "text": [
      "Turbines: 24471\n",
      "Total number of images: 26948\n",
      "Turbines: 23726\n",
      "Total number of images: 26948\n",
      "Turbines: 22992\n",
      "Total number of images: 26948\n",
      "Turbines: 21770\n",
      "Total number of images: 26948\n",
      "Turbines: 19906\n",
      "Total number of images: 26948\n",
      "Turbines: 17525\n",
      "Total number of images: 26948\n",
      "Turbines: 13860\n",
      "Total number of images: 26948\n"
     ]
    },
    {
     "data": {
      "text/plain": [
       "<matplotlib.axes._subplots.AxesSubplot at 0x7fa3f6852cc0>"
      ]
     },
     "execution_count": 74,
     "metadata": {},
     "output_type": "execute_result"
    },
    {
     "data": {
      "image/png": "[encoded data removed]",
      "text/plain": [
       "<Figure size 432x288 with 1 Axes>"
      ]
     },
     "metadata": {
      "needs_background": "light"
     },
     "output_type": "display_data"
    }
   ],
   "source": [
    "threshold = 0.5\n",
    "\n",
    "print(\"Turbines: \" + str(sum(p.prediction > threshold)))\n",
    "print(\"Total number of images: \" + str(sum(p.prediction > 0)))\n",
    "\n",
    "threshold = 0.99\n",
    "\n",
    "print(\"Turbines: \" + str(sum(p.prediction > threshold)))\n",
    "print(\"Total number of images: \" + str(sum(p.prediction > 0)))\n",
    "\n",
    "threshold = 0.999\n",
    "\n",
    "print(\"Turbines: \" + str(sum(p.prediction > threshold)))\n",
    "print(\"Total number of images: \" + str(sum(p.prediction > 0)))\n",
    "\n",
    "threshold = 0.9999\n",
    "\n",
    "print(\"Turbines: \" + str(sum(p.prediction > threshold)))\n",
    "print(\"Total number of images: \" + str(sum(p.prediction > 0)))\n",
    "\n",
    "threshold = 0.99999\n",
    "\n",
    "print(\"Turbines: \" + str(sum(p.prediction > threshold)))\n",
    "print(\"Total number of images: \" + str(sum(p.prediction > 0)))\n",
    "\n",
    "threshold = 0.999999\n",
    "\n",
    "print(\"Turbines: \" + str(sum(p.prediction > threshold)))\n",
    "print(\"Total number of images: \" + str(sum(p.prediction > 0)))\n",
    "\n",
    "threshold = 0.9999999\n",
    "\n",
    "print(\"Turbines: \" + str(sum(p.prediction > threshold)))\n",
    "print(\"Total number of images: \" + str(sum(p.prediction > 0)))\n",
    "\n",
    "p.prediction.hist(bins=100)\n"
   ]
  },
  {
   "cell_type": "code",
   "execution_count": 77,
   "metadata": {},
   "outputs": [],
   "source": [
    "shutil.rmtree(raw_dir + \"no_turbines/\", ignore_errors=True) \n",
    "os.makedirs(raw_dir + \"no_turbines/\")\n",
    "shutil.rmtree(raw_dir + \"turbines/\", ignore_errors=True) \n",
    "os.makedirs(raw_dir + \"turbines/\")"
   ]
  },
  {
   "cell_type": "markdown",
   "metadata": {},
   "source": [
    "# copy files"
   ]
  },
  {
   "cell_type": "code",
   "execution_count": null,
   "metadata": {},
   "outputs": [
    {
     "name": "stdout",
     "output_type": "stream",
     "text": [
      "src: data/aerialImages/GOOGLE/RESOLUTION19/DE/osm//100.tif\n",
      "dst: data/aerialImages/GOOGLE/RESOLUTION19/DE/osm/turbines/100_0.9992341995239258_.png\n",
      "src: data/aerialImages/GOOGLE/RESOLUTION19/DE/osm//200.tif\n",
      "dst: data/aerialImages/GOOGLE/RESOLUTION19/DE/osm/turbines/200_0.9999998807907104_.png\n",
      "src: data/aerialImages/GOOGLE/RESOLUTION19/DE/osm//300.tif\n",
      "dst: data/aerialImages/GOOGLE/RESOLUTION19/DE/osm/turbines/300_1.0_.png\n",
      "src: data/aerialImages/GOOGLE/RESOLUTION19/DE/osm//400.tif\n",
      "dst: data/aerialImages/GOOGLE/RESOLUTION19/DE/osm/turbines/400_1.0_.png\n",
      "src: data/aerialImages/GOOGLE/RESOLUTION19/DE/osm//500.tif\n",
      "dst: data/aerialImages/GOOGLE/RESOLUTION19/DE/osm/turbines/500_1.0_.png\n",
      "src: data/aerialImages/GOOGLE/RESOLUTION19/DE/osm//600.tif\n",
      "dst: data/aerialImages/GOOGLE/RESOLUTION19/DE/osm/turbines/600_0.9999996423721312_.png\n",
      "src: data/aerialImages/GOOGLE/RESOLUTION19/DE/osm//700.tif\n",
      "dst: data/aerialImages/GOOGLE/RESOLUTION19/DE/osm/turbines/700_0.9999488592147828_.png\n",
      "src: data/aerialImages/GOOGLE/RESOLUTION19/DE/osm//800.tif\n",
      "dst: data/aerialImages/GOOGLE/RESOLUTION19/DE/osm/turbines/800_1.0_.png\n",
      "src: data/aerialImages/GOOGLE/RESOLUTION19/DE/osm//900.tif\n",
      "dst: data/aerialImages/GOOGLE/RESOLUTION19/DE/osm/turbines/900_0.9999997615814208_.png\n",
      "src: data/aerialImages/GOOGLE/RESOLUTION19/DE/osm//1000.tif\n",
      "dst: data/aerialImages/GOOGLE/RESOLUTION19/DE/osm/turbines/1000_1.0_.png\n",
      "src: data/aerialImages/GOOGLE/RESOLUTION19/DE/osm//1100.tif\n",
      "dst: data/aerialImages/GOOGLE/RESOLUTION19/DE/osm/turbines/1100_0.9997323155403136_.png\n",
      "src: data/aerialImages/GOOGLE/RESOLUTION19/DE/osm//1200.tif\n",
      "dst: data/aerialImages/GOOGLE/RESOLUTION19/DE/osm/turbines/1200_0.9999949932098388_.png\n",
      "src: data/aerialImages/GOOGLE/RESOLUTION19/DE/osm//1300.tif\n",
      "dst: data/aerialImages/GOOGLE/RESOLUTION19/DE/osm/turbines/1300_1.0_.png\n",
      "src: data/aerialImages/GOOGLE/RESOLUTION19/DE/osm//1400.tif\n",
      "dst: data/aerialImages/GOOGLE/RESOLUTION19/DE/osm/turbines/1400_1.0_.png\n",
      "src: data/aerialImages/GOOGLE/RESOLUTION19/DE/osm//1500.tif\n",
      "dst: data/aerialImages/GOOGLE/RESOLUTION19/DE/osm/turbines/1500_1.0_.png\n",
      "src: data/aerialImages/GOOGLE/RESOLUTION19/DE/osm//1600.tif\n",
      "dst: data/aerialImages/GOOGLE/RESOLUTION19/DE/osm/turbines/1600_0.9999996423721312_.png\n",
      "src: data/aerialImages/GOOGLE/RESOLUTION19/DE/osm//1700.tif\n",
      "dst: data/aerialImages/GOOGLE/RESOLUTION19/DE/osm/turbines/1700_0.9999984502792358_.png\n",
      "src: data/aerialImages/GOOGLE/RESOLUTION19/DE/osm//1800.tif\n",
      "dst: data/aerialImages/GOOGLE/RESOLUTION19/DE/osm/turbines/1800_1.0_.png\n",
      "src: data/aerialImages/GOOGLE/RESOLUTION19/DE/osm//1900.tif\n",
      "dst: data/aerialImages/GOOGLE/RESOLUTION19/DE/osm/turbines/1900_0.9999979734420776_.png\n",
      "src: data/aerialImages/GOOGLE/RESOLUTION19/DE/osm//2000.tif\n",
      "dst: data/aerialImages/GOOGLE/RESOLUTION19/DE/osm/turbines/2000_0.9999998807907104_.png\n",
      "src: data/aerialImages/GOOGLE/RESOLUTION19/DE/osm//2100.tif\n",
      "dst: data/aerialImages/GOOGLE/RESOLUTION19/DE/osm/turbines/2100_1.0_.png\n",
      "src: data/aerialImages/GOOGLE/RESOLUTION19/DE/osm//2200.tif\n",
      "dst: data/aerialImages/GOOGLE/RESOLUTION19/DE/osm/turbines/2200_0.9999898672103882_.png\n",
      "src: data/aerialImages/GOOGLE/RESOLUTION19/DE/osm//2300.tif\n",
      "dst: data/aerialImages/GOOGLE/RESOLUTION19/DE/osm/turbines/2300_0.9999998807907104_.png\n",
      "src: data/aerialImages/GOOGLE/RESOLUTION19/DE/osm//2400.tif\n",
      "dst: data/aerialImages/GOOGLE/RESOLUTION19/DE/osm/turbines/2400_0.9999928474426271_.png\n",
      "src: data/aerialImages/GOOGLE/RESOLUTION19/DE/osm//2500.tif\n",
      "dst: data/aerialImages/GOOGLE/RESOLUTION19/DE/osm/turbines/2500_0.9999979734420776_.png\n",
      "src: data/aerialImages/GOOGLE/RESOLUTION19/DE/osm//2600.tif\n",
      "dst: data/aerialImages/GOOGLE/RESOLUTION19/DE/osm/turbines/2600_1.0_.png\n",
      "src: data/aerialImages/GOOGLE/RESOLUTION19/DE/osm//2700.tif\n",
      "dst: data/aerialImages/GOOGLE/RESOLUTION19/DE/osm/turbines/2700_1.0_.png\n",
      "src: data/aerialImages/GOOGLE/RESOLUTION19/DE/osm//2800.tif\n",
      "dst: data/aerialImages/GOOGLE/RESOLUTION19/DE/osm/turbines/2800_1.0_.png\n",
      "src: data/aerialImages/GOOGLE/RESOLUTION19/DE/osm//2900.tif\n",
      "dst: data/aerialImages/GOOGLE/RESOLUTION19/DE/osm/turbines/2900_1.0_.png\n",
      "src: data/aerialImages/GOOGLE/RESOLUTION19/DE/osm//3000.tif\n",
      "dst: data/aerialImages/GOOGLE/RESOLUTION19/DE/osm/turbines/3000_1.0_.png\n",
      "src: data/aerialImages/GOOGLE/RESOLUTION19/DE/osm//3100.tif\n",
      "dst: data/aerialImages/GOOGLE/RESOLUTION19/DE/osm/turbines/3100_1.0_.png\n",
      "src: data/aerialImages/GOOGLE/RESOLUTION19/DE/osm//3200.tif\n",
      "dst: data/aerialImages/GOOGLE/RESOLUTION19/DE/osm/turbines/3200_0.9999754428863524_.png\n",
      "src: data/aerialImages/GOOGLE/RESOLUTION19/DE/osm//3400.tif\n",
      "dst: data/aerialImages/GOOGLE/RESOLUTION19/DE/osm/turbines/3400_0.9999936819076538_.png\n",
      "src: data/aerialImages/GOOGLE/RESOLUTION19/DE/osm//3500.tif\n",
      "dst: data/aerialImages/GOOGLE/RESOLUTION19/DE/osm/turbines/3500_0.9971994161605836_.png\n",
      "src: data/aerialImages/GOOGLE/RESOLUTION19/DE/osm//3600.tif\n",
      "dst: data/aerialImages/GOOGLE/RESOLUTION19/DE/osm/turbines/3600_1.0_.png\n",
      "src: data/aerialImages/GOOGLE/RESOLUTION19/DE/osm//3700.tif\n",
      "dst: data/aerialImages/GOOGLE/RESOLUTION19/DE/osm/turbines/3700_1.0_.png\n",
      "src: data/aerialImages/GOOGLE/RESOLUTION19/DE/osm//3800.tif\n",
      "dst: data/aerialImages/GOOGLE/RESOLUTION19/DE/osm/turbines/3800_0.9999914169311525_.png\n",
      "src: data/aerialImages/GOOGLE/RESOLUTION19/DE/osm//3900.tif\n",
      "dst: data/aerialImages/GOOGLE/RESOLUTION19/DE/osm/turbines/3900_1.0_.png\n",
      "src: data/aerialImages/GOOGLE/RESOLUTION19/DE/osm//4000.tif\n",
      "dst: data/aerialImages/GOOGLE/RESOLUTION19/DE/osm/turbines/4000_1.0_.png\n",
      "src: data/aerialImages/GOOGLE/RESOLUTION19/DE/osm//4100.tif\n",
      "dst: data/aerialImages/GOOGLE/RESOLUTION19/DE/osm/turbines/4100_0.9999873638153076_.png\n",
      "src: data/aerialImages/GOOGLE/RESOLUTION19/DE/osm//4200.tif\n",
      "dst: data/aerialImages/GOOGLE/RESOLUTION19/DE/osm/turbines/4200_0.9999998807907104_.png\n",
      "src: data/aerialImages/GOOGLE/RESOLUTION19/DE/osm//4300.tif\n",
      "dst: data/aerialImages/GOOGLE/RESOLUTION19/DE/osm/turbines/4300_0.9999995231628418_.png\n",
      "src: data/aerialImages/GOOGLE/RESOLUTION19/DE/osm//4400.tif\n",
      "dst: data/aerialImages/GOOGLE/RESOLUTION19/DE/osm/turbines/4400_1.0_.png\n",
      "src: data/aerialImages/GOOGLE/RESOLUTION19/DE/osm//4500.tif\n",
      "dst: data/aerialImages/GOOGLE/RESOLUTION19/DE/osm/turbines/4500_1.0_.png\n",
      "src: data/aerialImages/GOOGLE/RESOLUTION19/DE/osm//4600.tif\n",
      "dst: data/aerialImages/GOOGLE/RESOLUTION19/DE/osm/turbines/4600_0.9999979734420776_.png\n",
      "src: data/aerialImages/GOOGLE/RESOLUTION19/DE/osm//4700.tif\n",
      "dst: data/aerialImages/GOOGLE/RESOLUTION19/DE/osm/turbines/4700_0.9999982118606568_.png\n",
      "src: data/aerialImages/GOOGLE/RESOLUTION19/DE/osm//4800.tif\n",
      "dst: data/aerialImages/GOOGLE/RESOLUTION19/DE/osm/turbines/4800_0.9999998807907104_.png\n",
      "src: data/aerialImages/GOOGLE/RESOLUTION19/DE/osm//4900.tif\n",
      "dst: data/aerialImages/GOOGLE/RESOLUTION19/DE/osm/turbines/4900_0.9999998807907104_.png\n",
      "src: data/aerialImages/GOOGLE/RESOLUTION19/DE/osm//5000.tif\n",
      "dst: data/aerialImages/GOOGLE/RESOLUTION19/DE/osm/turbines/5000_1.0_.png\n",
      "src: data/aerialImages/GOOGLE/RESOLUTION19/DE/osm//5100.tif\n",
      "dst: data/aerialImages/GOOGLE/RESOLUTION19/DE/osm/turbines/5100_0.9999995231628418_.png\n",
      "src: data/aerialImages/GOOGLE/RESOLUTION19/DE/osm//5200.tif\n",
      "dst: data/aerialImages/GOOGLE/RESOLUTION19/DE/osm/turbines/5200_0.9999866485595704_.png\n",
      "src: data/aerialImages/GOOGLE/RESOLUTION19/DE/osm//5300.tif\n",
      "dst: data/aerialImages/GOOGLE/RESOLUTION19/DE/osm/turbines/5300_0.9999997615814208_.png\n",
      "src: data/aerialImages/GOOGLE/RESOLUTION19/DE/osm//5400.tif\n",
      "dst: data/aerialImages/GOOGLE/RESOLUTION19/DE/osm/turbines/5400_0.99999737739563_.png\n",
      "src: data/aerialImages/GOOGLE/RESOLUTION19/DE/osm//5500.tif\n",
      "dst: data/aerialImages/GOOGLE/RESOLUTION19/DE/osm/turbines/5500_0.9998698234558104_.png\n",
      "src: data/aerialImages/GOOGLE/RESOLUTION19/DE/osm//5600.tif\n",
      "dst: data/aerialImages/GOOGLE/RESOLUTION19/DE/osm/turbines/5600_0.999991536140442_.png\n"
     ]
    }
   ],
   "source": [
    "fpr.copy_threshold_files(p, 0.5, 100, raw_dir, \"turbines\")\n"
   ]
  },
  {
   "cell_type": "code",
   "execution_count": null,
   "metadata": {},
   "outputs": [],
   "source": [
    "fpr.copy_threshold_files(p, 0, 0.5, raw_dir, \"no_turbines\")"
   ]
  },
  {
   "cell_type": "code",
   "execution_count": null,
   "metadata": {},
   "outputs": [],
   "source": []
  },
  {
   "cell_type": "code",
   "execution_count": 15,
   "metadata": {},
   "outputs": [
    {
     "data": {
      "text/plain": [
       "0          True\n",
       "1          True\n",
       "2          True\n",
       "3          True\n",
       "4          True\n",
       "5          True\n",
       "6          True\n",
       "7          True\n",
       "8          True\n",
       "9          True\n",
       "10         True\n",
       "11         True\n",
       "12         True\n",
       "13         True\n",
       "14         True\n",
       "15         True\n",
       "16         True\n",
       "17         True\n",
       "18         True\n",
       "19         True\n",
       "20         True\n",
       "21         True\n",
       "22         True\n",
       "23         True\n",
       "24         True\n",
       "25         True\n",
       "26         True\n",
       "27         True\n",
       "28         True\n",
       "29         True\n",
       "          ...  \n",
       "180749    False\n",
       "180750    False\n",
       "180751    False\n",
       "180752    False\n",
       "180753    False\n",
       "180754    False\n",
       "180755    False\n",
       "180756    False\n",
       "180757    False\n",
       "180758    False\n",
       "180759    False\n",
       "180760    False\n",
       "180761    False\n",
       "180762    False\n",
       "180763    False\n",
       "180764    False\n",
       "180765    False\n",
       "180766    False\n",
       "180767    False\n",
       "180768    False\n",
       "180769    False\n",
       "180770    False\n",
       "180771    False\n",
       "180772    False\n",
       "180773    False\n",
       "180774    False\n",
       "180775    False\n",
       "180776    False\n",
       "180777    False\n",
       "180778    False\n",
       "Name: 0, Length: 180779, dtype: bool"
      ]
     },
     "execution_count": 15,
     "metadata": {},
     "output_type": "execute_result"
    }
   ],
   "source": []
  }
 ],
 "metadata": {
  "kernelspec": {
   "display_name": "Python [conda env:.conda-windturbine-identification]",
   "language": "python",
   "name": "conda-env-.conda-windturbine-identification-py"
  },
  "language_info": {
   "codemirror_mode": {
    "name": "ipython",
    "version": 3
   },
   "file_extension": ".py",
   "mimetype": "text/x-python",
   "name": "python",
   "nbconvert_exporter": "python",
   "pygments_lexer": "ipython3",
   "version": "3.7.0"
  }
 },
 "nbformat": 4,
 "nbformat_minor": 2
}
