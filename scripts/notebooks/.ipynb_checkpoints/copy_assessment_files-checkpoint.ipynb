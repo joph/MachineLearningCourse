{
 "cells": [
  {
   "cell_type": "code",
   "execution_count": 1,
   "metadata": {},
   "outputs": [
    {
     "name": "stdout",
     "output_type": "stream",
     "text": [
      "/data/projects/windturbine-identification/MachineLearningCourse\n"
     ]
    }
   ],
   "source": [
    "cd ../.."
   ]
  },
  {
   "cell_type": "code",
   "execution_count": 34,
   "metadata": {},
   "outputs": [],
   "source": [
    "import imp\n",
    "import scripts.windturbines.functions_pattern_recognition as fpr\n",
    "imp.reload(fpr)\n",
    "import pandas as pd\n",
    "import numpy as np\n",
    "import shutil\n",
    "import os\n"
   ]
  },
  {
   "cell_type": "code",
   "execution_count": 51,
   "metadata": {},
   "outputs": [],
   "source": [
    "COUNTRY = \"CN\"\n",
    "\n",
    "assessment_file = fpr.get_param(COUNTRY, \"PATH_RAW_IMAGES_ASSESSMENT\") + \"/assessment.csv\" \n",
    "\n",
    "p = pd.read_csv(assessment_file)"
   ]
  },
  {
   "cell_type": "markdown",
   "metadata": {},
   "source": [
    "# Run only if there is a problem with the CSV"
   ]
  },
  {
   "cell_type": "code",
   "execution_count": 10,
   "metadata": {},
   "outputs": [],
   "source": [
    "#p.iloc[np.isnan(p.iloc[:,1]).values, 1:6] = p.iloc[np.isnan(p.iloc[:,1]).values, 6:11].values\n",
    "#p = p.iloc[:, 0:6]"
   ]
  },
  {
   "cell_type": "markdown",
   "metadata": {},
   "source": [
    "# Assess quantity of turbines"
   ]
  },
  {
   "cell_type": "code",
   "execution_count": 56,
   "metadata": {},
   "outputs": [
    {
     "name": "stdout",
     "output_type": "stream",
     "text": [
      "Turbines: 2380\n",
      "Total number of images: 74956\n"
     ]
    },
    {
     "data": {
      "text/plain": [
       "array([[<matplotlib.axes._subplots.AxesSubplot object at 0x7f6086fa7a90>,\n",
       "        <matplotlib.axes._subplots.AxesSubplot object at 0x7f608b016ac8>],\n",
       "       [<matplotlib.axes._subplots.AxesSubplot object at 0x7f606e4d9ef0>,\n",
       "        <matplotlib.axes._subplots.AxesSubplot object at 0x7f60870a1f28>]],\n",
       "      dtype=object)"
      ]
     },
     "metadata": {},
     "output_type": "display_data"
    },
    {
     "data": {
      "image/png": "[encoded data removed]",
      "text/plain": [
       "<Figure size 432x288 with 4 Axes>"
      ]
     },
     "metadata": {
      "needs_background": "light"
     },
     "output_type": "display_data"
    }
   ],
   "source": [
    "p.columns = ['id', 'lon', 'lat', 'prediction', 'filename', 'park']\n",
    "\n",
    "raw_dir = fpr.get_param(COUNTRY, \"PATH_RAW_IMAGES_ASSESSMENT\")\n",
    "\n",
    "threshold = 0.9999\n",
    "\n",
    "print(\"Turbines: \" + str(sum(p.prediction > threshold)))\n",
    "print(\"Total number of images: \" + str(sum(p.prediction > 0)))\n",
    "\n",
    "display(p.hist(bins=20))\n",
    "\n",
    "\n"
   ]
  },
  {
   "cell_type": "code",
   "execution_count": 57,
   "metadata": {},
   "outputs": [],
   "source": [
    "shutil.rmtree(raw_dir + \"turbines/\", ignore_errors=True) \n",
    "os.makedirs(raw_dir + \"turbines/\")"
   ]
  },
  {
   "cell_type": "markdown",
   "metadata": {},
   "source": [
    "# copy files"
   ]
  },
  {
   "cell_type": "code",
   "execution_count": 58,
   "metadata": {},
   "outputs": [
    {
     "name": "stdout",
     "output_type": "stream",
     "text": [
      "src: data/aerialImages/GOOGLE/RESOLUTION19/CN/assessment/Baiyunebo/109.9628_41.7166.tif\n",
      "dst: data/aerialImages/GOOGLE/RESOLUTION19/CN/assessment/turbines//109.9628_41.7166_1.0_Baiyunebo.png\n",
      "src: data/aerialImages/GOOGLE/RESOLUTION19/CN/assessment/Caishenliang Wind Inner Mongolia/112.724_40.8024.tif\n",
      "dst: data/aerialImages/GOOGLE/RESOLUTION19/CN/assessment/turbines//112.724_40.8024_1.0_Caishenliang Wind Inner Mongolia.png\n",
      "src: data/aerialImages/GOOGLE/RESOLUTION19/CN/assessment/Cgn Xinjiang Tacheng Mayitasi Phase 1/84.0814_46.2468.tif\n",
      "dst: data/aerialImages/GOOGLE/RESOLUTION19/CN/assessment/turbines//84.0814_46.2468_1.0_Cgn Xinjiang Tacheng Mayitasi Phase 1.png\n",
      "src: data/aerialImages/GOOGLE/RESOLUTION19/CN/assessment/Changli Datan Wind/119.1854_39.4928.tif\n",
      "dst: data/aerialImages/GOOGLE/RESOLUTION19/CN/assessment/turbines//119.1854_39.4928_1.0_Changli Datan Wind.png\n",
      "src: data/aerialImages/GOOGLE/RESOLUTION19/CN/assessment/Cheliwusu/113.9956_41.7466.tif\n",
      "dst: data/aerialImages/GOOGLE/RESOLUTION19/CN/assessment/turbines//113.9956_41.7466_1.0_Cheliwusu.png\n",
      "src: data/aerialImages/GOOGLE/RESOLUTION19/CN/assessment/Datang Chifeng Bolike Ii Wind/118.0182_42.6242.tif\n",
      "dst: data/aerialImages/GOOGLE/RESOLUTION19/CN/assessment/turbines//118.0182_42.6242_0.9999639987945556_Datang Chifeng Bolike Ii Wind.png\n",
      "src: data/aerialImages/GOOGLE/RESOLUTION19/CN/assessment/Datang Chifeng Bolike Ii Wind/118.0238_42.641.tif\n",
      "dst: data/aerialImages/GOOGLE/RESOLUTION19/CN/assessment/turbines//118.0238_42.641_1.0_Datang Chifeng Bolike Ii Wind.png\n",
      "src: data/aerialImages/GOOGLE/RESOLUTION19/CN/assessment/Datang Ningxia Taiyangshan Phase 2/106.4398_37.4914.tif\n",
      "dst: data/aerialImages/GOOGLE/RESOLUTION19/CN/assessment/turbines//106.4398_37.4914_1.0_Datang Ningxia Taiyangshan Phase 2.png\n",
      "src: data/aerialImages/GOOGLE/RESOLUTION19/CN/assessment/Datang Qixia Sujiadian Phase 1/120.6998_37.3968.tif\n",
      "dst: data/aerialImages/GOOGLE/RESOLUTION19/CN/assessment/turbines//120.6998_37.3968_1.0_Datang Qixia Sujiadian Phase 1.png\n",
      "src: data/aerialImages/GOOGLE/RESOLUTION19/CN/assessment/Dongbaishan/120.4454_29.484.tif\n",
      "dst: data/aerialImages/GOOGLE/RESOLUTION19/CN/assessment/turbines//120.4454_29.484_1.0_Dongbaishan.png\n",
      "src: data/aerialImages/GOOGLE/RESOLUTION19/CN/assessment/Fang'an/120.5656_40.374.tif\n",
      "dst: data/aerialImages/GOOGLE/RESOLUTION19/CN/assessment/turbines//120.5656_40.374_1.0_Fang'an.png\n",
      "src: data/aerialImages/GOOGLE/RESOLUTION19/CN/assessment/Fuqing Zeqi/119.488_25.4628.tif\n",
      "dst: data/aerialImages/GOOGLE/RESOLUTION19/CN/assessment/turbines//119.488_25.4628_1.0_Fuqing Zeqi.png\n",
      "src: data/aerialImages/GOOGLE/RESOLUTION19/CN/assessment/Gansu Wind Farm/95.7312_40.677.tif\n",
      "dst: data/aerialImages/GOOGLE/RESOLUTION19/CN/assessment/turbines//95.7312_40.677_1.0_Gansu Wind Farm.png\n",
      "src: data/aerialImages/GOOGLE/RESOLUTION19/CN/assessment/Guangdong Chaonan Shalong Wind/116.47_23.1112.tif\n",
      "dst: data/aerialImages/GOOGLE/RESOLUTION19/CN/assessment/turbines//116.47_23.1112_1.0_Guangdong Chaonan Shalong Wind.png\n",
      "src: data/aerialImages/GOOGLE/RESOLUTION19/CN/assessment/Guodian Ningxia Qingtongxia Niushoushan Phase 1/106.021_37.7456.tif\n",
      "dst: data/aerialImages/GOOGLE/RESOLUTION19/CN/assessment/turbines//106.021_37.7456_1.0_Guodian Ningxia Qingtongxia Niushoushan Phase 1.png\n",
      "src: data/aerialImages/GOOGLE/RESOLUTION19/CN/assessment/Guodian Shanxi Jingle Suopo Wind/112.2638_38.5742.tif\n",
      "dst: data/aerialImages/GOOGLE/RESOLUTION19/CN/assessment/turbines//112.2638_38.5742_1.0_Guodian Shanxi Jingle Suopo Wind.png\n",
      "src: data/aerialImages/GOOGLE/RESOLUTION19/CN/assessment/Guodian Shanxi Pinglubeishan Phase 1 Wind/112.127_39.577.tif\n",
      "dst: data/aerialImages/GOOGLE/RESOLUTION19/CN/assessment/turbines//112.127_39.577_1.0_Guodian Shanxi Pinglubeishan Phase 1 Wind.png\n",
      "src: data/aerialImages/GOOGLE/RESOLUTION19/CN/assessment/Guodian Shanxi Youyu Caojiashan Phase 2 Wind/112.59_40.1756.tif\n",
      "dst: data/aerialImages/GOOGLE/RESOLUTION19/CN/assessment/turbines//112.59_40.1756_1.0_Guodian Shanxi Youyu Caojiashan Phase 2 Wind.png\n",
      "src: data/aerialImages/GOOGLE/RESOLUTION19/CN/assessment/Guodian Wuchuan Xiwulanbulang Hongshan Phase 2/111.0128_41.2414.tif\n",
      "dst: data/aerialImages/GOOGLE/RESOLUTION19/CN/assessment/turbines//111.0128_41.2414_1.0_Guodian Wuchuan Xiwulanbulang Hongshan Phase 2.png\n",
      "src: data/aerialImages/GOOGLE/RESOLUTION19/CN/assessment/Guodian Wulian Yuli Wind Power Phase 1/119.0024_35.8.tif\n",
      "dst: data/aerialImages/GOOGLE/RESOLUTION19/CN/assessment/turbines//119.0024_35.8_1.0_Guodian Wulian Yuli Wind Power Phase 1.png\n",
      "src: data/aerialImages/GOOGLE/RESOLUTION19/CN/assessment/Guohua Guangrao (Phase 1)/118.8754_37.3268.tif\n",
      "dst: data/aerialImages/GOOGLE/RESOLUTION19/CN/assessment/turbines//118.8754_37.3268_1.0_Guohua Guangrao (Phase 1).png\n",
      "src: data/aerialImages/GOOGLE/RESOLUTION19/CN/assessment/Guohua Guyuan Xiaoerhao/115.8498_41.4528.tif\n",
      "dst: data/aerialImages/GOOGLE/RESOLUTION19/CN/assessment/turbines//115.8498_41.4528_0.9999194145202636_Guohua Guyuan Xiaoerhao.png\n"
     ]
    }
   ],
   "source": [
    "fpr.copy_threshold_files(p, threshold, raw_dir)\n"
   ]
  },
  {
   "cell_type": "code",
   "execution_count": null,
   "metadata": {},
   "outputs": [],
   "source": []
  },
  {
   "cell_type": "code",
   "execution_count": 15,
   "metadata": {},
   "outputs": [
    {
     "data": {
      "text/plain": [
       "0          True\n",
       "1          True\n",
       "2          True\n",
       "3          True\n",
       "4          True\n",
       "5          True\n",
       "6          True\n",
       "7          True\n",
       "8          True\n",
       "9          True\n",
       "10         True\n",
       "11         True\n",
       "12         True\n",
       "13         True\n",
       "14         True\n",
       "15         True\n",
       "16         True\n",
       "17         True\n",
       "18         True\n",
       "19         True\n",
       "20         True\n",
       "21         True\n",
       "22         True\n",
       "23         True\n",
       "24         True\n",
       "25         True\n",
       "26         True\n",
       "27         True\n",
       "28         True\n",
       "29         True\n",
       "          ...  \n",
       "180749    False\n",
       "180750    False\n",
       "180751    False\n",
       "180752    False\n",
       "180753    False\n",
       "180754    False\n",
       "180755    False\n",
       "180756    False\n",
       "180757    False\n",
       "180758    False\n",
       "180759    False\n",
       "180760    False\n",
       "180761    False\n",
       "180762    False\n",
       "180763    False\n",
       "180764    False\n",
       "180765    False\n",
       "180766    False\n",
       "180767    False\n",
       "180768    False\n",
       "180769    False\n",
       "180770    False\n",
       "180771    False\n",
       "180772    False\n",
       "180773    False\n",
       "180774    False\n",
       "180775    False\n",
       "180776    False\n",
       "180777    False\n",
       "180778    False\n",
       "Name: 0, Length: 180779, dtype: bool"
      ]
     },
     "execution_count": 15,
     "metadata": {},
     "output_type": "execute_result"
    }
   ],
   "source": []
  }
 ],
 "metadata": {
  "kernelspec": {
   "display_name": "Python 3",
   "language": "python",
   "name": "python3"
  },
  "language_info": {
   "codemirror_mode": {
    "name": "ipython",
    "version": 3
   },
   "file_extension": ".py",
   "mimetype": "text/x-python",
   "name": "python",
   "nbconvert_exporter": "python",
   "pygments_lexer": "ipython3",
   "version": "3.7.0"
  }
 },
 "nbformat": 4,
 "nbformat_minor": 2
}
