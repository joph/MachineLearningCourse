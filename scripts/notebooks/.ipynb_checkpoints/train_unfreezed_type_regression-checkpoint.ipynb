{
 "cells": [
  {
   "cell_type": "code",
   "execution_count": null,
   "metadata": {
    "ExecuteTime": {
     "start_time": "2019-10-13T19:54:49.896Z"
    }
   },
   "outputs": [],
   "source": [
    "cd /data/projects/windturbine-identification/MachineLearningCourse"
   ]
  },
  {
   "cell_type": "code",
   "execution_count": null,
   "metadata": {
    "ExecuteTime": {
     "start_time": "2019-10-13T19:54:49.901Z"
    }
   },
   "outputs": [],
   "source": [
    "# -*- coding: utf-8 -*-\n",
    "\"\"\"\n",
    "Created on Mon Feb 18 13:04:17 2019\n",
    "\n",
    "@author: jschmidt\n",
    "\"\"\"\n",
    "from keras import layers\n",
    "from keras import models\n",
    "from keras import optimizers\n",
    "from keras.preprocessing.image import ImageDataGenerator\n",
    "from keras.callbacks import ModelCheckpoint\n",
    "import pandas as pd\n",
    "import numpy as np\n",
    "import math\n",
    "\n",
    "import pickle  # pip install dill --user\n",
    "import matplotlib.pyplot as plt\n",
    "from keras.applications import VGG16\n",
    "import tensorflow as tf\n",
    "#import tensorflow.tfp as tfp\n",
    "\n",
    "import imp\n",
    "import scripts.windturbines.functions_pattern_recognition as fpr\n",
    "imp.reload(fpr)\n",
    "\n",
    "gpu_fraction = 0.8\n",
    "gpu_options = tf.GPUOptions(per_process_gpu_memory_fraction=gpu_fraction)\n",
    "sess = tf.Session(config=tf.ConfigProto(gpu_options=gpu_options))\n",
    "\n",
    "import keras.backend as K\n",
    "\n",
    "import math\n",
    "\n",
    "def mean_pred(y_true, y_pred):\n",
    "    return K.mean(y_pred)\n",
    "\n",
    "def mean_true(y_true, y_pred):\n",
    "    return K.mean(y_true)\n",
    "\n",
    "def c_metric(y_true, y_pred):\n",
    "    x = y_true\n",
    "    y = y_pred\n",
    "    diff_x = x - K.mean(x)\n",
    "    diff_y = y - K.mean(y)\n",
    "    sum_diffs = K.sum(diff_x * diff_y)\n",
    "    low = K.sqrt(K.sum(diff_x * diff_x)) * K.sqrt(K.sum(diff_y * diff_y))\n",
    "    metric = sum_diffs / low\n",
    "    return metric\n",
    "\n",
    "def c_length(y_true, y_pred):\n",
    "    length = tf.to_float(tf.size(y_true))\n",
    "    return length\n"
   ]
  },
  {
   "cell_type": "markdown",
   "metadata": {},
   "source": [
    "# Training Phase"
   ]
  },
  {
   "cell_type": "code",
   "execution_count": null,
   "metadata": {
    "ExecuteTime": {
     "start_time": "2019-10-13T19:54:49.906Z"
    }
   },
   "outputs": [],
   "source": [
    "COUNTRY = \"US\"\n",
    "\n",
    "train_dir = fpr.get_param(COUNTRY, \"PATH_ML_IMAGES_TYPE_REGRESSION_TRAIN\", 18)\n",
    "test_dir = fpr.get_param(COUNTRY, \"PATH_ML_IMAGES_TYPE_REGRESSION_TEST\", 18)\n",
    "\n",
    "# Part II: Pretrained model\n",
    "\n",
    "\n",
    "#conv_base = VGG16(weights='imagenet',\n",
    "#                  include_top=False,\n",
    "#                  input_shape=(256, 256, 3))\n",
    "\n",
    "model = models.Sequential()\n",
    "model.add(layers.Conv2D(32, (3, 3), activation='relu',\n",
    "                        input_shape=(256, 256, 3)))\n",
    "model.add(layers.MaxPooling2D((2, 2)))\n",
    "model.add(layers.Conv2D(32, (3, 3), activation='relu'))\n",
    "model.add(layers.MaxPooling2D((2, 2)))\n",
    "model.add(layers.Conv2D(64, (3, 3), activation='relu'))\n",
    "model.add(layers.MaxPooling2D((2, 2)))\n",
    "model.add(layers.Conv2D(64, (3, 3), activation='relu'))\n",
    "model.add(layers.MaxPooling2D((2, 2)))\n",
    "model.add(layers.Flatten())\n",
    "model.add(layers.Dropout(0.5))\n",
    "model.add(layers.Dense(256, activation='relu'))\n",
    "model.add(layers.Dense(256, activation='relu'))\n",
    "model.add(layers.Dense(1, activation='linear'))\n",
    "\n",
    "#set_trainable = False\n",
    "#for layer in conv_base.layers:\n",
    "#    if layer.name == 'block4_conv1':\n",
    "#        set_trainable = True\n",
    "#    if set_trainable:\n",
    "#        layer.trainable = True\n",
    "#    else:\n",
    "#        layer.trainable = False\n",
    "        \n",
    "        \n",
    "        \n",
    "pd_train = pd.read_csv(train_dir + \"list.csv\")\n",
    "pd_test = pd.read_csv(test_dir + \"list.csv\")\n",
    "\n",
    "pd_train['power_density'] = pd_train['t_cap'] / (pd_train['t_rd'] * pd_train['t_rd'] * math.pi)  \n",
    "pd_test['power_density'] = pd_test['t_cap'] / (pd_test['t_rd'] * pd_test['t_rd'] * math.pi)\n",
    "\n",
    "#pd_train['score'] = pd_train['t_cap'] / np.max(pd_train['t_cap'])\n",
    "#pd_test['score'] = pd_test['t_cap'] / np.max(pd_test['t_cap'])\n",
    "\n",
    "\n",
    "param = 't_rd'\n",
    "pd_train['score'] = pd_train[param] / np.max(pd_train[param])\n",
    "pd_test['score'] = pd_test[param] / np.max(pd_test[param])\n"
   ]
  },
  {
   "cell_type": "code",
   "execution_count": null,
   "metadata": {
    "ExecuteTime": {
     "start_time": "2019-10-13T19:54:49.909Z"
    }
   },
   "outputs": [],
   "source": [
    "train_dir"
   ]
  },
  {
   "cell_type": "code",
   "execution_count": null,
   "metadata": {
    "ExecuteTime": {
     "start_time": "2019-10-13T19:54:49.916Z"
    }
   },
   "outputs": [],
   "source": [
    "pd_train.head()"
   ]
  },
  {
   "cell_type": "code",
   "execution_count": null,
   "metadata": {
    "ExecuteTime": {
     "start_time": "2019-10-13T19:54:49.922Z"
    }
   },
   "outputs": [],
   "source": [
    "train_datagen = ImageDataGenerator(rescale = 1./255, \n",
    "                                   horizontal_flip = True,\n",
    "                                   fill_mode = \"nearest\", \n",
    "                                   zoom_range = 0.2,\n",
    "                                   width_shift_range = 0.2, \n",
    "                                   height_shift_range = 0.2,\n",
    "                                   rotation_range = 30,\n",
    "                                   validation_split = 0.25) \n",
    "\n",
    "train_generator = train_datagen.flow_from_dataframe(dataframe = pd_train, \n",
    "                                                    directory = train_dir, \n",
    "                                                    x_col = \"id_s\", \n",
    "                                                    y_col = \"score\", \n",
    "                                                    has_ext = True, \n",
    "                                                    class_mode=\"other\", \n",
    "                                                    subset=\"training\",\n",
    "                                                    batch_size=20)\n",
    "\n",
    "#                                                    target_size=(img_width, img_height), \n",
    "\n",
    "\n",
    "val_generator = train_datagen.flow_from_dataframe(dataframe = pd_train, \n",
    "                                                    directory = train_dir, \n",
    "                                                    x_col = \"id_s\", \n",
    "                                                    y_col = \"score\", \n",
    "                                                    has_ext = True, \n",
    "                                                    class_mode=\"raw\", \n",
    "                                                    subset=\"validation\",\n",
    "                                                    batch_size=20)\n",
    "\n",
    "#                                                    target_size=(img_width, img_height), \n",
    "\n",
    "# Note that the validation data should not be augmented!\n",
    "test_datagen = ImageDataGenerator(rescale=1./255)\n",
    "\n",
    "train_generator = train_datagen.flow_from_dataframe(dataframe = pd_test, \n",
    "                                                    directory = test_dir, \n",
    "                                                    x_col = \"id_s\", \n",
    "                                                    y_col = \"score\", \n",
    "                                                    has_ext = True, \n",
    "                                                    class_mode=\"raw\", \n",
    "                                                    batch_size=20)"
   ]
  },
  {
   "cell_type": "code",
   "execution_count": null,
   "metadata": {
    "ExecuteTime": {
     "start_time": "2019-10-13T19:54:49.924Z"
    }
   },
   "outputs": [],
   "source": [
    "model.compile(loss='mean_squared_error',\n",
    "              optimizer=optimizers.RMSprop(lr=2e-5),\n",
    "              metrics=[mean_pred, mean_true, c_metric, c_length])\n",
    "\n",
    "mcp_save = ModelCheckpoint('models/model-regression-unfreezed-2-layer-2-layer-classification-6497-turbines-{epoch:04d}-{val_loss:.4f}.h5',\n",
    "                           save_best_only=True, monitor='val_loss', mode='min')\n",
    "\n",
    "\n"
   ]
  },
  {
   "cell_type": "code",
   "execution_count": null,
   "metadata": {
    "ExecuteTime": {
     "start_time": "2019-10-13T19:49:39.199Z"
    }
   },
   "outputs": [],
   "source": [
    "#tf.group(tf.global_variables_initializer(), tf.local_variables_initializer())\n",
    "\n",
    "history = model.fit_generator(\n",
    "      train_generator,\n",
    "      steps_per_epoch=50,\n",
    "      epochs=30,\n",
    "      validation_data=val_generator,\n",
    "      validation_steps=50,\n",
    "      callbacks=[mcp_save],\n",
    "      verbose=2)"
   ]
  },
  {
   "cell_type": "markdown",
   "metadata": {},
   "source": [
    "# Validation vs. Training"
   ]
  },
  {
   "cell_type": "code",
   "execution_count": 37,
   "metadata": {
    "ExecuteTime": {
     "end_time": "2019-10-03T12:50:13.145638Z",
     "start_time": "2019-10-03T12:50:12.600401Z"
    }
   },
   "outputs": [
    {
     "data": {
      "image/png": "[encoded data removed]",
      "text/plain": [
       "<Figure size 432x288 with 1 Axes>"
      ]
     },
     "metadata": {
      "needs_background": "light"
     },
     "output_type": "display_data"
    },
    {
     "data": {
      "image/png": "[encoded data removed]",
      "text/plain": [
       "<Figure size 432x288 with 1 Axes>"
      ]
     },
     "metadata": {
      "needs_background": "light"
     },
     "output_type": "display_data"
    }
   ],
   "source": [
    "acc = history.history['c_metric']\n",
    "val_acc = history.history['val_c_metric']\n",
    "#acc = history.history['acc']\n",
    "#val_acc = history.history['val_acc']\n",
    "\n",
    "\n",
    "loss = history.history['loss']\n",
    "val_loss = history.history['val_loss']\n",
    "\n",
    "epochs = range(len(acc))\n",
    "\n",
    "plt.plot(epochs, acc, 'bo', label='Training acc')\n",
    "plt.plot(epochs, val_acc, 'b', label='Validation acc')\n",
    "plt.title('Training and validation accuracy')\n",
    "plt.legend()\n",
    "\n",
    "plt.figure()\n",
    "\n",
    "plt.plot(epochs, loss, 'bo', label='Training loss')\n",
    "plt.plot(epochs, val_loss, 'b', label='Validation loss')\n",
    "plt.title('Training and validation loss')\n",
    "plt.legend()\n",
    "\n",
    "plt.show()\n",
    "\n",
    "\n"
   ]
  },
  {
   "cell_type": "markdown",
   "metadata": {},
   "source": [
    "# Model selection"
   ]
  },
  {
   "cell_type": "code",
   "execution_count": 38,
   "metadata": {
    "ExecuteTime": {
     "end_time": "2019-10-03T12:50:24.253148Z",
     "start_time": "2019-10-03T12:50:24.248350Z"
    }
   },
   "outputs": [
    {
     "data": {
      "text/plain": [
       "'models/model-regression-unfreezed-2-layer-2-layer-classification-6497-turbines-0022-0.0261.h5'"
      ]
     },
     "execution_count": 38,
     "metadata": {},
     "output_type": "execute_result"
    }
   ],
   "source": [
    "min_val_loss = min(val_loss)\n",
    "\n",
    "i = val_loss.index(min_val_loss) + 1\n",
    "\n",
    "best_model = \"models/model-regression-unfreezed-2-layer-2-layer-classification-6497-turbines-\" + \"{0:0=4d}\".format(i) + \"-\" + \"{0:.4f}\".format(min_val_loss) + \".h5\"\n",
    "\n",
    "#best_model = \"models/model-unfreezed-2-layer-2-layer-classification-6497-turbines-0005-0.0339.h5\"\n",
    "\n",
    "best_model"
   ]
  },
  {
   "cell_type": "markdown",
   "metadata": {},
   "source": [
    "# Test"
   ]
  },
  {
   "cell_type": "code",
   "execution_count": 39,
   "metadata": {
    "ExecuteTime": {
     "end_time": "2019-10-03T12:50:49.620681Z",
     "start_time": "2019-10-03T12:50:27.336418Z"
    }
   },
   "outputs": [
    {
     "name": "stdout",
     "output_type": "stream",
     "text": [
      "Found 9127 validated image filenames.\n"
     ]
    }
   ],
   "source": [
    "test_base_dir = fpr.get_param(COUNTRY, \"PATH_ML_IMAGES_TURBINES_TEST\")+\"../\"\n",
    "\n",
    "#test_model = models.load_model(best_model)\n",
    "\n",
    "test_model = model\n",
    "\n",
    "test_datagen = ImageDataGenerator(rescale=1./255)\n",
    "\n",
    "test_generator = test_datagen.flow_from_dataframe(dataframe = pd_test, \n",
    "                                                    directory = test_dir, \n",
    "                                                    x_col = \"id_s\", \n",
    "                                                    y_col = \"score\", \n",
    "                                                    has_ext = True, \n",
    "                                                    class_mode=None, \n",
    "                                                    batch_size=1)\n",
    "\n",
    "filenames = test_generator.filenames\n",
    "nb_samples = len(filenames)\n",
    "\n",
    "predict = model.predict_generator(test_generator,steps = nb_samples)\n",
    "\n",
    "#test_loss, test_acc = test_model.evaluate_generator(test_generator, steps=32)\n",
    "#print('test acc:', test_acc)\n",
    "#print('test loss:', test_loss)\n"
   ]
  },
  {
   "cell_type": "code",
   "execution_count": 40,
   "metadata": {
    "ExecuteTime": {
     "end_time": "2019-10-03T13:29:08.122875Z",
     "start_time": "2019-10-03T13:29:08.119453Z"
    }
   },
   "outputs": [],
   "source": [
    "predict\n",
    "pd_test['predict'] = predict"
   ]
  },
  {
   "cell_type": "code",
   "execution_count": 41,
   "metadata": {
    "ExecuteTime": {
     "end_time": "2019-10-03T13:29:09.911530Z",
     "start_time": "2019-10-03T13:29:09.871285Z"
    }
   },
   "outputs": [
    {
     "data": {
      "text/html": [
       "<div>\n",
       "<style scoped>\n",
       "    .dataframe tbody tr th:only-of-type {\n",
       "        vertical-align: middle;\n",
       "    }\n",
       "\n",
       "    .dataframe tbody tr th {\n",
       "        vertical-align: top;\n",
       "    }\n",
       "\n",
       "    .dataframe thead th {\n",
       "        text-align: right;\n",
       "    }\n",
       "</style>\n",
       "<table border=\"1\" class=\"dataframe\">\n",
       "  <thead>\n",
       "    <tr style=\"text-align: right;\">\n",
       "      <th></th>\n",
       "      <th>Unnamed: 0</th>\n",
       "      <th>id</th>\n",
       "      <th>t_hh</th>\n",
       "      <th>id_s</th>\n",
       "      <th>t_rd</th>\n",
       "      <th>t_cap</th>\n",
       "      <th>score</th>\n",
       "      <th>predict</th>\n",
       "    </tr>\n",
       "  </thead>\n",
       "  <tbody>\n",
       "    <tr>\n",
       "      <th>0</th>\n",
       "      <td>41530</td>\n",
       "      <td>41531</td>\n",
       "      <td>80.0</td>\n",
       "      <td>41531.png</td>\n",
       "      <td>100.0</td>\n",
       "      <td>2000.0</td>\n",
       "      <td>0.555556</td>\n",
       "      <td>0.306257</td>\n",
       "    </tr>\n",
       "    <tr>\n",
       "      <th>1</th>\n",
       "      <td>41531</td>\n",
       "      <td>41532</td>\n",
       "      <td>80.0</td>\n",
       "      <td>41532.png</td>\n",
       "      <td>100.0</td>\n",
       "      <td>2000.0</td>\n",
       "      <td>0.555556</td>\n",
       "      <td>0.608634</td>\n",
       "    </tr>\n",
       "    <tr>\n",
       "      <th>2</th>\n",
       "      <td>41532</td>\n",
       "      <td>41533</td>\n",
       "      <td>80.0</td>\n",
       "      <td>41533.png</td>\n",
       "      <td>100.0</td>\n",
       "      <td>2000.0</td>\n",
       "      <td>0.555556</td>\n",
       "      <td>0.654884</td>\n",
       "    </tr>\n",
       "    <tr>\n",
       "      <th>3</th>\n",
       "      <td>41533</td>\n",
       "      <td>41534</td>\n",
       "      <td>80.0</td>\n",
       "      <td>41534.png</td>\n",
       "      <td>100.0</td>\n",
       "      <td>2000.0</td>\n",
       "      <td>0.555556</td>\n",
       "      <td>0.243719</td>\n",
       "    </tr>\n",
       "    <tr>\n",
       "      <th>4</th>\n",
       "      <td>41534</td>\n",
       "      <td>41535</td>\n",
       "      <td>80.0</td>\n",
       "      <td>41535.png</td>\n",
       "      <td>100.0</td>\n",
       "      <td>2000.0</td>\n",
       "      <td>0.555556</td>\n",
       "      <td>0.608601</td>\n",
       "    </tr>\n",
       "  </tbody>\n",
       "</table>\n",
       "</div>"
      ],
      "text/plain": [
       "   Unnamed: 0     id  t_hh       id_s   t_rd   t_cap     score   predict\n",
       "0       41530  41531  80.0  41531.png  100.0  2000.0  0.555556  0.306257\n",
       "1       41531  41532  80.0  41532.png  100.0  2000.0  0.555556  0.608634\n",
       "2       41532  41533  80.0  41533.png  100.0  2000.0  0.555556  0.654884\n",
       "3       41533  41534  80.0  41534.png  100.0  2000.0  0.555556  0.243719\n",
       "4       41534  41535  80.0  41535.png  100.0  2000.0  0.555556  0.608601"
      ]
     },
     "execution_count": 41,
     "metadata": {},
     "output_type": "execute_result"
    }
   ],
   "source": [
    "pd_test.head()"
   ]
  },
  {
   "cell_type": "code",
   "execution_count": 42,
   "metadata": {
    "ExecuteTime": {
     "end_time": "2019-10-03T13:29:13.012202Z",
     "start_time": "2019-10-03T13:29:12.871329Z"
    }
   },
   "outputs": [
    {
     "data": {
      "image/png": "[encoded data removed]",
      "text/plain": [
       "<Figure size 432x288 with 1 Axes>"
      ]
     },
     "metadata": {
      "needs_background": "light"
     },
     "output_type": "display_data"
    }
   ],
   "source": [
    "plt.figure()\n",
    "\n",
    "plt.plot(pd_test['score'], pd_test['predict'], 'bo', label='Training loss')\n",
    "plt.title('Score vs. prediction')\n",
    "\n",
    "plt.show()"
   ]
  }
 ],
 "metadata": {
  "kernelspec": {
   "display_name": "Python [conda env:.conda-windturbine-identification]",
   "language": "python",
   "name": "conda-env-.conda-windturbine-identification-py"
  },
  "language_info": {
   "codemirror_mode": {
    "name": "ipython",
    "version": 3
   },
   "file_extension": ".py",
   "mimetype": "text/x-python",
   "name": "python",
   "nbconvert_exporter": "python",
   "pygments_lexer": "ipython3",
   "version": "3.7.0"
  }
 },
 "nbformat": 4,
 "nbformat_minor": 2
}
