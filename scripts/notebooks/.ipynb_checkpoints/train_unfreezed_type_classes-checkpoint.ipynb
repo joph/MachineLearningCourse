{
 "cells": [
  {
   "cell_type": "code",
   "execution_count": 1,
   "metadata": {
    "ExecuteTime": {
     "end_time": "2019-10-03T14:29:30.585641Z",
     "start_time": "2019-10-03T14:29:30.581917Z"
    }
   },
   "outputs": [
    {
     "name": "stdout",
     "output_type": "stream",
     "text": [
      "/data/projects/windturbine-identification/MachineLearningCourse\n"
     ]
    }
   ],
   "source": [
    "cd /data/projects/windturbine-identification/MachineLearningCourse"
   ]
  },
  {
   "cell_type": "code",
   "execution_count": 2,
   "metadata": {
    "ExecuteTime": {
     "end_time": "2019-10-03T14:29:33.064597Z",
     "start_time": "2019-10-03T14:29:30.587891Z"
    }
   },
   "outputs": [
    {
     "name": "stderr",
     "output_type": "stream",
     "text": [
      "Using TensorFlow backend.\n",
      "/home/jschmidt/.conda/envs/windturbine-identification/lib/python3.7/site-packages/tensorflow/python/framework/dtypes.py:526: FutureWarning: Passing (type, 1) or '1type' as a synonym of type is deprecated; in a future version of numpy, it will be understood as (type, (1,)) / '(1,)type'.\n",
      "  _np_qint8 = np.dtype([(\"qint8\", np.int8, 1)])\n",
      "/home/jschmidt/.conda/envs/windturbine-identification/lib/python3.7/site-packages/tensorflow/python/framework/dtypes.py:527: FutureWarning: Passing (type, 1) or '1type' as a synonym of type is deprecated; in a future version of numpy, it will be understood as (type, (1,)) / '(1,)type'.\n",
      "  _np_quint8 = np.dtype([(\"quint8\", np.uint8, 1)])\n",
      "/home/jschmidt/.conda/envs/windturbine-identification/lib/python3.7/site-packages/tensorflow/python/framework/dtypes.py:528: FutureWarning: Passing (type, 1) or '1type' as a synonym of type is deprecated; in a future version of numpy, it will be understood as (type, (1,)) / '(1,)type'.\n",
      "  _np_qint16 = np.dtype([(\"qint16\", np.int16, 1)])\n",
      "/home/jschmidt/.conda/envs/windturbine-identification/lib/python3.7/site-packages/tensorflow/python/framework/dtypes.py:529: FutureWarning: Passing (type, 1) or '1type' as a synonym of type is deprecated; in a future version of numpy, it will be understood as (type, (1,)) / '(1,)type'.\n",
      "  _np_quint16 = np.dtype([(\"quint16\", np.uint16, 1)])\n",
      "/home/jschmidt/.conda/envs/windturbine-identification/lib/python3.7/site-packages/tensorflow/python/framework/dtypes.py:530: FutureWarning: Passing (type, 1) or '1type' as a synonym of type is deprecated; in a future version of numpy, it will be understood as (type, (1,)) / '(1,)type'.\n",
      "  _np_qint32 = np.dtype([(\"qint32\", np.int32, 1)])\n",
      "/home/jschmidt/.conda/envs/windturbine-identification/lib/python3.7/site-packages/tensorflow/python/framework/dtypes.py:535: FutureWarning: Passing (type, 1) or '1type' as a synonym of type is deprecated; in a future version of numpy, it will be understood as (type, (1,)) / '(1,)type'.\n",
      "  np_resource = np.dtype([(\"resource\", np.ubyte, 1)])\n"
     ]
    }
   ],
   "source": [
    "# -*- coding: utf-8 -*-\n",
    "\"\"\"\n",
    "Created on Mon Feb 18 13:04:17 2019\n",
    "\n",
    "@author: jschmidt\n",
    "\"\"\"\n",
    "from keras import layers\n",
    "from keras import models\n",
    "from keras import optimizers\n",
    "from keras.preprocessing.image import ImageDataGenerator\n",
    "from keras.callbacks import ModelCheckpoint\n",
    "import pandas as pd\n",
    "import numpy as np\n",
    "\n",
    "import pickle  # pip install dill --user\n",
    "import matplotlib.pyplot as plt\n",
    "from keras.applications import VGG16\n",
    "import tensorflow as tf\n",
    "#import tensorflow.tfp as tfp\n",
    "\n",
    "import imp\n",
    "import scripts.windturbines.functions_pattern_recognition as fpr\n",
    "imp.reload(fpr)\n",
    "\n",
    "gpu_fraction = 0.8\n",
    "gpu_options = tf.GPUOptions(per_process_gpu_memory_fraction=gpu_fraction)\n",
    "sess = tf.Session(config=tf.ConfigProto(gpu_options=gpu_options))\n",
    "\n",
    "import keras.backend as K\n",
    "\n",
    "def mean_pred(y_true, y_pred):\n",
    "    return K.mean(y_pred)\n",
    "\n",
    "def mean_true(y_true, y_pred):\n",
    "    return K.mean(y_true)\n",
    "\n",
    "def c_metric(y_true, y_pred):\n",
    "    x = y_true\n",
    "    y = y_pred\n",
    "    diff_x = x - K.mean(x)\n",
    "    diff_y = y - K.mean(y)\n",
    "    sum_diffs = K.sum(diff_x * diff_y)\n",
    "    low = K.sqrt(K.sum(diff_x * diff_x)) * K.sqrt(K.sum(diff_y * diff_y))\n",
    "    metric = sum_diffs / low\n",
    "    return metric\n",
    "\n",
    "def c_length(y_true, y_pred):\n",
    "    length = tf.to_float(tf.size(y_true))\n",
    "    return length\n"
   ]
  },
  {
   "cell_type": "markdown",
   "metadata": {},
   "source": [
    "# Training Phase"
   ]
  },
  {
   "cell_type": "code",
   "execution_count": 18,
   "metadata": {
    "ExecuteTime": {
     "end_time": "2019-10-03T15:54:35.904895Z",
     "start_time": "2019-10-03T15:54:35.774514Z"
    }
   },
   "outputs": [],
   "source": [
    "COUNTRY = \"US\"\n",
    "\n",
    "train_dir = fpr.get_param(COUNTRY,\"PATH_ML_IMAGES_TYPE_REGRESSION_TRAIN\")\n",
    "test_dir = fpr.get_param(COUNTRY,\"PATH_ML_IMAGES_TYPE_REGRESSION_TEST\")\n",
    "\n",
    "# Part II: Pretrained model\n",
    "\n",
    "\n",
    "#conv_base = VGG16(weights='imagenet',\n",
    "#                  include_top=False,\n",
    "#                  input_shape=(256, 256, 3))\n",
    "\n",
    "model = models.Sequential()\n",
    "model.add(layers.Conv2D(32, (3, 3), activation='relu',\n",
    "                        input_shape=(256, 256, 3)))\n",
    "model.add(layers.MaxPooling2D((2, 2)))\n",
    "model.add(layers.Conv2D(32, (3, 3), activation='relu'))\n",
    "model.add(layers.MaxPooling2D((2, 2)))\n",
    "model.add(layers.Conv2D(64, (3, 3), activation='relu'))\n",
    "model.add(layers.MaxPooling2D((2, 2)))\n",
    "model.add(layers.Conv2D(64, (3, 3), activation='relu'))\n",
    "model.add(layers.MaxPooling2D((2, 2)))\n",
    "model.add(layers.Flatten())\n",
    "model.add(layers.Dropout(0.5))\n",
    "model.add(layers.Dense(256, activation='relu'))\n",
    "model.add(layers.Dense(256, activation='relu'))\n",
    "model.add(layers.Dense(2, activation='softmax'))\n",
    "\n",
    "#set_trainable = False\n",
    "#for layer in conv_base.layers:\n",
    "#    if layer.name == 'block4_conv1':\n",
    "#        set_trainable = True\n",
    "#    if set_trainable:\n",
    "#        layer.trainable = True\n",
    "#    else:\n",
    "#        layer.trainable = False\n",
    "        \n",
    "        \n",
    "        \n",
    "pd_train = pd.read_csv(train_dir + \"list.csv\")\n",
    "pd_test = pd.read_csv(test_dir + \"list.csv\")\n"
   ]
  },
  {
   "cell_type": "code",
   "execution_count": 27,
   "metadata": {
    "ExecuteTime": {
     "end_time": "2019-10-03T16:52:17.631721Z",
     "start_time": "2019-10-03T16:52:16.599805Z"
    }
   },
   "outputs": [
    {
     "name": "stderr",
     "output_type": "stream",
     "text": [
      "/home/jschmidt/.conda/envs/windturbine-identification/lib/python3.7/site-packages/ipykernel_launcher.py:4: SettingWithCopyWarning: \n",
      "A value is trying to be set on a copy of a slice from a DataFrame\n",
      "\n",
      "See the caveats in the documentation: http://pandas.pydata.org/pandas-docs/stable/indexing.html#indexing-view-versus-copy\n",
      "  after removing the cwd from sys.path.\n",
      "/home/jschmidt/.conda/envs/windturbine-identification/lib/python3.7/site-packages/ipykernel_launcher.py:9: SettingWithCopyWarning: \n",
      "A value is trying to be set on a copy of a slice from a DataFrame\n",
      "\n",
      "See the caveats in the documentation: http://pandas.pydata.org/pandas-docs/stable/indexing.html#indexing-view-versus-copy\n",
      "  if __name__ == '__main__':\n"
     ]
    }
   ],
   "source": [
    "\n",
    "\n",
    "pd_train['orig'] = pd_train['t_rd']\n",
    "\n",
    "pd_train['score_class'] = \"small\"\n",
    "pd_train['score_class'][pd_train['orig'] > 50] = \"middle\"\n",
    "#pd_train['score_class'][pd_train['orig'] > 90] = \"large\"\n",
    "\n",
    "pd_test['orig'] = pd_test['t_rd']\n",
    "pd_test['score_class'] = \"small\"\n",
    "pd_test['score_class'][pd_test['orig'] > 50] = \"middle\"\n",
    "#pd_test['score_class'][pd_test['orig'] > 90] = \"large\"\n"
   ]
  },
  {
   "cell_type": "code",
   "execution_count": 28,
   "metadata": {
    "ExecuteTime": {
     "end_time": "2019-10-03T16:52:26.880644Z",
     "start_time": "2019-10-03T16:52:25.847336Z"
    }
   },
   "outputs": [
    {
     "data": {
      "text/plain": [
       "<matplotlib.axes._subplots.AxesSubplot at 0x7f06443a69e8>"
      ]
     },
     "execution_count": 28,
     "metadata": {},
     "output_type": "execute_result"
    },
    {
     "data": {
      "image/png": "[encoded data removed]",
      "text/plain": [
       "<Figure size 432x288 with 1 Axes>"
      ]
     },
     "metadata": {
      "needs_background": "light"
     },
     "output_type": "display_data"
    }
   ],
   "source": [
    "pd_train['score_class'].hist()"
   ]
  },
  {
   "cell_type": "code",
   "execution_count": 20,
   "metadata": {
    "ExecuteTime": {
     "end_time": "2019-10-03T15:54:45.422573Z",
     "start_time": "2019-10-03T15:54:45.317936Z"
    }
   },
   "outputs": [
    {
     "data": {
      "text/plain": [
       "<matplotlib.axes._subplots.AxesSubplot at 0x7f06880cae10>"
      ]
     },
     "execution_count": 20,
     "metadata": {},
     "output_type": "execute_result"
    },
    {
     "data": {
      "image/png": "[encoded data removed]",
      "text/plain": [
       "<Figure size 432x288 with 1 Axes>"
      ]
     },
     "metadata": {
      "needs_background": "light"
     },
     "output_type": "display_data"
    }
   ],
   "source": [
    "pd_train.head()\n",
    "pd_train['score_class'].hist()"
   ]
  },
  {
   "cell_type": "code",
   "execution_count": 29,
   "metadata": {
    "ExecuteTime": {
     "end_time": "2019-10-03T16:53:10.666860Z",
     "start_time": "2019-10-03T16:53:07.323618Z"
    }
   },
   "outputs": [
    {
     "name": "stdout",
     "output_type": "stream",
     "text": [
      "Found 27389 validated image filenames belonging to 2 classes.\n",
      "Found 9129 validated image filenames belonging to 2 classes.\n"
     ]
    }
   ],
   "source": [
    "train_datagen = ImageDataGenerator(rescale = 1./255, \n",
    "                                   horizontal_flip = True,\n",
    "                                   fill_mode = \"nearest\", \n",
    "                                   zoom_range = 0.2,\n",
    "                                   width_shift_range = 0.2, \n",
    "                                   height_shift_range = 0.2,\n",
    "                                   rotation_range = 30,\n",
    "                                   validation_split = 0.25) \n",
    "\n",
    "train_generator = train_datagen.flow_from_dataframe(dataframe = pd_train, \n",
    "                                                    directory = train_dir, \n",
    "                                                    x_col = \"id_s\", \n",
    "                                                    y_col = \"score_class\", \n",
    "                                                    has_ext = True, \n",
    "                                                    class_mode=\"categorical\", \n",
    "                                                    subset=\"training\",\n",
    "                                                    batch_size=20)\n",
    "\n",
    "#                                                    target_size=(img_width, img_height), \n",
    "\n",
    "\n",
    "val_generator = train_datagen.flow_from_dataframe(dataframe = pd_train, \n",
    "                                                    directory = train_dir, \n",
    "                                                    x_col = \"id_s\", \n",
    "                                                    y_col = \"score_class\", \n",
    "                                                    has_ext = True, \n",
    "                                                    class_mode=\"categorical\", \n",
    "                                                    subset=\"validation\",\n",
    "                                                    batch_size=20)\n",
    "\n",
    "#                                                    target_size=(img_width, img_height), \n",
    "\n",
    "# Note that the validation data should not be augmented!\n"
   ]
  },
  {
   "cell_type": "code",
   "execution_count": 8,
   "metadata": {
    "ExecuteTime": {
     "end_time": "2019-10-03T14:29:34.617383Z",
     "start_time": "2019-10-03T14:29:34.611414Z"
    }
   },
   "outputs": [
    {
     "name": "stdout",
     "output_type": "stream",
     "text": [
      "_________________________________________________________________\n",
      "Layer (type)                 Output Shape              Param #   \n",
      "=================================================================\n",
      "conv2d_1 (Conv2D)            (None, 254, 254, 32)      896       \n",
      "_________________________________________________________________\n",
      "max_pooling2d_1 (MaxPooling2 (None, 127, 127, 32)      0         \n",
      "_________________________________________________________________\n",
      "conv2d_2 (Conv2D)            (None, 125, 125, 32)      9248      \n",
      "_________________________________________________________________\n",
      "max_pooling2d_2 (MaxPooling2 (None, 62, 62, 32)        0         \n",
      "_________________________________________________________________\n",
      "conv2d_3 (Conv2D)            (None, 60, 60, 64)        18496     \n",
      "_________________________________________________________________\n",
      "max_pooling2d_3 (MaxPooling2 (None, 30, 30, 64)        0         \n",
      "_________________________________________________________________\n",
      "conv2d_4 (Conv2D)            (None, 28, 28, 64)        36928     \n",
      "_________________________________________________________________\n",
      "max_pooling2d_4 (MaxPooling2 (None, 14, 14, 64)        0         \n",
      "_________________________________________________________________\n",
      "flatten_1 (Flatten)          (None, 12544)             0         \n",
      "_________________________________________________________________\n",
      "dropout_1 (Dropout)          (None, 12544)             0         \n",
      "_________________________________________________________________\n",
      "dense_1 (Dense)              (None, 256)               3211520   \n",
      "_________________________________________________________________\n",
      "dense_2 (Dense)              (None, 256)               65792     \n",
      "_________________________________________________________________\n",
      "dense_3 (Dense)              (None, 3)                 771       \n",
      "=================================================================\n",
      "Total params: 3,343,651\n",
      "Trainable params: 3,343,651\n",
      "Non-trainable params: 0\n",
      "_________________________________________________________________\n"
     ]
    }
   ],
   "source": [
    "model.summary()"
   ]
  },
  {
   "cell_type": "code",
   "execution_count": 30,
   "metadata": {
    "ExecuteTime": {
     "end_time": "2019-10-03T16:53:14.209098Z",
     "start_time": "2019-10-03T16:53:13.312659Z"
    }
   },
   "outputs": [],
   "source": [
    "model.compile(loss='categorical_crossentropy',\n",
    "              optimizer=optimizers.RMSprop(lr=2e-5),\n",
    "              metrics=['acc'])\n",
    "\n",
    "mcp_save = ModelCheckpoint('models/model-regression-unfreezed-2-layer-2-layer-classification-6497-turbines-{epoch:04d}-{val_loss:.4f}.h5',\n",
    "                           save_best_only=True, monitor='val_loss', mode='min')\n",
    "\n",
    "\n"
   ]
  },
  {
   "cell_type": "code",
   "execution_count": null,
   "metadata": {
    "ExecuteTime": {
     "start_time": "2019-10-03T16:53:21.890Z"
    }
   },
   "outputs": [
    {
     "name": "stdout",
     "output_type": "stream",
     "text": [
      "Epoch 1/20\n"
     ]
    }
   ],
   "source": [
    "#tf.group(tf.global_variables_initializer(), tf.local_variables_initializer())\n",
    "\n",
    "history = model.fit_generator(\n",
    "      train_generator,\n",
    "      steps_per_epoch=50,\n",
    "      epochs=20,\n",
    "      validation_data=val_generator,\n",
    "      validation_steps=50,\n",
    "      callbacks=[mcp_save],\n",
    "      verbose=2)"
   ]
  },
  {
   "cell_type": "markdown",
   "metadata": {},
   "source": [
    "# Validation vs. Training"
   ]
  },
  {
   "cell_type": "code",
   "execution_count": null,
   "metadata": {
    "ExecuteTime": {
     "end_time": "2019-10-03T14:42:18.457169Z",
     "start_time": "2019-10-03T14:29:27.611Z"
    }
   },
   "outputs": [],
   "source": [
    "acc = history.history['c_metric']\n",
    "val_acc = history.history['val_c_metric']\n",
    "#acc = history.history['acc']\n",
    "#val_acc = history.history['val_acc']\n",
    "\n",
    "\n",
    "loss = history.history['loss']\n",
    "val_loss = history.history['val_loss']\n",
    "\n",
    "epochs = range(len(acc))\n",
    "\n",
    "plt.plot(epochs, acc, 'bo', label='Training acc')\n",
    "plt.plot(epochs, val_acc, 'b', label='Validation acc')\n",
    "plt.title('Training and validation accuracy')\n",
    "plt.legend()\n",
    "\n",
    "plt.figure()\n",
    "\n",
    "plt.plot(epochs, loss, 'bo', label='Training loss')\n",
    "plt.plot(epochs, val_loss, 'b', label='Validation loss')\n",
    "plt.title('Training and validation loss')\n",
    "plt.legend()\n",
    "\n",
    "plt.show()\n",
    "\n",
    "\n"
   ]
  },
  {
   "cell_type": "markdown",
   "metadata": {},
   "source": [
    "# Model selection"
   ]
  },
  {
   "cell_type": "code",
   "execution_count": null,
   "metadata": {
    "ExecuteTime": {
     "end_time": "2019-10-03T14:42:18.458048Z",
     "start_time": "2019-10-03T14:29:27.614Z"
    }
   },
   "outputs": [],
   "source": [
    "min_val_loss = min(val_loss)\n",
    "\n",
    "i = val_loss.index(min_val_loss) + 1\n",
    "\n",
    "best_model = \"models/model-unfreezed-2-layer-2-layer-classification-6497-turbines-\" + \"{0:0=4d}\".format(i) + \"-\" + \"{0:.4f}\".format(min_val_loss) + \".h5\"\n",
    "\n",
    "#best_model = \"models/model-unfreezed-2-layer-2-layer-classification-6497-turbines-0005-0.0339.h5\"\n",
    "\n",
    "best_model"
   ]
  },
  {
   "cell_type": "markdown",
   "metadata": {},
   "source": [
    "# Test"
   ]
  },
  {
   "cell_type": "code",
   "execution_count": null,
   "metadata": {
    "ExecuteTime": {
     "end_time": "2019-10-03T14:42:18.458761Z",
     "start_time": "2019-10-03T14:29:27.616Z"
    }
   },
   "outputs": [],
   "source": [
    "test_base_dir = fpr.get_param(COUNTRY, \"PATH_ML_IMAGES_TURBINES_TEST\")+\"../\"\n",
    "\n",
    "test_model = models.load_model(best_model)_Ö\n",
    "test_loss, test_acc = test_model.evaluate_generator(test_generator, steps=32)\n",
    "print('test acc:', test_acc)\n",
    "print('test loss:', test_loss)\n"
   ]
  }
 ],
 "metadata": {
  "kernelspec": {
   "display_name": "Python [conda env:.conda-windturbine-identification]",
   "language": "python",
   "name": "conda-env-.conda-windturbine-identification-py"
  },
  "language_info": {
   "codemirror_mode": {
    "name": "ipython",
    "version": 3
   },
   "file_extension": ".py",
   "mimetype": "text/x-python",
   "name": "python",
   "nbconvert_exporter": "python",
   "pygments_lexer": "ipython3",
   "version": "3.7.0"
  }
 },
 "nbformat": 4,
 "nbformat_minor": 2
}
