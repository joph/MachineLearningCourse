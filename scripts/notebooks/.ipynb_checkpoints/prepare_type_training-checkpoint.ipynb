{
 "cells": [
  {
   "cell_type": "code",
   "execution_count": 1,
   "metadata": {
    "ExecuteTime": {
     "end_time": "2019-10-02T13:36:31.042374Z",
     "start_time": "2019-10-02T13:36:31.038295Z"
    }
   },
   "outputs": [
    {
     "name": "stdout",
     "output_type": "stream",
     "text": [
      "/data/projects/windturbine-identification/MachineLearningCourse\n"
     ]
    }
   ],
   "source": [
    "cd /data/projects/windturbine-identification/MachineLearningCourse"
   ]
  },
  {
   "cell_type": "code",
   "execution_count": 57,
   "metadata": {
    "ExecuteTime": {
     "end_time": "2019-10-02T14:07:18.469949Z",
     "start_time": "2019-10-02T14:07:18.277898Z"
    }
   },
   "outputs": [],
   "source": [
    "\"\"\"\n",
    "Created on Mon Feb 18 20:30:48 2019\n",
    "\n",
    "@author: jschmidt\n",
    "\"\"\"\n",
    "\n",
    "import os, shutil, random\n",
    "\n",
    "import pandas as pd\n",
    "import sys\n",
    "import gdal\n",
    "import imp\n",
    "import numpy as np\n",
    "\n",
    "\n",
    "import scripts.windturbines.functions_pattern_recognition as fpr\n",
    "imp.reload(fpr)\n",
    "from scripts.windturbines.functions_pattern_recognition import get_param\n",
    "from scripts.windturbines.functions_pattern_recognition import cop_predict\n",
    "from scripts.windturbines.functions_pattern_recognition import check_image\n",
    "from scripts.windturbines.functions_pattern_recognition import read_params"
   ]
  },
  {
   "cell_type": "code",
   "execution_count": 160,
   "metadata": {
    "ExecuteTime": {
     "end_time": "2019-10-02T14:56:51.154054Z",
     "start_time": "2019-10-02T14:56:50.879995Z"
    }
   },
   "outputs": [],
   "source": [
    "COUNTRY = \"US\"\n",
    "\n",
    "categories = [\"small\", \"middle\", \"large\"]\n",
    "\n",
    "train_dir_small = get_param(COUNTRY,\"PATH_ML_IMAGES_TYPE_SMALL_TRAIN\")\n",
    "test_dir_small = get_param(COUNTRY,\"PATH_ML_IMAGES_TYPE_SMALL_TEST\")\n",
    "validation_dir_small = get_param(COUNTRY,\"PATH_ML_IMAGES_TYPE_SMALL_VALIDATION\")\n",
    "\n",
    "train_dir_middle = get_param(COUNTRY,\"PATH_ML_IMAGES_TYPE_MIDDLE_TRAIN\")\n",
    "test_dir_middle = get_param(COUNTRY,\"PATH_ML_IMAGES_TYPE_MIDDLE_TEST\")\n",
    "validation_dir_middle = get_param(COUNTRY,\"PATH_ML_IMAGES_TYPE_MIDDLE_VALIDATION\")\n",
    "\n",
    "train_dir_large = get_param(COUNTRY,\"PATH_ML_IMAGES_TYPE_LARGE_TRAIN\")\n",
    "test_dir_large = get_param(COUNTRY,\"PATH_ML_IMAGES_TYPE_LARGE_TEST\")\n",
    "validation_dir_large = get_param(COUNTRY,\"PATH_ML_IMAGES_TYPE_LARGE_VALIDATION\")\n",
    "\n",
    "train_dirs = [train_dir_small, train_dir_middle, train_dir_large]\n",
    "test_dirs = [test_dir_small, test_dir_middle, test_dir_large]\n",
    "val_dirs = [validation_dir_small, validation_dir_middle, validation_dir_large]\n",
    "\n",
    "\n",
    "#### delete directories if exist\n",
    "#### create if not exist\n",
    "\n",
    "shutil.rmtree(train_dir_small,ignore_errors=True)\n",
    "shutil.rmtree(test_dir_small,ignore_errors=True)\n",
    "shutil.rmtree(validation_dir_small,ignore_errors=True)\n",
    "\n",
    "shutil.rmtree(train_dir_middle,ignore_errors=True)\n",
    "shutil.rmtree(test_dir_middle,ignore_errors=True)\n",
    "shutil.rmtree(validation_dir_middle,ignore_errors=True)\n",
    "\n",
    "shutil.rmtree(train_dir_large,ignore_errors=True)\n",
    "shutil.rmtree(test_dir_large,ignore_errors=True)\n",
    "shutil.rmtree(validation_dir_large,ignore_errors=True)\n",
    "\n",
    "\n",
    "os.makedirs(train_dir_small)\n",
    "os.makedirs(test_dir_small)\n",
    "os.makedirs(validation_dir_small)\n",
    "\n",
    "os.makedirs(train_dir_middle)\n",
    "os.makedirs(test_dir_middle)\n",
    "os.makedirs(validation_dir_middle)\n",
    "\n",
    "os.makedirs(train_dir_large)\n",
    "os.makedirs(test_dir_large)\n",
    "os.makedirs(validation_dir_large)\n",
    "\n",
    "src_dir_tb = get_param(COUNTRY,\"PATH_RAW_IMAGES_TURBINES\")\n",
    "\n",
    "\n",
    "\n",
    "\n"
   ]
  },
  {
   "cell_type": "code",
   "execution_count": 152,
   "metadata": {
    "ExecuteTime": {
     "end_time": "2019-10-02T14:54:25.570530Z",
     "start_time": "2019-10-02T14:54:25.360054Z"
    }
   },
   "outputs": [],
   "source": [
    "turbines_us = pd.read_csv(get_param(\"US\",\"FILE_TURBINE_LOCATIONS\"))\n",
    "\n",
    "predictions_cs = get_param(\"US\",\n",
    "                            \"PATH_RAW_IMAGES_TURBINES\")\n",
    "\n",
    "turbines_pred = pd.read_feather(predictions_cs + \"all_predictions.feather\")\n",
    "\n",
    "turbines_us = turbines_us[turbines_pred['prediction'] > 0.99]"
   ]
  },
  {
   "cell_type": "code",
   "execution_count": 154,
   "metadata": {
    "ExecuteTime": {
     "end_time": "2019-10-02T14:56:25.971194Z",
     "start_time": "2019-10-02T14:56:25.968395Z"
    }
   },
   "outputs": [
    {
     "data": {
      "text/plain": [
       "(47665, 27)"
      ]
     },
     "execution_count": 154,
     "metadata": {},
     "output_type": "execute_result"
    }
   ],
   "source": [
    "turbines_us.shape"
   ]
  },
  {
   "cell_type": "code",
   "execution_count": 155,
   "metadata": {
    "ExecuteTime": {
     "end_time": "2019-10-02T14:56:28.537122Z",
     "start_time": "2019-10-02T14:56:28.527828Z"
    }
   },
   "outputs": [],
   "source": [
    "numb_of_elements = [np.sum(turbines_us['t_hh']<60),\n",
    "                   np.sum((turbines_us['t_hh']>60) & (turbines_us['t_hh']<90)),\n",
    "                   np.sum(turbines_us['t_hh']>90)]"
   ]
  },
  {
   "cell_type": "code",
   "execution_count": 156,
   "metadata": {
    "ExecuteTime": {
     "end_time": "2019-10-02T14:56:30.727744Z",
     "start_time": "2019-10-02T14:56:30.648595Z"
    }
   },
   "outputs": [],
   "source": [
    "nmb_samples = min(numb_of_elements)/numb_of_elements\n",
    "turbines_us['id'] = np.arange(len(turbines_us))\n",
    "\n"
   ]
  },
  {
   "cell_type": "code",
   "execution_count": 157,
   "metadata": {
    "ExecuteTime": {
     "end_time": "2019-10-02T14:56:36.499867Z",
     "start_time": "2019-10-02T14:56:36.496778Z"
    }
   },
   "outputs": [],
   "source": [
    "nmb_samples_all = min(numb_of_elements)"
   ]
  },
  {
   "cell_type": "code",
   "execution_count": 158,
   "metadata": {
    "ExecuteTime": {
     "end_time": "2019-10-02T14:56:37.955562Z",
     "start_time": "2019-10-02T14:56:37.935497Z"
    }
   },
   "outputs": [],
   "source": [
    "turbines_us_small = turbines_us[turbines_us['t_hh'] < 60].sample(frac = nmb_samples[0])\n",
    "turbines_us_middle = turbines_us[(turbines_us['t_hh']>60) & (turbines_us['t_hh']<90)].sample(frac = nmb_samples[1])\n",
    "turbines_us_large = turbines_us[turbines_us['t_hh']>90].sample(frac = nmb_samples[2])\n",
    "\n",
    "share_train=round(0.7*nmb_samples_all)\n",
    "share_validate=round(0.85*nmb_samples_all)\n",
    "\n",
    "turbines = [turbines_us_small, turbines_us_middle, turbines_us_large]\n"
   ]
  },
  {
   "cell_type": "code",
   "execution_count": 159,
   "metadata": {
    "ExecuteTime": {
     "end_time": "2019-10-02T14:56:43.435522Z",
     "start_time": "2019-10-02T14:56:43.432113Z"
    }
   },
   "outputs": [
    {
     "data": {
      "text/plain": [
       "2399"
      ]
     },
     "execution_count": 159,
     "metadata": {},
     "output_type": "execute_result"
    }
   ],
   "source": [
    "nmb_samples_all"
   ]
  },
  {
   "cell_type": "code",
   "execution_count": 162,
   "metadata": {
    "ExecuteTime": {
     "end_time": "2019-10-02T14:57:08.844183Z",
     "start_time": "2019-10-02T14:57:08.831553Z"
    }
   },
   "outputs": [
    {
     "ename": "NameError",
     "evalue": "name 'categoryies' is not defined",
     "output_type": "error",
     "traceback": [
      "\u001b[0;31m---------------------------------------------------------------------------\u001b[0m",
      "\u001b[0;31mNameError\u001b[0m                                 Traceback (most recent call last)",
      "\u001b[0;32m<ipython-input-162-88d0ca9c4dae>\u001b[0m in \u001b[0;36m<module>\u001b[0;34m\u001b[0m\n\u001b[1;32m      3\u001b[0m     \u001b[0mcnt\u001b[0m \u001b[0;34m=\u001b[0m \u001b[0;36m0\u001b[0m\u001b[0;34m\u001b[0m\u001b[0m\n\u001b[1;32m      4\u001b[0m \u001b[0;34m\u001b[0m\u001b[0m\n\u001b[0;32m----> 5\u001b[0;31m     \u001b[0mprint\u001b[0m\u001b[0;34m(\u001b[0m\u001b[0mcategoryies\u001b[0m\u001b[0;34m[\u001b[0m\u001b[0mi\u001b[0m\u001b[0;34m]\u001b[0m\u001b[0;34m)\u001b[0m\u001b[0;34m\u001b[0m\u001b[0m\n\u001b[0m\u001b[1;32m      6\u001b[0m \u001b[0;34m\u001b[0m\u001b[0m\n\u001b[1;32m      7\u001b[0m     \u001b[0;32mfor\u001b[0m \u001b[0mj\u001b[0m \u001b[0;32min\u001b[0m \u001b[0mrange\u001b[0m\u001b[0;34m(\u001b[0m\u001b[0;36m0\u001b[0m\u001b[0;34m,\u001b[0m \u001b[0mnmb_samples_all\u001b[0m\u001b[0;34m)\u001b[0m\u001b[0;34m:\u001b[0m\u001b[0;34m\u001b[0m\u001b[0m\n",
      "\u001b[0;31mNameError\u001b[0m: name 'categoryies' is not defined"
     ]
    }
   ],
   "source": [
    "for i in range(0,3):\n",
    "    \n",
    "    cnt = 0\n",
    "    \n",
    "    print(categories[i])\n",
    "    \n",
    "    for j in range(0, nmb_samples_all):\n",
    "        cnt += 1\n",
    "        \n",
    "        \n",
    "        #print(file)\n",
    "        file_s = str(turbines[i].iloc[[j]]['id'].values[0] + 1) + '.tif'\n",
    "        file_d = str(turbines[i].iloc[[j]]['id'].values[0] + 1) + '.png'\n",
    "        \n",
    "        #print(file)\n",
    "        \n",
    "        src = os.path.join(src_dir_tb, file_s)\n",
    "        \n",
    "        \n",
    "        \n",
    "        if(cnt % 1000 == 0):\n",
    "            print(cnt)\n",
    "            print(src)\n",
    "            \n",
    "        #print(src)\n",
    "        \n",
    "        \n",
    "        \n",
    "        if(os.path.isfile(src)):\n",
    "            \n",
    "            dst = \"\"\n",
    "        \n",
    "            if(cnt < share_train):\n",
    "           \n",
    "                dst = os.path.join(train_dirs[i], file_d)\n",
    "            \n",
    "            if(cnt>share_train and cnt<share_validate):\n",
    "           \n",
    "                dst = os.path.join(val_dirs[i], file_d)\n",
    "            \n",
    "            if(cnt>share_validate):\n",
    "        \n",
    "                dst = os.path.join(test_dirs[i],file_d)\n",
    "            \n",
    "            #print(src + \" \" + dst)\n",
    "            \n",
    "            fpr.copyfile_to_png(src, dst)\n",
    "            \n",
    "    #### copy no-turbine images"
   ]
  },
  {
   "cell_type": "code",
   "execution_count": 91,
   "metadata": {
    "ExecuteTime": {
     "end_time": "2019-10-02T14:13:09.954193Z",
     "start_time": "2019-10-02T14:13:09.948971Z"
    }
   },
   "outputs": [
    {
     "name": "stdout",
     "output_type": "stream",
     "text": [
      "total training turbine images small 0\n",
      "total testing turbine images small 0\n",
      "total validation turbine images small 0\n",
      "total training turbine images middle 0\n",
      "total testing turbine images middle 0\n",
      "total validation turbine images middle 0\n",
      "total training turbine images large 0\n",
      "total testing turbine images large 0\n",
      "total validation turbine images large 0\n"
     ]
    }
   ],
   "source": [
    "for i in range(0,3):\n",
    "    \n",
    "    print('total training turbine images ' + categories[i], len(os.listdir(train_dirs[i])))\n",
    "    print('total testing turbine images ' + categories[i], len(os.listdir(test_dirs[i])))\n",
    "    print('total validation turbine images ' + categories[i], len(os.listdir(val_dirs[i])))\n"
   ]
  },
  {
   "cell_type": "code",
   "execution_count": 11,
   "metadata": {},
   "outputs": [
    {
     "data": {
      "text/plain": [
       "16502"
      ]
     },
     "execution_count": 11,
     "metadata": {},
     "output_type": "execute_result"
    }
   ],
   "source": [
    "\n"
   ]
  }
 ],
 "metadata": {
  "kernelspec": {
   "display_name": "Python [conda env:.conda-windturbine-identification]",
   "language": "python",
   "name": "conda-env-.conda-windturbine-identification-py"
  },
  "language_info": {
   "codemirror_mode": {
    "name": "ipython",
    "version": 3
   },
   "file_extension": ".py",
   "mimetype": "text/x-python",
   "name": "python",
   "nbconvert_exporter": "python",
   "pygments_lexer": "ipython3",
   "version": "3.7.0"
  }
 },
 "nbformat": 4,
 "nbformat_minor": 2
}
