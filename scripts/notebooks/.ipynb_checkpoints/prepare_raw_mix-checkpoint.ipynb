{
 "cells": [
  {
   "cell_type": "code",
   "execution_count": 42,
   "metadata": {},
   "outputs": [
    {
     "name": "stdout",
     "output_type": "stream",
     "text": [
      "/data/projects/windturbine-identification/MachineLearningCourse\n"
     ]
    }
   ],
   "source": [
    "cd /data/projects/windturbine-identification/MachineLearningCourse"
   ]
  },
  {
   "cell_type": "code",
   "execution_count": 44,
   "metadata": {},
   "outputs": [],
   "source": [
    "import os, shutil, random, glob\n",
    "\n",
    "import pandas as pd\n",
    "import sys\n",
    "import gdal\n",
    "import imp\n",
    "\n",
    "from shutil import copyfile\n",
    "\n",
    "import scripts.windturbines.functions_pattern_recognition as fpr\n",
    "imp.reload(fpr)\n",
    "from scripts.windturbines.functions_pattern_recognition import get_param\n",
    "from scripts.windturbines.functions_pattern_recognition import cop_predict\n",
    "from scripts.windturbines.functions_pattern_recognition import check_image\n",
    "from scripts.windturbines.functions_pattern_recognition import read_params\n"
   ]
  },
  {
   "cell_type": "code",
   "execution_count": 48,
   "metadata": {},
   "outputs": [],
   "source": [
    "COUNTRIES = ['AT', 'BR', 'CN', 'FR']\n",
    "\n",
    "#BR, FR, CN\n",
    "\n",
    "tgt_dir_tb = get_param(\"MIX\",\"PATH_RAW_IMAGES_TURBINES\")\n",
    "tgt_dir_notb = get_param(\"MIX\",\"PATH_RAW_IMAGES_NOTURBINES\")\n",
    "\n",
    "shutil.rmtree(tgt_dir_tb,ignore_errors=True)\n",
    "shutil.rmtree(tgt_dir_notb,ignore_errors=True)\n",
    "\n",
    "os.makedirs(tgt_dir_tb)\n",
    "os.makedirs(tgt_dir_notb)\n",
    "\n",
    "\n",
    "quality_check_list=[]\n",
    "\n",
    "# COUNTRIES = ['AT']"
   ]
  },
  {
   "cell_type": "code",
   "execution_count": 49,
   "metadata": {},
   "outputs": [
    {
     "name": "stdout",
     "output_type": "stream",
     "text": [
      "=================== AT ======================\n",
      "files turbine: 871\n",
      "files no turbine tif: 1122\n",
      "files no turbine png: 0\n",
      "=================== BR ======================\n",
      "files turbine: 1230\n",
      "files no turbine tif: 9859\n",
      "files no turbine png: 0\n",
      "=================== CN ======================\n",
      "files turbine: 3534\n",
      "files no turbine tif: 0\n",
      "files no turbine png: 3268\n",
      "=================== FR ======================\n",
      "files turbine: 78\n",
      "files no turbine tif: 0\n",
      "files no turbine png: 390\n"
     ]
    }
   ],
   "source": [
    "for COUNTRY in COUNTRIES:\n",
    "    \n",
    "    print(\"=================== \"+COUNTRY+\" ======================\")\n",
    "    src_dir_tb = get_param(COUNTRY,\"PATH_RAW_IMAGES_TURBINES_MACHINE_CLASSIFIED\")\n",
    "    src_dir_notb = get_param(COUNTRY,\"PATH_RAW_IMAGES_NOTURBINES\")\n",
    "    src_dir_notb_png = get_param(COUNTRY,\"PATH_RAW_IMAGES_NOTURBINES_MACHINE_CLASSIFIED\")\n",
    "\n",
    "   \n",
    "\n",
    "    files_tb = [x for x in os.listdir(src_dir_tb) if x.endswith(\".png\")]\n",
    "    files_notb = [x for x in os.listdir(src_dir_notb) if x.endswith(\".tif\")]\n",
    "    files_notb_png = [x for x in os.listdir(src_dir_notb_png) if x.endswith(\".png\")]\n",
    "    \n",
    "    print(\"files turbine: \" + str(len(files_tb)))\n",
    "    print(\"files no turbine tif: \" + str(len(files_notb)))\n",
    "    print(\"files no turbine png: \" + str(len(files_notb_png)))\n",
    "    \n",
    "    \n",
    "    \n",
    "    for i in range(len(files_tb)):\n",
    "        \n",
    "        #if i % 20 == 0:\n",
    "        #    print(\"Current file: \"+str(i))\n",
    "        \n",
    "        try:\n",
    "        \n",
    "            f_tb = files_tb[i]\n",
    "            file_name_tb = f_tb[0:-4]+\"_\"+COUNTRY+f_tb[-4:len(f_tb)]\n",
    "            copyfile(src_dir_tb+f_tb, tgt_dir_tb+file_name_tb)\n",
    "            \n",
    "        except:\n",
    "            print(\"copy error\")\n",
    "            print(src_dir_tb+f_tb)\n",
    "            print(tgt_dir_tb+file_name_tb)\n",
    "        quality_check_list.append([file_name_tb,100])    \n",
    "        \n",
    "    for i in range(len(files_notb)):\n",
    "        \n",
    "        #if i % 20 == 0:\n",
    "        #    print(\"Current file: \"+str(i))\n",
    "        \n",
    "        try:\n",
    "            #print(tgt_dir_notb + f_notb[0:-4] + \"_\" + COUNTRY + \".png\")\n",
    "            f_notb = files_notb[i]\n",
    "            src = src_dir_notb + f_notb\n",
    "            tgt = tgt_dir_notb + f_notb[0:-4] + \"_\" + COUNTRY + \".png\"\n",
    "            fpr.copyfile_to_png(src, tgt)\n",
    "            \n",
    "        \n",
    "        except Exception as e:\n",
    "            print(e)\n",
    "            print(\"copy error\")\n",
    "            print(src_dir_notb+files_notb[i])\n",
    "            print(tgt_dir_notb+files_notb[i][0:-4]+\"_\"+COUNTRY+\".png\")\n",
    "      \n",
    "    \n",
    "    for i in range(len(files_notb_png)):\n",
    "        \n",
    "        #if i % 20 == 0:\n",
    "        #    print(\"Current file: \"+str(i))\n",
    "        \n",
    "        try:\n",
    "        \n",
    "            f_notb_png = files_notb_png[i]\n",
    "            file_name_notb_png = f_notb_png[0:-4] + \"_\" + COUNTRY + f_notb_png[-4:len(f_notb_png)]\n",
    "            copyfile(src_dir_notb_png + f_notb_png, tgt_dir_notb + file_name_notb_png)\n",
    "            \n",
    "        except Exception as e:\n",
    "            print(e)\n",
    "            print(\"copy error\")\n",
    "            print(src_dir_notb_png + files_notb_png[i])\n",
    "            print(tgt_dir_notb + f_notb_png[0:-4] + \"_\" + COUNTRY + f_notb_png[-4:len(f_tb)])\n",
    "            \n",
    "            \n",
    "\n",
    "    dir = tgt_dir_notb\n",
    "\n",
    "    for xmlpath in glob.iglob(os.path.join(dir, '*.xml')):\n",
    "        os.remove(xmlpath)\n",
    "    \n",
    "        \n",
    "        \n",
    "            \n",
    "    \n",
    "    \n",
    "quality_check = pd.DataFrame(quality_check_list,columns=['id','quality'])\n",
    " \n",
    "\n",
    "    "
   ]
  },
  {
   "cell_type": "code",
   "execution_count": 7,
   "metadata": {},
   "outputs": [
    {
     "data": {
      "text/plain": [
       "(5713, 2)"
      ]
     },
     "execution_count": 7,
     "metadata": {},
     "output_type": "execute_result"
    }
   ],
   "source": [
    "outp_file = get_param(\"MIX\",\"FILE_QUALITY_CHECK\")\n",
    "\n",
    "f = open(outp_file, 'w')\n",
    "\n",
    "f.write(quality_check.to_csv().encode('utf-8', 'replace').decode('utf-8'))\n",
    "\n",
    "quality_check.shape\n",
    "\n"
   ]
  }
 ],
 "metadata": {
  "kernelspec": {
   "display_name": "Python 3",
   "language": "python",
   "name": "python3"
  },
  "language_info": {
   "codemirror_mode": {
    "name": "ipython",
    "version": 3
   },
   "file_extension": ".py",
   "mimetype": "text/x-python",
   "name": "python",
   "nbconvert_exporter": "python",
   "pygments_lexer": "ipython3",
   "version": "3.7.0"
  }
 },
 "nbformat": 4,
 "nbformat_minor": 2
}
