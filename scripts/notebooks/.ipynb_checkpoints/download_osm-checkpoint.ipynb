{
 "cells": [
  {
   "cell_type": "code",
   "execution_count": 1,
   "metadata": {},
   "outputs": [
    {
     "name": "stdout",
     "output_type": "stream",
     "text": [
      "/data/projects/windturbine-identification/MachineLearningCourse\n"
     ]
    }
   ],
   "source": [
    "cd /data/projects/windturbine-identification/MachineLearningCourse"
   ]
  },
  {
   "cell_type": "code",
   "execution_count": 2,
   "metadata": {},
   "outputs": [],
   "source": [
    "from scripts.windturbines.osm_download import getfeatures, get_param\n",
    "\n",
    "import time"
   ]
  },
  {
   "cell_type": "code",
   "execution_count": null,
   "metadata": {},
   "outputs": [
    {
     "name": "stdout",
     "output_type": "stream",
     "text": [
      "Starting download...\n",
      "waiting for 3 seconds\n",
      "waiting for 2 seconds\n",
      "\tnodes: 12, ways: 386, relations: 8\n",
      "waiting for 13 seconds\n"
     ]
    }
   ],
   "source": [
    "countries = ['IN', 'ES', 'GB', 'FR', 'BR', 'CA']\n",
    "\n",
    "for country in countries:\n",
    "    \n",
    "    print(\"Working on country: \" + country)\n",
    "    \n",
    "    st = time.time()\n",
    "    nodes, ways, rels = getfeatures(country, \"power\", \"plant\")\n",
    "    features = nodes + ways + rels\n",
    "    et = time.time()\n",
    "\n",
    "    print('waiting for {:.0f} seconds'.format(et - st))\n",
    "    time.sleep(et - st)\n",
    "\n",
    "    print('fetching generators')\n",
    "    nodes, ways, rels = getfeatures(country, \"power\", \"generator\")\n",
    "    features = features + nodes + ways + rels\n",
    "\n",
    "    PATH_OSM = get_param(country,\"PATH_OSM\")\n",
    "\n",
    "    writeshape(features, PATH_OSM)\n",
    "\n"
   ]
  },
  {
   "cell_type": "code",
   "execution_count": null,
   "metadata": {},
   "outputs": [],
   "source": []
  }
 ],
 "metadata": {
  "kernelspec": {
   "display_name": "Python [conda env:.conda-osm-download]",
   "language": "python",
   "name": "conda-env-.conda-osm-download-py"
  },
  "language_info": {
   "codemirror_mode": {
    "name": "ipython",
    "version": 3
   },
   "file_extension": ".py",
   "mimetype": "text/x-python",
   "name": "python",
   "nbconvert_exporter": "python",
   "pygments_lexer": "ipython3",
   "version": "3.7.3"
  }
 },
 "nbformat": 4,
 "nbformat_minor": 2
}
