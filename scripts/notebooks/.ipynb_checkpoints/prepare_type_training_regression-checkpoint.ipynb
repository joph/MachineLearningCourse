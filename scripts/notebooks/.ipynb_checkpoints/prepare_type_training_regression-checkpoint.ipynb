{
 "cells": [
  {
   "cell_type": "code",
   "execution_count": 1,
   "metadata": {
    "ExecuteTime": {
     "end_time": "2019-10-02T13:36:31.042374Z",
     "start_time": "2019-10-02T13:36:31.038295Z"
    }
   },
   "outputs": [
    {
     "name": "stdout",
     "output_type": "stream",
     "text": [
      "/data/projects/windturbine-identification/MachineLearningCourse\n"
     ]
    }
   ],
   "source": [
    "cd /data/projects/windturbine-identification/MachineLearningCourse"
   ]
  },
  {
   "cell_type": "code",
   "execution_count": 206,
   "metadata": {
    "ExecuteTime": {
     "end_time": "2019-10-02T18:22:57.471348Z",
     "start_time": "2019-10-02T18:22:57.248243Z"
    }
   },
   "outputs": [],
   "source": [
    "\"\"\"\n",
    "Created on Mon Feb 18 20:30:48 2019\n",
    "\n",
    "@author: jschmidt\n",
    "\"\"\"\n",
    "\n",
    "import os, shutil, random\n",
    "\n",
    "import pandas as pd\n",
    "import sys\n",
    "import gdal\n",
    "import imp\n",
    "import numpy as np\n",
    "\n",
    "\n",
    "import scripts.windturbines.functions_pattern_recognition as fpr\n",
    "imp.reload(fpr)\n",
    "from scripts.windturbines.functions_pattern_recognition import get_param\n",
    "from scripts.windturbines.functions_pattern_recognition import cop_predict\n",
    "from scripts.windturbines.functions_pattern_recognition import check_image\n",
    "from scripts.windturbines.functions_pattern_recognition import read_params"
   ]
  },
  {
   "cell_type": "code",
   "execution_count": 207,
   "metadata": {
    "ExecuteTime": {
     "end_time": "2019-10-02T18:22:59.765924Z",
     "start_time": "2019-10-02T18:22:59.758499Z"
    }
   },
   "outputs": [],
   "source": [
    "COUNTRY = \"US\"\n",
    "\n",
    "train_dir = get_param(COUNTRY,\"PATH_ML_IMAGES_TYPE_REGRESSION_TRAIN\")\n",
    "test_dir = get_param(COUNTRY,\"PATH_ML_IMAGES_TYPE_REGRESSION_TEST\")\n",
    "validation_dir = get_param(COUNTRY,\"PATH_ML_IMAGES_TYPE_REGRESSION_VALIDATION\")\n",
    "\n",
    "\n",
    "#### delete directories if exist\n",
    "#### create if not exist\n",
    "\n",
    "shutil.rmtree(train_dir,ignore_errors=True)\n",
    "shutil.rmtree(test_dir,ignore_errors=True)\n",
    "shutil.rmtree(validation_dir,ignore_errors=True)\n",
    "\n",
    "os.makedirs(train_dir)\n",
    "os.makedirs(test_dir)\n",
    "os.makedirs(validation_dir)\n",
    "\n",
    "src_dir_tb = get_param(COUNTRY,\"PATH_RAW_IMAGES_TURBINES\")\n"
   ]
  },
  {
   "cell_type": "code",
   "execution_count": 208,
   "metadata": {
    "ExecuteTime": {
     "end_time": "2019-10-02T18:23:02.411689Z",
     "start_time": "2019-10-02T18:23:02.196675Z"
    }
   },
   "outputs": [],
   "source": [
    "turbines_us = pd.read_csv(get_param(\"US\",\"FILE_TURBINE_LOCATIONS\"))\n",
    "\n",
    "predictions_cs = get_param(\"US\",\n",
    "                            \"PATH_RAW_IMAGES_TURBINES\")\n",
    "\n",
    "turbines_pred = pd.read_feather(predictions_cs + \"all_predictions.feather\")\n",
    "\n",
    "turbines_us = turbines_us[turbines_pred['prediction'] > 0.99]"
   ]
  },
  {
   "cell_type": "code",
   "execution_count": 209,
   "metadata": {
    "ExecuteTime": {
     "end_time": "2019-10-02T18:23:05.096536Z",
     "start_time": "2019-10-02T18:23:05.007758Z"
    }
   },
   "outputs": [],
   "source": [
    "turbines_us['id'] = np.arange(1, turbines_us.shape[0] + 1)"
   ]
  },
  {
   "cell_type": "code",
   "execution_count": 210,
   "metadata": {
    "ExecuteTime": {
     "end_time": "2019-10-02T18:23:07.361812Z",
     "start_time": "2019-10-02T18:23:07.345869Z"
    }
   },
   "outputs": [
    {
     "data": {
      "text/plain": [
       "(47665, 28)"
      ]
     },
     "execution_count": 210,
     "metadata": {},
     "output_type": "execute_result"
    }
   ],
   "source": [
    "nmb_samples_all = turbines_us.shape[0]\n",
    "\n",
    "turbines_us = turbines_us[turbines_us['id'] <= nmb_samples_all]\n",
    "turbines_us.shape"
   ]
  },
  {
   "cell_type": "code",
   "execution_count": 214,
   "metadata": {
    "ExecuteTime": {
     "end_time": "2019-10-02T18:32:47.941642Z",
     "start_time": "2019-10-02T18:32:47.932115Z"
    }
   },
   "outputs": [
    {
     "ename": "NameError",
     "evalue": "name 'turbines_s' is not defined",
     "output_type": "error",
     "traceback": [
      "\u001b[0;31m---------------------------------------------------------------------------\u001b[0m",
      "\u001b[0;31mNameError\u001b[0m                                 Traceback (most recent call last)",
      "\u001b[0;32m<ipython-input-214-acdb14aaa75d>\u001b[0m in \u001b[0;36m<module>\u001b[0;34m\u001b[0m\n\u001b[1;32m      2\u001b[0m \u001b[0mshare_validate\u001b[0m \u001b[0;34m=\u001b[0m \u001b[0mnmb_samples_all\u001b[0m \u001b[0;34m*\u001b[0m \u001b[0;36m0.8\u001b[0m\u001b[0;34m\u001b[0m\u001b[0m\n\u001b[1;32m      3\u001b[0m \u001b[0;34m\u001b[0m\u001b[0m\n\u001b[0;32m----> 4\u001b[0;31m \u001b[0mpd_out\u001b[0m \u001b[0;34m=\u001b[0m \u001b[0mturbines_s\u001b[0m\u001b[0;34m[\u001b[0m\u001b[0;34m'id'\u001b[0m\u001b[0;34m]\u001b[0m\u001b[0;34m.\u001b[0m\u001b[0mmap\u001b[0m\u001b[0;34m(\u001b[0m\u001b[0mstr\u001b[0m\u001b[0;34m)\u001b[0m \u001b[0;34m+\u001b[0m \u001b[0;34m'.png'\u001b[0m\u001b[0;34m\u001b[0m\u001b[0m\n\u001b[0m\u001b[1;32m      5\u001b[0m \u001b[0;34m\u001b[0m\u001b[0m\n\u001b[1;32m      6\u001b[0m \u001b[0;34m\u001b[0m\u001b[0m\n",
      "\u001b[0;31mNameError\u001b[0m: name 'turbines_s' is not defined"
     ]
    }
   ],
   "source": [
    "share_train = nmb_samples_all * 0.8\n"
   ]
  },
  {
   "cell_type": "code",
   "execution_count": null,
   "metadata": {
    "ExecuteTime": {
     "start_time": "2019-10-02T18:34:37.927Z"
    }
   },
   "outputs": [
    {
     "name": "stdout",
     "output_type": "stream",
     "text": [
      "1000\n",
      "data/aerialImages/GOOGLE/RESOLUTION19/US/raw/Turbines/1001.tif\n",
      "2000\n",
      "data/aerialImages/GOOGLE/RESOLUTION19/US/raw/Turbines/2001.tif\n",
      "3000\n",
      "data/aerialImages/GOOGLE/RESOLUTION19/US/raw/Turbines/3001.tif\n",
      "4000\n",
      "data/aerialImages/GOOGLE/RESOLUTION19/US/raw/Turbines/4001.tif\n",
      "5000\n",
      "data/aerialImages/GOOGLE/RESOLUTION19/US/raw/Turbines/5001.tif\n",
      "6000\n",
      "data/aerialImages/GOOGLE/RESOLUTION19/US/raw/Turbines/6001.tif\n",
      "7000\n",
      "data/aerialImages/GOOGLE/RESOLUTION19/US/raw/Turbines/7001.tif\n",
      "8000\n",
      "data/aerialImages/GOOGLE/RESOLUTION19/US/raw/Turbines/8001.tif\n",
      "9000\n",
      "data/aerialImages/GOOGLE/RESOLUTION19/US/raw/Turbines/9001.tif\n",
      "10000\n",
      "data/aerialImages/GOOGLE/RESOLUTION19/US/raw/Turbines/10001.tif\n",
      "11000\n",
      "data/aerialImages/GOOGLE/RESOLUTION19/US/raw/Turbines/11001.tif\n",
      "12000\n",
      "data/aerialImages/GOOGLE/RESOLUTION19/US/raw/Turbines/12001.tif\n",
      "13000\n",
      "data/aerialImages/GOOGLE/RESOLUTION19/US/raw/Turbines/13001.tif\n",
      "14000\n",
      "data/aerialImages/GOOGLE/RESOLUTION19/US/raw/Turbines/14001.tif\n",
      "15000\n",
      "data/aerialImages/GOOGLE/RESOLUTION19/US/raw/Turbines/15001.tif\n",
      "16000\n",
      "data/aerialImages/GOOGLE/RESOLUTION19/US/raw/Turbines/16001.tif\n",
      "17000\n",
      "data/aerialImages/GOOGLE/RESOLUTION19/US/raw/Turbines/17001.tif\n",
      "18000\n",
      "data/aerialImages/GOOGLE/RESOLUTION19/US/raw/Turbines/18001.tif\n",
      "19000\n",
      "data/aerialImages/GOOGLE/RESOLUTION19/US/raw/Turbines/19001.tif\n",
      "20000\n",
      "data/aerialImages/GOOGLE/RESOLUTION19/US/raw/Turbines/20001.tif\n",
      "21000\n",
      "data/aerialImages/GOOGLE/RESOLUTION19/US/raw/Turbines/21001.tif\n"
     ]
    }
   ],
   "source": [
    "cnt = 0\n",
    "for i in range(0, nmb_samples_all):\n",
    "    cnt += 1\n",
    "        \n",
    "        \n",
    "    #print(file)\n",
    "    file_s = str(turbines_us.iloc[[i]]['id'].values[0] + 1) + '.tif'\n",
    "    file_d = str(turbines_us.iloc[[i]]['id'].values[0] + 1) + '.png'\n",
    "        \n",
    "    #print(file)\n",
    "        \n",
    "    src = os.path.join(src_dir_tb, file_s)\n",
    "        \n",
    "    if(cnt % 1000 == 0):\n",
    "        print(cnt)\n",
    "        print(src)\n",
    "            \n",
    "    #print(src)\n",
    "        \n",
    "        \n",
    "        \n",
    "    if(os.path.isfile(src)):\n",
    "            \n",
    "        dst = \"\"\n",
    "        \n",
    "        if(cnt < share_train):\n",
    "           \n",
    "            dst = os.path.join(train_dir, file_d)\n",
    "            \n",
    "        if(cnt > share_train):\n",
    "           \n",
    "            dst = os.path.join(test_dir, file_d)\n",
    "            \n",
    "        fpr.copyfile_to_png(src, dst)\n",
    "            \n",
    "    #### copy no-turbine images"
   ]
  },
  {
   "cell_type": "code",
   "execution_count": 216,
   "metadata": {
    "ExecuteTime": {
     "end_time": "2019-10-02T18:33:48.337332Z",
     "start_time": "2019-10-02T18:33:48.319631Z"
    }
   },
   "outputs": [
    {
     "name": "stdout",
     "output_type": "stream",
     "text": [
      "total training turbine images  0\n",
      "total testing turbine images  19142\n",
      "total validation turbine images  0\n"
     ]
    }
   ],
   "source": [
    "print('total training turbine images ', len(os.listdir(train_dir)))\n",
    "print('total testing turbine images ', len(os.listdir(test_dir)))\n",
    "print('total validation turbine images ', len(os.listdir(validation_dir)))\n",
    "\n",
    "\n",
    "\n",
    "pd_out = turbines_us['id'].map(str) + '.png'\n",
    "pd_out['score'] = turbines_s['t_hh']\n",
    "\n",
    "pd_out_train = pd_out.iloc[[range(0, len(os.listdir(train_dir)))]]\n",
    "pd_out_test = pd_out.iloc[[range(len(os.listdir(train_dir) + 1, len(os.listdir(test_dir)))]]\n",
    "pd_out_validation = pd_out.iloc[[range(len(os.listdir(test_dir)), len(os.listdir(validation_dir))]]\n",
    "                                      \n",
    "pd_out_train.to_csv(train_dir + \"list.csv\")\n",
    "pd_out_test.to_csv(test_dir + \"list.csv\")\n",
    "pd_out_validation.to_csv(validation_dir + \"list.csv\")\n"
   ]
  },
  {
   "cell_type": "code",
   "execution_count": 11,
   "metadata": {},
   "outputs": [
    {
     "data": {
      "text/plain": [
       "16502"
      ]
     },
     "execution_count": 11,
     "metadata": {},
     "output_type": "execute_result"
    }
   ],
   "source": [
    "\n"
   ]
  }
 ],
 "metadata": {
  "kernelspec": {
   "display_name": "Python [conda env:.conda-windturbine-identification]",
   "language": "python",
   "name": "conda-env-.conda-windturbine-identification-py"
  },
  "language_info": {
   "codemirror_mode": {
    "name": "ipython",
    "version": 3
   },
   "file_extension": ".py",
   "mimetype": "text/x-python",
   "name": "python",
   "nbconvert_exporter": "python",
   "pygments_lexer": "ipython3",
   "version": "3.7.0"
  }
 },
 "nbformat": 4,
 "nbformat_minor": 2
}
