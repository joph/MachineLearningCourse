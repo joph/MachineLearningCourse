{
 "cells": [
  {
   "cell_type": "code",
   "execution_count": 14,
   "metadata": {},
   "outputs": [
    {
     "name": "stdout",
     "output_type": "stream",
     "text": [
      "/data/projects/windturbine-identification/MachineLearningCourse\n"
     ]
    }
   ],
   "source": [
    "cd /data/projects/windturbine-identification/MachineLearningCourse"
   ]
  },
  {
   "cell_type": "code",
   "execution_count": 15,
   "metadata": {},
   "outputs": [],
   "source": [
    "# -*- coding: utf-8 -*-\n",
    "\"\"\"\n",
    "Created on Mon Feb 18 13:04:17 2019\n",
    "\n",
    "@author: jschmidt\n",
    "\"\"\"\n",
    "from keras import layers\n",
    "from keras import models\n",
    "from keras import optimizers\n",
    "from keras.preprocessing.image import ImageDataGenerator\n",
    "from keras.callbacks import ModelCheckpoint\n",
    "\n",
    "import pickle  # pip install dill --user\n",
    "import matplotlib.pyplot as plt\n",
    "from keras.applications import VGG16\n",
    "import tensorflow as tf\n",
    "\n",
    "import imp\n",
    "import scripts.windturbines.functions_pattern_recognition as fpr\n",
    "imp.reload(fpr)\n",
    "\n",
    "gpu_fraction = 0.8\n",
    "gpu_options = tf.GPUOptions(per_process_gpu_memory_fraction=gpu_fraction)\n",
    "sess = tf.Session(config=tf.ConfigProto(gpu_options=gpu_options))\n"
   ]
  },
  {
   "cell_type": "markdown",
   "metadata": {},
   "source": [
    "# Training Phase"
   ]
  },
  {
   "cell_type": "code",
   "execution_count": null,
   "metadata": {},
   "outputs": [
    {
     "name": "stdout",
     "output_type": "stream",
     "text": [
      "Found 6677 images belonging to 2 classes.\n",
      "Found 1429 images belonging to 2 classes.\n",
      "Epoch 1/500\n",
      " - 33s - loss: 0.3080 - acc: 0.8715 - val_loss: 0.3028 - val_acc: 0.8910\n",
      "Epoch 2/500\n",
      " - 30s - loss: 0.1678 - acc: 0.9335 - val_loss: 0.3414 - val_acc: 0.8584\n",
      "Epoch 3/500\n",
      " - 30s - loss: 0.1235 - acc: 0.9600 - val_loss: 0.1889 - val_acc: 0.9383\n",
      "Epoch 4/500\n",
      " - 31s - loss: 0.1126 - acc: 0.9630 - val_loss: 0.1191 - val_acc: 0.9600\n",
      "Epoch 5/500\n",
      " - 30s - loss: 0.0944 - acc: 0.9660 - val_loss: 0.3852 - val_acc: 0.8878\n",
      "Epoch 6/500\n",
      " - 30s - loss: 0.0811 - acc: 0.9700 - val_loss: 0.4399 - val_acc: 0.8554\n",
      "Epoch 7/500\n",
      " - 30s - loss: 0.0850 - acc: 0.9698 - val_loss: 0.0761 - val_acc: 0.9780\n",
      "Epoch 8/500\n",
      " - 30s - loss: 0.1016 - acc: 0.9615 - val_loss: 0.1650 - val_acc: 0.9525\n",
      "Epoch 9/500\n",
      " - 30s - loss: 0.0748 - acc: 0.9770 - val_loss: 0.1132 - val_acc: 0.9676\n",
      "Epoch 10/500\n",
      " - 31s - loss: 0.0683 - acc: 0.9800 - val_loss: 0.0760 - val_acc: 0.9740\n",
      "Epoch 11/500\n",
      " - 31s - loss: 0.0770 - acc: 0.9709 - val_loss: 0.5409 - val_acc: 0.8544\n",
      "Epoch 12/500\n",
      " - 31s - loss: 0.0668 - acc: 0.9785 - val_loss: 0.2488 - val_acc: 0.8847\n",
      "Epoch 13/500\n",
      " - 31s - loss: 0.0681 - acc: 0.9785 - val_loss: 0.0701 - val_acc: 0.9848\n",
      "Epoch 14/500\n",
      " - 31s - loss: 0.0702 - acc: 0.9750 - val_loss: 0.3266 - val_acc: 0.8550\n",
      "Epoch 15/500\n",
      " - 31s - loss: 0.0562 - acc: 0.9800 - val_loss: 0.0544 - val_acc: 0.9889\n",
      "Epoch 16/500\n",
      " - 31s - loss: 0.0615 - acc: 0.9770 - val_loss: 0.0455 - val_acc: 0.9858\n",
      "Epoch 17/500\n",
      " - 31s - loss: 0.0753 - acc: 0.9785 - val_loss: 0.1424 - val_acc: 0.9560\n",
      "Epoch 18/500\n",
      " - 30s - loss: 0.0541 - acc: 0.9790 - val_loss: 0.3700 - val_acc: 0.9211\n",
      "Epoch 19/500\n",
      " - 30s - loss: 0.0617 - acc: 0.9800 - val_loss: 0.1017 - val_acc: 0.9747\n",
      "Epoch 20/500\n",
      " - 31s - loss: 0.0634 - acc: 0.9795 - val_loss: 0.1095 - val_acc: 0.9670\n",
      "Epoch 21/500\n",
      " - 30s - loss: 0.0613 - acc: 0.9775 - val_loss: 0.2029 - val_acc: 0.9424\n",
      "Epoch 22/500\n",
      " - 31s - loss: 0.0566 - acc: 0.9820 - val_loss: 0.2903 - val_acc: 0.9393\n",
      "Epoch 23/500\n",
      " - 30s - loss: 0.0579 - acc: 0.9795 - val_loss: 0.1388 - val_acc: 0.9630\n",
      "Epoch 24/500\n",
      " - 31s - loss: 0.0639 - acc: 0.9810 - val_loss: 0.0685 - val_acc: 0.9757\n",
      "Epoch 25/500\n",
      " - 31s - loss: 0.0604 - acc: 0.9800 - val_loss: 0.2422 - val_acc: 0.9242\n",
      "Epoch 26/500\n",
      " - 30s - loss: 0.0450 - acc: 0.9840 - val_loss: 0.2766 - val_acc: 0.9211\n",
      "Epoch 27/500\n",
      " - 31s - loss: 0.0577 - acc: 0.9835 - val_loss: 0.3213 - val_acc: 0.9360\n",
      "Epoch 28/500\n",
      " - 30s - loss: 0.0744 - acc: 0.9765 - val_loss: 0.4639 - val_acc: 0.8989\n",
      "Epoch 29/500\n",
      " - 30s - loss: 0.0777 - acc: 0.9795 - val_loss: 0.1283 - val_acc: 0.9606\n",
      "Epoch 30/500\n",
      " - 31s - loss: 0.0662 - acc: 0.9770 - val_loss: 0.0609 - val_acc: 0.9840\n",
      "Epoch 31/500\n",
      " - 31s - loss: 0.0529 - acc: 0.9840 - val_loss: 0.2777 - val_acc: 0.9343\n",
      "Epoch 32/500\n"
     ]
    }
   ],
   "source": [
    "COUNTRY = \"MIX\"\n",
    "\n",
    "t_base_dir = fpr.get_param(COUNTRY, \"PATH_ML_IMAGES_TURBINES_TRAIN\") + \"../\"\n",
    "\n",
    "v_base_dir = fpr.get_param(COUNTRY,\n",
    "                           \"PATH_ML_IMAGES_TURBINES_VALIDATION\") + \"../\"\n",
    "\n",
    "test_base_dir = fpr.get_param(COUNTRY, \"PATH_ML_IMAGES_TURBINES_TEST\") + \"../\"\n",
    "\n",
    "# Part II: Pretrained model\n",
    "\n",
    "\n",
    "conv_base = VGG16(weights='imagenet',\n",
    "                  include_top=False,\n",
    "                  input_shape=(256, 256, 3))\n",
    "\n",
    "model = models.Sequential()\n",
    "model.add(conv_base)\n",
    "model.add(layers.Flatten())\n",
    "model.add(layers.Dense(256, activation='relu'))\n",
    "model.add(layers.Dense(256, activation='relu'))\n",
    "model.add(layers.Dense(1, activation='sigmoid'))\n",
    "\n",
    "conv_base.trainable = True\n",
    "\n",
    "set_trainable = False\n",
    "for layer in conv_base.layers:\n",
    "    if layer.name == 'block5_conv1':\n",
    "        set_trainable = True\n",
    "    if set_trainable:\n",
    "        layer.trainable = True\n",
    "    else:\n",
    "        layer.trainable = False\n",
    "\n",
    "train_datagen = ImageDataGenerator(\n",
    "      rescale=1./255,\n",
    "      rotation_range=40,\n",
    "      width_shift_range=0.2,\n",
    "      height_shift_range=0.2,\n",
    "      shear_range=0.2,\n",
    "      zoom_range=0.2,\n",
    "      horizontal_flip=True,\n",
    "      fill_mode='nearest')\n",
    "\n",
    "# Note that the validation data should not be augmented!\n",
    "test_datagen = ImageDataGenerator(rescale=1./255)\n",
    "\n",
    "train_generator = train_datagen.flow_from_directory(\n",
    "        # This is the target directory\n",
    "        t_base_dir,\n",
    "        # All images will be resized to 150x150\n",
    "        # target_size=(150, 150),\n",
    "        batch_size=20,\n",
    "        # Since we use binary_crossentropy loss, we need binary labels\n",
    "        class_mode='binary')\n",
    "\n",
    "validation_generator = test_datagen.flow_from_directory(\n",
    "        v_base_dir,\n",
    "        # target_size=(150, 150),\n",
    "        batch_size=20,\n",
    "        class_mode='binary')\n",
    "\n",
    "model.compile(loss='binary_crossentropy',\n",
    "              optimizer=optimizers.RMSprop(lr=2e-5),\n",
    "              metrics=['acc'])\n",
    "\n",
    "mcp_save = ModelCheckpoint('models/model-{epoch:04d}-{val_loss:.4f}.h5',\n",
    "                           save_best_only=True, monitor='val_loss', mode='min')\n",
    "\n",
    "history = model.fit_generator(\n",
    "      train_generator,\n",
    "      steps_per_epoch=100,\n",
    "      epochs=500,\n",
    "      validation_data=validation_generator,\n",
    "      validation_steps=50,\n",
    "      callbacks=[mcp_save],\n",
    "      verbose=2)\n",
    "\n"
   ]
  },
  {
   "cell_type": "markdown",
   "metadata": {},
   "source": [
    "# Validation vs. Training"
   ]
  },
  {
   "cell_type": "code",
   "execution_count": 10,
   "metadata": {},
   "outputs": [
    {
     "data": {
      "image/png": "[encoded data removed]",
      "text/plain": [
       "<Figure size 432x288 with 1 Axes>"
      ]
     },
     "metadata": {
      "needs_background": "light"
     },
     "output_type": "display_data"
    },
    {
     "data": {
      "image/png": "[encoded data removed]",
      "text/plain": [
       "<Figure size 432x288 with 1 Axes>"
      ]
     },
     "metadata": {
      "needs_background": "light"
     },
     "output_type": "display_data"
    }
   ],
   "source": [
    "acc = history.history['acc']\n",
    "val_acc = history.history['val_acc']\n",
    "loss = history.history['loss']\n",
    "val_loss = history.history['val_loss']\n",
    "\n",
    "epochs = range(len(acc))\n",
    "\n",
    "plt.plot(epochs, acc, 'bo', label='Training acc')\n",
    "plt.plot(epochs, val_acc, 'b', label='Validation acc')\n",
    "plt.title('Training and validation accuracy')\n",
    "plt.legend()\n",
    "\n",
    "plt.figure()\n",
    "\n",
    "plt.plot(epochs, loss, 'bo', label='Training loss')\n",
    "plt.plot(epochs, val_loss, 'b', label='Validation loss')\n",
    "plt.title('Training and validation loss')\n",
    "plt.legend()\n",
    "\n",
    "plt.show()\n",
    "\n",
    "\n"
   ]
  },
  {
   "cell_type": "markdown",
   "metadata": {},
   "source": [
    "# Model selection"
   ]
  },
  {
   "cell_type": "code",
   "execution_count": 12,
   "metadata": {},
   "outputs": [
    {
     "data": {
      "text/plain": [
       "'models/model-0013-0.0349.h5'"
      ]
     },
     "execution_count": 12,
     "metadata": {},
     "output_type": "execute_result"
    }
   ],
   "source": [
    "min_val_loss = min(val_loss)\n",
    "\n",
    "i = val_loss.index(min_val_loss) + 1\n",
    "\n",
    "best_model = \"models/model-\" + \"{0:0=4d}\".format(i) + \"-\" + \"{0:.4f}\".format(min_val_loss) + \".h5\"\n",
    "\n",
    "best_model\n"
   ]
  },
  {
   "cell_type": "markdown",
   "metadata": {},
   "source": [
    "# Test"
   ]
  },
  {
   "cell_type": "code",
   "execution_count": 13,
   "metadata": {},
   "outputs": [
    {
     "name": "stdout",
     "output_type": "stream",
     "text": [
      "Found 1412 images belonging to 2 classes.\n",
      "test acc: 0.8759765625\n",
      "test loss: 0.8915383933344856\n"
     ]
    }
   ],
   "source": [
    "test_base_dir=fpr.get_param(COUNTRY, \"PATH_ML_IMAGES_TURBINES_TEST\")+\"../\"\n",
    "\n",
    "test_model = models.load_model(best_model)\n",
    "\n",
    "test_datagen = ImageDataGenerator(rescale=1./255)\n",
    "\n",
    "test_generator = test_datagen.flow_from_directory(\n",
    "        test_base_dir,\n",
    "        target_size=(256, 256),\n",
    "        batch_size=32,\n",
    "        class_mode='binary')\n",
    "\n",
    "test_loss, test_acc = test_model.evaluate_generator(test_generator, steps=32)\n",
    "print('test acc:', test_acc)\n",
    "print('test loss:', test_loss)\n"
   ]
  }
 ],
 "metadata": {
  "kernelspec": {
   "display_name": "Python 3",
   "language": "python",
   "name": "python3"
  },
  "language_info": {
   "codemirror_mode": {
    "name": "ipython",
    "version": 3
   },
   "file_extension": ".py",
   "mimetype": "text/x-python",
   "name": "python",
   "nbconvert_exporter": "python",
   "pygments_lexer": "ipython3",
   "version": "3.7.0"
  }
 },
 "nbformat": 4,
 "nbformat_minor": 2
}
