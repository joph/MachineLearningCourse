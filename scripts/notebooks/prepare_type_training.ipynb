{
 "cells": [
  {
   "cell_type": "code",
   "execution_count": 1,
   "metadata": {
    "ExecuteTime": {
     "end_time": "2019-10-02T13:36:31.042374Z",
     "start_time": "2019-10-02T13:36:31.038295Z"
    }
   },
   "outputs": [
    {
     "name": "stdout",
     "output_type": "stream",
     "text": [
      "/data/projects/windturbine-identification/MachineLearningCourse\n"
     ]
    }
   ],
   "source": [
    "cd /data/projects/windturbine-identification/MachineLearningCourse"
   ]
  },
  {
   "cell_type": "code",
   "execution_count": 172,
   "metadata": {
    "ExecuteTime": {
     "end_time": "2019-10-02T15:03:57.022652Z",
     "start_time": "2019-10-02T15:03:56.840707Z"
    }
   },
   "outputs": [],
   "source": [
    "\"\"\"\n",
    "Created on Mon Feb 18 20:30:48 2019\n",
    "\n",
    "@author: jschmidt\n",
    "\"\"\"\n",
    "\n",
    "import os, shutil, random\n",
    "\n",
    "import pandas as pd\n",
    "import sys\n",
    "import gdal\n",
    "import imp\n",
    "import numpy as np\n",
    "\n",
    "\n",
    "import scripts.windturbines.functions_pattern_recognition as fpr\n",
    "imp.reload(fpr)\n",
    "from scripts.windturbines.functions_pattern_recognition import get_param\n",
    "from scripts.windturbines.functions_pattern_recognition import cop_predict\n",
    "from scripts.windturbines.functions_pattern_recognition import check_image\n",
    "from scripts.windturbines.functions_pattern_recognition import read_params"
   ]
  },
  {
   "cell_type": "code",
   "execution_count": 173,
   "metadata": {
    "ExecuteTime": {
     "end_time": "2019-10-02T15:03:58.788576Z",
     "start_time": "2019-10-02T15:03:57.584608Z"
    }
   },
   "outputs": [],
   "source": [
    "COUNTRY = \"US\"\n",
    "\n",
    "categories = [\"small\", \"middle\", \"large\"]\n",
    "\n",
    "train_dir_small = get_param(COUNTRY,\"PATH_ML_IMAGES_TYPE_SMALL_TRAIN\")\n",
    "test_dir_small = get_param(COUNTRY,\"PATH_ML_IMAGES_TYPE_SMALL_TEST\")\n",
    "validation_dir_small = get_param(COUNTRY,\"PATH_ML_IMAGES_TYPE_SMALL_VALIDATION\")\n",
    "\n",
    "train_dir_middle = get_param(COUNTRY,\"PATH_ML_IMAGES_TYPE_MIDDLE_TRAIN\")\n",
    "test_dir_middle = get_param(COUNTRY,\"PATH_ML_IMAGES_TYPE_MIDDLE_TEST\")\n",
    "validation_dir_middle = get_param(COUNTRY,\"PATH_ML_IMAGES_TYPE_MIDDLE_VALIDATION\")\n",
    "\n",
    "train_dir_large = get_param(COUNTRY,\"PATH_ML_IMAGES_TYPE_LARGE_TRAIN\")\n",
    "test_dir_large = get_param(COUNTRY,\"PATH_ML_IMAGES_TYPE_LARGE_TEST\")\n",
    "validation_dir_large = get_param(COUNTRY,\"PATH_ML_IMAGES_TYPE_LARGE_VALIDATION\")\n",
    "\n",
    "train_dirs = [train_dir_small, train_dir_middle, train_dir_large]\n",
    "test_dirs = [test_dir_small, test_dir_middle, test_dir_large]\n",
    "val_dirs = [validation_dir_small, validation_dir_middle, validation_dir_large]\n",
    "\n",
    "\n",
    "#### delete directories if exist\n",
    "#### create if not exist\n",
    "\n",
    "shutil.rmtree(train_dir_small,ignore_errors=True)\n",
    "shutil.rmtree(test_dir_small,ignore_errors=True)\n",
    "shutil.rmtree(validation_dir_small,ignore_errors=True)\n",
    "\n",
    "shutil.rmtree(train_dir_middle,ignore_errors=True)\n",
    "shutil.rmtree(test_dir_middle,ignore_errors=True)\n",
    "shutil.rmtree(validation_dir_middle,ignore_errors=True)\n",
    "\n",
    "shutil.rmtree(train_dir_large,ignore_errors=True)\n",
    "shutil.rmtree(test_dir_large,ignore_errors=True)\n",
    "shutil.rmtree(validation_dir_large,ignore_errors=True)\n",
    "\n",
    "\n",
    "os.makedirs(train_dir_small)\n",
    "os.makedirs(test_dir_small)\n",
    "os.makedirs(validation_dir_small)\n",
    "\n",
    "os.makedirs(train_dir_middle)\n",
    "os.makedirs(test_dir_middle)\n",
    "os.makedirs(validation_dir_middle)\n",
    "\n",
    "os.makedirs(train_dir_large)\n",
    "os.makedirs(test_dir_large)\n",
    "os.makedirs(validation_dir_large)\n",
    "\n",
    "src_dir_tb = get_param(COUNTRY,\"PATH_RAW_IMAGES_TURBINES\")\n",
    "\n",
    "\n",
    "\n",
    "\n"
   ]
  },
  {
   "cell_type": "code",
   "execution_count": 174,
   "metadata": {
    "ExecuteTime": {
     "end_time": "2019-10-02T15:03:59.649636Z",
     "start_time": "2019-10-02T15:03:59.440197Z"
    }
   },
   "outputs": [],
   "source": [
    "turbines_us = pd.read_csv(get_param(\"US\",\"FILE_TURBINE_LOCATIONS\"))\n",
    "\n",
    "predictions_cs = get_param(\"US\",\n",
    "                            \"PATH_RAW_IMAGES_TURBINES\")\n",
    "\n",
    "turbines_pred = pd.read_feather(predictions_cs + \"all_predictions.feather\")\n",
    "\n",
    "turbines_us = turbines_us[turbines_pred['prediction'] > 0.99]"
   ]
  },
  {
   "cell_type": "code",
   "execution_count": 175,
   "metadata": {
    "ExecuteTime": {
     "end_time": "2019-10-02T15:04:00.348926Z",
     "start_time": "2019-10-02T15:04:00.344975Z"
    }
   },
   "outputs": [
    {
     "data": {
      "text/plain": [
       "(47665, 27)"
      ]
     },
     "execution_count": 175,
     "metadata": {},
     "output_type": "execute_result"
    }
   ],
   "source": [
    "turbines_us.shape"
   ]
  },
  {
   "cell_type": "code",
   "execution_count": 176,
   "metadata": {
    "ExecuteTime": {
     "end_time": "2019-10-02T15:04:01.136302Z",
     "start_time": "2019-10-02T15:04:01.128264Z"
    }
   },
   "outputs": [],
   "source": [
    "numb_of_elements = [np.sum(turbines_us['t_hh']<80),\n",
    "                   np.sum((turbines_us['t_hh']>80) & (turbines_us['t_hh']<100)),\n",
    "                   np.sum(turbines_us['t_hh']>100)]"
   ]
  },
  {
   "cell_type": "code",
   "execution_count": 168,
   "metadata": {
    "ExecuteTime": {
     "end_time": "2019-10-02T15:03:41.439122Z",
     "start_time": "2019-10-02T15:03:41.344279Z"
    }
   },
   "outputs": [],
   "source": [
    "nmb_samples = min(numb_of_elements)/numb_of_elements\n",
    "turbines_us['id'] = np.arange(len(turbines_us))\n",
    "\n"
   ]
  },
  {
   "cell_type": "code",
   "execution_count": 157,
   "metadata": {
    "ExecuteTime": {
     "end_time": "2019-10-02T14:56:36.499867Z",
     "start_time": "2019-10-02T14:56:36.496778Z"
    }
   },
   "outputs": [],
   "source": [
    "nmb_samples_all = min(numb_of_elements)"
   ]
  },
  {
   "cell_type": "code",
   "execution_count": 169,
   "metadata": {
    "ExecuteTime": {
     "end_time": "2019-10-02T15:03:43.021783Z",
     "start_time": "2019-10-02T15:03:43.000490Z"
    }
   },
   "outputs": [],
   "source": [
    "turbines_us_small = turbines_us[turbines_us['t_hh'] < 60].sample(frac = nmb_samples[0])\n",
    "turbines_us_middle = turbines_us[(turbines_us['t_hh']>60) & (turbines_us['t_hh']<90)].sample(frac = nmb_samples[1])\n",
    "turbines_us_large = turbines_us[turbines_us['t_hh']>90].sample(frac = nmb_samples[2])\n",
    "\n",
    "share_train=round(0.7*nmb_samples_all)\n",
    "share_validate=round(0.85*nmb_samples_all)\n",
    "\n",
    "turbines = [turbines_us_small, turbines_us_middle, turbines_us_large]\n"
   ]
  },
  {
   "cell_type": "code",
   "execution_count": 170,
   "metadata": {
    "ExecuteTime": {
     "end_time": "2019-10-02T15:03:44.827714Z",
     "start_time": "2019-10-02T15:03:44.824550Z"
    }
   },
   "outputs": [
    {
     "data": {
      "text/plain": [
       "2399"
      ]
     },
     "execution_count": 170,
     "metadata": {},
     "output_type": "execute_result"
    }
   ],
   "source": [
    "nmb_samples_all"
   ]
  },
  {
   "cell_type": "code",
   "execution_count": 171,
   "metadata": {
    "ExecuteTime": {
     "end_time": "2019-10-02T15:03:48.234977Z",
     "start_time": "2019-10-02T15:03:47.801511Z"
    }
   },
   "outputs": [
    {
     "name": "stdout",
     "output_type": "stream",
     "text": [
      "small\n"
     ]
    },
    {
     "ename": "IndexError",
     "evalue": "positional indexers are out-of-bounds",
     "output_type": "error",
     "traceback": [
      "\u001b[0;31m---------------------------------------------------------------------------\u001b[0m",
      "\u001b[0;31mIndexError\u001b[0m                                Traceback (most recent call last)",
      "\u001b[0;32m~/.conda/envs/windturbine-identification/lib/python3.7/site-packages/pandas/core/indexing.py\u001b[0m in \u001b[0;36m_get_list_axis\u001b[0;34m(self, key, axis)\u001b[0m\n\u001b[1;32m   2199\u001b[0m         \u001b[0;32mtry\u001b[0m\u001b[0;34m:\u001b[0m\u001b[0;34m\u001b[0m\u001b[0m\n\u001b[0;32m-> 2200\u001b[0;31m             \u001b[0;32mreturn\u001b[0m \u001b[0mself\u001b[0m\u001b[0;34m.\u001b[0m\u001b[0mobj\u001b[0m\u001b[0;34m.\u001b[0m\u001b[0m_take\u001b[0m\u001b[0;34m(\u001b[0m\u001b[0mkey\u001b[0m\u001b[0;34m,\u001b[0m \u001b[0maxis\u001b[0m\u001b[0;34m=\u001b[0m\u001b[0maxis\u001b[0m\u001b[0;34m)\u001b[0m\u001b[0;34m\u001b[0m\u001b[0m\n\u001b[0m\u001b[1;32m   2201\u001b[0m         \u001b[0;32mexcept\u001b[0m \u001b[0mIndexError\u001b[0m\u001b[0;34m:\u001b[0m\u001b[0;34m\u001b[0m\u001b[0m\n",
      "\u001b[0;32m~/.conda/envs/windturbine-identification/lib/python3.7/site-packages/pandas/core/generic.py\u001b[0m in \u001b[0;36m_take\u001b[0;34m(self, indices, axis, is_copy)\u001b[0m\n\u001b[1;32m   3358\u001b[0m                                    \u001b[0maxis\u001b[0m\u001b[0;34m=\u001b[0m\u001b[0mself\u001b[0m\u001b[0;34m.\u001b[0m\u001b[0m_get_block_manager_axis\u001b[0m\u001b[0;34m(\u001b[0m\u001b[0maxis\u001b[0m\u001b[0;34m)\u001b[0m\u001b[0;34m,\u001b[0m\u001b[0;34m\u001b[0m\u001b[0m\n\u001b[0;32m-> 3359\u001b[0;31m                                    verify=True)\n\u001b[0m\u001b[1;32m   3360\u001b[0m         \u001b[0mresult\u001b[0m \u001b[0;34m=\u001b[0m \u001b[0mself\u001b[0m\u001b[0;34m.\u001b[0m\u001b[0m_constructor\u001b[0m\u001b[0;34m(\u001b[0m\u001b[0mnew_data\u001b[0m\u001b[0;34m)\u001b[0m\u001b[0;34m.\u001b[0m\u001b[0m__finalize__\u001b[0m\u001b[0;34m(\u001b[0m\u001b[0mself\u001b[0m\u001b[0;34m)\u001b[0m\u001b[0;34m\u001b[0m\u001b[0m\n",
      "\u001b[0;32m~/.conda/envs/windturbine-identification/lib/python3.7/site-packages/pandas/core/internals/managers.py\u001b[0m in \u001b[0;36mtake\u001b[0;34m(self, indexer, axis, verify, convert)\u001b[0m\n\u001b[1;32m   1340\u001b[0m         \u001b[0;32mif\u001b[0m \u001b[0mconvert\u001b[0m\u001b[0;34m:\u001b[0m\u001b[0;34m\u001b[0m\u001b[0m\n\u001b[0;32m-> 1341\u001b[0;31m             \u001b[0mindexer\u001b[0m \u001b[0;34m=\u001b[0m \u001b[0mmaybe_convert_indices\u001b[0m\u001b[0;34m(\u001b[0m\u001b[0mindexer\u001b[0m\u001b[0;34m,\u001b[0m \u001b[0mn\u001b[0m\u001b[0;34m)\u001b[0m\u001b[0;34m\u001b[0m\u001b[0m\n\u001b[0m\u001b[1;32m   1342\u001b[0m \u001b[0;34m\u001b[0m\u001b[0m\n",
      "\u001b[0;32m~/.conda/envs/windturbine-identification/lib/python3.7/site-packages/pandas/core/indexing.py\u001b[0m in \u001b[0;36mmaybe_convert_indices\u001b[0;34m(indices, n)\u001b[0m\n\u001b[1;32m   2614\u001b[0m     \u001b[0;32mif\u001b[0m \u001b[0mmask\u001b[0m\u001b[0;34m.\u001b[0m\u001b[0many\u001b[0m\u001b[0;34m(\u001b[0m\u001b[0;34m)\u001b[0m\u001b[0;34m:\u001b[0m\u001b[0;34m\u001b[0m\u001b[0m\n\u001b[0;32m-> 2615\u001b[0;31m         \u001b[0;32mraise\u001b[0m \u001b[0mIndexError\u001b[0m\u001b[0;34m(\u001b[0m\u001b[0;34m\"indices are out-of-bounds\"\u001b[0m\u001b[0;34m)\u001b[0m\u001b[0;34m\u001b[0m\u001b[0m\n\u001b[0m\u001b[1;32m   2616\u001b[0m     \u001b[0;32mreturn\u001b[0m \u001b[0mindices\u001b[0m\u001b[0;34m\u001b[0m\u001b[0m\n",
      "\u001b[0;31mIndexError\u001b[0m: indices are out-of-bounds",
      "\nDuring handling of the above exception, another exception occurred:\n",
      "\u001b[0;31mIndexError\u001b[0m                                Traceback (most recent call last)",
      "\u001b[0;32m<ipython-input-171-47d38885cb28>\u001b[0m in \u001b[0;36m<module>\u001b[0;34m\u001b[0m\n\u001b[1;32m     10\u001b[0m \u001b[0;34m\u001b[0m\u001b[0m\n\u001b[1;32m     11\u001b[0m         \u001b[0;31m#print(file)\u001b[0m\u001b[0;34m\u001b[0m\u001b[0;34m\u001b[0m\u001b[0m\n\u001b[0;32m---> 12\u001b[0;31m         \u001b[0mfile_s\u001b[0m \u001b[0;34m=\u001b[0m \u001b[0mstr\u001b[0m\u001b[0;34m(\u001b[0m\u001b[0mturbines\u001b[0m\u001b[0;34m[\u001b[0m\u001b[0mi\u001b[0m\u001b[0;34m]\u001b[0m\u001b[0;34m.\u001b[0m\u001b[0miloc\u001b[0m\u001b[0;34m[\u001b[0m\u001b[0;34m[\u001b[0m\u001b[0mj\u001b[0m\u001b[0;34m]\u001b[0m\u001b[0;34m]\u001b[0m\u001b[0;34m[\u001b[0m\u001b[0;34m'id'\u001b[0m\u001b[0;34m]\u001b[0m\u001b[0;34m.\u001b[0m\u001b[0mvalues\u001b[0m\u001b[0;34m[\u001b[0m\u001b[0;36m0\u001b[0m\u001b[0;34m]\u001b[0m \u001b[0;34m+\u001b[0m \u001b[0;36m1\u001b[0m\u001b[0;34m)\u001b[0m \u001b[0;34m+\u001b[0m \u001b[0;34m'.tif'\u001b[0m\u001b[0;34m\u001b[0m\u001b[0m\n\u001b[0m\u001b[1;32m     13\u001b[0m         \u001b[0mfile_d\u001b[0m \u001b[0;34m=\u001b[0m \u001b[0mstr\u001b[0m\u001b[0;34m(\u001b[0m\u001b[0mturbines\u001b[0m\u001b[0;34m[\u001b[0m\u001b[0mi\u001b[0m\u001b[0;34m]\u001b[0m\u001b[0;34m.\u001b[0m\u001b[0miloc\u001b[0m\u001b[0;34m[\u001b[0m\u001b[0;34m[\u001b[0m\u001b[0mj\u001b[0m\u001b[0;34m]\u001b[0m\u001b[0;34m]\u001b[0m\u001b[0;34m[\u001b[0m\u001b[0;34m'id'\u001b[0m\u001b[0;34m]\u001b[0m\u001b[0;34m.\u001b[0m\u001b[0mvalues\u001b[0m\u001b[0;34m[\u001b[0m\u001b[0;36m0\u001b[0m\u001b[0;34m]\u001b[0m \u001b[0;34m+\u001b[0m \u001b[0;36m1\u001b[0m\u001b[0;34m)\u001b[0m \u001b[0;34m+\u001b[0m \u001b[0;34m'.png'\u001b[0m\u001b[0;34m\u001b[0m\u001b[0m\n\u001b[1;32m     14\u001b[0m \u001b[0;34m\u001b[0m\u001b[0m\n",
      "\u001b[0;32m~/.conda/envs/windturbine-identification/lib/python3.7/site-packages/pandas/core/indexing.py\u001b[0m in \u001b[0;36m__getitem__\u001b[0;34m(self, key)\u001b[0m\n\u001b[1;32m   1498\u001b[0m \u001b[0;34m\u001b[0m\u001b[0m\n\u001b[1;32m   1499\u001b[0m             \u001b[0mmaybe_callable\u001b[0m \u001b[0;34m=\u001b[0m \u001b[0mcom\u001b[0m\u001b[0;34m.\u001b[0m\u001b[0mapply_if_callable\u001b[0m\u001b[0;34m(\u001b[0m\u001b[0mkey\u001b[0m\u001b[0;34m,\u001b[0m \u001b[0mself\u001b[0m\u001b[0;34m.\u001b[0m\u001b[0mobj\u001b[0m\u001b[0;34m)\u001b[0m\u001b[0;34m\u001b[0m\u001b[0m\n\u001b[0;32m-> 1500\u001b[0;31m             \u001b[0;32mreturn\u001b[0m \u001b[0mself\u001b[0m\u001b[0;34m.\u001b[0m\u001b[0m_getitem_axis\u001b[0m\u001b[0;34m(\u001b[0m\u001b[0mmaybe_callable\u001b[0m\u001b[0;34m,\u001b[0m \u001b[0maxis\u001b[0m\u001b[0;34m=\u001b[0m\u001b[0maxis\u001b[0m\u001b[0;34m)\u001b[0m\u001b[0;34m\u001b[0m\u001b[0m\n\u001b[0m\u001b[1;32m   1501\u001b[0m \u001b[0;34m\u001b[0m\u001b[0m\n\u001b[1;32m   1502\u001b[0m     \u001b[0;32mdef\u001b[0m \u001b[0m_is_scalar_access\u001b[0m\u001b[0;34m(\u001b[0m\u001b[0mself\u001b[0m\u001b[0;34m,\u001b[0m \u001b[0mkey\u001b[0m\u001b[0;34m)\u001b[0m\u001b[0;34m:\u001b[0m\u001b[0;34m\u001b[0m\u001b[0m\n",
      "\u001b[0;32m~/.conda/envs/windturbine-identification/lib/python3.7/site-packages/pandas/core/indexing.py\u001b[0m in \u001b[0;36m_getitem_axis\u001b[0;34m(self, key, axis)\u001b[0m\n\u001b[1;32m   2219\u001b[0m         \u001b[0;31m# a list of integers\u001b[0m\u001b[0;34m\u001b[0m\u001b[0;34m\u001b[0m\u001b[0m\n\u001b[1;32m   2220\u001b[0m         \u001b[0;32melif\u001b[0m \u001b[0mis_list_like_indexer\u001b[0m\u001b[0;34m(\u001b[0m\u001b[0mkey\u001b[0m\u001b[0;34m)\u001b[0m\u001b[0;34m:\u001b[0m\u001b[0;34m\u001b[0m\u001b[0m\n\u001b[0;32m-> 2221\u001b[0;31m             \u001b[0;32mreturn\u001b[0m \u001b[0mself\u001b[0m\u001b[0;34m.\u001b[0m\u001b[0m_get_list_axis\u001b[0m\u001b[0;34m(\u001b[0m\u001b[0mkey\u001b[0m\u001b[0;34m,\u001b[0m \u001b[0maxis\u001b[0m\u001b[0;34m=\u001b[0m\u001b[0maxis\u001b[0m\u001b[0;34m)\u001b[0m\u001b[0;34m\u001b[0m\u001b[0m\n\u001b[0m\u001b[1;32m   2222\u001b[0m \u001b[0;34m\u001b[0m\u001b[0m\n\u001b[1;32m   2223\u001b[0m         \u001b[0;31m# a single integer\u001b[0m\u001b[0;34m\u001b[0m\u001b[0;34m\u001b[0m\u001b[0m\n",
      "\u001b[0;32m~/.conda/envs/windturbine-identification/lib/python3.7/site-packages/pandas/core/indexing.py\u001b[0m in \u001b[0;36m_get_list_axis\u001b[0;34m(self, key, axis)\u001b[0m\n\u001b[1;32m   2201\u001b[0m         \u001b[0;32mexcept\u001b[0m \u001b[0mIndexError\u001b[0m\u001b[0;34m:\u001b[0m\u001b[0;34m\u001b[0m\u001b[0m\n\u001b[1;32m   2202\u001b[0m             \u001b[0;31m# re-raise with different error message\u001b[0m\u001b[0;34m\u001b[0m\u001b[0;34m\u001b[0m\u001b[0m\n\u001b[0;32m-> 2203\u001b[0;31m             \u001b[0;32mraise\u001b[0m \u001b[0mIndexError\u001b[0m\u001b[0;34m(\u001b[0m\u001b[0;34m\"positional indexers are out-of-bounds\"\u001b[0m\u001b[0;34m)\u001b[0m\u001b[0;34m\u001b[0m\u001b[0m\n\u001b[0m\u001b[1;32m   2204\u001b[0m \u001b[0;34m\u001b[0m\u001b[0m\n\u001b[1;32m   2205\u001b[0m     \u001b[0;32mdef\u001b[0m \u001b[0m_getitem_axis\u001b[0m\u001b[0;34m(\u001b[0m\u001b[0mself\u001b[0m\u001b[0;34m,\u001b[0m \u001b[0mkey\u001b[0m\u001b[0;34m,\u001b[0m \u001b[0maxis\u001b[0m\u001b[0;34m=\u001b[0m\u001b[0;32mNone\u001b[0m\u001b[0;34m)\u001b[0m\u001b[0;34m:\u001b[0m\u001b[0;34m\u001b[0m\u001b[0m\n",
      "\u001b[0;31mIndexError\u001b[0m: positional indexers are out-of-bounds"
     ]
    }
   ],
   "source": [
    "for i in range(0,3):\n",
    "    \n",
    "    cnt = 0\n",
    "    \n",
    "    print(categories[i])\n",
    "    \n",
    "    for j in range(0, nmb_samples_all):\n",
    "        cnt += 1\n",
    "        \n",
    "        \n",
    "        #print(file)\n",
    "        file_s = str(turbines[i].iloc[[j]]['id'].values[0] + 1) + '.tif'\n",
    "        file_d = str(turbines[i].iloc[[j]]['id'].values[0] + 1) + '.png'\n",
    "        \n",
    "        #print(file)\n",
    "        \n",
    "        src = os.path.join(src_dir_tb, file_s)\n",
    "        \n",
    "        \n",
    "        \n",
    "        if(cnt % 1000 == 0):\n",
    "            print(cnt)\n",
    "            print(src)\n",
    "            \n",
    "        #print(src)\n",
    "        \n",
    "        \n",
    "        \n",
    "        if(os.path.isfile(src)):\n",
    "            \n",
    "            dst = \"\"\n",
    "        \n",
    "            if(cnt < share_train):\n",
    "           \n",
    "                dst = os.path.join(train_dirs[i], file_d)\n",
    "            \n",
    "            if(cnt>share_train and cnt<share_validate):\n",
    "           \n",
    "                dst = os.path.join(val_dirs[i], file_d)\n",
    "            \n",
    "            if(cnt>share_validate):\n",
    "        \n",
    "                dst = os.path.join(test_dirs[i],file_d)\n",
    "            \n",
    "            #print(src + \" \" + dst)\n",
    "            \n",
    "            fpr.copyfile_to_png(src, dst)\n",
    "            \n",
    "    #### copy no-turbine images"
   ]
  },
  {
   "cell_type": "code",
   "execution_count": 91,
   "metadata": {
    "ExecuteTime": {
     "end_time": "2019-10-02T14:13:09.954193Z",
     "start_time": "2019-10-02T14:13:09.948971Z"
    }
   },
   "outputs": [
    {
     "name": "stdout",
     "output_type": "stream",
     "text": [
      "total training turbine images small 0\n",
      "total testing turbine images small 0\n",
      "total validation turbine images small 0\n",
      "total training turbine images middle 0\n",
      "total testing turbine images middle 0\n",
      "total validation turbine images middle 0\n",
      "total training turbine images large 0\n",
      "total testing turbine images large 0\n",
      "total validation turbine images large 0\n"
     ]
    }
   ],
   "source": [
    "for i in range(0,3):\n",
    "    \n",
    "    print('total training turbine images ' + categories[i], len(os.listdir(train_dirs[i])))\n",
    "    print('total testing turbine images ' + categories[i], len(os.listdir(test_dirs[i])))\n",
    "    print('total validation turbine images ' + categories[i], len(os.listdir(val_dirs[i])))\n"
   ]
  },
  {
   "cell_type": "code",
   "execution_count": 11,
   "metadata": {},
   "outputs": [
    {
     "data": {
      "text/plain": [
       "16502"
      ]
     },
     "execution_count": 11,
     "metadata": {},
     "output_type": "execute_result"
    }
   ],
   "source": [
    "\n"
   ]
  }
 ],
 "metadata": {
  "kernelspec": {
   "display_name": "Python [conda env:.conda-windturbine-identification]",
   "language": "python",
   "name": "conda-env-.conda-windturbine-identification-py"
  },
  "language_info": {
   "codemirror_mode": {
    "name": "ipython",
    "version": 3
   },
   "file_extension": ".py",
   "mimetype": "text/x-python",
   "name": "python",
   "nbconvert_exporter": "python",
   "pygments_lexer": "ipython3",
   "version": "3.7.0"
  }
 },
 "nbformat": 4,
 "nbformat_minor": 2
}
