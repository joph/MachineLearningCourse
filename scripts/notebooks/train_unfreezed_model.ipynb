{
 "cells": [
  {
   "cell_type": "code",
   "execution_count": 1,
   "metadata": {},
   "outputs": [
    {
     "name": "stdout",
     "output_type": "stream",
     "text": [
      "/data/projects/windturbine-identification/MachineLearningCourse\n"
     ]
    }
   ],
   "source": [
    "cd /data/projects/windturbine-identification/MachineLearningCourse"
   ]
  },
  {
   "cell_type": "code",
   "execution_count": 2,
   "metadata": {},
   "outputs": [
    {
     "name": "stderr",
     "output_type": "stream",
     "text": [
      "Using TensorFlow backend.\n"
     ]
    }
   ],
   "source": [
    "# -*- coding: utf-8 -*-\n",
    "\"\"\"\n",
    "Created on Mon Feb 18 13:04:17 2019\n",
    "\n",
    "@author: jschmidt\n",
    "\"\"\"\n",
    "from keras import layers\n",
    "from keras import models\n",
    "from keras import optimizers\n",
    "from keras.preprocessing.image import ImageDataGenerator\n",
    "from keras.callbacks import ModelCheckpoint\n",
    "\n",
    "import pickle  # pip install dill --user\n",
    "import matplotlib.pyplot as plt\n",
    "from keras.applications import VGG16\n",
    "import tensorflow as tf\n",
    "\n",
    "import imp\n",
    "import scripts.windturbines.functions_pattern_recognition as fpr\n",
    "imp.reload(fpr)\n",
    "\n",
    "gpu_fraction = 0.8\n",
    "gpu_options = tf.GPUOptions(per_process_gpu_memory_fraction=gpu_fraction)\n",
    "sess = tf.Session(config=tf.ConfigProto(gpu_options=gpu_options))\n"
   ]
  },
  {
   "cell_type": "markdown",
   "metadata": {},
   "source": [
    "# Training Phase"
   ]
  },
  {
   "cell_type": "code",
   "execution_count": 3,
   "metadata": {},
   "outputs": [
    {
     "name": "stdout",
     "output_type": "stream",
     "text": [
      "WARNING:tensorflow:From /home/jschmidt/.conda/envs/windturbine-identification/lib/python3.7/site-packages/tensorflow/python/framework/op_def_library.py:263: colocate_with (from tensorflow.python.framework.ops) is deprecated and will be removed in a future version.\n",
      "Instructions for updating:\n",
      "Colocations handled automatically by placer.\n",
      "Found 7996 images belonging to 2 classes.\n",
      "Found 1712 images belonging to 2 classes.\n",
      "WARNING:tensorflow:From /home/jschmidt/.conda/envs/windturbine-identification/lib/python3.7/site-packages/tensorflow/python/ops/math_ops.py:3066: to_int32 (from tensorflow.python.ops.math_ops) is deprecated and will be removed in a future version.\n",
      "Instructions for updating:\n",
      "Use tf.cast instead.\n",
      "Epoch 1/30\n",
      " - 39s - loss: 0.3156 - acc: 0.8595 - val_loss: 0.1022 - val_acc: 0.9680\n",
      "Epoch 2/30\n",
      " - 36s - loss: 0.1476 - acc: 0.9430 - val_loss: 0.0667 - val_acc: 0.9869\n",
      "Epoch 3/30\n",
      " - 36s - loss: 0.1070 - acc: 0.9645 - val_loss: 0.0484 - val_acc: 0.9920\n",
      "Epoch 4/30\n",
      " - 37s - loss: 0.1170 - acc: 0.9669 - val_loss: 0.0516 - val_acc: 0.9869\n",
      "Epoch 5/30\n",
      " - 36s - loss: 0.0972 - acc: 0.9665 - val_loss: 0.0191 - val_acc: 0.9920\n",
      "Epoch 6/30\n",
      " - 36s - loss: 0.0892 - acc: 0.9695 - val_loss: 0.0464 - val_acc: 0.9950\n",
      "Epoch 7/30\n",
      " - 36s - loss: 0.0971 - acc: 0.9665 - val_loss: 0.0632 - val_acc: 0.9849\n",
      "Epoch 8/30\n",
      " - 36s - loss: 0.0863 - acc: 0.9765 - val_loss: 0.0806 - val_acc: 0.9870\n",
      "Epoch 9/30\n",
      " - 36s - loss: 0.0936 - acc: 0.9715 - val_loss: 0.0387 - val_acc: 0.9929\n",
      "Epoch 10/30\n",
      " - 36s - loss: 0.0625 - acc: 0.9790 - val_loss: 0.0613 - val_acc: 0.9860\n",
      "Epoch 11/30\n",
      " - 36s - loss: 0.0906 - acc: 0.9690 - val_loss: 0.0295 - val_acc: 0.9929\n",
      "Epoch 12/30\n",
      " - 36s - loss: 0.0816 - acc: 0.9744 - val_loss: 0.0663 - val_acc: 0.9910\n",
      "Epoch 13/30\n",
      " - 36s - loss: 0.0726 - acc: 0.9755 - val_loss: 0.1949 - val_acc: 0.9526\n",
      "Epoch 14/30\n",
      " - 36s - loss: 0.0855 - acc: 0.9775 - val_loss: 0.0201 - val_acc: 0.9970\n",
      "Epoch 15/30\n",
      " - 36s - loss: 0.0654 - acc: 0.9805 - val_loss: 0.0360 - val_acc: 0.9930\n",
      "Epoch 16/30\n",
      " - 36s - loss: 0.0769 - acc: 0.9713 - val_loss: 0.0658 - val_acc: 0.9829\n",
      "Epoch 17/30\n",
      " - 36s - loss: 0.0738 - acc: 0.9745 - val_loss: 0.0585 - val_acc: 0.9780\n",
      "Epoch 18/30\n",
      " - 36s - loss: 0.0854 - acc: 0.9750 - val_loss: 0.0271 - val_acc: 0.9950\n",
      "Epoch 19/30\n",
      " - 36s - loss: 0.0594 - acc: 0.9815 - val_loss: 0.0558 - val_acc: 0.9879\n",
      "Epoch 20/30\n",
      " - 36s - loss: 0.0640 - acc: 0.9779 - val_loss: 0.0530 - val_acc: 0.9890\n",
      "Epoch 21/30\n",
      " - 36s - loss: 0.0552 - acc: 0.9830 - val_loss: 0.0287 - val_acc: 0.9899\n",
      "Epoch 22/30\n",
      " - 36s - loss: 0.0906 - acc: 0.9785 - val_loss: 0.0811 - val_acc: 0.9790\n",
      "Epoch 23/30\n",
      " - 36s - loss: 0.0640 - acc: 0.9800 - val_loss: 0.1439 - val_acc: 0.9708\n",
      "Epoch 24/30\n",
      " - 36s - loss: 0.0726 - acc: 0.9780 - val_loss: 0.0495 - val_acc: 0.9930\n",
      "Epoch 25/30\n",
      " - 36s - loss: 0.0719 - acc: 0.9795 - val_loss: 0.0412 - val_acc: 0.9919\n",
      "Epoch 26/30\n",
      " - 36s - loss: 0.0690 - acc: 0.9800 - val_loss: 0.0688 - val_acc: 0.9849\n",
      "Epoch 27/30\n",
      " - 36s - loss: 0.0798 - acc: 0.9750 - val_loss: 0.0803 - val_acc: 0.9890\n",
      "Epoch 28/30\n",
      " - 36s - loss: 0.0679 - acc: 0.9810 - val_loss: 0.0926 - val_acc: 0.9869\n",
      "Epoch 29/30\n",
      " - 36s - loss: 0.0792 - acc: 0.9800 - val_loss: 0.0747 - val_acc: 0.9910\n",
      "Epoch 30/30\n",
      " - 36s - loss: 0.0821 - acc: 0.9780 - val_loss: 0.0725 - val_acc: 0.9909\n"
     ]
    }
   ],
   "source": [
    "COUNTRY = \"MIX\"\n",
    "\n",
    "t_base_dir = fpr.get_param(COUNTRY, \"PATH_ML_IMAGES_TURBINES_TRAIN\") + \"../\"\n",
    "\n",
    "v_base_dir = fpr.get_param(COUNTRY,\n",
    "                           \"PATH_ML_IMAGES_TURBINES_VALIDATION\") + \"../\"\n",
    "\n",
    "test_base_dir = fpr.get_param(COUNTRY, \"PATH_ML_IMAGES_TURBINES_TEST\") + \"../\"\n",
    "\n",
    "# Part II: Pretrained model\n",
    "\n",
    "\n",
    "conv_base = VGG16(weights='imagenet',\n",
    "                  include_top=False,\n",
    "                  input_shape=(256, 256, 3))\n",
    "\n",
    "model = models.Sequential()\n",
    "model.add(conv_base)\n",
    "model.add(layers.Flatten())\n",
    "model.add(layers.Dense(256, activation='relu'))\n",
    "model.add(layers.Dense(256, activation='relu'))\n",
    "model.add(layers.Dense(1, activation='sigmoid'))\n",
    "\n",
    "conv_base.trainable = True\n",
    "\n",
    "set_trainable = False\n",
    "for layer in conv_base.layers:\n",
    "    if layer.name == 'block4_conv1':\n",
    "        set_trainable = True\n",
    "    if set_trainable:\n",
    "        layer.trainable = True\n",
    "    else:\n",
    "        layer.trainable = False\n",
    "\n",
    "train_datagen = ImageDataGenerator(\n",
    "      rescale=1./255,\n",
    "      rotation_range=40,\n",
    "      width_shift_range=0.2,\n",
    "      height_shift_range=0.2,\n",
    "      shear_range=0.2,\n",
    "      zoom_range=0.2,\n",
    "      horizontal_flip=True,\n",
    "      fill_mode='nearest')\n",
    "\n",
    "# Note that the validation data should not be augmented!\n",
    "test_datagen = ImageDataGenerator(rescale=1./255)\n",
    "\n",
    "train_generator = train_datagen.flow_from_directory(\n",
    "        # This is the target directory\n",
    "        t_base_dir,\n",
    "        # All images will be resized to 150x150\n",
    "        # target_size=(150, 150),\n",
    "        batch_size=20,\n",
    "        # Since we use binary_crossentropy loss, we need binary labels\n",
    "        class_mode='binary')\n",
    "\n",
    "validation_generator = test_datagen.flow_from_directory(\n",
    "        v_base_dir,\n",
    "        # target_size=(150, 150),\n",
    "        batch_size=20,\n",
    "        class_mode='binary')\n",
    "\n",
    "model.compile(loss='binary_crossentropy',\n",
    "              optimizer=optimizers.RMSprop(lr=2e-5),\n",
    "              metrics=['acc'])\n",
    "\n",
    "mcp_save = ModelCheckpoint('models/model-{epoch:04d}-{val_loss:.4f}.h5',\n",
    "                           save_best_only=True, monitor='val_loss', mode='min')\n",
    "\n",
    "history = model.fit_generator(\n",
    "      train_generator,\n",
    "      steps_per_epoch=100,\n",
    "      epochs=30,\n",
    "      validation_data=validation_generator,\n",
    "      validation_steps=50,\n",
    "      callbacks=[mcp_save],\n",
    "      verbose=2)\n",
    "\n"
   ]
  },
  {
   "cell_type": "markdown",
   "metadata": {},
   "source": [
    "# Validation vs. Training"
   ]
  },
  {
   "cell_type": "code",
   "execution_count": 4,
   "metadata": {},
   "outputs": [
    {
     "data": {
      "image/png": "[encoded data removed]",
      "text/plain": [
       "<Figure size 432x288 with 1 Axes>"
      ]
     },
     "metadata": {
      "needs_background": "light"
     },
     "output_type": "display_data"
    },
    {
     "data": {
      "image/png": "[encoded data removed]",
      "text/plain": [
       "<Figure size 432x288 with 1 Axes>"
      ]
     },
     "metadata": {
      "needs_background": "light"
     },
     "output_type": "display_data"
    }
   ],
   "source": [
    "acc = history.history['acc']\n",
    "val_acc = history.history['val_acc']\n",
    "loss = history.history['loss']\n",
    "val_loss = history.history['val_loss']\n",
    "\n",
    "epochs = range(len(acc))\n",
    "\n",
    "plt.plot(epochs, acc, 'bo', label='Training acc')\n",
    "plt.plot(epochs, val_acc, 'b', label='Validation acc')\n",
    "plt.title('Training and validation accuracy')\n",
    "plt.legend()\n",
    "\n",
    "plt.figure()\n",
    "\n",
    "plt.plot(epochs, loss, 'bo', label='Training loss')\n",
    "plt.plot(epochs, val_loss, 'b', label='Validation loss')\n",
    "plt.title('Training and validation loss')\n",
    "plt.legend()\n",
    "\n",
    "plt.show()\n",
    "\n",
    "\n"
   ]
  },
  {
   "cell_type": "markdown",
   "metadata": {},
   "source": [
    "# Model selection"
   ]
  },
  {
   "cell_type": "code",
   "execution_count": 5,
   "metadata": {},
   "outputs": [
    {
     "data": {
      "text/plain": [
       "'models/model-0005-0.0191.h5'"
      ]
     },
     "execution_count": 5,
     "metadata": {},
     "output_type": "execute_result"
    }
   ],
   "source": [
    "min_val_loss = min(val_loss)\n",
    "\n",
    "i = val_loss.index(min_val_loss) + 1\n",
    "\n",
    "best_model = \"models/model-\" + \"{0:0=4d}\".format(i) + \"-\" + \"{0:.4f}\".format(min_val_loss) + \".h5\"\n",
    "\n",
    "best_model\n"
   ]
  },
  {
   "cell_type": "markdown",
   "metadata": {},
   "source": [
    "# Test"
   ]
  },
  {
   "cell_type": "code",
   "execution_count": 6,
   "metadata": {},
   "outputs": [
    {
     "name": "stdout",
     "output_type": "stream",
     "text": [
      "Found 1690 images belonging to 2 classes.\n",
      "test acc: 0.986328125\n",
      "test loss: 0.05518102074120179\n"
     ]
    }
   ],
   "source": [
    "test_base_dir=fpr.get_param(COUNTRY, \"PATH_ML_IMAGES_TURBINES_TEST\")+\"../\"\n",
    "\n",
    "test_model = models.load_model(best_model)\n",
    "\n",
    "test_datagen = ImageDataGenerator(rescale=1./255)\n",
    "\n",
    "test_generator = test_datagen.flow_from_directory(\n",
    "        test_base_dir,\n",
    "        target_size=(256, 256),\n",
    "        batch_size=32,\n",
    "        class_mode='binary')\n",
    "\n",
    "test_loss, test_acc = test_model.evaluate_generator(test_generator, steps=32)\n",
    "print('test acc:', test_acc)\n",
    "print('test loss:', test_loss)\n"
   ]
  }
 ],
 "metadata": {
  "kernelspec": {
   "display_name": "Python 3",
   "language": "python",
   "name": "python3"
  },
  "language_info": {
   "codemirror_mode": {
    "name": "ipython",
    "version": 3
   },
   "file_extension": ".py",
   "mimetype": "text/x-python",
   "name": "python",
   "nbconvert_exporter": "python",
   "pygments_lexer": "ipython3",
   "version": "3.7.0"
  }
 },
 "nbformat": 4,
 "nbformat_minor": 2
}
