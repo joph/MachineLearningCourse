{
 "cells": [
  {
   "cell_type": "code",
   "execution_count": 1,
   "metadata": {},
   "outputs": [
    {
     "name": "stdout",
     "output_type": "stream",
     "text": [
      "/data/projects/windturbine-identification/MachineLearningCourse\n"
     ]
    }
   ],
   "source": [
    "cd /data/projects/windturbine-identification/MachineLearningCourse"
   ]
  },
  {
   "cell_type": "code",
   "execution_count": 19,
   "metadata": {},
   "outputs": [],
   "source": [
    "# -*- coding: utf-8 -*-\n",
    "\"\"\"\n",
    "Created on Mon Feb 18 13:04:17 2019\n",
    "\n",
    "@author: jschmidt\n",
    "\"\"\"\n",
    "from keras import layers\n",
    "from keras import models\n",
    "from keras import optimizers\n",
    "from keras.preprocessing.image import ImageDataGenerator\n",
    "from keras.callbacks import ModelCheckpoint\n",
    "\n",
    "import pickle  # pip install dill --user\n",
    "import matplotlib.pyplot as plt\n",
    "from keras.applications import VGG16\n",
    "import tensorflow as tf\n",
    "\n",
    "import imp\n",
    "import scripts.windturbines.functions_pattern_recognition as fpr\n",
    "imp.reload(fpr)\n",
    "\n",
    "gpu_fraction = 0.8\n",
    "gpu_options = tf.GPUOptions(per_process_gpu_memory_fraction=gpu_fraction)\n",
    "sess = tf.Session(config=tf.ConfigProto(gpu_options=gpu_options))\n"
   ]
  },
  {
   "cell_type": "markdown",
   "metadata": {},
   "source": [
    "# Training Phase"
   ]
  },
  {
   "cell_type": "code",
   "execution_count": 20,
   "metadata": {},
   "outputs": [
    {
     "name": "stdout",
     "output_type": "stream",
     "text": [
      "Found 9075 images belonging to 2 classes.\n",
      "Found 1944 images belonging to 2 classes.\n",
      "Epoch 1/30\n",
      " - 37s - loss: 0.3771 - acc: 0.8185 - val_loss: 0.2442 - val_acc: 0.9250\n",
      "Epoch 2/30\n",
      " - 36s - loss: 0.2112 - acc: 0.9205 - val_loss: 0.1883 - val_acc: 0.9431\n",
      "Epoch 3/30\n",
      " - 36s - loss: 0.1655 - acc: 0.9390 - val_loss: 0.0861 - val_acc: 0.9690\n",
      "Epoch 4/30\n",
      " - 35s - loss: 0.1754 - acc: 0.9405 - val_loss: 0.0836 - val_acc: 0.9776\n",
      "Epoch 5/30\n",
      " - 37s - loss: 0.1258 - acc: 0.9517 - val_loss: 0.2176 - val_acc: 0.9470\n",
      "Epoch 6/30\n",
      " - 36s - loss: 0.1295 - acc: 0.9510 - val_loss: 0.0688 - val_acc: 0.9746\n",
      "Epoch 7/30\n",
      " - 36s - loss: 0.1434 - acc: 0.9540 - val_loss: 0.0548 - val_acc: 0.9800\n",
      "Epoch 8/30\n",
      " - 36s - loss: 0.1250 - acc: 0.9540 - val_loss: 0.0760 - val_acc: 0.9848\n",
      "Epoch 9/30\n",
      " - 36s - loss: 0.1292 - acc: 0.9550 - val_loss: 0.0716 - val_acc: 0.9800\n",
      "Epoch 10/30\n",
      " - 35s - loss: 0.1296 - acc: 0.9553 - val_loss: 0.0675 - val_acc: 0.9797\n",
      "Epoch 11/30\n",
      " - 36s - loss: 0.1143 - acc: 0.9555 - val_loss: 0.0841 - val_acc: 0.9800\n",
      "Epoch 12/30\n",
      " - 36s - loss: 0.1126 - acc: 0.9570 - val_loss: 0.0609 - val_acc: 0.9837\n",
      "Epoch 13/30\n",
      " - 36s - loss: 0.1274 - acc: 0.9550 - val_loss: 0.1127 - val_acc: 0.9700\n",
      "Epoch 14/30\n",
      " - 35s - loss: 0.1337 - acc: 0.9555 - val_loss: 0.0912 - val_acc: 0.9736\n",
      "Epoch 15/30\n",
      " - 36s - loss: 0.1298 - acc: 0.9595 - val_loss: 0.0465 - val_acc: 0.9830\n",
      "Epoch 16/30\n",
      " - 36s - loss: 0.1043 - acc: 0.9670 - val_loss: 0.0751 - val_acc: 0.9766\n",
      "Epoch 17/30\n",
      " - 36s - loss: 0.1165 - acc: 0.9530 - val_loss: 0.0977 - val_acc: 0.9680\n",
      "Epoch 18/30\n",
      " - 35s - loss: 0.1053 - acc: 0.9605 - val_loss: 0.0805 - val_acc: 0.9797\n",
      "Epoch 19/30\n",
      " - 36s - loss: 0.1100 - acc: 0.9625 - val_loss: 0.0776 - val_acc: 0.9790\n",
      "Epoch 20/30\n",
      " - 36s - loss: 0.1027 - acc: 0.9605 - val_loss: 0.1097 - val_acc: 0.9746\n",
      "Epoch 21/30\n",
      " - 36s - loss: 0.1016 - acc: 0.9660 - val_loss: 0.0766 - val_acc: 0.9730\n",
      "Epoch 22/30\n",
      " - 36s - loss: 0.1199 - acc: 0.9630 - val_loss: 0.0547 - val_acc: 0.9797\n",
      "Epoch 23/30\n",
      " - 36s - loss: 0.1104 - acc: 0.9550 - val_loss: 0.1254 - val_acc: 0.9690\n",
      "Epoch 24/30\n",
      " - 35s - loss: 0.1124 - acc: 0.9635 - val_loss: 0.0725 - val_acc: 0.9858\n",
      "Epoch 25/30\n",
      " - 36s - loss: 0.1073 - acc: 0.9655 - val_loss: 0.0572 - val_acc: 0.9860\n",
      "Epoch 26/30\n",
      " - 36s - loss: 0.1090 - acc: 0.9605 - val_loss: 0.0466 - val_acc: 0.9888\n",
      "Epoch 27/30\n",
      " - 36s - loss: 0.0860 - acc: 0.9700 - val_loss: 0.1093 - val_acc: 0.9760\n",
      "Epoch 28/30\n",
      " - 35s - loss: 0.1159 - acc: 0.9615 - val_loss: 0.0732 - val_acc: 0.9827\n",
      "Epoch 29/30\n",
      " - 36s - loss: 0.1234 - acc: 0.9665 - val_loss: 0.1376 - val_acc: 0.9760\n",
      "Epoch 30/30\n",
      " - 36s - loss: 0.1157 - acc: 0.9620 - val_loss: 0.0699 - val_acc: 0.9848\n"
     ]
    }
   ],
   "source": [
    "COUNTRY = \"MIX\"\n",
    "\n",
    "t_base_dir = fpr.get_param(COUNTRY, \"PATH_ML_IMAGES_TURBINES_TRAIN\") + \"../\"\n",
    "\n",
    "v_base_dir = fpr.get_param(COUNTRY,\n",
    "                           \"PATH_ML_IMAGES_TURBINES_VALIDATION\") + \"../\"\n",
    "\n",
    "test_base_dir = fpr.get_param(COUNTRY, \"PATH_ML_IMAGES_TURBINES_TEST\") + \"../\"\n",
    "\n",
    "# Part II: Pretrained model\n",
    "\n",
    "\n",
    "conv_base = VGG16(weights='imagenet',\n",
    "                  include_top=False,\n",
    "                  input_shape=(256, 256, 3))\n",
    "\n",
    "model = models.Sequential()\n",
    "model.add(conv_base)\n",
    "model.add(layers.Flatten())\n",
    "model.add(layers.Dense(256, activation='relu'))\n",
    "model.add(layers.Dense(256, activation='relu'))\n",
    "model.add(layers.Dense(1, activation='sigmoid'))\n",
    "\n",
    "conv_base.trainable = True\n",
    "\n",
    "set_trainable = False\n",
    "for layer in conv_base.layers:\n",
    "    if layer.name == 'block4_conv1':\n",
    "        set_trainable = True\n",
    "    if set_trainable:\n",
    "        layer.trainable = True\n",
    "    else:\n",
    "        layer.trainable = False\n",
    "\n",
    "train_datagen = ImageDataGenerator(\n",
    "      rescale=1./255,\n",
    "      rotation_range=40,\n",
    "      width_shift_range=0.2,\n",
    "      height_shift_range=0.2,\n",
    "      shear_range=0.2,\n",
    "      zoom_range=0.2,\n",
    "      horizontal_flip=True,\n",
    "      fill_mode='nearest')\n",
    "\n",
    "# Note that the validation data should not be augmented!\n",
    "test_datagen = ImageDataGenerator(rescale=1./255)\n",
    "\n",
    "train_generator = train_datagen.flow_from_directory(\n",
    "        # This is the target directory\n",
    "        t_base_dir,\n",
    "        # All images will be resized to 150x150\n",
    "        # target_size=(150, 150),\n",
    "        batch_size=20,\n",
    "        # Since we use binary_crossentropy loss, we need binary labels\n",
    "        class_mode='binary')\n",
    "\n",
    "validation_generator = test_datagen.flow_from_directory(\n",
    "        v_base_dir,\n",
    "        # target_size=(150, 150),\n",
    "        batch_size=20,\n",
    "        class_mode='binary')\n",
    "\n",
    "model.compile(loss='binary_crossentropy',\n",
    "              optimizer=optimizers.RMSprop(lr=2e-5),\n",
    "              metrics=['acc'])\n",
    "\n",
    "mcp_save = ModelCheckpoint('models/model-unfreezed-2-layer-2-layer-classification-6497-turbines-{epoch:04d}-{val_loss:.4f}.h5',\n",
    "                           save_best_only=True, monitor='val_loss', mode='min')\n",
    "\n",
    "history = model.fit_generator(\n",
    "      train_generator,\n",
    "      steps_per_epoch=100,\n",
    "      epochs=30,\n",
    "      validation_data=validation_generator,\n",
    "      validation_steps=50,\n",
    "      callbacks=[mcp_save],\n",
    "      verbose=2)\n",
    "\n"
   ]
  },
  {
   "cell_type": "markdown",
   "metadata": {},
   "source": [
    "# Validation vs. Training"
   ]
  },
  {
   "cell_type": "code",
   "execution_count": 21,
   "metadata": {},
   "outputs": [
    {
     "data": {
      "image/png": "[encoded data removed]",
      "text/plain": [
       "<Figure size 432x288 with 1 Axes>"
      ]
     },
     "metadata": {
      "needs_background": "light"
     },
     "output_type": "display_data"
    },
    {
     "data": {
      "image/png": "[encoded data removed]",
      "text/plain": [
       "<Figure size 432x288 with 1 Axes>"
      ]
     },
     "metadata": {
      "needs_background": "light"
     },
     "output_type": "display_data"
    }
   ],
   "source": [
    "acc = history.history['acc']\n",
    "val_acc = history.history['val_acc']\n",
    "loss = history.history['loss']\n",
    "val_loss = history.history['val_loss']\n",
    "\n",
    "epochs = range(len(acc))\n",
    "\n",
    "plt.plot(epochs, acc, 'bo', label='Training acc')\n",
    "plt.plot(epochs, val_acc, 'b', label='Validation acc')\n",
    "plt.title('Training and validation accuracy')\n",
    "plt.legend()\n",
    "\n",
    "plt.figure()\n",
    "\n",
    "plt.plot(epochs, loss, 'bo', label='Training loss')\n",
    "plt.plot(epochs, val_loss, 'b', label='Validation loss')\n",
    "plt.title('Training and validation loss')\n",
    "plt.legend()\n",
    "\n",
    "plt.show()\n",
    "\n",
    "\n"
   ]
  },
  {
   "cell_type": "markdown",
   "metadata": {},
   "source": [
    "# Model selection"
   ]
  },
  {
   "cell_type": "code",
   "execution_count": 22,
   "metadata": {},
   "outputs": [
    {
     "data": {
      "text/plain": [
       "'models/model-unfreezed-2-layer-2-layer-classification-6497-turbines-0015-0.0465.h5'"
      ]
     },
     "execution_count": 22,
     "metadata": {},
     "output_type": "execute_result"
    }
   ],
   "source": [
    "min_val_loss = min(val_loss)\n",
    "\n",
    "i = val_loss.index(min_val_loss) + 1\n",
    "\n",
    "best_model = \"models/model-unfreezed-2-layer-2-layer-classification-6497-turbines-\" + \"{0:0=4d}\".format(i) + \"-\" + \"{0:.4f}\".format(min_val_loss) + \".h5\"\n",
    "\n",
    "#best_model = \"models/model-unfreezed-2-layer-2-layer-classification-6497-turbines-0005-0.0339.h5\"\n",
    "\n",
    "best_model"
   ]
  },
  {
   "cell_type": "markdown",
   "metadata": {},
   "source": [
    "# Test"
   ]
  },
  {
   "cell_type": "code",
   "execution_count": 23,
   "metadata": {},
   "outputs": [
    {
     "name": "stdout",
     "output_type": "stream",
     "text": [
      "Found 1946 images belonging to 2 classes.\n",
      "test acc: 0.9765625\n",
      "test loss: 0.06705017705098726\n"
     ]
    }
   ],
   "source": [
    "test_base_dir = fpr.get_param(COUNTRY, \"PATH_ML_IMAGES_TURBINES_TEST\")+\"../\"\n",
    "\n",
    "test_model = models.load_model(best_model)\n",
    "\n",
    "test_datagen = ImageDataGenerator(rescale=1./255)\n",
    "\n",
    "test_generator = test_datagen.flow_from_directory(\n",
    "        test_base_dir,\n",
    "        target_size=(256, 256),\n",
    "        batch_size=32,\n",
    "        class_mode='binary')\n",
    "\n",
    "test_loss, test_acc = test_model.evaluate_generator(test_generator, steps=32)\n",
    "print('test acc:', test_acc)\n",
    "print('test loss:', test_loss)\n"
   ]
  }
 ],
 "metadata": {
  "kernelspec": {
   "display_name": "Python [conda env:.conda-windturbine-identification]",
   "language": "python",
   "name": "conda-env-.conda-windturbine-identification-py"
  },
  "language_info": {
   "codemirror_mode": {
    "name": "ipython",
    "version": 3
   },
   "file_extension": ".py",
   "mimetype": "text/x-python",
   "name": "python",
   "nbconvert_exporter": "python",
   "pygments_lexer": "ipython3",
   "version": "3.7.0"
  }
 },
 "nbformat": 4,
 "nbformat_minor": 2
}
