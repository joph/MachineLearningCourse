{
 "cells": [
  {
   "cell_type": "code",
   "execution_count": 27,
   "metadata": {},
   "outputs": [
    {
     "name": "stdout",
     "output_type": "stream",
     "text": [
      "/data/projects/windturbine-identification/MachineLearningCourse\n"
     ]
    }
   ],
   "source": [
    "cd /data/projects/windturbine-identification/MachineLearningCourse"
   ]
  },
  {
   "cell_type": "code",
   "execution_count": 28,
   "metadata": {},
   "outputs": [],
   "source": [
    "import imp\n",
    "import scripts.windturbines.functions_pattern_recognition as fpr\n",
    "imp.reload(fpr)\n",
    "import pandas as pd\n",
    "import numpy as np\n",
    "import shutil\n",
    "import os\n"
   ]
  },
  {
   "cell_type": "code",
   "execution_count": 66,
   "metadata": {},
   "outputs": [],
   "source": [
    "COUNTRY = \"DE\"\n",
    "\n",
    "assessment_file = (fpr.get_param(COUNTRY, \"FILE_OSM_TURBINE_LOCATIONS\") + \"assessment.csv\")\n",
    "\n",
    "p = pd.read_csv(assessment_file)"
   ]
  },
  {
   "cell_type": "code",
   "execution_count": 67,
   "metadata": {},
   "outputs": [],
   "source": [
    "p\n",
    "\n",
    "np.sum(p.prediction < 0)\n",
    "\n",
    "p = p.iloc[(p.prediction > 0).values,:]\n",
    "\n",
    "raw_dir = fpr.get_param(COUNTRY, \"PATH_RAW_IMAGES_OSM\")"
   ]
  },
  {
   "cell_type": "code",
   "execution_count": 68,
   "metadata": {},
   "outputs": [
    {
     "data": {
      "text/html": [
       "<div>\n",
       "<style scoped>\n",
       "    .dataframe tbody tr th:only-of-type {\n",
       "        vertical-align: middle;\n",
       "    }\n",
       "\n",
       "    .dataframe tbody tr th {\n",
       "        vertical-align: top;\n",
       "    }\n",
       "\n",
       "    .dataframe thead th {\n",
       "        text-align: right;\n",
       "    }\n",
       "</style>\n",
       "<table border=\"1\" class=\"dataframe\">\n",
       "  <thead>\n",
       "    <tr style=\"text-align: right;\">\n",
       "      <th></th>\n",
       "      <th>Unnamed: 0</th>\n",
       "      <th>Long</th>\n",
       "      <th>Lat</th>\n",
       "      <th>filenames</th>\n",
       "      <th>prediction</th>\n",
       "    </tr>\n",
       "  </thead>\n",
       "  <tbody>\n",
       "    <tr>\n",
       "      <th>0</th>\n",
       "      <td>0</td>\n",
       "      <td>8.908045</td>\n",
       "      <td>53.001961</td>\n",
       "      <td>1.tif</td>\n",
       "      <td>1.000000</td>\n",
       "    </tr>\n",
       "    <tr>\n",
       "      <th>1</th>\n",
       "      <td>1</td>\n",
       "      <td>8.906407</td>\n",
       "      <td>52.999098</td>\n",
       "      <td>2.tif</td>\n",
       "      <td>1.000000</td>\n",
       "    </tr>\n",
       "    <tr>\n",
       "      <th>2</th>\n",
       "      <td>2</td>\n",
       "      <td>8.912388</td>\n",
       "      <td>53.000557</td>\n",
       "      <td>3.tif</td>\n",
       "      <td>1.000000</td>\n",
       "    </tr>\n",
       "    <tr>\n",
       "      <th>3</th>\n",
       "      <td>3</td>\n",
       "      <td>8.841145</td>\n",
       "      <td>52.937948</td>\n",
       "      <td>4.tif</td>\n",
       "      <td>0.999974</td>\n",
       "    </tr>\n",
       "    <tr>\n",
       "      <th>4</th>\n",
       "      <td>4</td>\n",
       "      <td>8.843934</td>\n",
       "      <td>52.937405</td>\n",
       "      <td>5.tif</td>\n",
       "      <td>0.999912</td>\n",
       "    </tr>\n",
       "  </tbody>\n",
       "</table>\n",
       "</div>"
      ],
      "text/plain": [
       "   Unnamed: 0      Long        Lat filenames  prediction\n",
       "0           0  8.908045  53.001961     1.tif    1.000000\n",
       "1           1  8.906407  52.999098     2.tif    1.000000\n",
       "2           2  8.912388  53.000557     3.tif    1.000000\n",
       "3           3  8.841145  52.937948     4.tif    0.999974\n",
       "4           4  8.843934  52.937405     5.tif    0.999912"
      ]
     },
     "execution_count": 68,
     "metadata": {},
     "output_type": "execute_result"
    }
   ],
   "source": [
    "p.head()"
   ]
  },
  {
   "cell_type": "markdown",
   "metadata": {},
   "source": [
    "# Assess quantity of turbines"
   ]
  },
  {
   "cell_type": "code",
   "execution_count": 69,
   "metadata": {},
   "outputs": [],
   "source": [
    "p.columns = ['id', 'lon', 'lat', 'filenames', 'prediction']\n",
    "\n",
    "p = p[['id', 'lon', 'lat', 'prediction', 'filenames']]\n",
    "\n",
    "p['directory'] = \"\"\n",
    "\n",
    "\n",
    "\n",
    "\n",
    "\n",
    "\n",
    "\n",
    "\n",
    "\n"
   ]
  },
  {
   "cell_type": "code",
   "execution_count": 70,
   "metadata": {},
   "outputs": [
    {
     "data": {
      "text/html": [
       "<div>\n",
       "<style scoped>\n",
       "    .dataframe tbody tr th:only-of-type {\n",
       "        vertical-align: middle;\n",
       "    }\n",
       "\n",
       "    .dataframe tbody tr th {\n",
       "        vertical-align: top;\n",
       "    }\n",
       "\n",
       "    .dataframe thead th {\n",
       "        text-align: right;\n",
       "    }\n",
       "</style>\n",
       "<table border=\"1\" class=\"dataframe\">\n",
       "  <thead>\n",
       "    <tr style=\"text-align: right;\">\n",
       "      <th></th>\n",
       "      <th>id</th>\n",
       "      <th>lon</th>\n",
       "      <th>lat</th>\n",
       "      <th>prediction</th>\n",
       "      <th>filenames</th>\n",
       "      <th>directory</th>\n",
       "    </tr>\n",
       "  </thead>\n",
       "  <tbody>\n",
       "    <tr>\n",
       "      <th>0</th>\n",
       "      <td>0</td>\n",
       "      <td>8.908045</td>\n",
       "      <td>53.001961</td>\n",
       "      <td>1.000000</td>\n",
       "      <td>1.tif</td>\n",
       "      <td></td>\n",
       "    </tr>\n",
       "    <tr>\n",
       "      <th>1</th>\n",
       "      <td>1</td>\n",
       "      <td>8.906407</td>\n",
       "      <td>52.999098</td>\n",
       "      <td>1.000000</td>\n",
       "      <td>2.tif</td>\n",
       "      <td></td>\n",
       "    </tr>\n",
       "    <tr>\n",
       "      <th>2</th>\n",
       "      <td>2</td>\n",
       "      <td>8.912388</td>\n",
       "      <td>53.000557</td>\n",
       "      <td>1.000000</td>\n",
       "      <td>3.tif</td>\n",
       "      <td></td>\n",
       "    </tr>\n",
       "    <tr>\n",
       "      <th>3</th>\n",
       "      <td>3</td>\n",
       "      <td>8.841145</td>\n",
       "      <td>52.937948</td>\n",
       "      <td>0.999974</td>\n",
       "      <td>4.tif</td>\n",
       "      <td></td>\n",
       "    </tr>\n",
       "    <tr>\n",
       "      <th>4</th>\n",
       "      <td>4</td>\n",
       "      <td>8.843934</td>\n",
       "      <td>52.937405</td>\n",
       "      <td>0.999912</td>\n",
       "      <td>5.tif</td>\n",
       "      <td></td>\n",
       "    </tr>\n",
       "  </tbody>\n",
       "</table>\n",
       "</div>"
      ],
      "text/plain": [
       "   id       lon        lat  prediction filenames directory\n",
       "0   0  8.908045  53.001961    1.000000     1.tif          \n",
       "1   1  8.906407  52.999098    1.000000     2.tif          \n",
       "2   2  8.912388  53.000557    1.000000     3.tif          \n",
       "3   3  8.841145  52.937948    0.999974     4.tif          \n",
       "4   4  8.843934  52.937405    0.999912     5.tif          "
      ]
     },
     "execution_count": 70,
     "metadata": {},
     "output_type": "execute_result"
    }
   ],
   "source": [
    "p.head()"
   ]
  },
  {
   "cell_type": "code",
   "execution_count": 82,
   "metadata": {},
   "outputs": [
    {
     "name": "stdout",
     "output_type": "stream",
     "text": [
      "Turbines: 24471\n",
      "Total number of images: 26948\n",
      "Turbines: 23726\n",
      "Total number of images: 26948\n",
      "Turbines: 22992\n",
      "Total number of images: 26948\n",
      "Turbines: 21770\n",
      "Total number of images: 26948\n",
      "Turbines: 19906\n",
      "Total number of images: 26948\n",
      "Turbines: 17525\n",
      "Total number of images: 26948\n",
      "Turbines: 13860\n",
      "Total number of images: 26948\n",
      "Turbines: 24886\n",
      "Total number of images: 26948\n"
     ]
    },
    {
     "data": {
      "text/plain": [
       "<matplotlib.axes._subplots.AxesSubplot at 0x7fa3f63befd0>"
      ]
     },
     "execution_count": 82,
     "metadata": {},
     "output_type": "execute_result"
    },
    {
     "data": {
      "image/png": "[encoded data removed]",
      "text/plain": [
       "<Figure size 432x288 with 1 Axes>"
      ]
     },
     "metadata": {
      "needs_background": "light"
     },
     "output_type": "display_data"
    }
   ],
   "source": [
    "threshold = 0.5\n",
    "\n",
    "print(\"Turbines: \" + str(sum(p.prediction > threshold)))\n",
    "print(\"Total number of images: \" + str(sum(p.prediction > 0)))\n",
    "\n",
    "threshold = 0.99\n",
    "\n",
    "print(\"Turbines: \" + str(sum(p.prediction > threshold)))\n",
    "print(\"Total number of images: \" + str(sum(p.prediction > 0)))\n",
    "\n",
    "threshold = 0.999\n",
    "\n",
    "print(\"Turbines: \" + str(sum(p.prediction > threshold)))\n",
    "print(\"Total number of images: \" + str(sum(p.prediction > 0)))\n",
    "\n",
    "threshold = 0.9999\n",
    "\n",
    "print(\"Turbines: \" + str(sum(p.prediction > threshold)))\n",
    "print(\"Total number of images: \" + str(sum(p.prediction > 0)))\n",
    "\n",
    "threshold = 0.99999\n",
    "\n",
    "print(\"Turbines: \" + str(sum(p.prediction > threshold)))\n",
    "print(\"Total number of images: \" + str(sum(p.prediction > 0)))\n",
    "\n",
    "threshold = 0.999999\n",
    "\n",
    "print(\"Turbines: \" + str(sum(p.prediction > threshold)))\n",
    "print(\"Total number of images: \" + str(sum(p.prediction > 0)))\n",
    "\n",
    "threshold = 0.9999999\n",
    "\n",
    "print(\"Turbines: \" + str(sum(p.prediction > threshold)))\n",
    "print(\"Total number of images: \" + str(sum(p.prediction > 0)))\n",
    "\n",
    "threshold = 0.10\n",
    "\n",
    "print(\"Turbines: \" + str(sum(p.prediction > threshold)))\n",
    "print(\"Total number of images: \" + str(sum(p.prediction > 0)))\n",
    "\n",
    "p.prediction.hist(bins=100)\n"
   ]
  },
  {
   "cell_type": "code",
   "execution_count": 88,
   "metadata": {},
   "outputs": [],
   "source": [
    "#shutil.rmtree(raw_dir + \"no_turbines/\", ignore_errors=True) \n",
    "#os.makedirs(raw_dir + \"no_turbines/\")\n",
    "shutil.rmtree(raw_dir + \"turbines/\", ignore_errors=True) \n",
    "os.makedirs(raw_dir + \"turbines/\")"
   ]
  },
  {
   "cell_type": "markdown",
   "metadata": {},
   "source": [
    "# copy files"
   ]
  },
  {
   "cell_type": "code",
   "execution_count": 89,
   "metadata": {},
   "outputs": [
    {
     "name": "stdout",
     "output_type": "stream",
     "text": [
      "src: data/aerialImages/GOOGLE/RESOLUTION19/DE/osm//9000.tif\n",
      "dst: data/aerialImages/GOOGLE/RESOLUTION19/DE/osm/turbines/9000_0.7664268016815186_.png\n",
      "src: data/aerialImages/GOOGLE/RESOLUTION19/DE/osm//12121.tif\n",
      "dst: data/aerialImages/GOOGLE/RESOLUTION19/DE/osm/turbines/12121_0.7414954900741577_.png\n",
      "src: data/aerialImages/GOOGLE/RESOLUTION19/DE/osm//15251.tif\n",
      "dst: data/aerialImages/GOOGLE/RESOLUTION19/DE/osm/turbines/15251_0.405479907989502_.png\n",
      "src: data/aerialImages/GOOGLE/RESOLUTION19/DE/osm//19551.tif\n",
      "dst: data/aerialImages/GOOGLE/RESOLUTION19/DE/osm/turbines/19551_0.5828740000724792_.png\n",
      "src: data/aerialImages/GOOGLE/RESOLUTION19/DE/osm//20651.tif\n",
      "dst: data/aerialImages/GOOGLE/RESOLUTION19/DE/osm/turbines/20651_0.16519972681999207_.png\n",
      "src: data/aerialImages/GOOGLE/RESOLUTION19/DE/osm//25654.tif\n",
      "dst: data/aerialImages/GOOGLE/RESOLUTION19/DE/osm/turbines/25654_0.11453888565301895_.png\n",
      "src: data/aerialImages/GOOGLE/RESOLUTION19/DE/osm//26654.tif\n",
      "dst: data/aerialImages/GOOGLE/RESOLUTION19/DE/osm/turbines/26654_0.2198308557271957_.png\n",
      "src: data/aerialImages/GOOGLE/RESOLUTION19/DE/osm//26954.tif\n",
      "dst: data/aerialImages/GOOGLE/RESOLUTION19/DE/osm/turbines/26954_0.6495442390441895_.png\n"
     ]
    }
   ],
   "source": [
    "fpr.copy_threshold_files(p, 0.1, 0.9, raw_dir, \"turbines\")\n"
   ]
  },
  {
   "cell_type": "code",
   "execution_count": 87,
   "metadata": {},
   "outputs": [
    {
     "name": "stdout",
     "output_type": "stream",
     "text": [
      "src: data/aerialImages/GOOGLE/RESOLUTION19/DE/osm//3300.tif\n",
      "dst: data/aerialImages/GOOGLE/RESOLUTION19/DE/osm/no_turbines/3300_0.03360087424516678_.png\n",
      "src: data/aerialImages/GOOGLE/RESOLUTION19/DE/osm//8600.tif\n",
      "dst: data/aerialImages/GOOGLE/RESOLUTION19/DE/osm/no_turbines/8600_0.09085089713335036_.png\n",
      "src: data/aerialImages/GOOGLE/RESOLUTION19/DE/osm//8800.tif\n",
      "dst: data/aerialImages/GOOGLE/RESOLUTION19/DE/osm/no_turbines/8800_0.0379074290394783_.png\n",
      "src: data/aerialImages/GOOGLE/RESOLUTION19/DE/osm//14751.tif\n",
      "dst: data/aerialImages/GOOGLE/RESOLUTION19/DE/osm/no_turbines/14751_0.006810869090259075_.png\n",
      "src: data/aerialImages/GOOGLE/RESOLUTION19/DE/osm//15451.tif\n",
      "dst: data/aerialImages/GOOGLE/RESOLUTION19/DE/osm/no_turbines/15451_0.039695411920547485_.png\n",
      "src: data/aerialImages/GOOGLE/RESOLUTION19/DE/osm//15651.tif\n",
      "dst: data/aerialImages/GOOGLE/RESOLUTION19/DE/osm/no_turbines/15651_0.013529151678085329_.png\n",
      "src: data/aerialImages/GOOGLE/RESOLUTION19/DE/osm//17851.tif\n",
      "dst: data/aerialImages/GOOGLE/RESOLUTION19/DE/osm/no_turbines/17851_0.08390640467405319_.png\n",
      "src: data/aerialImages/GOOGLE/RESOLUTION19/DE/osm//18751.tif\n",
      "dst: data/aerialImages/GOOGLE/RESOLUTION19/DE/osm/no_turbines/18751_0.06380897760391235_.png\n",
      "src: data/aerialImages/GOOGLE/RESOLUTION19/DE/osm//20151.tif\n",
      "dst: data/aerialImages/GOOGLE/RESOLUTION19/DE/osm/no_turbines/20151_0.0035230033099651337_.png\n",
      "src: data/aerialImages/GOOGLE/RESOLUTION19/DE/osm//20551.tif\n",
      "dst: data/aerialImages/GOOGLE/RESOLUTION19/DE/osm/no_turbines/20551_3.6879315302940086e-05_.png\n",
      "src: data/aerialImages/GOOGLE/RESOLUTION19/DE/osm//21054.tif\n",
      "dst: data/aerialImages/GOOGLE/RESOLUTION19/DE/osm/no_turbines/21054_0.020312564447522163_.png\n",
      "src: data/aerialImages/GOOGLE/RESOLUTION19/DE/osm//22354.tif\n",
      "dst: data/aerialImages/GOOGLE/RESOLUTION19/DE/osm/no_turbines/22354_0.08564631640911102_.png\n",
      "src: data/aerialImages/GOOGLE/RESOLUTION19/DE/osm//23554.tif\n",
      "dst: data/aerialImages/GOOGLE/RESOLUTION19/DE/osm/no_turbines/23554_0.0617985911667347_.png\n",
      "src: data/aerialImages/GOOGLE/RESOLUTION19/DE/osm//23854.tif\n",
      "dst: data/aerialImages/GOOGLE/RESOLUTION19/DE/osm/no_turbines/23854_0.0008721971535123885_.png\n",
      "src: data/aerialImages/GOOGLE/RESOLUTION19/DE/osm//24254.tif\n",
      "dst: data/aerialImages/GOOGLE/RESOLUTION19/DE/osm/no_turbines/24254_0.006965893320739268_.png\n",
      "src: data/aerialImages/GOOGLE/RESOLUTION19/DE/osm//24654.tif\n",
      "dst: data/aerialImages/GOOGLE/RESOLUTION19/DE/osm/no_turbines/24654_0.004285527393221854_.png\n",
      "src: data/aerialImages/GOOGLE/RESOLUTION19/DE/osm//24754.tif\n",
      "dst: data/aerialImages/GOOGLE/RESOLUTION19/DE/osm/no_turbines/24754_0.027119763195514682_.png\n",
      "src: data/aerialImages/GOOGLE/RESOLUTION19/DE/osm//24954.tif\n",
      "dst: data/aerialImages/GOOGLE/RESOLUTION19/DE/osm/no_turbines/24954_0.002683162922039628_.png\n",
      "src: data/aerialImages/GOOGLE/RESOLUTION19/DE/osm//25954.tif\n",
      "dst: data/aerialImages/GOOGLE/RESOLUTION19/DE/osm/no_turbines/25954_0.019954327493906018_.png\n",
      "src: data/aerialImages/GOOGLE/RESOLUTION19/DE/osm//26254.tif\n",
      "dst: data/aerialImages/GOOGLE/RESOLUTION19/DE/osm/no_turbines/26254_3.3132164389826364e-05_.png\n",
      "src: data/aerialImages/GOOGLE/RESOLUTION19/DE/osm//26354.tif\n",
      "dst: data/aerialImages/GOOGLE/RESOLUTION19/DE/osm/no_turbines/26354_0.07526713609695435_.png\n",
      "src: data/aerialImages/GOOGLE/RESOLUTION19/DE/osm//26454.tif\n",
      "dst: data/aerialImages/GOOGLE/RESOLUTION19/DE/osm/no_turbines/26454_0.0012377853272482753_.png\n",
      "src: data/aerialImages/GOOGLE/RESOLUTION19/DE/osm//26554.tif\n",
      "dst: data/aerialImages/GOOGLE/RESOLUTION19/DE/osm/no_turbines/26554_0.0010175752686336637_.png\n"
     ]
    }
   ],
   "source": [
    "fpr.copy_threshold_files(p, 0, 0.1, raw_dir, \"no_turbines\")"
   ]
  },
  {
   "cell_type": "code",
   "execution_count": null,
   "metadata": {},
   "outputs": [],
   "source": []
  },
  {
   "cell_type": "code",
   "execution_count": 15,
   "metadata": {},
   "outputs": [
    {
     "data": {
      "text/plain": [
       "0          True\n",
       "1          True\n",
       "2          True\n",
       "3          True\n",
       "4          True\n",
       "5          True\n",
       "6          True\n",
       "7          True\n",
       "8          True\n",
       "9          True\n",
       "10         True\n",
       "11         True\n",
       "12         True\n",
       "13         True\n",
       "14         True\n",
       "15         True\n",
       "16         True\n",
       "17         True\n",
       "18         True\n",
       "19         True\n",
       "20         True\n",
       "21         True\n",
       "22         True\n",
       "23         True\n",
       "24         True\n",
       "25         True\n",
       "26         True\n",
       "27         True\n",
       "28         True\n",
       "29         True\n",
       "          ...  \n",
       "180749    False\n",
       "180750    False\n",
       "180751    False\n",
       "180752    False\n",
       "180753    False\n",
       "180754    False\n",
       "180755    False\n",
       "180756    False\n",
       "180757    False\n",
       "180758    False\n",
       "180759    False\n",
       "180760    False\n",
       "180761    False\n",
       "180762    False\n",
       "180763    False\n",
       "180764    False\n",
       "180765    False\n",
       "180766    False\n",
       "180767    False\n",
       "180768    False\n",
       "180769    False\n",
       "180770    False\n",
       "180771    False\n",
       "180772    False\n",
       "180773    False\n",
       "180774    False\n",
       "180775    False\n",
       "180776    False\n",
       "180777    False\n",
       "180778    False\n",
       "Name: 0, Length: 180779, dtype: bool"
      ]
     },
     "execution_count": 15,
     "metadata": {},
     "output_type": "execute_result"
    }
   ],
   "source": []
  }
 ],
 "metadata": {
  "kernelspec": {
   "display_name": "Python [conda env:.conda-windturbine-identification]",
   "language": "python",
   "name": "conda-env-.conda-windturbine-identification-py"
  },
  "language_info": {
   "codemirror_mode": {
    "name": "ipython",
    "version": 3
   },
   "file_extension": ".py",
   "mimetype": "text/x-python",
   "name": "python",
   "nbconvert_exporter": "python",
   "pygments_lexer": "ipython3",
   "version": "3.7.0"
  }
 },
 "nbformat": 4,
 "nbformat_minor": 2
}
