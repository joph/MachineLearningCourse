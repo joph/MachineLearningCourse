{
 "cells": [
  {
   "cell_type": "code",
   "execution_count": 8,
   "metadata": {
    "ExecuteTime": {
     "end_time": "2019-07-11T16:00:38.350145Z",
     "start_time": "2019-07-11T16:00:38.345874Z"
    }
   },
   "outputs": [
    {
     "name": "stdout",
     "output_type": "stream",
     "text": [
      "/home/jschmidt\n"
     ]
    }
   ],
   "source": [
    "cd ~"
   ]
  },
  {
   "cell_type": "code",
   "execution_count": 3,
   "metadata": {
    "ExecuteTime": {
     "end_time": "2019-07-11T15:24:15.713787Z",
     "start_time": "2019-07-11T15:24:15.694531Z"
    }
   },
   "outputs": [],
   "source": [
    "import landsatxplore.api"
   ]
  },
  {
   "cell_type": "code",
   "execution_count": 12,
   "metadata": {
    "ExecuteTime": {
     "end_time": "2019-07-11T16:02:41.242798Z",
     "start_time": "2019-07-11T16:02:38.001985Z"
    }
   },
   "outputs": [
    {
     "name": "stdout",
     "output_type": "stream",
     "text": [
      "7 scenes found.\n",
      "1995-05-10\n",
      "1995-06-11\n",
      "1995-06-27\n",
      "1995-08-14\n",
      "1995-08-14\n",
      "1996-03-25\n",
      "1996-03-25\n"
     ]
    },
    {
     "data": {
      "text/plain": [
       "[{'acquisitionDate': '1995-05-10',\n",
       "  'startTime': '1995-05-10',\n",
       "  'endTime': '1995-05-10',\n",
       "  'spatialFootprint': {'type': 'Polygon',\n",
       "   'coordinates': [[[-2.51929, 19.5705],\n",
       "     [-0.77783, 19.31729],\n",
       "     [-0.39993, 20.90394],\n",
       "     [-2.15865, 21.15965],\n",
       "     [-2.51929, 19.5705]]]},\n",
       "  'sceneBounds': '-2.51929,19.31729,-0.39993,21.15965',\n",
       "  'browseUrl': 'https://ims.cr.usgs.gov/browse/landsat_tm_c1/1995/196/046/LT05_L1GS_196046_19950510_20170108_01_T2.jpg',\n",
       "  'dataAccessUrl': 'https://earthexplorer.usgs.gov/order/process?dataset_name=LANDSAT_TM_C1&ordered=LT51960461995130MPS00&node=INVSVC',\n",
       "  'downloadUrl': 'https://earthexplorer.usgs.gov/download/external/options/LANDSAT_TM_C1/LT51960461995130MPS00/INVSVC/',\n",
       "  'entityId': 'LT51960461995130MPS00',\n",
       "  'displayId': 'LT05_L1GS_196046_19950510_20170108_01_T2',\n",
       "  'cloudCover': 2,\n",
       "  'metadataUrl': 'https://earthexplorer.usgs.gov/metadata/xml/12266/LT51960461995130MPS00/',\n",
       "  'fgdcMetadataUrl': 'https://earthexplorer.usgs.gov/fgdc/12266/LT51960461995130MPS00/save_xml',\n",
       "  'modifiedDate': '1995-05-10T00:00:00',\n",
       "  'orderUrl': 'https://earthexplorer.usgs.gov/order/process?dataset_name=LANDSAT_TM_C1&ordered=LT51960461995130MPS00&node=INVSVC',\n",
       "  'bulkOrdered': False,\n",
       "  'ordered': False,\n",
       "  'summary': 'Entity ID: LT05_L1GS_196046_19950510_20170108_01_T2, Acquisition Date: 10-MAY-95, Path: 196, Row: 46'},\n",
       " {'acquisitionDate': '1995-06-11',\n",
       "  'startTime': '1995-06-11',\n",
       "  'endTime': '1995-06-11',\n",
       "  'spatialFootprint': {'type': 'Polygon',\n",
       "   'coordinates': [[[-2.84046, 18.11211],\n",
       "     [-1.11352, 17.86101],\n",
       "     [-0.74096, 19.4483],\n",
       "     [-2.48369, 19.70169],\n",
       "     [-2.84046, 18.11211]]]},\n",
       "  'sceneBounds': '-2.84046,17.86101,-0.74096,19.70169',\n",
       "  'browseUrl': 'https://ims.cr.usgs.gov/browse/landsat_tm_c1/1995/196/047/LT05_L1TP_196047_19950611_20170109_01_T1.jpg',\n",
       "  'dataAccessUrl': 'https://earthexplorer.usgs.gov/order/process?dataset_name=LANDSAT_TM_C1&ordered=LT51960471995162MPS00&node=INVSVC',\n",
       "  'downloadUrl': 'https://earthexplorer.usgs.gov/download/external/options/LANDSAT_TM_C1/LT51960471995162MPS00/INVSVC/',\n",
       "  'entityId': 'LT51960471995162MPS00',\n",
       "  'displayId': 'LT05_L1TP_196047_19950611_20170109_01_T1',\n",
       "  'cloudCover': 1,\n",
       "  'metadataUrl': 'https://earthexplorer.usgs.gov/metadata/xml/12266/LT51960471995162MPS00/',\n",
       "  'fgdcMetadataUrl': 'https://earthexplorer.usgs.gov/fgdc/12266/LT51960471995162MPS00/save_xml',\n",
       "  'modifiedDate': '1995-06-11T00:00:00',\n",
       "  'orderUrl': 'https://earthexplorer.usgs.gov/order/process?dataset_name=LANDSAT_TM_C1&ordered=LT51960471995162MPS00&node=INVSVC',\n",
       "  'bulkOrdered': False,\n",
       "  'ordered': False,\n",
       "  'summary': 'Entity ID: LT05_L1TP_196047_19950611_20170109_01_T1, Acquisition Date: 11-JUN-95, Path: 196, Row: 47'},\n",
       " {'acquisitionDate': '1995-06-27',\n",
       "  'startTime': '1995-06-27',\n",
       "  'endTime': '1995-06-27',\n",
       "  'spatialFootprint': {'type': 'Polygon',\n",
       "   'coordinates': [[[-2.84867, 18.11743],\n",
       "     [-1.12168, 17.86633],\n",
       "     [-0.74911, 19.45362],\n",
       "     [-2.49189, 19.70701],\n",
       "     [-2.84867, 18.11743]]]},\n",
       "  'sceneBounds': '-2.84867,17.86633,-0.74911,19.70701',\n",
       "  'browseUrl': 'https://ims.cr.usgs.gov/browse/landsat_tm_c1/1995/196/047/LT05_L1TP_196047_19950627_20170107_01_T1.jpg',\n",
       "  'dataAccessUrl': 'https://earthexplorer.usgs.gov/order/process?dataset_name=LANDSAT_TM_C1&ordered=LT51960471995178MPS00&node=INVSVC',\n",
       "  'downloadUrl': 'https://earthexplorer.usgs.gov/download/external/options/LANDSAT_TM_C1/LT51960471995178MPS00/INVSVC/',\n",
       "  'entityId': 'LT51960471995178MPS00',\n",
       "  'displayId': 'LT05_L1TP_196047_19950627_20170107_01_T1',\n",
       "  'cloudCover': 1,\n",
       "  'metadataUrl': 'https://earthexplorer.usgs.gov/metadata/xml/12266/LT51960471995178MPS00/',\n",
       "  'fgdcMetadataUrl': 'https://earthexplorer.usgs.gov/fgdc/12266/LT51960471995178MPS00/save_xml',\n",
       "  'modifiedDate': '1995-06-27T00:00:00',\n",
       "  'orderUrl': 'https://earthexplorer.usgs.gov/order/process?dataset_name=LANDSAT_TM_C1&ordered=LT51960471995178MPS00&node=INVSVC',\n",
       "  'bulkOrdered': False,\n",
       "  'ordered': False,\n",
       "  'summary': 'Entity ID: LT05_L1TP_196047_19950627_20170107_01_T1, Acquisition Date: 27-JUN-95, Path: 196, Row: 47'},\n",
       " {'acquisitionDate': '1995-08-14',\n",
       "  'startTime': '1995-08-14',\n",
       "  'endTime': '1995-08-14',\n",
       "  'spatialFootprint': {'type': 'Polygon',\n",
       "   'coordinates': [[[-2.5527, 19.57757],\n",
       "     [-0.81117, 19.32436],\n",
       "     [-0.43325, 20.911],\n",
       "     [-2.19205, 21.16673],\n",
       "     [-2.5527, 19.57757]]]},\n",
       "  'sceneBounds': '-2.5527,19.32436,-0.43325,21.16673',\n",
       "  'browseUrl': 'https://ims.cr.usgs.gov/browse/landsat_tm_c1/1995/196/046/LT05_L1TP_196046_19950814_20170107_01_T1.jpg',\n",
       "  'dataAccessUrl': 'https://earthexplorer.usgs.gov/order/process?dataset_name=LANDSAT_TM_C1&ordered=LT51960461995226MPS00&node=INVSVC',\n",
       "  'downloadUrl': 'https://earthexplorer.usgs.gov/download/external/options/LANDSAT_TM_C1/LT51960461995226MPS00/INVSVC/',\n",
       "  'entityId': 'LT51960461995226MPS00',\n",
       "  'displayId': 'LT05_L1TP_196046_19950814_20170107_01_T1',\n",
       "  'cloudCover': 0,\n",
       "  'metadataUrl': 'https://earthexplorer.usgs.gov/metadata/xml/12266/LT51960461995226MPS00/',\n",
       "  'fgdcMetadataUrl': 'https://earthexplorer.usgs.gov/fgdc/12266/LT51960461995226MPS00/save_xml',\n",
       "  'modifiedDate': '1995-08-14T00:00:00',\n",
       "  'orderUrl': 'https://earthexplorer.usgs.gov/order/process?dataset_name=LANDSAT_TM_C1&ordered=LT51960461995226MPS00&node=INVSVC',\n",
       "  'bulkOrdered': False,\n",
       "  'ordered': False,\n",
       "  'summary': 'Entity ID: LT05_L1TP_196046_19950814_20170107_01_T1, Acquisition Date: 14-AUG-95, Path: 196, Row: 46'},\n",
       " {'acquisitionDate': '1995-08-14',\n",
       "  'startTime': '1995-08-14',\n",
       "  'endTime': '1995-08-14',\n",
       "  'spatialFootprint': {'type': 'Polygon',\n",
       "   'coordinates': [[[-2.87634, 18.11911],\n",
       "     [-1.14933, 17.86801],\n",
       "     [-0.77676, 19.4553],\n",
       "     [-2.51956, 19.7087],\n",
       "     [-2.87634, 18.11911]]]},\n",
       "  'sceneBounds': '-2.87634,17.86801,-0.77676,19.7087',\n",
       "  'browseUrl': 'https://ims.cr.usgs.gov/browse/landsat_tm_c1/1995/196/047/LT05_L1TP_196047_19950814_20170107_01_T1.jpg',\n",
       "  'dataAccessUrl': 'https://earthexplorer.usgs.gov/order/process?dataset_name=LANDSAT_TM_C1&ordered=LT51960471995226MPS00&node=INVSVC',\n",
       "  'downloadUrl': 'https://earthexplorer.usgs.gov/download/external/options/LANDSAT_TM_C1/LT51960471995226MPS00/INVSVC/',\n",
       "  'entityId': 'LT51960471995226MPS00',\n",
       "  'displayId': 'LT05_L1TP_196047_19950814_20170107_01_T1',\n",
       "  'cloudCover': 0,\n",
       "  'metadataUrl': 'https://earthexplorer.usgs.gov/metadata/xml/12266/LT51960471995226MPS00/',\n",
       "  'fgdcMetadataUrl': 'https://earthexplorer.usgs.gov/fgdc/12266/LT51960471995226MPS00/save_xml',\n",
       "  'modifiedDate': '1995-08-14T00:00:00',\n",
       "  'orderUrl': 'https://earthexplorer.usgs.gov/order/process?dataset_name=LANDSAT_TM_C1&ordered=LT51960471995226MPS00&node=INVSVC',\n",
       "  'bulkOrdered': False,\n",
       "  'ordered': False,\n",
       "  'summary': 'Entity ID: LT05_L1TP_196047_19950814_20170107_01_T1, Acquisition Date: 14-AUG-95, Path: 196, Row: 47'},\n",
       " {'acquisitionDate': '1996-03-25',\n",
       "  'startTime': '1996-03-25',\n",
       "  'endTime': '1996-03-25',\n",
       "  'spatialFootprint': {'type': 'Polygon',\n",
       "   'coordinates': [[[-2.50587, 19.56504],\n",
       "     [-0.76447, 19.31184],\n",
       "     [-0.38659, 20.8985],\n",
       "     [-2.14525, 21.1542],\n",
       "     [-2.50587, 19.56504]]]},\n",
       "  'sceneBounds': '-2.50587,19.31184,-0.38659,21.1542',\n",
       "  'browseUrl': 'https://ims.cr.usgs.gov/browse/landsat_tm_c1/1996/196/046/LT05_L1TP_196046_19960325_20170105_01_T1.jpg',\n",
       "  'dataAccessUrl': 'https://earthexplorer.usgs.gov/order/process?dataset_name=LANDSAT_TM_C1&ordered=LT51960461996085MPS00&node=INVSVC',\n",
       "  'downloadUrl': 'https://earthexplorer.usgs.gov/download/external/options/LANDSAT_TM_C1/LT51960461996085MPS00/INVSVC/',\n",
       "  'entityId': 'LT51960461996085MPS00',\n",
       "  'displayId': 'LT05_L1TP_196046_19960325_20170105_01_T1',\n",
       "  'cloudCover': 4,\n",
       "  'metadataUrl': 'https://earthexplorer.usgs.gov/metadata/xml/12266/LT51960461996085MPS00/',\n",
       "  'fgdcMetadataUrl': 'https://earthexplorer.usgs.gov/fgdc/12266/LT51960461996085MPS00/save_xml',\n",
       "  'modifiedDate': '1996-03-25T00:00:00',\n",
       "  'orderUrl': 'https://earthexplorer.usgs.gov/order/process?dataset_name=LANDSAT_TM_C1&ordered=LT51960461996085MPS00&node=INVSVC',\n",
       "  'bulkOrdered': False,\n",
       "  'ordered': False,\n",
       "  'summary': 'Entity ID: LT05_L1TP_196046_19960325_20170105_01_T1, Acquisition Date: 25-MAR-96, Path: 196, Row: 46'},\n",
       " {'acquisitionDate': '1996-03-25',\n",
       "  'startTime': '1996-03-25',\n",
       "  'endTime': '1996-03-25',\n",
       "  'spatialFootprint': {'type': 'Polygon',\n",
       "   'coordinates': [[[-2.83463, 18.11359],\n",
       "     [-1.10767, 17.86249],\n",
       "     [-0.73511, 19.44978],\n",
       "     [-2.47786, 19.70317],\n",
       "     [-2.83463, 18.11359]]]},\n",
       "  'sceneBounds': '-2.83463,17.86249,-0.73511,19.70317',\n",
       "  'browseUrl': 'https://ims.cr.usgs.gov/browse/landsat_tm_c1/1996/196/047/LT05_L1TP_196047_19960325_20170105_01_T1.jpg',\n",
       "  'dataAccessUrl': 'https://earthexplorer.usgs.gov/order/process?dataset_name=LANDSAT_TM_C1&ordered=LT51960471996085MPS00&node=INVSVC',\n",
       "  'downloadUrl': 'https://earthexplorer.usgs.gov/download/external/options/LANDSAT_TM_C1/LT51960471996085MPS00/INVSVC/',\n",
       "  'entityId': 'LT51960471996085MPS00',\n",
       "  'displayId': 'LT05_L1TP_196047_19960325_20170105_01_T1',\n",
       "  'cloudCover': 0,\n",
       "  'metadataUrl': 'https://earthexplorer.usgs.gov/metadata/xml/12266/LT51960471996085MPS00/',\n",
       "  'fgdcMetadataUrl': 'https://earthexplorer.usgs.gov/fgdc/12266/LT51960471996085MPS00/save_xml',\n",
       "  'modifiedDate': '1996-03-25T00:00:00',\n",
       "  'orderUrl': 'https://earthexplorer.usgs.gov/order/process?dataset_name=LANDSAT_TM_C1&ordered=LT51960471996085MPS00&node=INVSVC',\n",
       "  'bulkOrdered': False,\n",
       "  'ordered': False,\n",
       "  'summary': 'Entity ID: LT05_L1TP_196047_19960325_20170105_01_T1, Acquisition Date: 25-MAR-96, Path: 196, Row: 47'}]"
      ]
     },
     "execution_count": 12,
     "metadata": {},
     "output_type": "execute_result"
    }
   ],
   "source": [
    "username = 'johannes.schmidt@boku.ac.at'\n",
    "password = '7kBgsiWwedi#7'\n",
    "\n",
    "api = landsatxplore.api.API(username, password)\n",
    "\n",
    "# Request\n",
    "scenes = api.search(\n",
    "    dataset='LANDSAT_TM_C1',\n",
    "    latitude=19.53,\n",
    "    longitude=-1.53,\n",
    "    start_date='1995-01-01',\n",
    "    end_date='1997-01-01',\n",
    "    max_cloud_cover=10)\n",
    "\n",
    "print('{} scenes found.'.format(len(scenes)))\n",
    "\n",
    "for scene in scenes:\n",
    "    print(scene['acquisitionDate'])\n",
    "    \n"
   ]
  },
  {
   "cell_type": "code",
   "execution_count": 14,
   "metadata": {
    "ExecuteTime": {
     "end_time": "2019-07-11T16:03:24.613757Z",
     "start_time": "2019-07-11T16:03:24.610083Z"
    }
   },
   "outputs": [
    {
     "data": {
      "text/plain": [
       "'LT51960461995130MPS00'"
      ]
     },
     "execution_count": 14,
     "metadata": {},
     "output_type": "execute_result"
    }
   ],
   "source": [
    "scenes[0]['entityId']"
   ]
  },
  {
   "cell_type": "code",
   "execution_count": 18,
   "metadata": {
    "ExecuteTime": {
     "end_time": "2019-07-11T16:04:31.499942Z",
     "start_time": "2019-07-11T16:04:25.826399Z"
    }
   },
   "outputs": [
    {
     "name": "stderr",
     "output_type": "stream",
     "text": [
      "  0%|          | 0.00/157M [00:00<?, ?B/s]\n"
     ]
    },
    {
     "ename": "AttributeError",
     "evalue": "__enter__",
     "output_type": "error",
     "traceback": [
      "\u001b[0;31m---------------------------------------------------------------------------\u001b[0m",
      "\u001b[0;31mAttributeError\u001b[0m                            Traceback (most recent call last)",
      "\u001b[0;32m<ipython-input-18-4976c5bc8ece>\u001b[0m in \u001b[0;36m<module>\u001b[0;34m\u001b[0m\n\u001b[1;32m      3\u001b[0m \u001b[0mee\u001b[0m \u001b[0;34m=\u001b[0m \u001b[0mEarthExplorer\u001b[0m\u001b[0;34m(\u001b[0m\u001b[0musername\u001b[0m\u001b[0;34m,\u001b[0m \u001b[0mpassword\u001b[0m\u001b[0;34m)\u001b[0m\u001b[0;34m\u001b[0m\u001b[0;34m\u001b[0m\u001b[0m\n\u001b[1;32m      4\u001b[0m \u001b[0;34m\u001b[0m\u001b[0m\n\u001b[0;32m----> 5\u001b[0;31m \u001b[0mee\u001b[0m\u001b[0;34m.\u001b[0m\u001b[0mdownload\u001b[0m\u001b[0;34m(\u001b[0m\u001b[0mscene_id\u001b[0m\u001b[0;34m=\u001b[0m\u001b[0mscenes\u001b[0m\u001b[0;34m[\u001b[0m\u001b[0;36m0\u001b[0m\u001b[0;34m]\u001b[0m\u001b[0;34m[\u001b[0m\u001b[0;34m'entityId'\u001b[0m\u001b[0;34m]\u001b[0m\u001b[0;34m,\u001b[0m \u001b[0moutput_dir\u001b[0m\u001b[0;34m=\u001b[0m\u001b[0;34m'./data'\u001b[0m\u001b[0;34m)\u001b[0m\u001b[0;34m\u001b[0m\u001b[0;34m\u001b[0m\u001b[0m\n\u001b[0m\u001b[1;32m      6\u001b[0m \u001b[0;34m\u001b[0m\u001b[0m\n\u001b[1;32m      7\u001b[0m \u001b[0mee\u001b[0m\u001b[0;34m.\u001b[0m\u001b[0mlogout\u001b[0m\u001b[0;34m(\u001b[0m\u001b[0;34m)\u001b[0m\u001b[0;34m\u001b[0m\u001b[0;34m\u001b[0m\u001b[0m\n",
      "\u001b[0;32m~/.conda/envs/google-earth-engine/lib/python3.7/site-packages/landsatxplore/earthexplorer.py\u001b[0m in \u001b[0;36mdownload\u001b[0;34m(self, scene_id, output_dir)\u001b[0m\n\u001b[1;32m     99\u001b[0m             \u001b[0mscene_id\u001b[0m \u001b[0;34m=\u001b[0m \u001b[0mself\u001b[0m\u001b[0;34m.\u001b[0m\u001b[0mapi\u001b[0m\u001b[0;34m.\u001b[0m\u001b[0mlookup\u001b[0m\u001b[0;34m(\u001b[0m\u001b[0mdataset\u001b[0m\u001b[0;34m,\u001b[0m \u001b[0;34m[\u001b[0m\u001b[0mscene_id\u001b[0m\u001b[0;34m]\u001b[0m\u001b[0;34m,\u001b[0m \u001b[0minverse\u001b[0m\u001b[0;34m=\u001b[0m\u001b[0;32mTrue\u001b[0m\u001b[0;34m)\u001b[0m\u001b[0;34m[\u001b[0m\u001b[0;36m0\u001b[0m\u001b[0;34m]\u001b[0m\u001b[0;34m\u001b[0m\u001b[0;34m\u001b[0m\u001b[0m\n\u001b[1;32m    100\u001b[0m         \u001b[0murl\u001b[0m \u001b[0;34m=\u001b[0m \u001b[0mEE_DOWNLOAD_URL\u001b[0m\u001b[0;34m.\u001b[0m\u001b[0mformat\u001b[0m\u001b[0;34m(\u001b[0m\u001b[0mfolder\u001b[0m\u001b[0;34m=\u001b[0m\u001b[0mEE_FOLDER\u001b[0m\u001b[0;34m[\u001b[0m\u001b[0mdataset\u001b[0m\u001b[0;34m]\u001b[0m\u001b[0;34m,\u001b[0m \u001b[0msid\u001b[0m\u001b[0;34m=\u001b[0m\u001b[0mscene_id\u001b[0m\u001b[0;34m)\u001b[0m\u001b[0;34m\u001b[0m\u001b[0;34m\u001b[0m\u001b[0m\n\u001b[0;32m--> 101\u001b[0;31m         \u001b[0mfilename\u001b[0m \u001b[0;34m=\u001b[0m \u001b[0mself\u001b[0m\u001b[0;34m.\u001b[0m\u001b[0m_download\u001b[0m\u001b[0;34m(\u001b[0m\u001b[0murl\u001b[0m\u001b[0;34m,\u001b[0m \u001b[0moutput_dir\u001b[0m\u001b[0;34m,\u001b[0m \u001b[0mfile_size\u001b[0m\u001b[0;34m=\u001b[0m\u001b[0mSIZES\u001b[0m\u001b[0;34m[\u001b[0m\u001b[0mdataset\u001b[0m\u001b[0;34m]\u001b[0m\u001b[0;34m)\u001b[0m\u001b[0;34m\u001b[0m\u001b[0;34m\u001b[0m\u001b[0m\n\u001b[0m\u001b[1;32m    102\u001b[0m         \u001b[0;32mreturn\u001b[0m \u001b[0mfilename\u001b[0m\u001b[0;34m\u001b[0m\u001b[0;34m\u001b[0m\u001b[0m\n",
      "\u001b[0;32m~/.conda/envs/google-earth-engine/lib/python3.7/site-packages/landsatxplore/earthexplorer.py\u001b[0m in \u001b[0;36m_download\u001b[0;34m(self, url, output_dir, file_size, chunk_size)\u001b[0m\n\u001b[1;32m     80\u001b[0m         \u001b[0;34m\"\"\"Download remote file given its URL.\"\"\"\u001b[0m\u001b[0;34m\u001b[0m\u001b[0;34m\u001b[0m\u001b[0m\n\u001b[1;32m     81\u001b[0m         \u001b[0;32mwith\u001b[0m \u001b[0mtqdm\u001b[0m\u001b[0;34m(\u001b[0m\u001b[0mtotal\u001b[0m\u001b[0;34m=\u001b[0m\u001b[0mfile_size\u001b[0m\u001b[0;34m,\u001b[0m \u001b[0munit_scale\u001b[0m\u001b[0;34m=\u001b[0m\u001b[0;32mTrue\u001b[0m\u001b[0;34m,\u001b[0m \u001b[0munit\u001b[0m\u001b[0;34m=\u001b[0m\u001b[0;34m'B'\u001b[0m\u001b[0;34m)\u001b[0m \u001b[0;32mas\u001b[0m \u001b[0mpbar\u001b[0m\u001b[0;34m:\u001b[0m\u001b[0;34m\u001b[0m\u001b[0;34m\u001b[0m\u001b[0m\n\u001b[0;32m---> 82\u001b[0;31m             \u001b[0;32mwith\u001b[0m \u001b[0mself\u001b[0m\u001b[0;34m.\u001b[0m\u001b[0msession\u001b[0m\u001b[0;34m.\u001b[0m\u001b[0mget\u001b[0m\u001b[0;34m(\u001b[0m\u001b[0murl\u001b[0m\u001b[0;34m,\u001b[0m \u001b[0mstream\u001b[0m\u001b[0;34m=\u001b[0m\u001b[0;32mTrue\u001b[0m\u001b[0;34m,\u001b[0m \u001b[0mallow_redirects\u001b[0m\u001b[0;34m=\u001b[0m\u001b[0;32mTrue\u001b[0m\u001b[0;34m)\u001b[0m \u001b[0;32mas\u001b[0m \u001b[0mr\u001b[0m\u001b[0;34m:\u001b[0m\u001b[0;34m\u001b[0m\u001b[0;34m\u001b[0m\u001b[0m\n\u001b[0m\u001b[1;32m     83\u001b[0m                 local_filename = r.headers['Content-Disposition'].split(\n\u001b[1;32m     84\u001b[0m                     '=')[-1]\n",
      "\u001b[0;31mAttributeError\u001b[0m: __enter__"
     ]
    }
   ],
   "source": [
    "from landsatxplore.earthexplorer import EarthExplorer\n",
    "\n",
    "ee = EarthExplorer(username, password)\n",
    "\n",
    "ee.download(scene_id=scenes[0]['entityId'], output_dir='./data')\n",
    "\n",
    "\n",
    "\n",
    "ee.logout()"
   ]
  },
  {
   "cell_type": "code",
   "execution_count": 19,
   "metadata": {
    "ExecuteTime": {
     "end_time": "2019-07-11T16:05:40.408884Z",
     "start_time": "2019-07-11T16:05:40.387662Z"
    }
   },
   "outputs": [],
   "source": [
    "ee.download?"
   ]
  }
 ],
 "metadata": {
  "kernelspec": {
   "display_name": "Python [conda env:.conda-google-earth-engine]",
   "language": "python",
   "name": "conda-env-.conda-google-earth-engine-py"
  },
  "language_info": {
   "codemirror_mode": {
    "name": "ipython",
    "version": 3
   },
   "file_extension": ".py",
   "mimetype": "text/x-python",
   "name": "python",
   "nbconvert_exporter": "python",
   "pygments_lexer": "ipython3",
   "version": "3.7.3"
  }
 },
 "nbformat": 4,
 "nbformat_minor": 2
}
