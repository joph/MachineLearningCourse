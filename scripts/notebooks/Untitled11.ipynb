{
 "cells": [
  {
   "cell_type": "code",
   "execution_count": 1,
   "metadata": {
    "ExecuteTime": {
     "end_time": "2019-08-28T09:38:59.876911Z",
     "start_time": "2019-08-28T09:38:58.130287Z"
    }
   },
   "outputs": [],
   "source": [
    "import ee\n",
    "ee.Initialize()\n",
    "from geetools import batch"
   ]
  },
  {
   "cell_type": "code",
   "execution_count": 36,
   "metadata": {
    "ExecuteTime": {
     "end_time": "2019-08-28T09:53:20.931700Z",
     "start_time": "2019-08-28T09:53:20.927483Z"
    }
   },
   "outputs": [],
   "source": [
    "p1 = ee.Geometry.Point([-71,-42])\n",
    "p2 = ee.Geometry.Point([-71,-43])\n",
    "p3 = ee.Geometry.Point([-71,-44])"
   ]
  },
  {
   "cell_type": "code",
   "execution_count": 50,
   "metadata": {
    "ExecuteTime": {
     "end_time": "2019-08-28T09:57:16.197895Z",
     "start_time": "2019-08-28T09:57:16.193629Z"
    }
   },
   "outputs": [],
   "source": [
    "feat1 = ee.Feature(p1.buffer(5), {'site': 1})\n",
    "feat2 = ee.Feature(p2.buffer(5), {'site': 2})\n",
    "feat3 = ee.Feature(p3.buffer(5), {'site': 3})"
   ]
  },
  {
   "cell_type": "code",
   "execution_count": 51,
   "metadata": {
    "ExecuteTime": {
     "end_time": "2019-08-28T09:57:17.947499Z",
     "start_time": "2019-08-28T09:57:17.944676Z"
    }
   },
   "outputs": [],
   "source": [
    "fc = ee.FeatureCollection([feat1, feat2, feat3])"
   ]
  },
  {
   "cell_type": "code",
   "execution_count": 52,
   "metadata": {
    "ExecuteTime": {
     "end_time": "2019-08-28T09:57:18.533424Z",
     "start_time": "2019-08-28T09:57:18.527997Z"
    }
   },
   "outputs": [],
   "source": [
    "bands = ['B1', 'B2', 'B3', 'B4', 'B5', 'B6', 'B7']\n",
    "#bands = ['B2', 'B3', 'B4']\n",
    "# Use Landsat 8 surface reflectance data.\n",
    "\n",
    "# Cloud masking function.\n",
    "def maskL8sr(image):\n",
    "    cloudShadowBitMask = ee.Number(2).pow(3).int()\n",
    "    cloudsBitMask = ee.Number(2).pow(5).int()\n",
    "    qa = image.select('pixel_qa')\n",
    "    mask = qa.bitwiseAnd(cloudShadowBitMask).eq(0).And(\n",
    "    qa.bitwiseAnd(cloudsBitMask).eq(0))\n",
    "    return image.updateMask(mask).select(bands).divide(10000)\n",
    "\n",
    "# The image input data is a 2018 cloud-masked median composite.\n",
    "reducer = ee.Reducer.median()\n",
    "\n",
    "reducer_str = \"median\""
   ]
  },
  {
   "cell_type": "code",
   "execution_count": 53,
   "metadata": {
    "ExecuteTime": {
     "end_time": "2019-08-28T09:57:24.506906Z",
     "start_time": "2019-08-28T09:57:24.504181Z"
    }
   },
   "outputs": [],
   "source": [
    "collection = ee.ImageCollection(\"LANDSAT/LE07/C01/T1_SR\")"
   ]
  },
  {
   "cell_type": "code",
   "execution_count": 54,
   "metadata": {
    "ExecuteTime": {
     "end_time": "2019-08-28T09:57:25.269175Z",
     "start_time": "2019-08-28T09:57:25.264218Z"
    }
   },
   "outputs": [],
   "source": [
    "year = 2015\n",
    "image = collection.filterDate(str(year) + '-01-01', str(year) + '-12-31').map(maskL8sr).reduce(reducer)"
   ]
  },
  {
   "cell_type": "code",
   "execution_count": 55,
   "metadata": {
    "ExecuteTime": {
     "end_time": "2019-08-28T09:57:34.814035Z",
     "start_time": "2019-08-28T09:57:26.136278Z"
    }
   },
   "outputs": [
    {
     "name": "stdout",
     "output_type": "stream",
     "text": [
      "exporting test_site_1\n",
      "exporting test_site_2\n",
      "exporting test_site_3\n"
     ]
    },
    {
     "data": {
      "text/plain": [
       "[<Task EXPORT_IMAGE: test_site_1 (UNSUBMITTED)>,\n",
       " <Task EXPORT_IMAGE: test_site_2 (UNSUBMITTED)>,\n",
       " <Task EXPORT_IMAGE: test_site_3 (UNSUBMITTED)>]"
      ]
     },
     "execution_count": 55,
     "metadata": {},
     "output_type": "execute_result"
    }
   ],
   "source": [
    "batch.image.toDriveByFeature(image, collection=fc, property='site', folder='tools_exportbyfeat', name='test', scale=10, dataType='float')"
   ]
  },
  {
   "cell_type": "code",
   "execution_count": 21,
   "metadata": {
    "ExecuteTime": {
     "end_time": "2019-08-28T09:47:10.607818Z",
     "start_time": "2019-08-28T09:47:09.790730Z"
    }
   },
   "outputs": [
    {
     "data": {
      "text/plain": [
       "<Task EXPORT_IMAGE: myExportImageTask (UNSUBMITTED)>"
      ]
     },
     "execution_count": 21,
     "metadata": {},
     "output_type": "execute_result"
    }
   ],
   "source": [
    "ee.batch.Export.image.toDrive(image, \n",
    "    collection=fc, \n",
    "    property='site', \n",
    "    folder='tools_exportbyfeat1', \n",
    "    name='test', \n",
    "    scale=10, \n",
    "    dataType='float')\n",
    "\n"
   ]
  },
  {
   "cell_type": "code",
   "execution_count": null,
   "metadata": {},
   "outputs": [],
   "source": []
  }
 ],
 "metadata": {
  "kernelspec": {
   "display_name": "Python [conda env:.conda-google-earth-engine]",
   "language": "python",
   "name": "conda-env-.conda-google-earth-engine-py"
  },
  "language_info": {
   "codemirror_mode": {
    "name": "ipython",
    "version": 3
   },
   "file_extension": ".py",
   "mimetype": "text/x-python",
   "name": "python",
   "nbconvert_exporter": "python",
   "pygments_lexer": "ipython3",
   "version": "3.7.3"
  }
 },
 "nbformat": 4,
 "nbformat_minor": 2
}
