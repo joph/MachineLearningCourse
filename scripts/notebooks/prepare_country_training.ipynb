{
 "cells": [
  {
   "cell_type": "code",
   "execution_count": 4,
   "metadata": {
    "ExecuteTime": {
     "end_time": "2019-11-15T15:56:12.362891Z",
     "start_time": "2019-11-15T15:56:12.359036Z"
    }
   },
   "outputs": [
    {
     "name": "stdout",
     "output_type": "stream",
     "text": [
      "/data/projects/windturbine-identification/MachineLearningCourse\n"
     ]
    }
   ],
   "source": [
    "cd /data/projects/windturbine-identification/MachineLearningCourse"
   ]
  },
  {
   "cell_type": "code",
   "execution_count": 5,
   "metadata": {
    "ExecuteTime": {
     "end_time": "2019-11-15T15:56:15.338075Z",
     "start_time": "2019-11-15T15:56:14.102326Z"
    }
   },
   "outputs": [],
   "source": [
    "\"\"\"\n",
    "Created on Mon Feb 18 20:30:48 2019\n",
    "\n",
    "@author: jschmidt\n",
    "\"\"\"\n",
    "\n",
    "import os, shutil, random\n",
    "\n",
    "import pandas as pd\n",
    "import sys\n",
    "import gdal\n",
    "import imp\n",
    "import numpy as np\n",
    "\n",
    "\n",
    "import scripts.windturbines.functions_pattern_recognition as fpr\n",
    "imp.reload(fpr)\n",
    "from scripts.windturbines.functions_pattern_recognition import get_param\n",
    "from scripts.windturbines.functions_pattern_recognition import cop_predict\n",
    "from scripts.windturbines.functions_pattern_recognition import check_image\n",
    "from scripts.windturbines.functions_pattern_recognition import read_params"
   ]
  },
  {
   "cell_type": "code",
   "execution_count": 6,
   "metadata": {
    "ExecuteTime": {
     "end_time": "2019-11-15T15:58:48.185829Z",
     "start_time": "2019-11-15T15:56:16.950390Z"
    },
    "scrolled": true
   },
   "outputs": [
    {
     "name": "stdout",
     "output_type": "stream",
     "text": [
      "COUNTRY: US RESOLUTION: 19\n"
     ]
    },
    {
     "name": "stderr",
     "output_type": "stream",
     "text": [
      "/home/jschmidt/.conda/envs/windturbine-identification/lib/python3.7/site-packages/pyarrow/pandas_compat.py:752: FutureWarning: .labels was deprecated in version 0.24.0. Use .codes instead.\n",
      "  labels, = index.labels\n"
     ]
    },
    {
     "name": "stdout",
     "output_type": "stream",
     "text": [
      "share_train\n",
      "30006.4\n",
      "Copying turbine files\n",
      "1000\n",
      "data/aerialImages/GOOGLE/RESOLUTION19/US/raw/Turbines/1876.tif\n",
      "2000\n",
      "data/aerialImages/GOOGLE/RESOLUTION19/US/raw/Turbines/3675.tif\n",
      "3000\n",
      "data/aerialImages/GOOGLE/RESOLUTION19/US/raw/Turbines/5063.tif\n",
      "4000\n",
      "data/aerialImages/GOOGLE/RESOLUTION19/US/raw/Turbines/6318.tif\n",
      "5000\n",
      "data/aerialImages/GOOGLE/RESOLUTION19/US/raw/Turbines/7486.tif\n",
      "6000\n",
      "data/aerialImages/GOOGLE/RESOLUTION19/US/raw/Turbines/8663.tif\n",
      "7000\n",
      "data/aerialImages/GOOGLE/RESOLUTION19/US/raw/Turbines/10004.tif\n",
      "8000\n",
      "data/aerialImages/GOOGLE/RESOLUTION19/US/raw/Turbines/11172.tif\n",
      "9000\n",
      "data/aerialImages/GOOGLE/RESOLUTION19/US/raw/Turbines/12413.tif\n",
      "10000\n",
      "data/aerialImages/GOOGLE/RESOLUTION19/US/raw/Turbines/13644.tif\n",
      "11000\n",
      "data/aerialImages/GOOGLE/RESOLUTION19/US/raw/Turbines/14748.tif\n",
      "12000\n",
      "data/aerialImages/GOOGLE/RESOLUTION19/US/raw/Turbines/16008.tif\n",
      "13000\n",
      "data/aerialImages/GOOGLE/RESOLUTION19/US/raw/Turbines/17198.tif\n",
      "14000\n",
      "data/aerialImages/GOOGLE/RESOLUTION19/US/raw/Turbines/18570.tif\n",
      "15000\n",
      "data/aerialImages/GOOGLE/RESOLUTION19/US/raw/Turbines/19718.tif\n",
      "16000\n",
      "data/aerialImages/GOOGLE/RESOLUTION19/US/raw/Turbines/20910.tif\n",
      "17000\n",
      "data/aerialImages/GOOGLE/RESOLUTION19/US/raw/Turbines/22517.tif\n",
      "18000\n",
      "data/aerialImages/GOOGLE/RESOLUTION19/US/raw/Turbines/23962.tif\n",
      "19000\n",
      "data/aerialImages/GOOGLE/RESOLUTION19/US/raw/Turbines/25416.tif\n",
      "20000\n",
      "data/aerialImages/GOOGLE/RESOLUTION19/US/raw/Turbines/26927.tif\n",
      "21000\n",
      "data/aerialImages/GOOGLE/RESOLUTION19/US/raw/Turbines/28123.tif\n",
      "22000\n",
      "data/aerialImages/GOOGLE/RESOLUTION19/US/raw/Turbines/29539.tif\n",
      "23000\n",
      "data/aerialImages/GOOGLE/RESOLUTION19/US/raw/Turbines/30848.tif\n",
      "24000\n",
      "data/aerialImages/GOOGLE/RESOLUTION19/US/raw/Turbines/32117.tif\n",
      "25000\n",
      "data/aerialImages/GOOGLE/RESOLUTION19/US/raw/Turbines/33409.tif\n",
      "26000\n",
      "data/aerialImages/GOOGLE/RESOLUTION19/US/raw/Turbines/35291.tif\n",
      "27000\n",
      "data/aerialImages/GOOGLE/RESOLUTION19/US/raw/Turbines/36540.tif\n",
      "28000\n",
      "data/aerialImages/GOOGLE/RESOLUTION19/US/raw/Turbines/38261.tif\n",
      "29000\n",
      "data/aerialImages/GOOGLE/RESOLUTION19/US/raw/Turbines/39514.tif\n",
      "30000\n",
      "data/aerialImages/GOOGLE/RESOLUTION19/US/raw/Turbines/41424.tif\n",
      "31000\n",
      "data/aerialImages/GOOGLE/RESOLUTION19/US/raw/Turbines/43307.tif\n",
      "32000\n",
      "data/aerialImages/GOOGLE/RESOLUTION19/US/raw/Turbines/46505.tif\n",
      "33000\n",
      "data/aerialImages/GOOGLE/RESOLUTION19/US/raw/Turbines/48199.tif\n",
      "34000\n",
      "data/aerialImages/GOOGLE/RESOLUTION19/US/raw/Turbines/49347.tif\n",
      "35000\n",
      "data/aerialImages/GOOGLE/RESOLUTION19/US/raw/Turbines/51770.tif\n",
      "36000\n",
      "data/aerialImages/GOOGLE/RESOLUTION19/US/raw/Turbines/54444.tif\n",
      "37000\n",
      "data/aerialImages/GOOGLE/RESOLUTION19/US/raw/Turbines/58630.tif\n",
      "Copying non-turbine files\n",
      "1000\n",
      "data/aerialImages/GOOGLE/RESOLUTION19/US/raw/NoTurbines/1876.tif\n",
      "2000\n",
      "data/aerialImages/GOOGLE/RESOLUTION19/US/raw/NoTurbines/3675.tif\n",
      "3000\n",
      "data/aerialImages/GOOGLE/RESOLUTION19/US/raw/NoTurbines/5063.tif\n",
      "4000\n",
      "data/aerialImages/GOOGLE/RESOLUTION19/US/raw/NoTurbines/6318.tif\n",
      "5000\n",
      "data/aerialImages/GOOGLE/RESOLUTION19/US/raw/NoTurbines/7486.tif\n",
      "6000\n",
      "data/aerialImages/GOOGLE/RESOLUTION19/US/raw/NoTurbines/8663.tif\n",
      "7000\n",
      "data/aerialImages/GOOGLE/RESOLUTION19/US/raw/NoTurbines/10004.tif\n",
      "8000\n",
      "data/aerialImages/GOOGLE/RESOLUTION19/US/raw/NoTurbines/11172.tif\n",
      "9000\n",
      "data/aerialImages/GOOGLE/RESOLUTION19/US/raw/NoTurbines/12413.tif\n",
      "10000\n",
      "data/aerialImages/GOOGLE/RESOLUTION19/US/raw/NoTurbines/13644.tif\n",
      "11000\n",
      "data/aerialImages/GOOGLE/RESOLUTION19/US/raw/NoTurbines/14748.tif\n",
      "12000\n",
      "data/aerialImages/GOOGLE/RESOLUTION19/US/raw/NoTurbines/16008.tif\n",
      "13000\n",
      "data/aerialImages/GOOGLE/RESOLUTION19/US/raw/NoTurbines/17198.tif\n",
      "14000\n",
      "data/aerialImages/GOOGLE/RESOLUTION19/US/raw/NoTurbines/18570.tif\n",
      "15000\n",
      "data/aerialImages/GOOGLE/RESOLUTION19/US/raw/NoTurbines/19718.tif\n",
      "16000\n",
      "data/aerialImages/GOOGLE/RESOLUTION19/US/raw/NoTurbines/20910.tif\n",
      "17000\n",
      "data/aerialImages/GOOGLE/RESOLUTION19/US/raw/NoTurbines/22517.tif\n",
      "18000\n",
      "data/aerialImages/GOOGLE/RESOLUTION19/US/raw/NoTurbines/23962.tif\n",
      "19000\n",
      "data/aerialImages/GOOGLE/RESOLUTION19/US/raw/NoTurbines/25416.tif\n",
      "20000\n",
      "data/aerialImages/GOOGLE/RESOLUTION19/US/raw/NoTurbines/26927.tif\n",
      "21000\n",
      "data/aerialImages/GOOGLE/RESOLUTION19/US/raw/NoTurbines/28123.tif\n",
      "22000\n",
      "data/aerialImages/GOOGLE/RESOLUTION19/US/raw/NoTurbines/29539.tif\n",
      "23000\n",
      "data/aerialImages/GOOGLE/RESOLUTION19/US/raw/NoTurbines/30848.tif\n",
      "24000\n",
      "data/aerialImages/GOOGLE/RESOLUTION19/US/raw/NoTurbines/32117.tif\n",
      "25000\n",
      "data/aerialImages/GOOGLE/RESOLUTION19/US/raw/NoTurbines/33409.tif\n",
      "26000\n",
      "data/aerialImages/GOOGLE/RESOLUTION19/US/raw/NoTurbines/35291.tif\n",
      "27000\n",
      "data/aerialImages/GOOGLE/RESOLUTION19/US/raw/NoTurbines/36540.tif\n",
      "28000\n",
      "data/aerialImages/GOOGLE/RESOLUTION19/US/raw/NoTurbines/38261.tif\n",
      "29000\n",
      "data/aerialImages/GOOGLE/RESOLUTION19/US/raw/NoTurbines/39514.tif\n",
      "30000\n",
      "data/aerialImages/GOOGLE/RESOLUTION19/US/raw/NoTurbines/41424.tif\n",
      "31000\n",
      "data/aerialImages/GOOGLE/RESOLUTION19/US/raw/NoTurbines/43307.tif\n",
      "32000\n",
      "data/aerialImages/GOOGLE/RESOLUTION19/US/raw/NoTurbines/46505.tif\n",
      "33000\n",
      "data/aerialImages/GOOGLE/RESOLUTION19/US/raw/NoTurbines/48199.tif\n",
      "34000\n",
      "data/aerialImages/GOOGLE/RESOLUTION19/US/raw/NoTurbines/49347.tif\n",
      "35000\n",
      "data/aerialImages/GOOGLE/RESOLUTION19/US/raw/NoTurbines/51770.tif\n",
      "36000\n",
      "data/aerialImages/GOOGLE/RESOLUTION19/US/raw/NoTurbines/54444.tif\n",
      "37000\n",
      "data/aerialImages/GOOGLE/RESOLUTION19/US/raw/NoTurbines/58630.tif\n",
      "total training turbine images  60011\n",
      "total testing turbine images  15005\n",
      "total training turbine images  60011\n",
      "total testing turbine images  15005\n"
     ]
    }
   ],
   "source": [
    "for res in [19]:\n",
    "    fpr.copy_learning_files(\"US\", res, delete = False)\n",
    "\n",
    "\n",
    "\n",
    "\n"
   ]
  }
 ],
 "metadata": {
  "kernelspec": {
   "display_name": "Python [conda env:.conda-windturbine-identification]",
   "language": "python",
   "name": "conda-env-.conda-windturbine-identification-py"
  },
  "language_info": {
   "codemirror_mode": {
    "name": "ipython",
    "version": 3
   },
   "file_extension": ".py",
   "mimetype": "text/x-python",
   "name": "python",
   "nbconvert_exporter": "python",
   "pygments_lexer": "ipython3",
   "version": "3.7.0"
  }
 },
 "nbformat": 4,
 "nbformat_minor": 2
}
