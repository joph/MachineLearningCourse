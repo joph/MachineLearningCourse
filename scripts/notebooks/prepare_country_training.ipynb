{
 "cells": [
  {
   "cell_type": "code",
   "execution_count": 2,
   "metadata": {
    "ExecuteTime": {
     "end_time": "2019-11-12T09:17:51.583527Z",
     "start_time": "2019-11-12T09:17:51.574988Z"
    }
   },
   "outputs": [
    {
     "name": "stdout",
     "output_type": "stream",
     "text": [
      "/data/projects/windturbine-identification/MachineLearningCourse\n"
     ]
    }
   ],
   "source": [
    "cd /data/projects/windturbine-identification/MachineLearningCourse"
   ]
  },
  {
   "cell_type": "code",
   "execution_count": 5,
   "metadata": {
    "ExecuteTime": {
     "end_time": "2019-11-12T09:13:35.377849Z",
     "start_time": "2019-11-12T09:13:03.303344Z"
    }
   },
   "outputs": [
    {
     "name": "stderr",
     "output_type": "stream",
     "text": [
      "Using TensorFlow backend.\n",
      "/home/jschmidt/.conda/envs/windturbine-identification/lib/python3.7/site-packages/tensorflow/python/framework/dtypes.py:526: FutureWarning: Passing (type, 1) or '1type' as a synonym of type is deprecated; in a future version of numpy, it will be understood as (type, (1,)) / '(1,)type'.\n",
      "  _np_qint8 = np.dtype([(\"qint8\", np.int8, 1)])\n",
      "/home/jschmidt/.conda/envs/windturbine-identification/lib/python3.7/site-packages/tensorflow/python/framework/dtypes.py:527: FutureWarning: Passing (type, 1) or '1type' as a synonym of type is deprecated; in a future version of numpy, it will be understood as (type, (1,)) / '(1,)type'.\n",
      "  _np_quint8 = np.dtype([(\"quint8\", np.uint8, 1)])\n",
      "/home/jschmidt/.conda/envs/windturbine-identification/lib/python3.7/site-packages/tensorflow/python/framework/dtypes.py:528: FutureWarning: Passing (type, 1) or '1type' as a synonym of type is deprecated; in a future version of numpy, it will be understood as (type, (1,)) / '(1,)type'.\n",
      "  _np_qint16 = np.dtype([(\"qint16\", np.int16, 1)])\n",
      "/home/jschmidt/.conda/envs/windturbine-identification/lib/python3.7/site-packages/tensorflow/python/framework/dtypes.py:529: FutureWarning: Passing (type, 1) or '1type' as a synonym of type is deprecated; in a future version of numpy, it will be understood as (type, (1,)) / '(1,)type'.\n",
      "  _np_quint16 = np.dtype([(\"quint16\", np.uint16, 1)])\n",
      "/home/jschmidt/.conda/envs/windturbine-identification/lib/python3.7/site-packages/tensorflow/python/framework/dtypes.py:530: FutureWarning: Passing (type, 1) or '1type' as a synonym of type is deprecated; in a future version of numpy, it will be understood as (type, (1,)) / '(1,)type'.\n",
      "  _np_qint32 = np.dtype([(\"qint32\", np.int32, 1)])\n",
      "/home/jschmidt/.conda/envs/windturbine-identification/lib/python3.7/site-packages/tensorflow/python/framework/dtypes.py:535: FutureWarning: Passing (type, 1) or '1type' as a synonym of type is deprecated; in a future version of numpy, it will be understood as (type, (1,)) / '(1,)type'.\n",
      "  np_resource = np.dtype([(\"resource\", np.ubyte, 1)])\n"
     ]
    }
   ],
   "source": [
    "\"\"\"\n",
    "Created on Mon Feb 18 20:30:48 2019\n",
    "\n",
    "@author: jschmidt\n",
    "\"\"\"\n",
    "\n",
    "import os, shutil, random\n",
    "\n",
    "import pandas as pd\n",
    "import sys\n",
    "import gdal\n",
    "import imp\n",
    "import numpy as np\n",
    "\n",
    "\n",
    "import scripts.windturbines.functions_pattern_recognition as fpr\n",
    "imp.reload(fpr)\n",
    "from scripts.windturbines.functions_pattern_recognition import get_param\n",
    "from scripts.windturbines.functions_pattern_recognition import cop_predict\n",
    "from scripts.windturbines.functions_pattern_recognition import check_image\n",
    "from scripts.windturbines.functions_pattern_recognition import read_params"
   ]
  },
  {
   "cell_type": "code",
   "execution_count": 6,
   "metadata": {
    "ExecuteTime": {
     "end_time": "2019-11-12T09:15:46.941580Z",
     "start_time": "2019-11-12T09:13:37.941165Z"
    },
    "scrolled": true
   },
   "outputs": [
    {
     "name": "stdout",
     "output_type": "stream",
     "text": [
      "COUNTRY: US RESOLUTION: 17\n"
     ]
    },
    {
     "name": "stderr",
     "output_type": "stream",
     "text": [
      "/home/jschmidt/.conda/envs/windturbine-identification/lib/python3.7/site-packages/pyarrow/pandas_compat.py:752: FutureWarning: .labels was deprecated in version 0.24.0. Use .codes instead.\n",
      "  labels, = index.labels\n"
     ]
    },
    {
     "name": "stdout",
     "output_type": "stream",
     "text": [
      "share_train\n",
      "30006.4\n",
      "Copying turbine files\n",
      "1000\n",
      "data/aerialImages/GOOGLE/RESOLUTION17/US/raw/Turbines/1876.tif\n",
      "2000\n",
      "data/aerialImages/GOOGLE/RESOLUTION17/US/raw/Turbines/3675.tif\n",
      "3000\n",
      "data/aerialImages/GOOGLE/RESOLUTION17/US/raw/Turbines/5063.tif\n",
      "4000\n",
      "data/aerialImages/GOOGLE/RESOLUTION17/US/raw/Turbines/6318.tif\n",
      "5000\n",
      "data/aerialImages/GOOGLE/RESOLUTION17/US/raw/Turbines/7486.tif\n",
      "6000\n",
      "data/aerialImages/GOOGLE/RESOLUTION17/US/raw/Turbines/8663.tif\n",
      "7000\n",
      "data/aerialImages/GOOGLE/RESOLUTION17/US/raw/Turbines/10004.tif\n",
      "8000\n",
      "data/aerialImages/GOOGLE/RESOLUTION17/US/raw/Turbines/11172.tif\n",
      "9000\n",
      "data/aerialImages/GOOGLE/RESOLUTION17/US/raw/Turbines/12413.tif\n",
      "10000\n",
      "data/aerialImages/GOOGLE/RESOLUTION17/US/raw/Turbines/13644.tif\n",
      "11000\n",
      "data/aerialImages/GOOGLE/RESOLUTION17/US/raw/Turbines/14748.tif\n",
      "12000\n",
      "data/aerialImages/GOOGLE/RESOLUTION17/US/raw/Turbines/16008.tif\n",
      "13000\n",
      "data/aerialImages/GOOGLE/RESOLUTION17/US/raw/Turbines/17198.tif\n",
      "14000\n",
      "data/aerialImages/GOOGLE/RESOLUTION17/US/raw/Turbines/18570.tif\n",
      "15000\n",
      "data/aerialImages/GOOGLE/RESOLUTION17/US/raw/Turbines/19718.tif\n",
      "16000\n",
      "data/aerialImages/GOOGLE/RESOLUTION17/US/raw/Turbines/20910.tif\n",
      "17000\n",
      "data/aerialImages/GOOGLE/RESOLUTION17/US/raw/Turbines/22517.tif\n",
      "18000\n",
      "data/aerialImages/GOOGLE/RESOLUTION17/US/raw/Turbines/23962.tif\n",
      "19000\n",
      "data/aerialImages/GOOGLE/RESOLUTION17/US/raw/Turbines/25416.tif\n",
      "20000\n",
      "data/aerialImages/GOOGLE/RESOLUTION17/US/raw/Turbines/26927.tif\n",
      "21000\n",
      "data/aerialImages/GOOGLE/RESOLUTION17/US/raw/Turbines/28123.tif\n",
      "22000\n",
      "data/aerialImages/GOOGLE/RESOLUTION17/US/raw/Turbines/29539.tif\n",
      "23000\n",
      "data/aerialImages/GOOGLE/RESOLUTION17/US/raw/Turbines/30848.tif\n",
      "24000\n",
      "data/aerialImages/GOOGLE/RESOLUTION17/US/raw/Turbines/32117.tif\n",
      "25000\n",
      "data/aerialImages/GOOGLE/RESOLUTION17/US/raw/Turbines/33409.tif\n",
      "26000\n",
      "data/aerialImages/GOOGLE/RESOLUTION17/US/raw/Turbines/35291.tif\n",
      "27000\n",
      "data/aerialImages/GOOGLE/RESOLUTION17/US/raw/Turbines/36540.tif\n",
      "28000\n",
      "data/aerialImages/GOOGLE/RESOLUTION17/US/raw/Turbines/38261.tif\n",
      "29000\n",
      "data/aerialImages/GOOGLE/RESOLUTION17/US/raw/Turbines/39514.tif\n",
      "30000\n",
      "data/aerialImages/GOOGLE/RESOLUTION17/US/raw/Turbines/41424.tif\n",
      "31000\n",
      "data/aerialImages/GOOGLE/RESOLUTION17/US/raw/Turbines/43307.tif\n",
      "32000\n",
      "data/aerialImages/GOOGLE/RESOLUTION17/US/raw/Turbines/46505.tif\n",
      "33000\n",
      "data/aerialImages/GOOGLE/RESOLUTION17/US/raw/Turbines/48199.tif\n",
      "34000\n",
      "data/aerialImages/GOOGLE/RESOLUTION17/US/raw/Turbines/49347.tif\n",
      "35000\n",
      "data/aerialImages/GOOGLE/RESOLUTION17/US/raw/Turbines/51770.tif\n",
      "36000\n",
      "data/aerialImages/GOOGLE/RESOLUTION17/US/raw/Turbines/54444.tif\n",
      "37000\n",
      "data/aerialImages/GOOGLE/RESOLUTION17/US/raw/Turbines/58630.tif\n",
      "Copying non-turbine files\n",
      "1000\n",
      "data/aerialImages/GOOGLE/RESOLUTION17/US/raw/NoTurbines/1876.tif\n",
      "2000\n",
      "data/aerialImages/GOOGLE/RESOLUTION17/US/raw/NoTurbines/3675.tif\n",
      "3000\n",
      "data/aerialImages/GOOGLE/RESOLUTION17/US/raw/NoTurbines/5063.tif\n",
      "4000\n",
      "data/aerialImages/GOOGLE/RESOLUTION17/US/raw/NoTurbines/6318.tif\n",
      "5000\n",
      "data/aerialImages/GOOGLE/RESOLUTION17/US/raw/NoTurbines/7486.tif\n",
      "6000\n",
      "data/aerialImages/GOOGLE/RESOLUTION17/US/raw/NoTurbines/8663.tif\n",
      "7000\n",
      "data/aerialImages/GOOGLE/RESOLUTION17/US/raw/NoTurbines/10004.tif\n",
      "8000\n",
      "data/aerialImages/GOOGLE/RESOLUTION17/US/raw/NoTurbines/11172.tif\n",
      "9000\n",
      "data/aerialImages/GOOGLE/RESOLUTION17/US/raw/NoTurbines/12413.tif\n",
      "10000\n",
      "data/aerialImages/GOOGLE/RESOLUTION17/US/raw/NoTurbines/13644.tif\n",
      "11000\n",
      "data/aerialImages/GOOGLE/RESOLUTION17/US/raw/NoTurbines/14748.tif\n",
      "12000\n",
      "data/aerialImages/GOOGLE/RESOLUTION17/US/raw/NoTurbines/16008.tif\n",
      "13000\n",
      "data/aerialImages/GOOGLE/RESOLUTION17/US/raw/NoTurbines/17198.tif\n",
      "14000\n",
      "data/aerialImages/GOOGLE/RESOLUTION17/US/raw/NoTurbines/18570.tif\n",
      "15000\n",
      "data/aerialImages/GOOGLE/RESOLUTION17/US/raw/NoTurbines/19718.tif\n",
      "16000\n",
      "data/aerialImages/GOOGLE/RESOLUTION17/US/raw/NoTurbines/20910.tif\n",
      "17000\n",
      "data/aerialImages/GOOGLE/RESOLUTION17/US/raw/NoTurbines/22517.tif\n",
      "18000\n",
      "data/aerialImages/GOOGLE/RESOLUTION17/US/raw/NoTurbines/23962.tif\n",
      "19000\n",
      "data/aerialImages/GOOGLE/RESOLUTION17/US/raw/NoTurbines/25416.tif\n",
      "20000\n",
      "data/aerialImages/GOOGLE/RESOLUTION17/US/raw/NoTurbines/26927.tif\n",
      "21000\n",
      "data/aerialImages/GOOGLE/RESOLUTION17/US/raw/NoTurbines/28123.tif\n",
      "22000\n",
      "data/aerialImages/GOOGLE/RESOLUTION17/US/raw/NoTurbines/29539.tif\n",
      "23000\n",
      "data/aerialImages/GOOGLE/RESOLUTION17/US/raw/NoTurbines/30848.tif\n",
      "24000\n",
      "data/aerialImages/GOOGLE/RESOLUTION17/US/raw/NoTurbines/32117.tif\n",
      "25000\n",
      "data/aerialImages/GOOGLE/RESOLUTION17/US/raw/NoTurbines/33409.tif\n",
      "26000\n",
      "data/aerialImages/GOOGLE/RESOLUTION17/US/raw/NoTurbines/35291.tif\n",
      "27000\n",
      "data/aerialImages/GOOGLE/RESOLUTION17/US/raw/NoTurbines/36540.tif\n",
      "28000\n",
      "data/aerialImages/GOOGLE/RESOLUTION17/US/raw/NoTurbines/38261.tif\n",
      "29000\n",
      "data/aerialImages/GOOGLE/RESOLUTION17/US/raw/NoTurbines/39514.tif\n",
      "30000\n",
      "data/aerialImages/GOOGLE/RESOLUTION17/US/raw/NoTurbines/41424.tif\n",
      "31000\n",
      "data/aerialImages/GOOGLE/RESOLUTION17/US/raw/NoTurbines/43307.tif\n",
      "32000\n",
      "data/aerialImages/GOOGLE/RESOLUTION17/US/raw/NoTurbines/46505.tif\n",
      "33000\n",
      "data/aerialImages/GOOGLE/RESOLUTION17/US/raw/NoTurbines/48199.tif\n",
      "34000\n",
      "data/aerialImages/GOOGLE/RESOLUTION17/US/raw/NoTurbines/49347.tif\n",
      "35000\n",
      "data/aerialImages/GOOGLE/RESOLUTION17/US/raw/NoTurbines/51770.tif\n",
      "36000\n",
      "data/aerialImages/GOOGLE/RESOLUTION17/US/raw/NoTurbines/54444.tif\n",
      "37000\n",
      "data/aerialImages/GOOGLE/RESOLUTION17/US/raw/NoTurbines/58630.tif\n",
      "total training turbine images  60013\n",
      "total testing turbine images  15005\n",
      "total training turbine images  60013\n",
      "total testing turbine images  15005\n"
     ]
    }
   ],
   "source": [
    "for res in [17]:\n",
    "    fpr.copy_learning_files(\"US\", res, delete = False)\n",
    "\n",
    "\n",
    "\n",
    "\n"
   ]
  },
  {
   "cell_type": "code",
   "execution_count": 3,
   "metadata": {
    "ExecuteTime": {
     "end_time": "2019-11-12T09:18:12.357909Z",
     "start_time": "2019-11-12T09:17:54.350871Z"
    }
   },
   "outputs": [
    {
     "name": "stderr",
     "output_type": "stream",
     "text": [
      "Using TensorFlow backend.\n",
      "/home/jschmidt/.conda/envs/windturbine-identification/lib/python3.7/site-packages/tensorflow/python/framework/dtypes.py:526: FutureWarning: Passing (type, 1) or '1type' as a synonym of type is deprecated; in a future version of numpy, it will be understood as (type, (1,)) / '(1,)type'.\n",
      "  _np_qint8 = np.dtype([(\"qint8\", np.int8, 1)])\n",
      "/home/jschmidt/.conda/envs/windturbine-identification/lib/python3.7/site-packages/tensorflow/python/framework/dtypes.py:527: FutureWarning: Passing (type, 1) or '1type' as a synonym of type is deprecated; in a future version of numpy, it will be understood as (type, (1,)) / '(1,)type'.\n",
      "  _np_quint8 = np.dtype([(\"quint8\", np.uint8, 1)])\n",
      "/home/jschmidt/.conda/envs/windturbine-identification/lib/python3.7/site-packages/tensorflow/python/framework/dtypes.py:528: FutureWarning: Passing (type, 1) or '1type' as a synonym of type is deprecated; in a future version of numpy, it will be understood as (type, (1,)) / '(1,)type'.\n",
      "  _np_qint16 = np.dtype([(\"qint16\", np.int16, 1)])\n",
      "/home/jschmidt/.conda/envs/windturbine-identification/lib/python3.7/site-packages/tensorflow/python/framework/dtypes.py:529: FutureWarning: Passing (type, 1) or '1type' as a synonym of type is deprecated; in a future version of numpy, it will be understood as (type, (1,)) / '(1,)type'.\n",
      "  _np_quint16 = np.dtype([(\"quint16\", np.uint16, 1)])\n",
      "/home/jschmidt/.conda/envs/windturbine-identification/lib/python3.7/site-packages/tensorflow/python/framework/dtypes.py:530: FutureWarning: Passing (type, 1) or '1type' as a synonym of type is deprecated; in a future version of numpy, it will be understood as (type, (1,)) / '(1,)type'.\n",
      "  _np_qint32 = np.dtype([(\"qint32\", np.int32, 1)])\n",
      "/home/jschmidt/.conda/envs/windturbine-identification/lib/python3.7/site-packages/tensorflow/python/framework/dtypes.py:535: FutureWarning: Passing (type, 1) or '1type' as a synonym of type is deprecated; in a future version of numpy, it will be understood as (type, (1,)) / '(1,)type'.\n",
      "  np_resource = np.dtype([(\"resource\", np.ubyte, 1)])\n"
     ]
    },
    {
     "data": {
      "text/plain": [
       "<module 'scripts.windturbines.functions_pattern_recognition' from '/data/projects/windturbine-identification/MachineLearningCourse/scripts/windturbines/functions_pattern_recognition.py'>"
      ]
     },
     "execution_count": 3,
     "metadata": {},
     "output_type": "execute_result"
    }
   ],
   "source": [
    "import imp\n",
    "import scripts.windturbines.functions_pattern_recognition as fpr\n",
    "imp.reload(fpr)\n"
   ]
  },
  {
   "cell_type": "code",
   "execution_count": 4,
   "metadata": {
    "ExecuteTime": {
     "end_time": "2019-11-12T09:18:12.362507Z",
     "start_time": "2019-11-12T09:18:12.360043Z"
    }
   },
   "outputs": [],
   "source": [
    "COUNTRY = \"US\"\n"
   ]
  },
  {
   "cell_type": "code",
   "execution_count": null,
   "metadata": {
    "ExecuteTime": {
     "start_time": "2019-11-12T09:18:16.991Z"
    }
   },
   "outputs": [
    {
     "name": "stdout",
     "output_type": "stream",
     "text": [
      "Found 45009 validated image filenames belonging to 2 classes.\n",
      "Found 15003 validated image filenames belonging to 2 classes.\n",
      "Found 15004 validated image filenames belonging to 2 classes.\n",
      "WARNING:tensorflow:From /home/jschmidt/.conda/envs/windturbine-identification/lib/python3.7/site-packages/tensorflow/python/framework/op_def_library.py:263: colocate_with (from tensorflow.python.framework.ops) is deprecated and will be removed in a future version.\n",
      "Instructions for updating:\n",
      "Colocations handled automatically by placer.\n",
      "WARNING:tensorflow:From /home/jschmidt/.conda/envs/windturbine-identification/lib/python3.7/site-packages/tensorflow/python/ops/math_ops.py:3066: to_int32 (from tensorflow.python.ops.math_ops) is deprecated and will be removed in a future version.\n",
      "Instructions for updating:\n",
      "Use tf.cast instead.\n",
      "Epoch 1/30\n"
     ]
    }
   ],
   "source": [
    "fpr.train_model_res(17, COUNTRY, 30)"
   ]
  },
  {
   "cell_type": "code",
   "execution_count": null,
   "metadata": {},
   "outputs": [],
   "source": [
    "fpr.train_model_res(14, COUNTRY, 30)"
   ]
  },
  {
   "cell_type": "code",
   "execution_count": null,
   "metadata": {},
   "outputs": [],
   "source": [
    "fpr.train_model_res(15, COUNTRY, 30)"
   ]
  },
  {
   "cell_type": "code",
   "execution_count": null,
   "metadata": {},
   "outputs": [],
   "source": [
    "fpr.train_model_res(16, COUNTRY, 30)"
   ]
  },
  {
   "cell_type": "code",
   "execution_count": null,
   "metadata": {},
   "outputs": [],
   "source": [
    "fpr.train_model_res(17, COUNTRY, 30)"
   ]
  },
  {
   "cell_type": "code",
   "execution_count": null,
   "metadata": {},
   "outputs": [],
   "source": [
    "fpr.train_model_res(18, COUNTRY, 30)"
   ]
  },
  {
   "cell_type": "code",
   "execution_count": null,
   "metadata": {},
   "outputs": [],
   "source": [
    "fpr.train_model_res(19, COUNTRY, 30)"
   ]
  }
 ],
 "metadata": {
  "kernelspec": {
   "display_name": "Python [conda env:.conda-windturbine-identification]",
   "language": "python",
   "name": "conda-env-.conda-windturbine-identification-py"
  }
 },
 "nbformat": 4,
 "nbformat_minor": 2
}
