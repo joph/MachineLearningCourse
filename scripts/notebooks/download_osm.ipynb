{
 "cells": [
  {
   "cell_type": "code",
   "execution_count": 1,
   "metadata": {
    "ExecuteTime": {
     "end_time": "2019-08-20T07:30:00.472846Z",
     "start_time": "2019-08-20T07:30:00.462961Z"
    }
   },
   "outputs": [
    {
     "name": "stdout",
     "output_type": "stream",
     "text": [
      "/data/projects/windturbine-identification/MachineLearningCourse\n"
     ]
    }
   ],
   "source": [
    "cd /data/projects/windturbine-identification/MachineLearningCourse"
   ]
  },
  {
   "cell_type": "code",
   "execution_count": 2,
   "metadata": {
    "ExecuteTime": {
     "end_time": "2019-08-20T07:30:02.721589Z",
     "start_time": "2019-08-20T07:30:02.129510Z"
    }
   },
   "outputs": [],
   "source": [
    "from scripts.windturbines.osm_download import getfeatures, get_param\n",
    "\n",
    "import overpy\n",
    "\n",
    "import fiona\n",
    "from fiona.crs import from_epsg\n",
    "\n",
    "from shapely.geometry import Point, mapping\n",
    "import re\n",
    "\n",
    "import argparse\n",
    "\n",
    "import math\n",
    "import time\n",
    "\n",
    "from pathlib import Path\n",
    "\n",
    "import os\n",
    "\n",
    "import pandas as pd"
   ]
  },
  {
   "cell_type": "code",
   "execution_count": 3,
   "metadata": {
    "ExecuteTime": {
     "end_time": "2019-08-20T07:30:04.108760Z",
     "start_time": "2019-08-20T07:30:04.040442Z"
    }
   },
   "outputs": [],
   "source": [
    "def writeshape(nodes, name):\n",
    "\n",
    "    schema = { 'geometry': 'Point', 'properties': {'method': 'str', 'source': 'str', 'elmw': 'float'} }\n",
    "    shapeout = name\n",
    "\n",
    "    with fiona.open(shapeout, 'w', crs=from_epsg(4326), driver='ESRI Shapefile', schema=schema) as output:\n",
    "        for node in nodes:\n",
    "            gensource = node.tags.get(\"generator:source\", \"unknown\")\n",
    "            genmethod = node.tags.get(\"generator:method\", \"unknown\")\n",
    "            genmodel = node.tags.get(\"generator:model\", \"unknown\")\n",
    "\n",
    "            genoutel = node.tags.get(\"generator:output:electricity\", \"unknown\")\n",
    "            genoutmw = -9999\n",
    "            if re.search(\"[+-]?([0-9]*[.])?[0-9]+\", genoutel):\n",
    "                genoutmw = float(re.search(\"[+-]?([0-9]*[.])?[0-9]+\", genoutel)[0])\n",
    "                if \"kw\" in genoutel.lower():\n",
    "                    genoutmw = genoutmw / 1000\n",
    "            try:\n",
    "                point = Point(node.lon, node.lat)\n",
    "            except AttributeError:\n",
    "                point = Point(node.center_lon, node.center_lat)\n",
    "            prop = {\n",
    "                'method': genmethod.lower(),\n",
    "                'source': gensource.lower(),\n",
    "                'elmw': genoutmw}\n",
    "            output.write({'geometry': mapping(point), 'properties': prop})"
   ]
  },
  {
   "cell_type": "code",
   "execution_count": 4,
   "metadata": {
    "ExecuteTime": {
     "end_time": "2019-08-20T07:30:05.579854Z",
     "start_time": "2019-08-20T07:30:05.571475Z"
    }
   },
   "outputs": [],
   "source": [
    "\n",
    "countries_full =[\"EG\", \"MA\", \"ZA\", \"CN\", \"IN\", \"JP\", \"KP\", \"PK\", \"PH\", \"TH\", \"CR\", \"TR\", \"AT\", \"BE\", \"BG\", \"HR\", \"DK\", \"FI\", \n",
    "                  \"FR\", \"DE\", \"GR\", \"IE\", \"IT\", \"LT\", \"NL\", \"NO\", \"PL\", \"PT\", \"RO\", \"ES\", \"SE\", \"GB\", \"UA\", \"CA\", \n",
    "                  \"MX\", \"US\", \"AU\", \"NZ\", \"BR\", \"CL\", \"UY\"]\n",
    "\n",
    "countries =[\"EG\", \"MA\", \"ZA\", \"IN\", \"JP\", \"KP\", \"PK\", \"PH\", \"TH\", \"CR\", \"TR\", \"AT\", \"BE\", \"BG\", \"HR\", \"DK\", \"FI\", \n",
    "            \"GR\", \"IE\", \"IT\", \"LT\", \"NL\", \"NO\", \"PL\", \"PT\", \"RO\", \"SE\", \"UA\",  \n",
    "            \"MX\", \"AU\", \"NZ\", \"CL\", \"UY\"]\n",
    "\n",
    "countries = [\"US\"]\n",
    "\n"
   ]
  },
  {
   "cell_type": "code",
   "execution_count": 5,
   "metadata": {
    "ExecuteTime": {
     "end_time": "2019-08-20T08:02:17.533563Z",
     "start_time": "2019-08-20T07:30:09.496896Z"
    }
   },
   "outputs": [
    {
     "name": "stdout",
     "output_type": "stream",
     "text": [
      "Working on country: US\n",
      "Starting download...\n",
      "waiting for 12 seconds\n",
      "waiting for 59 seconds\n",
      "\tnodes: 29, ways: 2226, relations: 0\n",
      "waiting for 322 seconds\n",
      "fetching generators\n",
      "Starting download...\n",
      "waiting for 188 seconds\n",
      "waiting for 446 seconds\n"
     ]
    },
    {
     "ename": "OverpassTooManyRequests",
     "evalue": "Too many requests",
     "output_type": "error",
     "traceback": [
      "\u001b[0;31m---------------------------------------------------------------------------\u001b[0m",
      "\u001b[0;31mOverpassTooManyRequests\u001b[0m                   Traceback (most recent call last)",
      "\u001b[0;32m<ipython-input-5-b4e9a8988ead>\u001b[0m in \u001b[0;36m<module>\u001b[0;34m\u001b[0m\n\u001b[1;32m     19\u001b[0m \u001b[0;34m\u001b[0m\u001b[0m\n\u001b[1;32m     20\u001b[0m     \u001b[0mprint\u001b[0m\u001b[0;34m(\u001b[0m\u001b[0;34m'fetching generators'\u001b[0m\u001b[0;34m)\u001b[0m\u001b[0;34m\u001b[0m\u001b[0;34m\u001b[0m\u001b[0m\n\u001b[0;32m---> 21\u001b[0;31m     \u001b[0mnodes\u001b[0m\u001b[0;34m,\u001b[0m \u001b[0mways\u001b[0m\u001b[0;34m,\u001b[0m \u001b[0mrels\u001b[0m \u001b[0;34m=\u001b[0m \u001b[0mgetfeatures\u001b[0m\u001b[0;34m(\u001b[0m\u001b[0mcountry\u001b[0m\u001b[0;34m,\u001b[0m \u001b[0;34m\"power\"\u001b[0m\u001b[0;34m,\u001b[0m \u001b[0;34m\"generator\"\u001b[0m\u001b[0;34m)\u001b[0m\u001b[0;34m\u001b[0m\u001b[0;34m\u001b[0m\u001b[0m\n\u001b[0m\u001b[1;32m     22\u001b[0m     \u001b[0mfeatures\u001b[0m \u001b[0;34m=\u001b[0m \u001b[0mfeatures\u001b[0m \u001b[0;34m+\u001b[0m \u001b[0mnodes\u001b[0m \u001b[0;34m+\u001b[0m \u001b[0mways\u001b[0m \u001b[0;34m+\u001b[0m \u001b[0mrels\u001b[0m\u001b[0;34m\u001b[0m\u001b[0;34m\u001b[0m\u001b[0m\n\u001b[1;32m     23\u001b[0m \u001b[0;34m\u001b[0m\u001b[0m\n",
      "\u001b[0;32m/data/projects/windturbine-identification/MachineLearningCourse/scripts/windturbines/osm_download.py\u001b[0m in \u001b[0;36mgetfeatures\u001b[0;34m(ISOCountry, tagkey, tagval)\u001b[0m\n\u001b[1;32m     96\u001b[0m         \u001b[0mrelation\u001b[0m\u001b[0;34m(\u001b[0m\u001b[0marea\u001b[0m\u001b[0;34m)\u001b[0m\u001b[0;34m[\u001b[0m\u001b[0;34m\"\"\"+tagkey+\"\"\"\u001b[0m\u001b[0;34m~\u001b[0m\u001b[0;34m\"\"\"+tagval+\"\"\"\u001b[0m\u001b[0;34m]\u001b[0m\u001b[0;34m;\u001b[0m\u001b[0;34m\u001b[0m\u001b[0;34m\u001b[0m\u001b[0m\n\u001b[1;32m     97\u001b[0m         \u001b[0mout\u001b[0m \u001b[0mcenter\u001b[0m\u001b[0;34m;\u001b[0m\u001b[0;34m\u001b[0m\u001b[0;34m\u001b[0m\u001b[0m\n\u001b[0;32m---> 98\u001b[0;31m     \"\"\")\n\u001b[0m\u001b[1;32m     99\u001b[0m \u001b[0;34m\u001b[0m\u001b[0m\n\u001b[1;32m    100\u001b[0m     \u001b[0mrels\u001b[0m \u001b[0;34m=\u001b[0m \u001b[0mres\u001b[0m\u001b[0;34m.\u001b[0m\u001b[0mrelations\u001b[0m\u001b[0;34m\u001b[0m\u001b[0;34m\u001b[0m\u001b[0m\n",
      "\u001b[0;32m~/.conda/envs/osm-download/lib/python3.7/site-packages/overpy/__init__.py\u001b[0m in \u001b[0;36mquery\u001b[0;34m(self, query)\u001b[0m\n\u001b[1;32m    121\u001b[0m \u001b[0;34m\u001b[0m\u001b[0m\n\u001b[1;32m    122\u001b[0m         \u001b[0;32mif\u001b[0m \u001b[0mf\u001b[0m\u001b[0;34m.\u001b[0m\u001b[0mcode\u001b[0m \u001b[0;34m==\u001b[0m \u001b[0;36m429\u001b[0m\u001b[0;34m:\u001b[0m\u001b[0;34m\u001b[0m\u001b[0;34m\u001b[0m\u001b[0m\n\u001b[0;32m--> 123\u001b[0;31m             \u001b[0;32mraise\u001b[0m \u001b[0mexception\u001b[0m\u001b[0;34m.\u001b[0m\u001b[0mOverpassTooManyRequests\u001b[0m\u001b[0;34m\u001b[0m\u001b[0;34m\u001b[0m\u001b[0m\n\u001b[0m\u001b[1;32m    124\u001b[0m \u001b[0;34m\u001b[0m\u001b[0m\n\u001b[1;32m    125\u001b[0m         \u001b[0;32mif\u001b[0m \u001b[0mf\u001b[0m\u001b[0;34m.\u001b[0m\u001b[0mcode\u001b[0m \u001b[0;34m==\u001b[0m \u001b[0;36m504\u001b[0m\u001b[0;34m:\u001b[0m\u001b[0;34m\u001b[0m\u001b[0;34m\u001b[0m\u001b[0m\n",
      "\u001b[0;31mOverpassTooManyRequests\u001b[0m: Too many requests"
     ]
    }
   ],
   "source": [
    "# countries = ['IN', 'ES', 'GB', 'FR', 'BR', 'CA']\n",
    "\n",
    "\n",
    "\n",
    "#countries = ['FR', 'BR', 'CA']\n",
    "\n",
    "\n",
    "for country in countries:\n",
    "    \n",
    "    print(\"Working on country: \" + country)\n",
    "    \n",
    "    st = time.time()\n",
    "    nodes, ways, rels = getfeatures(country, \"power\", \"plant\")\n",
    "    features = nodes + ways + rels\n",
    "    et = time.time()\n",
    "\n",
    "    print('waiting for {:.0f} seconds'.format(et - st))\n",
    "    time.sleep(et - st)\n",
    "\n",
    "    print('fetching generators')\n",
    "    nodes, ways, rels = getfeatures(country, \"power\", \"generator\")\n",
    "    features = features + nodes + ways + rels\n",
    "\n",
    "    PATH_OSM = get_param(country,\"PATH_OSM\")\n",
    "\n",
    "    writeshape(features, PATH_OSM)\n",
    "\n"
   ]
  },
  {
   "cell_type": "code",
   "execution_count": 5,
   "metadata": {
    "ExecuteTime": {
     "end_time": "2019-08-20T05:32:47.549460Z",
     "start_time": "2019-08-20T05:32:47.537662Z"
    }
   },
   "outputs": [
    {
     "data": {
      "text/plain": [
       "'data/osm/EG'"
      ]
     },
     "execution_count": 5,
     "metadata": {},
     "output_type": "execute_result"
    }
   ],
   "source": [
    "get_param(\"EG\",\"PATH_OSM\")"
   ]
  }
 ],
 "metadata": {
  "kernelspec": {
   "display_name": "Python [conda env:.conda-osm-download]",
   "language": "python",
   "name": "conda-env-.conda-osm-download-py"
  }
 },
 "nbformat": 4,
 "nbformat_minor": 2
}
