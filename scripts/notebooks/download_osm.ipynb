{
 "cells": [
  {
   "cell_type": "code",
   "execution_count": 1,
   "metadata": {},
   "outputs": [
    {
     "name": "stdout",
     "output_type": "stream",
     "text": [
      "/data/projects/windturbine-identification/MachineLearningCourse\n"
     ]
    }
   ],
   "source": [
    "cd /data/projects/windturbine-identification/MachineLearningCourse"
   ]
  },
  {
   "cell_type": "code",
   "execution_count": 7,
   "metadata": {},
   "outputs": [],
   "source": [
    "from scripts.windturbines.osm_download import getfeatures, get_param\n",
    "\n",
    "import overpy\n",
    "\n",
    "import fiona\n",
    "from fiona.crs import from_epsg\n",
    "\n",
    "from shapely.geometry import Point, mapping\n",
    "import re\n",
    "\n",
    "import argparse\n",
    "\n",
    "import math\n",
    "import time\n",
    "\n",
    "from pathlib import Path\n",
    "\n",
    "import os\n",
    "\n",
    "import pandas as pd"
   ]
  },
  {
   "cell_type": "code",
   "execution_count": 8,
   "metadata": {},
   "outputs": [],
   "source": [
    "def writeshape(nodes, name):\n",
    "\n",
    "    schema = { 'geometry': 'Point', 'properties': {'method': 'str', 'source': 'str', 'elmw': 'float'} }\n",
    "    shapeout = name\n",
    "\n",
    "    with fiona.open(shapeout, 'w', crs=from_epsg(4326), driver='ESRI Shapefile', schema=schema) as output:\n",
    "        for node in nodes:\n",
    "            gensource = node.tags.get(\"generator:source\", \"unknown\")\n",
    "            genmethod = node.tags.get(\"generator:method\", \"unknown\")\n",
    "            genmodel = node.tags.get(\"generator:model\", \"unknown\")\n",
    "\n",
    "            genoutel = node.tags.get(\"generator:output:electricity\", \"unknown\")\n",
    "            genoutmw = -9999\n",
    "            if re.search(\"[+-]?([0-9]*[.])?[0-9]+\", genoutel):\n",
    "                genoutmw = float(re.search(\"[+-]?([0-9]*[.])?[0-9]+\", genoutel)[0])\n",
    "                if \"kw\" in genoutel.lower():\n",
    "                    genoutmw = genoutmw / 1000\n",
    "            try:\n",
    "                point = Point(node.lon, node.lat)\n",
    "            except AttributeError:\n",
    "                point = Point(node.center_lon, node.center_lat)\n",
    "            prop = {\n",
    "                'method': genmethod.lower(),\n",
    "                'source': gensource.lower(),\n",
    "                'elmw': genoutmw}\n",
    "            output.write({'geometry': mapping(point), 'properties': prop})"
   ]
  },
  {
   "cell_type": "code",
   "execution_count": 10,
   "metadata": {},
   "outputs": [
    {
     "name": "stdout",
     "output_type": "stream",
     "text": [
      "Working on country: FR\n",
      "Starting download...\n",
      "waiting for 10 seconds\n",
      "waiting for 11 seconds\n",
      "\tnodes: 93, ways: 673, relations: 1056\n",
      "waiting for 87 seconds\n",
      "fetching generators\n",
      "Starting download...\n",
      "waiting for 36 seconds\n",
      "waiting for 23 seconds\n"
     ]
    },
    {
     "name": "stderr",
     "output_type": "stream",
     "text": [
      "ERROR:fiona._env:data/osm/FR: Is a directory\n",
      "WARNING:fiona._env:driver ESRI Shapefile does not support creation option ENCODING\n"
     ]
    },
    {
     "name": "stdout",
     "output_type": "stream",
     "text": [
      "\tnodes: 7278, ways: 3721, relations: 17\n",
      "Working on country: BR\n",
      "Starting download...\n",
      "waiting for 21 seconds\n",
      "waiting for 6 seconds\n",
      "\tnodes: 10, ways: 201, relations: 63\n",
      "waiting for 74 seconds\n",
      "fetching generators\n",
      "Starting download...\n",
      "waiting for 16 seconds\n",
      "waiting for 16 seconds\n"
     ]
    },
    {
     "name": "stderr",
     "output_type": "stream",
     "text": [
      "ERROR:fiona._env:data/osm/BR: Is a directory\n",
      "WARNING:fiona._env:driver ESRI Shapefile does not support creation option ENCODING\n"
     ]
    },
    {
     "name": "stdout",
     "output_type": "stream",
     "text": [
      "\tnodes: 10952, ways: 24285, relations: 2\n",
      "Working on country: CA\n",
      "Starting download...\n",
      "waiting for 13 seconds\n",
      "waiting for 11 seconds\n",
      "\tnodes: 5, ways: 295, relations: 42\n",
      "waiting for 104 seconds\n",
      "fetching generators\n",
      "Starting download...\n",
      "waiting for 56 seconds\n",
      "waiting for 12 seconds\n"
     ]
    },
    {
     "name": "stderr",
     "output_type": "stream",
     "text": [
      "ERROR:fiona._env:data/osm/CA: Is a directory\n",
      "WARNING:fiona._env:driver ESRI Shapefile does not support creation option ENCODING\n"
     ]
    },
    {
     "name": "stdout",
     "output_type": "stream",
     "text": [
      "\tnodes: 5908, ways: 919, relations: 1\n"
     ]
    }
   ],
   "source": [
    "# countries = ['IN', 'ES', 'GB', 'FR', 'BR', 'CA']\n",
    "\n",
    "countries = ['FR', 'BR', 'CA']\n",
    "\n",
    "\n",
    "for country in countries:\n",
    "    \n",
    "    print(\"Working on country: \" + country)\n",
    "    \n",
    "    st = time.time()\n",
    "    nodes, ways, rels = getfeatures(country, \"power\", \"plant\")\n",
    "    features = nodes + ways + rels\n",
    "    et = time.time()\n",
    "\n",
    "    print('waiting for {:.0f} seconds'.format(et - st))\n",
    "    time.sleep(et - st)\n",
    "\n",
    "    print('fetching generators')\n",
    "    nodes, ways, rels = getfeatures(country, \"power\", \"generator\")\n",
    "    features = features + nodes + ways + rels\n",
    "\n",
    "    PATH_OSM = get_param(country,\"PATH_OSM\")\n",
    "\n",
    "    writeshape(features, PATH_OSM)\n",
    "\n"
   ]
  },
  {
   "cell_type": "code",
   "execution_count": 11,
   "metadata": {},
   "outputs": [
    {
     "data": {
      "text/plain": [
       "<function scripts.windturbines.osm_download.writeshape(nodes, name)>"
      ]
     },
     "execution_count": 11,
     "metadata": {},
     "output_type": "execute_result"
    }
   ],
   "source": []
  }
 ],
 "metadata": {
  "kernelspec": {
   "display_name": "Python [conda env:.conda-osm-download]",
   "language": "python",
   "name": "conda-env-.conda-osm-download-py"
  },
  "language_info": {
   "codemirror_mode": {
    "name": "ipython",
    "version": 3
   },
   "file_extension": ".py",
   "mimetype": "text/x-python",
   "name": "python",
   "nbconvert_exporter": "python",
   "pygments_lexer": "ipython3",
   "version": "3.7.3"
  }
 },
 "nbformat": 4,
 "nbformat_minor": 2
}
