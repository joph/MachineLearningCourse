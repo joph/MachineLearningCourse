{
 "cells": [
  {
   "cell_type": "code",
   "execution_count": 1,
   "metadata": {
    "ExecuteTime": {
     "end_time": "2019-08-27T09:28:47.336290Z",
     "start_time": "2019-08-27T09:28:47.331586Z"
    }
   },
   "outputs": [
    {
     "name": "stdout",
     "output_type": "stream",
     "text": [
      "/data/projects/windturbine-identification/MachineLearningCourse\n"
     ]
    }
   ],
   "source": [
    "cd /data/projects/windturbine-identification/MachineLearningCourse"
   ]
  },
  {
   "cell_type": "code",
   "execution_count": 2,
   "metadata": {
    "ExecuteTime": {
     "end_time": "2019-08-27T09:28:50.392794Z",
     "start_time": "2019-08-27T09:28:48.800656Z"
    }
   },
   "outputs": [
    {
     "name": "stderr",
     "output_type": "stream",
     "text": [
      "Using TensorFlow backend.\n"
     ]
    }
   ],
   "source": [
    "import imp\n",
    "import scripts.windturbines.functions_pattern_recognition as fpr\n",
    "imp.reload(fpr)\n",
    "import pandas as pd\n",
    "import numpy as np\n",
    "import shutil\n",
    "import os\n"
   ]
  },
  {
   "cell_type": "code",
   "execution_count": 3,
   "metadata": {
    "ExecuteTime": {
     "end_time": "2019-08-27T09:28:50.551788Z",
     "start_time": "2019-08-27T09:28:50.445856Z"
    }
   },
   "outputs": [
    {
     "name": "stderr",
     "output_type": "stream",
     "text": [
      "/home/jschmidt/.conda/envs/windturbine-identification/lib/python3.7/site-packages/pyarrow/pandas_compat.py:752: FutureWarning: .labels was deprecated in version 0.24.0. Use .codes instead.\n",
      "  labels, = index.labels\n"
     ]
    }
   ],
   "source": [
    "COUNTRY = \"US\"\n",
    "\n",
    "path_raw = fpr.get_param(COUNTRY,\"PATH_RAW_IMAGES_TURBINES\")\n",
    "\n",
    "predictions_file = path_raw + \"all_predictions.feather\"\n",
    "\n",
    "p = pd.read_feather(predictions_file)"
   ]
  },
  {
   "cell_type": "markdown",
   "metadata": {},
   "source": [
    "# Assess quantity of turbines"
   ]
  },
  {
   "cell_type": "code",
   "execution_count": 4,
   "metadata": {
    "ExecuteTime": {
     "end_time": "2019-08-27T09:28:52.198262Z",
     "start_time": "2019-08-27T09:28:51.967693Z"
    }
   },
   "outputs": [
    {
     "name": "stdout",
     "output_type": "stream",
     "text": [
      "Turbines: 48346\n",
      "Total number of images: 58826\n",
      "Turbines: 47079\n",
      "Total number of images: 58826\n",
      "Turbines: 46404\n",
      "Total number of images: 58826\n",
      "Turbines: 45517\n",
      "Total number of images: 58826\n",
      "Turbines: 44156\n",
      "Total number of images: 58826\n",
      "Turbines: 42131\n",
      "Total number of images: 58826\n",
      "Turbines: 38353\n",
      "Total number of images: 58826\n"
     ]
    },
    {
     "data": {
      "text/plain": [
       "<matplotlib.axes._subplots.AxesSubplot at 0x7efebc22e940>"
      ]
     },
     "execution_count": 4,
     "metadata": {},
     "output_type": "execute_result"
    },
    {
     "data": {
      "image/png": "[encoded data removed]",
      "text/plain": [
       "<Figure size 432x288 with 1 Axes>"
      ]
     },
     "metadata": {
      "needs_background": "light"
     },
     "output_type": "display_data"
    }
   ],
   "source": [
    "threshold = 0.5\n",
    "\n",
    "print(\"Turbines: \" + str(sum(p.prediction > threshold)))\n",
    "print(\"Total number of images: \" + str(sum(p.prediction > 0)))\n",
    "\n",
    "threshold = 0.99\n",
    "\n",
    "print(\"Turbines: \" + str(sum(p.prediction > threshold)))\n",
    "print(\"Total number of images: \" + str(sum(p.prediction > 0)))\n",
    "\n",
    "threshold = 0.999\n",
    "\n",
    "print(\"Turbines: \" + str(sum(p.prediction > threshold)))\n",
    "print(\"Total number of images: \" + str(sum(p.prediction > 0)))\n",
    "\n",
    "threshold = 0.9999\n",
    "\n",
    "print(\"Turbines: \" + str(sum(p.prediction > threshold)))\n",
    "print(\"Total number of images: \" + str(sum(p.prediction > 0)))\n",
    "\n",
    "threshold = 0.99999\n",
    "\n",
    "print(\"Turbines: \" + str(sum(p.prediction > threshold)))\n",
    "print(\"Total number of images: \" + str(sum(p.prediction > 0)))\n",
    "\n",
    "threshold = 0.999999\n",
    "\n",
    "print(\"Turbines: \" + str(sum(p.prediction > threshold)))\n",
    "print(\"Total number of images: \" + str(sum(p.prediction > 0)))\n",
    "\n",
    "threshold = 0.9999999\n",
    "\n",
    "print(\"Turbines: \" + str(sum(p.prediction > threshold)))\n",
    "print(\"Total number of images: \" + str(sum(p.prediction > 0)))\n",
    "\n",
    "\n",
    "p1 = p.loc[p.prediction>-2,:]\n",
    "\n",
    "p1.prediction.hist(bins=20)\n",
    "\n",
    "\n",
    "\n"
   ]
  },
  {
   "cell_type": "code",
   "execution_count": 5,
   "metadata": {
    "ExecuteTime": {
     "end_time": "2019-08-27T09:28:54.976033Z",
     "start_time": "2019-08-27T09:28:54.718242Z"
    }
   },
   "outputs": [],
   "source": [
    "shutil.rmtree(path_raw + \"no_turbines/\", ignore_errors=True) \n",
    "os.makedirs(path_raw + \"no_turbines/\")"
   ]
  },
  {
   "cell_type": "code",
   "execution_count": null,
   "metadata": {
    "ExecuteTime": {
     "end_time": "2019-08-27T09:20:51.234386Z",
     "start_time": "2019-08-27T09:20:51.214516Z"
    }
   },
   "outputs": [],
   "source": [
    "p"
   ]
  },
  {
   "cell_type": "markdown",
   "metadata": {},
   "source": [
    "# copy files"
   ]
  },
  {
   "cell_type": "code",
   "execution_count": 6,
   "metadata": {
    "ExecuteTime": {
     "end_time": "2019-08-27T09:33:26.625766Z",
     "start_time": "2019-08-27T09:28:58.150456Z"
    }
   },
   "outputs": [
    {
     "name": "stdout",
     "output_type": "stream",
     "text": [
      "src: data/aerialImages/GOOGLE/RESOLUTION19/US/raw/Turbines//400.tif\n",
      "dst: data/aerialImages/GOOGLE/RESOLUTION19/US/raw/Turbines/no_turbines/400_0.00046214673784561455_.png\n",
      "src: data/aerialImages/GOOGLE/RESOLUTION19/US/raw/Turbines//2500.tif\n",
      "dst: data/aerialImages/GOOGLE/RESOLUTION19/US/raw/Turbines/no_turbines/2500_0.0859723910689354_.png\n",
      "src: data/aerialImages/GOOGLE/RESOLUTION19/US/raw/Turbines//2600.tif\n",
      "dst: data/aerialImages/GOOGLE/RESOLUTION19/US/raw/Turbines/no_turbines/2600_0.01794583536684513_.png\n",
      "src: data/aerialImages/GOOGLE/RESOLUTION19/US/raw/Turbines//3000.tif\n",
      "dst: data/aerialImages/GOOGLE/RESOLUTION19/US/raw/Turbines/no_turbines/3000_0.08081573247909546_.png\n",
      "src: data/aerialImages/GOOGLE/RESOLUTION19/US/raw/Turbines//3200.tif\n",
      "dst: data/aerialImages/GOOGLE/RESOLUTION19/US/raw/Turbines/no_turbines/3200_0.050285182893276215_.png\n",
      "src: data/aerialImages/GOOGLE/RESOLUTION19/US/raw/Turbines//3800.tif\n",
      "dst: data/aerialImages/GOOGLE/RESOLUTION19/US/raw/Turbines/no_turbines/3800_0.03310806676745415_.png\n",
      "src: data/aerialImages/GOOGLE/RESOLUTION19/US/raw/Turbines//24600.tif\n",
      "dst: data/aerialImages/GOOGLE/RESOLUTION19/US/raw/Turbines/no_turbines/24600_0.03402208536863327_.png\n",
      "src: data/aerialImages/GOOGLE/RESOLUTION19/US/raw/Turbines//25800.tif\n",
      "dst: data/aerialImages/GOOGLE/RESOLUTION19/US/raw/Turbines/no_turbines/25800_0.0486985445022583_.png\n",
      "src: data/aerialImages/GOOGLE/RESOLUTION19/US/raw/Turbines//31300.tif\n",
      "dst: data/aerialImages/GOOGLE/RESOLUTION19/US/raw/Turbines/no_turbines/31300_0.060490112751722336_.png\n",
      "src: data/aerialImages/GOOGLE/RESOLUTION19/US/raw/Turbines//34400.tif\n",
      "dst: data/aerialImages/GOOGLE/RESOLUTION19/US/raw/Turbines/no_turbines/34400_0.01709253527224064_.png\n",
      "src: data/aerialImages/GOOGLE/RESOLUTION19/US/raw/Turbines//35200.tif\n",
      "dst: data/aerialImages/GOOGLE/RESOLUTION19/US/raw/Turbines/no_turbines/35200_0.0005173449753783643_.png\n",
      "src: data/aerialImages/GOOGLE/RESOLUTION19/US/raw/Turbines//37300.tif\n",
      "dst: data/aerialImages/GOOGLE/RESOLUTION19/US/raw/Turbines/no_turbines/37300_0.026038359850645065_.png\n",
      "src: data/aerialImages/GOOGLE/RESOLUTION19/US/raw/Turbines//38100.tif\n",
      "dst: data/aerialImages/GOOGLE/RESOLUTION19/US/raw/Turbines/no_turbines/38100_0.05232321843504906_.png\n",
      "src: data/aerialImages/GOOGLE/RESOLUTION19/US/raw/Turbines//39600.tif\n",
      "dst: data/aerialImages/GOOGLE/RESOLUTION19/US/raw/Turbines/no_turbines/39600_0.003672819584608078_.png\n",
      "src: data/aerialImages/GOOGLE/RESOLUTION19/US/raw/Turbines//41000.tif\n",
      "dst: data/aerialImages/GOOGLE/RESOLUTION19/US/raw/Turbines/no_turbines/41000_0.032835766673088074_.png\n",
      "src: data/aerialImages/GOOGLE/RESOLUTION19/US/raw/Turbines//41400.tif\n",
      "dst: data/aerialImages/GOOGLE/RESOLUTION19/US/raw/Turbines/no_turbines/41400_0.0030887299217283726_.png\n",
      "src: data/aerialImages/GOOGLE/RESOLUTION19/US/raw/Turbines//41700.tif\n",
      "dst: data/aerialImages/GOOGLE/RESOLUTION19/US/raw/Turbines/no_turbines/41700_0.005692621227353811_.png\n",
      "src: data/aerialImages/GOOGLE/RESOLUTION19/US/raw/Turbines//42100.tif\n",
      "dst: data/aerialImages/GOOGLE/RESOLUTION19/US/raw/Turbines/no_turbines/42100_0.0019406371284276247_.png\n",
      "src: data/aerialImages/GOOGLE/RESOLUTION19/US/raw/Turbines//43000.tif\n",
      "dst: data/aerialImages/GOOGLE/RESOLUTION19/US/raw/Turbines/no_turbines/43000_0.017637936398386955_.png\n",
      "src: data/aerialImages/GOOGLE/RESOLUTION19/US/raw/Turbines//43700.tif\n",
      "dst: data/aerialImages/GOOGLE/RESOLUTION19/US/raw/Turbines/no_turbines/43700_0.0090065011754632_.png\n",
      "src: data/aerialImages/GOOGLE/RESOLUTION19/US/raw/Turbines//43800.tif\n",
      "dst: data/aerialImages/GOOGLE/RESOLUTION19/US/raw/Turbines/no_turbines/43800_0.02567112259566784_.png\n",
      "src: data/aerialImages/GOOGLE/RESOLUTION19/US/raw/Turbines//44100.tif\n",
      "dst: data/aerialImages/GOOGLE/RESOLUTION19/US/raw/Turbines/no_turbines/44100_0.002411273308098316_.png\n",
      "src: data/aerialImages/GOOGLE/RESOLUTION19/US/raw/Turbines//44300.tif\n",
      "dst: data/aerialImages/GOOGLE/RESOLUTION19/US/raw/Turbines/no_turbines/44300_0.016998490318655968_.png\n",
      "src: data/aerialImages/GOOGLE/RESOLUTION19/US/raw/Turbines//44400.tif\n",
      "dst: data/aerialImages/GOOGLE/RESOLUTION19/US/raw/Turbines/no_turbines/44400_0.00822281464934349_.png\n",
      "src: data/aerialImages/GOOGLE/RESOLUTION19/US/raw/Turbines//45100.tif\n",
      "dst: data/aerialImages/GOOGLE/RESOLUTION19/US/raw/Turbines/no_turbines/45100_0.0260759387165308_.png\n",
      "src: data/aerialImages/GOOGLE/RESOLUTION19/US/raw/Turbines//45300.tif\n",
      "dst: data/aerialImages/GOOGLE/RESOLUTION19/US/raw/Turbines/no_turbines/45300_0.001030148472636938_.png\n",
      "src: data/aerialImages/GOOGLE/RESOLUTION19/US/raw/Turbines//46100.tif\n",
      "dst: data/aerialImages/GOOGLE/RESOLUTION19/US/raw/Turbines/no_turbines/46100_0.011673766188323498_.png\n",
      "src: data/aerialImages/GOOGLE/RESOLUTION19/US/raw/Turbines//46300.tif\n",
      "dst: data/aerialImages/GOOGLE/RESOLUTION19/US/raw/Turbines/no_turbines/46300_0.003001636127009988_.png\n",
      "src: data/aerialImages/GOOGLE/RESOLUTION19/US/raw/Turbines//46400.tif\n",
      "dst: data/aerialImages/GOOGLE/RESOLUTION19/US/raw/Turbines/no_turbines/46400_0.00477492343634367_.png\n",
      "src: data/aerialImages/GOOGLE/RESOLUTION19/US/raw/Turbines//46800.tif\n",
      "dst: data/aerialImages/GOOGLE/RESOLUTION19/US/raw/Turbines/no_turbines/46800_4.2510058847256005e-05_.png\n",
      "src: data/aerialImages/GOOGLE/RESOLUTION19/US/raw/Turbines//47000.tif\n",
      "dst: data/aerialImages/GOOGLE/RESOLUTION19/US/raw/Turbines/no_turbines/47000_0.017781872302293777_.png\n",
      "src: data/aerialImages/GOOGLE/RESOLUTION19/US/raw/Turbines//47100.tif\n",
      "dst: data/aerialImages/GOOGLE/RESOLUTION19/US/raw/Turbines/no_turbines/47100_0.01395599264651537_.png\n",
      "src: data/aerialImages/GOOGLE/RESOLUTION19/US/raw/Turbines//47400.tif\n",
      "dst: data/aerialImages/GOOGLE/RESOLUTION19/US/raw/Turbines/no_turbines/47400_0.013184340670704842_.png\n",
      "src: data/aerialImages/GOOGLE/RESOLUTION19/US/raw/Turbines//49200.tif\n",
      "dst: data/aerialImages/GOOGLE/RESOLUTION19/US/raw/Turbines/no_turbines/49200_0.0689583346247673_.png\n",
      "src: data/aerialImages/GOOGLE/RESOLUTION19/US/raw/Turbines//49900.tif\n",
      "dst: data/aerialImages/GOOGLE/RESOLUTION19/US/raw/Turbines/no_turbines/49900_0.08008507639169693_.png\n",
      "src: data/aerialImages/GOOGLE/RESOLUTION19/US/raw/Turbines//50500.tif\n",
      "dst: data/aerialImages/GOOGLE/RESOLUTION19/US/raw/Turbines/no_turbines/50500_0.07384204119443893_.png\n",
      "src: data/aerialImages/GOOGLE/RESOLUTION19/US/raw/Turbines//50600.tif\n",
      "dst: data/aerialImages/GOOGLE/RESOLUTION19/US/raw/Turbines/no_turbines/50600_0.008067461661994457_.png\n",
      "src: data/aerialImages/GOOGLE/RESOLUTION19/US/raw/Turbines//50800.tif\n",
      "dst: data/aerialImages/GOOGLE/RESOLUTION19/US/raw/Turbines/no_turbines/50800_0.02333362028002739_.png\n",
      "src: data/aerialImages/GOOGLE/RESOLUTION19/US/raw/Turbines//50900.tif\n",
      "dst: data/aerialImages/GOOGLE/RESOLUTION19/US/raw/Turbines/no_turbines/50900_0.029987262561917305_.png\n",
      "src: data/aerialImages/GOOGLE/RESOLUTION19/US/raw/Turbines//51200.tif\n",
      "dst: data/aerialImages/GOOGLE/RESOLUTION19/US/raw/Turbines/no_turbines/51200_0.0018470830982550979_.png\n",
      "src: data/aerialImages/GOOGLE/RESOLUTION19/US/raw/Turbines//51600.tif\n",
      "dst: data/aerialImages/GOOGLE/RESOLUTION19/US/raw/Turbines/no_turbines/51600_0.005070826970040798_.png\n",
      "src: data/aerialImages/GOOGLE/RESOLUTION19/US/raw/Turbines//51800.tif\n",
      "dst: data/aerialImages/GOOGLE/RESOLUTION19/US/raw/Turbines/no_turbines/51800_0.0031139885541051626_.png\n",
      "src: data/aerialImages/GOOGLE/RESOLUTION19/US/raw/Turbines//51900.tif\n",
      "dst: data/aerialImages/GOOGLE/RESOLUTION19/US/raw/Turbines/no_turbines/51900_0.06391380727291107_.png\n",
      "src: data/aerialImages/GOOGLE/RESOLUTION19/US/raw/Turbines//52000.tif\n",
      "dst: data/aerialImages/GOOGLE/RESOLUTION19/US/raw/Turbines/no_turbines/52000_0.009856583550572395_.png\n",
      "src: data/aerialImages/GOOGLE/RESOLUTION19/US/raw/Turbines//52100.tif\n",
      "dst: data/aerialImages/GOOGLE/RESOLUTION19/US/raw/Turbines/no_turbines/52100_0.0011743232607841492_.png\n",
      "src: data/aerialImages/GOOGLE/RESOLUTION19/US/raw/Turbines//52200.tif\n",
      "dst: data/aerialImages/GOOGLE/RESOLUTION19/US/raw/Turbines/no_turbines/52200_0.03869064152240753_.png\n",
      "src: data/aerialImages/GOOGLE/RESOLUTION19/US/raw/Turbines//52300.tif\n",
      "dst: data/aerialImages/GOOGLE/RESOLUTION19/US/raw/Turbines/no_turbines/52300_0.006802449468523264_.png\n",
      "src: data/aerialImages/GOOGLE/RESOLUTION19/US/raw/Turbines//52600.tif\n",
      "dst: data/aerialImages/GOOGLE/RESOLUTION19/US/raw/Turbines/no_turbines/52600_0.003838076489046216_.png\n"
     ]
    },
    {
     "name": "stdout",
     "output_type": "stream",
     "text": [
      "src: data/aerialImages/GOOGLE/RESOLUTION19/US/raw/Turbines//52900.tif\n",
      "dst: data/aerialImages/GOOGLE/RESOLUTION19/US/raw/Turbines/no_turbines/52900_0.023601451888680458_.png\n",
      "src: data/aerialImages/GOOGLE/RESOLUTION19/US/raw/Turbines//53000.tif\n",
      "dst: data/aerialImages/GOOGLE/RESOLUTION19/US/raw/Turbines/no_turbines/53000_0.010047923773527145_.png\n",
      "src: data/aerialImages/GOOGLE/RESOLUTION19/US/raw/Turbines//53200.tif\n",
      "dst: data/aerialImages/GOOGLE/RESOLUTION19/US/raw/Turbines/no_turbines/53200_0.009817944839596748_.png\n",
      "src: data/aerialImages/GOOGLE/RESOLUTION19/US/raw/Turbines//53700.tif\n",
      "dst: data/aerialImages/GOOGLE/RESOLUTION19/US/raw/Turbines/no_turbines/53700_0.00609216932207346_.png\n",
      "src: data/aerialImages/GOOGLE/RESOLUTION19/US/raw/Turbines//53800.tif\n",
      "dst: data/aerialImages/GOOGLE/RESOLUTION19/US/raw/Turbines/no_turbines/53800_0.007800945546478033_.png\n",
      "src: data/aerialImages/GOOGLE/RESOLUTION19/US/raw/Turbines//54100.tif\n",
      "dst: data/aerialImages/GOOGLE/RESOLUTION19/US/raw/Turbines/no_turbines/54100_0.004795319400727749_.png\n",
      "src: data/aerialImages/GOOGLE/RESOLUTION19/US/raw/Turbines//54300.tif\n",
      "dst: data/aerialImages/GOOGLE/RESOLUTION19/US/raw/Turbines/no_turbines/54300_0.003216599114239216_.png\n",
      "src: data/aerialImages/GOOGLE/RESOLUTION19/US/raw/Turbines//54600.tif\n",
      "dst: data/aerialImages/GOOGLE/RESOLUTION19/US/raw/Turbines/no_turbines/54600_0.012114404700696468_.png\n",
      "src: data/aerialImages/GOOGLE/RESOLUTION19/US/raw/Turbines//55100.tif\n",
      "dst: data/aerialImages/GOOGLE/RESOLUTION19/US/raw/Turbines/no_turbines/55100_0.00497036287561059_.png\n",
      "src: data/aerialImages/GOOGLE/RESOLUTION19/US/raw/Turbines//55200.tif\n",
      "dst: data/aerialImages/GOOGLE/RESOLUTION19/US/raw/Turbines/no_turbines/55200_0.00022888586681801826_.png\n",
      "src: data/aerialImages/GOOGLE/RESOLUTION19/US/raw/Turbines//55300.tif\n",
      "dst: data/aerialImages/GOOGLE/RESOLUTION19/US/raw/Turbines/no_turbines/55300_0.008339953608810902_.png\n",
      "src: data/aerialImages/GOOGLE/RESOLUTION19/US/raw/Turbines//55400.tif\n",
      "dst: data/aerialImages/GOOGLE/RESOLUTION19/US/raw/Turbines/no_turbines/55400_0.003960612695664167_.png\n",
      "src: data/aerialImages/GOOGLE/RESOLUTION19/US/raw/Turbines//55500.tif\n",
      "dst: data/aerialImages/GOOGLE/RESOLUTION19/US/raw/Turbines/no_turbines/55500_0.013487505726516247_.png\n",
      "src: data/aerialImages/GOOGLE/RESOLUTION19/US/raw/Turbines//55600.tif\n",
      "dst: data/aerialImages/GOOGLE/RESOLUTION19/US/raw/Turbines/no_turbines/55600_0.011938926763832569_.png\n",
      "src: data/aerialImages/GOOGLE/RESOLUTION19/US/raw/Turbines//55800.tif\n",
      "dst: data/aerialImages/GOOGLE/RESOLUTION19/US/raw/Turbines/no_turbines/55800_0.0036938160192221403_.png\n",
      "src: data/aerialImages/GOOGLE/RESOLUTION19/US/raw/Turbines//55900.tif\n",
      "dst: data/aerialImages/GOOGLE/RESOLUTION19/US/raw/Turbines/no_turbines/55900_0.010354924947023392_.png\n",
      "src: data/aerialImages/GOOGLE/RESOLUTION19/US/raw/Turbines//56000.tif\n",
      "dst: data/aerialImages/GOOGLE/RESOLUTION19/US/raw/Turbines/no_turbines/56000_0.09237371385097504_.png\n",
      "src: data/aerialImages/GOOGLE/RESOLUTION19/US/raw/Turbines//56100.tif\n",
      "dst: data/aerialImages/GOOGLE/RESOLUTION19/US/raw/Turbines/no_turbines/56100_0.009850302711129189_.png\n",
      "src: data/aerialImages/GOOGLE/RESOLUTION19/US/raw/Turbines//56200.tif\n",
      "dst: data/aerialImages/GOOGLE/RESOLUTION19/US/raw/Turbines/no_turbines/56200_0.01474315207451582_.png\n",
      "src: data/aerialImages/GOOGLE/RESOLUTION19/US/raw/Turbines//56300.tif\n",
      "dst: data/aerialImages/GOOGLE/RESOLUTION19/US/raw/Turbines/no_turbines/56300_0.0028759774286299944_.png\n",
      "src: data/aerialImages/GOOGLE/RESOLUTION19/US/raw/Turbines//56500.tif\n",
      "dst: data/aerialImages/GOOGLE/RESOLUTION19/US/raw/Turbines/no_turbines/56500_0.0571848601102829_.png\n",
      "src: data/aerialImages/GOOGLE/RESOLUTION19/US/raw/Turbines//56600.tif\n",
      "dst: data/aerialImages/GOOGLE/RESOLUTION19/US/raw/Turbines/no_turbines/56600_0.0034659276716411114_.png\n",
      "src: data/aerialImages/GOOGLE/RESOLUTION19/US/raw/Turbines//57000.tif\n",
      "dst: data/aerialImages/GOOGLE/RESOLUTION19/US/raw/Turbines/no_turbines/57000_0.0036925373133271933_.png\n",
      "src: data/aerialImages/GOOGLE/RESOLUTION19/US/raw/Turbines//57100.tif\n",
      "dst: data/aerialImages/GOOGLE/RESOLUTION19/US/raw/Turbines/no_turbines/57100_1.0827994628925808e-05_.png\n",
      "src: data/aerialImages/GOOGLE/RESOLUTION19/US/raw/Turbines//57200.tif\n",
      "dst: data/aerialImages/GOOGLE/RESOLUTION19/US/raw/Turbines/no_turbines/57200_0.07312583178281784_.png\n",
      "src: data/aerialImages/GOOGLE/RESOLUTION19/US/raw/Turbines//57300.tif\n",
      "dst: data/aerialImages/GOOGLE/RESOLUTION19/US/raw/Turbines/no_turbines/57300_0.07136406749486923_.png\n",
      "src: data/aerialImages/GOOGLE/RESOLUTION19/US/raw/Turbines//57400.tif\n",
      "dst: data/aerialImages/GOOGLE/RESOLUTION19/US/raw/Turbines/no_turbines/57400_0.016195842996239662_.png\n",
      "src: data/aerialImages/GOOGLE/RESOLUTION19/US/raw/Turbines//57500.tif\n",
      "dst: data/aerialImages/GOOGLE/RESOLUTION19/US/raw/Turbines/no_turbines/57500_0.002960102865472436_.png\n",
      "src: data/aerialImages/GOOGLE/RESOLUTION19/US/raw/Turbines//57600.tif\n",
      "dst: data/aerialImages/GOOGLE/RESOLUTION19/US/raw/Turbines/no_turbines/57600_0.002244098810479045_.png\n",
      "src: data/aerialImages/GOOGLE/RESOLUTION19/US/raw/Turbines//57700.tif\n",
      "dst: data/aerialImages/GOOGLE/RESOLUTION19/US/raw/Turbines/no_turbines/57700_0.0015223461668938398_.png\n",
      "src: data/aerialImages/GOOGLE/RESOLUTION19/US/raw/Turbines//57800.tif\n",
      "dst: data/aerialImages/GOOGLE/RESOLUTION19/US/raw/Turbines/no_turbines/57800_0.00021139699674677104_.png\n",
      "src: data/aerialImages/GOOGLE/RESOLUTION19/US/raw/Turbines//58100.tif\n",
      "dst: data/aerialImages/GOOGLE/RESOLUTION19/US/raw/Turbines/no_turbines/58100_0.018247587606310844_.png\n",
      "src: data/aerialImages/GOOGLE/RESOLUTION19/US/raw/Turbines//58200.tif\n",
      "dst: data/aerialImages/GOOGLE/RESOLUTION19/US/raw/Turbines/no_turbines/58200_0.00118993257638067_.png\n",
      "src: data/aerialImages/GOOGLE/RESOLUTION19/US/raw/Turbines//59300.tif\n",
      "dst: data/aerialImages/GOOGLE/RESOLUTION19/US/raw/Turbines/no_turbines/59300_0.001125361886806786_.png\n",
      "src: data/aerialImages/GOOGLE/RESOLUTION19/US/raw/Turbines//59400.tif\n",
      "dst: data/aerialImages/GOOGLE/RESOLUTION19/US/raw/Turbines/no_turbines/59400_0.0014760293997824192_.png\n",
      "src: data/aerialImages/GOOGLE/RESOLUTION19/US/raw/Turbines//59500.tif\n",
      "dst: data/aerialImages/GOOGLE/RESOLUTION19/US/raw/Turbines/no_turbines/59500_0.017922522500157356_.png\n",
      "src: data/aerialImages/GOOGLE/RESOLUTION19/US/raw/Turbines//59700.tif\n",
      "dst: data/aerialImages/GOOGLE/RESOLUTION19/US/raw/Turbines/no_turbines/59700_0.027894452214241028_.png\n"
     ]
    }
   ],
   "source": [
    "fpr.copy_threshold_files(p, 0, 0.1, path_raw, \"no_turbines\")\n"
   ]
  },
  {
   "cell_type": "code",
   "execution_count": null,
   "metadata": {},
   "outputs": [],
   "source": []
  },
  {
   "cell_type": "code",
   "execution_count": null,
   "metadata": {},
   "outputs": [],
   "source": []
  }
 ],
 "metadata": {
  "kernelspec": {
   "display_name": "Python [conda env:.conda-windturbine-identification]",
   "language": "python",
   "name": "conda-env-.conda-windturbine-identification-py"
  },
  "language_info": {
   "codemirror_mode": {
    "name": "ipython",
    "version": 3
   },
   "file_extension": ".py",
   "mimetype": "text/x-python",
   "name": "python",
   "nbconvert_exporter": "python",
   "pygments_lexer": "ipython3",
   "version": "3.7.0"
  }
 },
 "nbformat": 4,
 "nbformat_minor": 2
}
