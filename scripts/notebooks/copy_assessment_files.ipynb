{
 "cells": [
  {
   "cell_type": "code",
   "execution_count": 2,
   "metadata": {},
   "outputs": [
    {
     "name": "stdout",
     "output_type": "stream",
     "text": [
      "/data/projects/windturbine-identification/MachineLearningCourse\n"
     ]
    }
   ],
   "source": [
    "cd /data/projects/windturbine-identification/MachineLearningCourse"
   ]
  },
  {
   "cell_type": "code",
   "execution_count": 8,
   "metadata": {},
   "outputs": [],
   "source": [
    "import imp\n",
    "import scripts.windturbines.functions_pattern_recognition as fpr\n",
    "imp.reload(fpr)\n",
    "import pandas as pd\n",
    "import numpy as np\n",
    "import shutil\n",
    "import os\n"
   ]
  },
  {
   "cell_type": "code",
   "execution_count": 4,
   "metadata": {},
   "outputs": [],
   "source": [
    "COUNTRY = \"CN\"\n",
    "\n",
    "assessment_file = fpr.get_param(COUNTRY, \"PATH_RAW_IMAGES_ASSESSMENT\") + \"/assessment.csv\" \n",
    "\n",
    "p = pd.read_csv(assessment_file)"
   ]
  },
  {
   "cell_type": "markdown",
   "metadata": {},
   "source": [
    "# Run only if there is a problem with the CSV"
   ]
  },
  {
   "cell_type": "code",
   "execution_count": 10,
   "metadata": {},
   "outputs": [],
   "source": [
    "#p.iloc[np.isnan(p.iloc[:,1]).values, 1:6] = p.iloc[np.isnan(p.iloc[:,1]).values, 6:11].values\n",
    "#p = p.iloc[:, 0:6]"
   ]
  },
  {
   "cell_type": "markdown",
   "metadata": {},
   "source": [
    "# Assess quantity of turbines"
   ]
  },
  {
   "cell_type": "code",
   "execution_count": 5,
   "metadata": {},
   "outputs": [
    {
     "name": "stdout",
     "output_type": "stream",
     "text": [
      "Turbines: 18061\n",
      "Total number of images: 278627\n",
      "Turbines: 11819\n",
      "Total number of images: 278627\n",
      "Turbines: 10185\n",
      "Total number of images: 278627\n",
      "Turbines: 9006\n",
      "Total number of images: 278627\n",
      "Turbines: 8132\n",
      "Total number of images: 278627\n",
      "Turbines: 7364\n",
      "Total number of images: 278627\n",
      "Turbines: 6580\n",
      "Total number of images: 278627\n"
     ]
    },
    {
     "data": {
      "text/plain": [
       "<matplotlib.axes._subplots.AxesSubplot at 0x7fab6bd78128>"
      ]
     },
     "execution_count": 5,
     "metadata": {},
     "output_type": "execute_result"
    },
    {
     "data": {
      "image/png": "[encoded data removed]",
      "text/plain": [
       "<Figure size 432x288 with 1 Axes>"
      ]
     },
     "metadata": {
      "needs_background": "light"
     },
     "output_type": "display_data"
    }
   ],
   "source": [
    "p.columns = ['id', 'lon', 'lat', 'prediction', 'filename', 'park']\n",
    "\n",
    "raw_dir = fpr.get_param(COUNTRY, \"PATH_RAW_IMAGES_ASSESSMENT\")\n",
    "\n",
    "threshold = 0.5\n",
    "\n",
    "print(\"Turbines: \" + str(sum(p.prediction > threshold)))\n",
    "print(\"Total number of images: \" + str(sum(p.prediction > 0)))\n",
    "\n",
    "threshold = 0.99\n",
    "\n",
    "print(\"Turbines: \" + str(sum(p.prediction > threshold)))\n",
    "print(\"Total number of images: \" + str(sum(p.prediction > 0)))\n",
    "\n",
    "threshold = 0.999\n",
    "\n",
    "print(\"Turbines: \" + str(sum(p.prediction > threshold)))\n",
    "print(\"Total number of images: \" + str(sum(p.prediction > 0)))\n",
    "\n",
    "threshold = 0.9999\n",
    "\n",
    "print(\"Turbines: \" + str(sum(p.prediction > threshold)))\n",
    "print(\"Total number of images: \" + str(sum(p.prediction > 0)))\n",
    "\n",
    "threshold = 0.99999\n",
    "\n",
    "print(\"Turbines: \" + str(sum(p.prediction > threshold)))\n",
    "print(\"Total number of images: \" + str(sum(p.prediction > 0)))\n",
    "\n",
    "threshold = 0.999999\n",
    "\n",
    "print(\"Turbines: \" + str(sum(p.prediction > threshold)))\n",
    "print(\"Total number of images: \" + str(sum(p.prediction > 0)))\n",
    "\n",
    "threshold = 0.9999999\n",
    "\n",
    "print(\"Turbines: \" + str(sum(p.prediction > threshold)))\n",
    "print(\"Total number of images: \" + str(sum(p.prediction > 0)))\n",
    "\n",
    "\n",
    "p1 = p.loc[p.prediction>0.9,:]\n",
    "\n",
    "p1.prediction.hist(bins=20)\n",
    "\n",
    "\n",
    "\n"
   ]
  },
  {
   "cell_type": "code",
   "execution_count": 6,
   "metadata": {},
   "outputs": [],
   "source": [
    "shutil.rmtree(raw_dir + \"no_turbines/\", ignore_errors=True) \n",
    "os.makedirs(raw_dir + \"no_turbines/\")"
   ]
  },
  {
   "cell_type": "markdown",
   "metadata": {},
   "source": [
    "# copy files"
   ]
  },
  {
   "cell_type": "code",
   "execution_count": 9,
   "metadata": {},
   "outputs": [
    {
     "name": "stdout",
     "output_type": "stream",
     "text": [
      "src: data/aerialImages/GOOGLE/RESOLUTION19/CN/assessment/Anhui Laian Longtougang Wind/118.5326_32.604.tif\n",
      "dst: data/aerialImages/GOOGLE/RESOLUTION19/CN/assessment/no_turbines/118.5326_32.604_2.1926412074879664e-11_Anhui Laian Longtougang Wind.png\n",
      "src: data/aerialImages/GOOGLE/RESOLUTION19/CN/assessment/Bayanur Wuliji Wind Phase 2/106.4042_41.534.tif\n",
      "dst: data/aerialImages/GOOGLE/RESOLUTION19/CN/assessment/no_turbines/106.4042_41.534_3.560058281157352e-12_Bayanur Wuliji Wind Phase 2.png\n",
      "src: data/aerialImages/GOOGLE/RESOLUTION19/CN/assessment/Cecep Zhangbei Danjinghe Phase 2/114.3496_41.267.tif\n",
      "dst: data/aerialImages/GOOGLE/RESOLUTION19/CN/assessment/no_turbines/114.3496_41.267_1.5950760338750113e-14_Cecep Zhangbei Danjinghe Phase 2.png\n",
      "src: data/aerialImages/GOOGLE/RESOLUTION19/CN/assessment/Cgn Guangdong Wencun Wind/112.6096_21.9582.tif\n",
      "dst: data/aerialImages/GOOGLE/RESOLUTION19/CN/assessment/no_turbines/112.6096_21.9582_4.317570745371313e-10_Cgn Guangdong Wencun Wind.png\n",
      "src: data/aerialImages/GOOGLE/RESOLUTION19/CN/assessment/Cgn Linkou Qingshan Wind/130.3928_45.6528.tif\n",
      "dst: data/aerialImages/GOOGLE/RESOLUTION19/CN/assessment/no_turbines/130.3928_45.6528_2.7640212341140113e-09_Cgn Linkou Qingshan Wind.png\n",
      "src: data/aerialImages/GOOGLE/RESOLUTION19/CN/assessment/Cgn Linkou Qingshan Wind/130.39_45.6668.tif\n",
      "dst: data/aerialImages/GOOGLE/RESOLUTION19/CN/assessment/no_turbines/130.39_45.6668_2.957565581329646e-10_Cgn Linkou Qingshan Wind.png\n",
      "src: data/aerialImages/GOOGLE/RESOLUTION19/CN/assessment/Cgn Linkou Qingshan Wind/130.4096_45.6598.tif\n",
      "dst: data/aerialImages/GOOGLE/RESOLUTION19/CN/assessment/no_turbines/130.4096_45.6598_1.6266487046223688e-09_Cgn Linkou Qingshan Wind.png\n",
      "src: data/aerialImages/GOOGLE/RESOLUTION19/CN/assessment/Cgn Luoding Yapoji Wind/111.1756_22.6394.tif\n",
      "dst: data/aerialImages/GOOGLE/RESOLUTION19/CN/assessment/no_turbines/111.1756_22.6394_2.7283757935217534e-14_Cgn Luoding Yapoji Wind.png\n",
      "src: data/aerialImages/GOOGLE/RESOLUTION19/CN/assessment/Cgn Luoding Yapoji Wind/111.1812_22.6254.tif\n",
      "dst: data/aerialImages/GOOGLE/RESOLUTION19/CN/assessment/no_turbines/111.1812_22.6254_3.0549222111456828e-27_Cgn Luoding Yapoji Wind.png\n",
      "src: data/aerialImages/GOOGLE/RESOLUTION19/CN/assessment/Cgn Luoding Yapoji Wind/111.1882_22.6114.tif\n",
      "dst: data/aerialImages/GOOGLE/RESOLUTION19/CN/assessment/no_turbines/111.1882_22.6114_3.314393031805103e-19_Cgn Luoding Yapoji Wind.png\n",
      "src: data/aerialImages/GOOGLE/RESOLUTION19/CN/assessment/Cgn Luoding Yapoji Wind/111.1938_22.6282.tif\n",
      "dst: data/aerialImages/GOOGLE/RESOLUTION19/CN/assessment/no_turbines/111.1938_22.6282_2.3412266410520874e-20_Cgn Luoding Yapoji Wind.png\n",
      "src: data/aerialImages/GOOGLE/RESOLUTION19/CN/assessment/Cgn Menghai Padingliangzi/100.0998_22.0382.tif\n",
      "dst: data/aerialImages/GOOGLE/RESOLUTION19/CN/assessment/no_turbines/100.0998_22.0382_1.2306640949366619e-11_Cgn Menghai Padingliangzi.png\n",
      "src: data/aerialImages/GOOGLE/RESOLUTION19/CN/assessment/Cgn Menghai Padingliangzi/100.1082_22.0312.tif\n",
      "dst: data/aerialImages/GOOGLE/RESOLUTION19/CN/assessment/no_turbines/100.1082_22.0312_6.974869900394643e-12_Cgn Menghai Padingliangzi.png\n",
      "src: data/aerialImages/GOOGLE/RESOLUTION19/CN/assessment/Cgn Ningan Laoyeling Wind/129.8498_44.29.tif\n",
      "dst: data/aerialImages/GOOGLE/RESOLUTION19/CN/assessment/no_turbines/129.8498_44.29_5.62856834521831e-16_Cgn Ningan Laoyeling Wind.png\n",
      "src: data/aerialImages/GOOGLE/RESOLUTION19/CN/assessment/Cgn Zhaoyuan Zhangxing Wind/120.1882_37.3052.tif\n",
      "dst: data/aerialImages/GOOGLE/RESOLUTION19/CN/assessment/no_turbines/120.1882_37.3052_6.591286405566166e-10_Cgn Zhaoyuan Zhangxing Wind.png\n",
      "src: data/aerialImages/GOOGLE/RESOLUTION19/CN/assessment/Chengshan Sancun/122.0614_36.9654.tif\n",
      "dst: data/aerialImages/GOOGLE/RESOLUTION19/CN/assessment/no_turbines/122.0614_36.9654_1.3694030587469938e-26_Chengshan Sancun.png\n",
      "src: data/aerialImages/GOOGLE/RESOLUTION19/CN/assessment/Cwi Shangyi Shijing Phase 1/114.2524_41.258.tif\n",
      "dst: data/aerialImages/GOOGLE/RESOLUTION19/CN/assessment/no_turbines/114.2524_41.258_6.778606815273643e-17_Cwi Shangyi Shijing Phase 1.png\n",
      "src: data/aerialImages/GOOGLE/RESOLUTION19/CN/assessment/Datang Chifeng Bolike Ii Wind/118_42.627.tif\n",
      "dst: data/aerialImages/GOOGLE/RESOLUTION19/CN/assessment/no_turbines/118_42.627_5.204619829730917e-13_Datang Chifeng Bolike Ii Wind.png\n",
      "src: data/aerialImages/GOOGLE/RESOLUTION19/CN/assessment/Datang Guangyuan Fangdiping/105.7684_32.5424.tif\n",
      "dst: data/aerialImages/GOOGLE/RESOLUTION19/CN/assessment/no_turbines/105.7684_32.5424_8.945968912672835e-17_Datang Guangyuan Fangdiping.png\n",
      "src: data/aerialImages/GOOGLE/RESOLUTION19/CN/assessment/Datang Guangyuan Fangdiping/105.7796_32.5452.tif\n",
      "dst: data/aerialImages/GOOGLE/RESOLUTION19/CN/assessment/no_turbines/105.7796_32.5452_3.903280693454136e-13_Datang Guangyuan Fangdiping.png\n",
      "src: data/aerialImages/GOOGLE/RESOLUTION19/CN/assessment/Datang New Energy Lingao Offshore Experimental/109.704_20.0042.tif\n",
      "dst: data/aerialImages/GOOGLE/RESOLUTION19/CN/assessment/no_turbines/109.704_20.0042_1.2656363816331918e-18_Datang New Energy Lingao Offshore Experimental.png\n",
      "src: data/aerialImages/GOOGLE/RESOLUTION19/CN/assessment/Datang Pingyin Phase 2 Wind/116.344_36.1242.tif\n",
      "dst: data/aerialImages/GOOGLE/RESOLUTION19/CN/assessment/no_turbines/116.344_36.1242_5.265171199692834e-15_Datang Pingyin Phase 2 Wind.png\n",
      "src: data/aerialImages/GOOGLE/RESOLUTION19/CN/assessment/Dongbaishan/120.4398_29.498.tif\n",
      "dst: data/aerialImages/GOOGLE/RESOLUTION19/CN/assessment/no_turbines/120.4398_29.498_9.876403028741263e-10_Dongbaishan.png\n",
      "src: data/aerialImages/GOOGLE/RESOLUTION19/CN/assessment/Dongbaishan/120.4524_29.47.tif\n",
      "dst: data/aerialImages/GOOGLE/RESOLUTION19/CN/assessment/no_turbines/120.4524_29.47_1.8642462573659202e-10_Dongbaishan.png\n",
      "src: data/aerialImages/GOOGLE/RESOLUTION19/CN/assessment/Fujian Fuqing Gaoshan Phase 1 Wind/119.5956_25.4742.tif\n",
      "dst: data/aerialImages/GOOGLE/RESOLUTION19/CN/assessment/no_turbines/119.5956_25.4742_3.6459871470071316e-18_Fujian Fuqing Gaoshan Phase 1 Wind.png\n",
      "src: data/aerialImages/GOOGLE/RESOLUTION19/CN/assessment/Fujian Lianjiang Beijiao Wind/26.2168_119.5396.tif\n",
      "dst: data/aerialImages/GOOGLE/RESOLUTION19/CN/assessment/no_turbines/26.2168_119.5396_2.509495432637121e-12_Fujian Lianjiang Beijiao Wind.png\n",
      "src: data/aerialImages/GOOGLE/RESOLUTION19/CN/assessment/Fujian Putian Nanri Phase 3 Wind/119.48_25.2152.tif\n",
      "dst: data/aerialImages/GOOGLE/RESOLUTION19/CN/assessment/no_turbines/119.48_25.2152_7.129305529262565e-31_Fujian Putian Nanri Phase 3 Wind.png\n",
      "src: data/aerialImages/GOOGLE/RESOLUTION19/CN/assessment/Fumin Mayingshan Wind/102.4366_25.1984.tif\n",
      "dst: data/aerialImages/GOOGLE/RESOLUTION19/CN/assessment/no_turbines/102.4366_25.1984_6.200355229246668e-10_Fumin Mayingshan Wind.png\n",
      "src: data/aerialImages/GOOGLE/RESOLUTION19/CN/assessment/Fuqing Jiaru/113.537_25.5614.tif\n",
      "dst: data/aerialImages/GOOGLE/RESOLUTION19/CN/assessment/no_turbines/113.537_25.5614_1.0405209544461432e-13_Fuqing Jiaru.png\n",
      "src: data/aerialImages/GOOGLE/RESOLUTION19/CN/assessment/Fuqing Jiaru/113.5538_25.5684.tif\n",
      "dst: data/aerialImages/GOOGLE/RESOLUTION19/CN/assessment/no_turbines/113.5538_25.5684_4.56917218904368e-13_Fuqing Jiaru.png\n",
      "src: data/aerialImages/GOOGLE/RESOLUTION19/CN/assessment/Fuqing Jiaru Wind Power Phase 2/119.5442_25.5614.tif\n",
      "dst: data/aerialImages/GOOGLE/RESOLUTION19/CN/assessment/no_turbines/119.5442_25.5614_9.076408027941518e-12_Fuqing Jiaru Wind Power Phase 2.png\n",
      "src: data/aerialImages/GOOGLE/RESOLUTION19/CN/assessment/Fuqing Jiaru Wind Power Phase 2/119.561_25.5684.tif\n",
      "dst: data/aerialImages/GOOGLE/RESOLUTION19/CN/assessment/no_turbines/119.561_25.5684_1.0498288760013194e-20_Fuqing Jiaru Wind Power Phase 2.png\n"
     ]
    },
    {
     "ename": "SystemError",
     "evalue": "<built-in function Driver_CreateCopy> returned a result with an error set",
     "output_type": "error",
     "traceback": [
      "\u001b[0;31m---------------------------------------------------------------------------\u001b[0m",
      "\u001b[0;31mKeyboardInterrupt\u001b[0m                         Traceback (most recent call last)",
      "\u001b[0;32m~/.conda/envs/windturbine-identification/lib/python3.7/site-packages/osgeo/gdal.py\u001b[0m in \u001b[0;36m<lambda>\u001b[0;34m(self, name, value)\u001b[0m\n\u001b[1;32m   1858\u001b[0m         \u001b[0m__swig_setmethods__\u001b[0m\u001b[0;34m.\u001b[0m\u001b[0mupdate\u001b[0m\u001b[0;34m(\u001b[0m\u001b[0mgetattr\u001b[0m\u001b[0;34m(\u001b[0m\u001b[0m_s\u001b[0m\u001b[0;34m,\u001b[0m \u001b[0;34m'__swig_setmethods__'\u001b[0m\u001b[0;34m,\u001b[0m \u001b[0;34m{\u001b[0m\u001b[0;34m}\u001b[0m\u001b[0;34m)\u001b[0m\u001b[0;34m)\u001b[0m\u001b[0;34m\u001b[0m\u001b[0m\n\u001b[0;32m-> 1859\u001b[0;31m     \u001b[0m__setattr__\u001b[0m \u001b[0;34m=\u001b[0m \u001b[0;32mlambda\u001b[0m \u001b[0mself\u001b[0m\u001b[0;34m,\u001b[0m \u001b[0mname\u001b[0m\u001b[0;34m,\u001b[0m \u001b[0mvalue\u001b[0m\u001b[0;34m:\u001b[0m \u001b[0m_swig_setattr\u001b[0m\u001b[0;34m(\u001b[0m\u001b[0mself\u001b[0m\u001b[0;34m,\u001b[0m \u001b[0mDataset\u001b[0m\u001b[0;34m,\u001b[0m \u001b[0mname\u001b[0m\u001b[0;34m,\u001b[0m \u001b[0mvalue\u001b[0m\u001b[0;34m)\u001b[0m\u001b[0;34m\u001b[0m\u001b[0m\n\u001b[0m\u001b[1;32m   1860\u001b[0m     \u001b[0m__swig_getmethods__\u001b[0m \u001b[0;34m=\u001b[0m \u001b[0;34m{\u001b[0m\u001b[0;34m}\u001b[0m\u001b[0;34m\u001b[0m\u001b[0m\n",
      "\u001b[0;31mKeyboardInterrupt\u001b[0m: ",
      "\nThe above exception was the direct cause of the following exception:\n",
      "\u001b[0;31mSystemError\u001b[0m                               Traceback (most recent call last)",
      "\u001b[0;32m<ipython-input-9-1bb3e579d682>\u001b[0m in \u001b[0;36m<module>\u001b[0;34m\u001b[0m\n\u001b[0;32m----> 1\u001b[0;31m \u001b[0mfpr\u001b[0m\u001b[0;34m.\u001b[0m\u001b[0mcopy_threshold_files\u001b[0m\u001b[0;34m(\u001b[0m\u001b[0mp\u001b[0m\u001b[0;34m,\u001b[0m \u001b[0;36m0\u001b[0m\u001b[0;34m,\u001b[0m \u001b[0;36m0.00000001\u001b[0m\u001b[0;34m,\u001b[0m \u001b[0mraw_dir\u001b[0m\u001b[0;34m,\u001b[0m \u001b[0;34m\"no_turbines\"\u001b[0m\u001b[0;34m)\u001b[0m\u001b[0;34m\u001b[0m\u001b[0m\n\u001b[0m",
      "\u001b[0;32m/data/projects/windturbine-identification/MachineLearningCourse/scripts/windturbines/functions_pattern_recognition.py\u001b[0m in \u001b[0;36mcopy_threshold_files\u001b[0;34m(p, threshold_low, threshold_high, raw_dir, sub_dst_directory)\u001b[0m\n\u001b[1;32m    257\u001b[0m \u001b[0;34m\u001b[0m\u001b[0m\n\u001b[1;32m    258\u001b[0m                 \u001b[0;31m#Output to new format\u001b[0m\u001b[0;34m\u001b[0m\u001b[0;34m\u001b[0m\u001b[0m\n\u001b[0;32m--> 259\u001b[0;31m                 \u001b[0mdst_ds\u001b[0m \u001b[0;34m=\u001b[0m \u001b[0mdriver\u001b[0m\u001b[0;34m.\u001b[0m\u001b[0mCreateCopy\u001b[0m\u001b[0;34m(\u001b[0m\u001b[0mdst\u001b[0m\u001b[0;34m,\u001b[0m \u001b[0msrc_ds\u001b[0m\u001b[0;34m,\u001b[0m \u001b[0;36m0\u001b[0m\u001b[0;34m)\u001b[0m\u001b[0;34m\u001b[0m\u001b[0m\n\u001b[0m\u001b[1;32m    260\u001b[0m \u001b[0;34m\u001b[0m\u001b[0m\n\u001b[1;32m    261\u001b[0m                 \u001b[0;31m#Properly close the datasets to flush to disk\u001b[0m\u001b[0;34m\u001b[0m\u001b[0;34m\u001b[0m\u001b[0m\n",
      "\u001b[0;32m~/.conda/envs/windturbine-identification/lib/python3.7/site-packages/osgeo/gdal.py\u001b[0m in \u001b[0;36mCreateCopy\u001b[0;34m(self, *args, **kwargs)\u001b[0m\n\u001b[1;32m   1595\u001b[0m     \u001b[0;32mdef\u001b[0m \u001b[0mCreateCopy\u001b[0m\u001b[0;34m(\u001b[0m\u001b[0mself\u001b[0m\u001b[0;34m,\u001b[0m \u001b[0;34m*\u001b[0m\u001b[0margs\u001b[0m\u001b[0;34m,\u001b[0m \u001b[0;34m**\u001b[0m\u001b[0mkwargs\u001b[0m\u001b[0;34m)\u001b[0m\u001b[0;34m:\u001b[0m\u001b[0;34m\u001b[0m\u001b[0m\n\u001b[1;32m   1596\u001b[0m         \u001b[0;34m\"\"\"CreateCopy(Driver self, char const * utf8_path, Dataset src, int strict=1, char ** options=None, GDALProgressFunc callback=0, void * callback_data=None) -> Dataset\"\"\"\u001b[0m\u001b[0;34m\u001b[0m\u001b[0m\n\u001b[0;32m-> 1597\u001b[0;31m         \u001b[0;32mreturn\u001b[0m \u001b[0m_gdal\u001b[0m\u001b[0;34m.\u001b[0m\u001b[0mDriver_CreateCopy\u001b[0m\u001b[0;34m(\u001b[0m\u001b[0mself\u001b[0m\u001b[0;34m,\u001b[0m \u001b[0;34m*\u001b[0m\u001b[0margs\u001b[0m\u001b[0;34m,\u001b[0m \u001b[0;34m**\u001b[0m\u001b[0mkwargs\u001b[0m\u001b[0;34m)\u001b[0m\u001b[0;34m\u001b[0m\u001b[0m\n\u001b[0m\u001b[1;32m   1598\u001b[0m \u001b[0;34m\u001b[0m\u001b[0m\n\u001b[1;32m   1599\u001b[0m \u001b[0;34m\u001b[0m\u001b[0m\n",
      "\u001b[0;31mSystemError\u001b[0m: <built-in function Driver_CreateCopy> returned a result with an error set"
     ]
    }
   ],
   "source": [
    "fpr.copy_threshold_files(p, 0, 0.00000001, raw_dir, \"no_turbines\")\n"
   ]
  },
  {
   "cell_type": "code",
   "execution_count": null,
   "metadata": {},
   "outputs": [],
   "source": []
  },
  {
   "cell_type": "code",
   "execution_count": 15,
   "metadata": {},
   "outputs": [
    {
     "data": {
      "text/plain": [
       "0          True\n",
       "1          True\n",
       "2          True\n",
       "3          True\n",
       "4          True\n",
       "5          True\n",
       "6          True\n",
       "7          True\n",
       "8          True\n",
       "9          True\n",
       "10         True\n",
       "11         True\n",
       "12         True\n",
       "13         True\n",
       "14         True\n",
       "15         True\n",
       "16         True\n",
       "17         True\n",
       "18         True\n",
       "19         True\n",
       "20         True\n",
       "21         True\n",
       "22         True\n",
       "23         True\n",
       "24         True\n",
       "25         True\n",
       "26         True\n",
       "27         True\n",
       "28         True\n",
       "29         True\n",
       "          ...  \n",
       "180749    False\n",
       "180750    False\n",
       "180751    False\n",
       "180752    False\n",
       "180753    False\n",
       "180754    False\n",
       "180755    False\n",
       "180756    False\n",
       "180757    False\n",
       "180758    False\n",
       "180759    False\n",
       "180760    False\n",
       "180761    False\n",
       "180762    False\n",
       "180763    False\n",
       "180764    False\n",
       "180765    False\n",
       "180766    False\n",
       "180767    False\n",
       "180768    False\n",
       "180769    False\n",
       "180770    False\n",
       "180771    False\n",
       "180772    False\n",
       "180773    False\n",
       "180774    False\n",
       "180775    False\n",
       "180776    False\n",
       "180777    False\n",
       "180778    False\n",
       "Name: 0, Length: 180779, dtype: bool"
      ]
     },
     "execution_count": 15,
     "metadata": {},
     "output_type": "execute_result"
    }
   ],
   "source": []
  }
 ],
 "metadata": {
  "kernelspec": {
   "display_name": "Python 3",
   "language": "python",
   "name": "python3"
  },
  "language_info": {
   "codemirror_mode": {
    "name": "ipython",
    "version": 3
   },
   "file_extension": ".py",
   "mimetype": "text/x-python",
   "name": "python",
   "nbconvert_exporter": "python",
   "pygments_lexer": "ipython3",
   "version": "3.7.0"
  }
 },
 "nbformat": 4,
 "nbformat_minor": 2
}
