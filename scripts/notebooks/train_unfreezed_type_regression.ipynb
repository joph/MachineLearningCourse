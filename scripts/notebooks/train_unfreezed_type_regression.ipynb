{
 "cells": [
  {
   "cell_type": "code",
   "execution_count": 8,
   "metadata": {
    "ExecuteTime": {
     "end_time": "2019-10-13T19:57:31.951393Z",
     "start_time": "2019-10-13T19:57:31.947834Z"
    }
   },
   "outputs": [
    {
     "name": "stdout",
     "output_type": "stream",
     "text": [
      "/data/projects/windturbine-identification/MachineLearningCourse\n"
     ]
    }
   ],
   "source": [
    "cd /data/projects/windturbine-identification/MachineLearningCourse"
   ]
  },
  {
   "cell_type": "code",
   "execution_count": 9,
   "metadata": {
    "ExecuteTime": {
     "end_time": "2019-10-13T19:57:34.958099Z",
     "start_time": "2019-10-13T19:57:34.389166Z"
    }
   },
   "outputs": [
    {
     "name": "stdout",
     "output_type": "stream",
     "text": [
      "EG\n",
      "13\n",
      "MA\n",
      "13\n",
      "ZA\n",
      "13\n",
      "CN\n",
      "13\n",
      "IN\n",
      "13\n",
      "JP\n",
      "13\n",
      "KP\n",
      "13\n",
      "PK\n",
      "13\n",
      "PH\n",
      "13\n",
      "TH\n",
      "13\n",
      "CR\n",
      "13\n",
      "TR\n",
      "13\n",
      "AT\n",
      "13\n",
      "BE\n",
      "13\n",
      "BG\n",
      "13\n",
      "HR\n",
      "13\n",
      "DK\n",
      "13\n",
      "FI\n",
      "13\n",
      "FR\n",
      "13\n",
      "DE\n",
      "13\n",
      "GR\n",
      "13\n",
      "IE\n",
      "13\n",
      "IT\n",
      "13\n",
      "LT\n",
      "13\n",
      "NL\n",
      "13\n",
      "NO\n",
      "13\n",
      "PL\n",
      "13\n",
      "PT\n",
      "13\n",
      "RO\n",
      "13\n",
      "ES\n",
      "13\n",
      "SE\n",
      "13\n",
      "GB\n",
      "13\n",
      "UA\n",
      "13\n",
      "CA\n",
      "13\n",
      "MX\n",
      "13\n",
      "US\n",
      "13\n",
      "AU\n",
      "13\n",
      "NZ\n",
      "13\n",
      "BR\n",
      "13\n",
      "CL\n",
      "13\n",
      "UY\n",
      "13\n",
      "MIX\n",
      "13\n",
      "GLOBAL\n",
      "13\n",
      "EG\n",
      "18\n",
      "MA\n",
      "18\n",
      "ZA\n",
      "18\n",
      "CN\n",
      "18\n",
      "IN\n",
      "18\n",
      "JP\n",
      "18\n",
      "KP\n",
      "18\n",
      "PK\n",
      "18\n",
      "PH\n",
      "18\n",
      "TH\n",
      "18\n",
      "CR\n",
      "18\n",
      "TR\n",
      "18\n",
      "AT\n",
      "18\n",
      "BE\n",
      "18\n",
      "BG\n",
      "18\n",
      "HR\n",
      "18\n",
      "DK\n",
      "18\n",
      "FI\n",
      "18\n",
      "FR\n",
      "18\n",
      "DE\n",
      "18\n",
      "GR\n",
      "18\n",
      "IE\n",
      "18\n",
      "IT\n",
      "18\n",
      "LT\n",
      "18\n",
      "NL\n",
      "18\n",
      "NO\n",
      "18\n",
      "PL\n",
      "18\n",
      "PT\n",
      "18\n",
      "RO\n",
      "18\n",
      "ES\n",
      "18\n",
      "SE\n",
      "18\n",
      "GB\n",
      "18\n",
      "UA\n",
      "18\n",
      "CA\n",
      "18\n",
      "MX\n",
      "18\n",
      "US\n",
      "18\n",
      "AU\n",
      "18\n",
      "NZ\n",
      "18\n",
      "BR\n",
      "18\n",
      "CL\n",
      "18\n",
      "UY\n",
      "18\n",
      "MIX\n",
      "18\n",
      "GLOBAL\n",
      "18\n",
      "EG\n",
      "19\n",
      "MA\n",
      "19\n",
      "ZA\n",
      "19\n",
      "CN\n",
      "19\n",
      "IN\n",
      "19\n",
      "JP\n",
      "19\n",
      "KP\n",
      "19\n",
      "PK\n",
      "19\n",
      "PH\n",
      "19\n",
      "TH\n",
      "19\n",
      "CR\n",
      "19\n",
      "TR\n",
      "19\n",
      "AT\n",
      "19\n",
      "BE\n",
      "19\n",
      "BG\n",
      "19\n",
      "HR\n",
      "19\n",
      "DK\n",
      "19\n",
      "FI\n",
      "19\n",
      "FR\n",
      "19\n",
      "DE\n",
      "19\n",
      "GR\n",
      "19\n",
      "IE\n",
      "19\n",
      "IT\n",
      "19\n",
      "LT\n",
      "19\n",
      "NL\n",
      "19\n",
      "NO\n",
      "19\n",
      "PL\n",
      "19\n",
      "PT\n",
      "19\n",
      "RO\n",
      "19\n",
      "ES\n",
      "19\n",
      "SE\n",
      "19\n",
      "GB\n",
      "19\n",
      "UA\n",
      "19\n",
      "CA\n",
      "19\n",
      "MX\n",
      "19\n",
      "US\n",
      "19\n",
      "AU\n",
      "19\n",
      "NZ\n",
      "19\n",
      "BR\n",
      "19\n",
      "CL\n",
      "19\n",
      "UY\n",
      "19\n",
      "MIX\n",
      "19\n",
      "GLOBAL\n",
      "19\n"
     ]
    }
   ],
   "source": [
    "# -*- coding: utf-8 -*-\n",
    "\"\"\"\n",
    "Created on Mon Feb 18 13:04:17 2019\n",
    "\n",
    "@author: jschmidt\n",
    "\"\"\"\n",
    "from keras import layers\n",
    "from keras import models\n",
    "from keras import optimizers\n",
    "from keras.preprocessing.image import ImageDataGenerator\n",
    "from keras.callbacks import ModelCheckpoint\n",
    "import pandas as pd\n",
    "import numpy as np\n",
    "import math\n",
    "\n",
    "import pickle  # pip install dill --user\n",
    "import matplotlib.pyplot as plt\n",
    "from keras.applications import VGG16\n",
    "import tensorflow as tf\n",
    "#import tensorflow.tfp as tfp\n",
    "\n",
    "import imp\n",
    "import scripts.windturbines.functions_pattern_recognition as fpr\n",
    "imp.reload(fpr)\n",
    "\n",
    "gpu_fraction = 0.8\n",
    "gpu_options = tf.GPUOptions(per_process_gpu_memory_fraction=gpu_fraction)\n",
    "sess = tf.Session(config=tf.ConfigProto(gpu_options=gpu_options))\n",
    "\n",
    "import keras.backend as K\n",
    "\n",
    "import math\n",
    "\n",
    "def mean_pred(y_true, y_pred):\n",
    "    return K.mean(y_pred)\n",
    "\n",
    "def mean_true(y_true, y_pred):\n",
    "    return K.mean(y_true)\n",
    "\n",
    "def c_metric(y_true, y_pred):\n",
    "    x = y_true\n",
    "    y = y_pred\n",
    "    diff_x = x - K.mean(x)\n",
    "    diff_y = y - K.mean(y)\n",
    "    sum_diffs = K.sum(diff_x * diff_y)\n",
    "    low = K.sqrt(K.sum(diff_x * diff_x)) * K.sqrt(K.sum(diff_y * diff_y))\n",
    "    metric = sum_diffs / low\n",
    "    return metric\n",
    "\n",
    "def c_length(y_true, y_pred):\n",
    "    length = tf.to_float(tf.size(y_true))\n",
    "    return length\n"
   ]
  },
  {
   "cell_type": "markdown",
   "metadata": {},
   "source": [
    "# Training Phase"
   ]
  },
  {
   "cell_type": "code",
   "execution_count": 10,
   "metadata": {
    "ExecuteTime": {
     "end_time": "2019-10-13T19:57:42.422155Z",
     "start_time": "2019-10-13T19:57:42.302223Z"
    }
   },
   "outputs": [],
   "source": [
    "COUNTRY = \"US\"\n",
    "\n",
    "train_dir = fpr.get_param(COUNTRY, \"PATH_ML_IMAGES_TYPE_REGRESSION_TRAIN\", 18)\n",
    "test_dir = fpr.get_param(COUNTRY, \"PATH_ML_IMAGES_TYPE_REGRESSION_TEST\", 18)\n",
    "\n",
    "# Part II: Pretrained model\n",
    "\n",
    "\n",
    "#conv_base = VGG16(weights='imagenet',\n",
    "#                  include_top=False,\n",
    "#                  input_shape=(256, 256, 3))\n",
    "\n",
    "model = models.Sequential()\n",
    "model.add(layers.Conv2D(32, (3, 3), activation='relu',\n",
    "                        input_shape=(256, 256, 3)))\n",
    "model.add(layers.MaxPooling2D((2, 2)))\n",
    "model.add(layers.Conv2D(32, (3, 3), activation='relu'))\n",
    "model.add(layers.MaxPooling2D((2, 2)))\n",
    "model.add(layers.Conv2D(64, (3, 3), activation='relu'))\n",
    "model.add(layers.MaxPooling2D((2, 2)))\n",
    "model.add(layers.Conv2D(64, (3, 3), activation='relu'))\n",
    "model.add(layers.MaxPooling2D((2, 2)))\n",
    "model.add(layers.Flatten())\n",
    "model.add(layers.Dropout(0.5))\n",
    "model.add(layers.Dense(256, activation='relu'))\n",
    "model.add(layers.Dense(256, activation='relu'))\n",
    "model.add(layers.Dense(1, activation='linear'))\n",
    "\n",
    "#set_trainable = False\n",
    "#for layer in conv_base.layers:\n",
    "#    if layer.name == 'block4_conv1':\n",
    "#        set_trainable = True\n",
    "#    if set_trainable:\n",
    "#        layer.trainable = True\n",
    "#    else:\n",
    "#        layer.trainable = False\n",
    "        \n",
    "        \n",
    "        \n",
    "pd_train = pd.read_csv(train_dir + \"list.csv\")\n",
    "pd_test = pd.read_csv(test_dir + \"list.csv\")\n",
    "\n",
    "pd_train['power_density'] = pd_train['t_cap'] / (pd_train['t_rd'] * pd_train['t_rd'] * math.pi)  \n",
    "pd_test['power_density'] = pd_test['t_cap'] / (pd_test['t_rd'] * pd_test['t_rd'] * math.pi)\n",
    "\n",
    "#pd_train['score'] = pd_train['t_cap'] / np.max(pd_train['t_cap'])\n",
    "#pd_test['score'] = pd_test['t_cap'] / np.max(pd_test['t_cap'])\n",
    "\n",
    "\n",
    "param = 't_rd'\n",
    "pd_train['score'] = pd_train[param] / np.max(pd_train[param])\n",
    "pd_test['score'] = pd_test[param] / np.max(pd_test[param])\n"
   ]
  },
  {
   "cell_type": "code",
   "execution_count": 11,
   "metadata": {
    "ExecuteTime": {
     "end_time": "2019-10-13T19:57:46.609265Z",
     "start_time": "2019-10-13T19:57:46.605870Z"
    }
   },
   "outputs": [
    {
     "data": {
      "text/plain": [
       "'data/aerialImages/GOOGLE/RESOLUTION18/US/type_keras_regression/train/'"
      ]
     },
     "execution_count": 11,
     "metadata": {},
     "output_type": "execute_result"
    }
   ],
   "source": [
    "train_dir"
   ]
  },
  {
   "cell_type": "code",
   "execution_count": 12,
   "metadata": {
    "ExecuteTime": {
     "end_time": "2019-10-13T19:57:48.345585Z",
     "start_time": "2019-10-13T19:57:48.332758Z"
    }
   },
   "outputs": [
    {
     "data": {
      "text/html": [
       "<div>\n",
       "<style scoped>\n",
       "    .dataframe tbody tr th:only-of-type {\n",
       "        vertical-align: middle;\n",
       "    }\n",
       "\n",
       "    .dataframe tbody tr th {\n",
       "        vertical-align: top;\n",
       "    }\n",
       "\n",
       "    .dataframe thead th {\n",
       "        text-align: right;\n",
       "    }\n",
       "</style>\n",
       "<table border=\"1\" class=\"dataframe\">\n",
       "  <thead>\n",
       "    <tr style=\"text-align: right;\">\n",
       "      <th></th>\n",
       "      <th>Unnamed: 0</th>\n",
       "      <th>id</th>\n",
       "      <th>t_hh</th>\n",
       "      <th>id_s</th>\n",
       "      <th>t_rd</th>\n",
       "      <th>t_cap</th>\n",
       "      <th>power_density</th>\n",
       "      <th>score</th>\n",
       "    </tr>\n",
       "  </thead>\n",
       "  <tbody>\n",
       "    <tr>\n",
       "      <th>0</th>\n",
       "      <td>5</td>\n",
       "      <td>6</td>\n",
       "      <td>23.0</td>\n",
       "      <td>6.png</td>\n",
       "      <td>23.0</td>\n",
       "      <td>160.0</td>\n",
       "      <td>0.096275</td>\n",
       "      <td>0.1840</td>\n",
       "    </tr>\n",
       "    <tr>\n",
       "      <th>1</th>\n",
       "      <td>23</td>\n",
       "      <td>24</td>\n",
       "      <td>30.0</td>\n",
       "      <td>24.png</td>\n",
       "      <td>27.0</td>\n",
       "      <td>225.0</td>\n",
       "      <td>0.098244</td>\n",
       "      <td>0.2160</td>\n",
       "    </tr>\n",
       "    <tr>\n",
       "      <th>2</th>\n",
       "      <td>25</td>\n",
       "      <td>26</td>\n",
       "      <td>60.0</td>\n",
       "      <td>26.png</td>\n",
       "      <td>61.4</td>\n",
       "      <td>1000.0</td>\n",
       "      <td>0.084433</td>\n",
       "      <td>0.4912</td>\n",
       "    </tr>\n",
       "    <tr>\n",
       "      <th>3</th>\n",
       "      <td>29</td>\n",
       "      <td>30</td>\n",
       "      <td>30.0</td>\n",
       "      <td>30.png</td>\n",
       "      <td>39.0</td>\n",
       "      <td>500.0</td>\n",
       "      <td>0.104638</td>\n",
       "      <td>0.3120</td>\n",
       "    </tr>\n",
       "    <tr>\n",
       "      <th>4</th>\n",
       "      <td>30</td>\n",
       "      <td>31</td>\n",
       "      <td>24.6</td>\n",
       "      <td>31.png</td>\n",
       "      <td>16.0</td>\n",
       "      <td>65.0</td>\n",
       "      <td>0.080821</td>\n",
       "      <td>0.1280</td>\n",
       "    </tr>\n",
       "  </tbody>\n",
       "</table>\n",
       "</div>"
      ],
      "text/plain": [
       "   Unnamed: 0  id  t_hh    id_s  t_rd   t_cap  power_density   score\n",
       "0           5   6  23.0   6.png  23.0   160.0       0.096275  0.1840\n",
       "1          23  24  30.0  24.png  27.0   225.0       0.098244  0.2160\n",
       "2          25  26  60.0  26.png  61.4  1000.0       0.084433  0.4912\n",
       "3          29  30  30.0  30.png  39.0   500.0       0.104638  0.3120\n",
       "4          30  31  24.6  31.png  16.0    65.0       0.080821  0.1280"
      ]
     },
     "execution_count": 12,
     "metadata": {},
     "output_type": "execute_result"
    }
   ],
   "source": [
    "pd_train.head()"
   ]
  },
  {
   "cell_type": "code",
   "execution_count": 13,
   "metadata": {
    "ExecuteTime": {
     "end_time": "2019-10-13T19:57:50.367440Z",
     "start_time": "2019-10-13T19:57:49.967386Z"
    }
   },
   "outputs": [
    {
     "name": "stdout",
     "output_type": "stream",
     "text": [
      "Found 27389 validated image filenames.\n",
      "Found 9129 validated image filenames.\n",
      "Found 9128 validated image filenames.\n"
     ]
    }
   ],
   "source": [
    "train_datagen = ImageDataGenerator(rescale = 1./255, \n",
    "                                   horizontal_flip = True,\n",
    "                                   fill_mode = \"nearest\", \n",
    "                                   zoom_range = 0.2,\n",
    "                                   width_shift_range = 0.2, \n",
    "                                   height_shift_range = 0.2,\n",
    "                                   rotation_range = 30,\n",
    "                                   validation_split = 0.25) \n",
    "\n",
    "train_generator = train_datagen.flow_from_dataframe(dataframe = pd_train, \n",
    "                                                    directory = train_dir, \n",
    "                                                    x_col = \"id_s\", \n",
    "                                                    y_col = \"score\", \n",
    "                                                    has_ext = True, \n",
    "                                                    class_mode=\"other\", \n",
    "                                                    subset=\"training\",\n",
    "                                                    batch_size=20)\n",
    "\n",
    "#                                                    target_size=(img_width, img_height), \n",
    "\n",
    "\n",
    "val_generator = train_datagen.flow_from_dataframe(dataframe = pd_train, \n",
    "                                                    directory = train_dir, \n",
    "                                                    x_col = \"id_s\", \n",
    "                                                    y_col = \"score\", \n",
    "                                                    has_ext = True, \n",
    "                                                    class_mode=\"raw\", \n",
    "                                                    subset=\"validation\",\n",
    "                                                    batch_size=20)\n",
    "\n",
    "#                                                    target_size=(img_width, img_height), \n",
    "\n",
    "# Note that the validation data should not be augmented!\n",
    "test_datagen = ImageDataGenerator(rescale=1./255)\n",
    "\n",
    "train_generator = train_datagen.flow_from_dataframe(dataframe = pd_test, \n",
    "                                                    directory = test_dir, \n",
    "                                                    x_col = \"id_s\", \n",
    "                                                    y_col = \"score\", \n",
    "                                                    has_ext = True, \n",
    "                                                    class_mode=\"raw\", \n",
    "                                                    batch_size=20)"
   ]
  },
  {
   "cell_type": "code",
   "execution_count": 14,
   "metadata": {
    "ExecuteTime": {
     "end_time": "2019-10-13T19:57:53.749385Z",
     "start_time": "2019-10-13T19:57:53.713893Z"
    }
   },
   "outputs": [],
   "source": [
    "model.compile(loss='mean_squared_error',\n",
    "              optimizer=optimizers.RMSprop(lr=2e-5),\n",
    "              metrics=[mean_pred, mean_true, c_metric, c_length])\n",
    "\n",
    "mcp_save = ModelCheckpoint('models/model-regression-unfreezed-2-layer-2-layer-classification-6497-turbines-{epoch:04d}-{val_loss:.4f}.h5',\n",
    "                           save_best_only=True, monitor='val_loss', mode='min')\n",
    "\n",
    "\n"
   ]
  },
  {
   "cell_type": "code",
   "execution_count": 15,
   "metadata": {
    "ExecuteTime": {
     "end_time": "2019-10-13T20:11:33.933618Z",
     "start_time": "2019-10-13T19:57:55.578045Z"
    }
   },
   "outputs": [
    {
     "name": "stdout",
     "output_type": "stream",
     "text": [
      "WARNING:tensorflow:From /home/jschmidt/.conda/envs/windturbine-identification/lib/python3.7/site-packages/tensorflow/python/ops/math_ops.py:3066: to_int32 (from tensorflow.python.ops.math_ops) is deprecated and will be removed in a future version.\n",
      "Instructions for updating:\n",
      "Use tf.cast instead.\n",
      "Epoch 1/30\n",
      " - 21s - loss: 0.0747 - mean_pred: 0.5275 - mean_true: 0.6153 - c_metric: 0.0220 - c_length: 20.0000 - val_loss: 0.0391 - val_mean_pred: 0.5775 - val_mean_true: 0.5654 - val_c_metric: -1.5232e-01 - val_c_length: 20.0000\n",
      "Epoch 2/30\n",
      " - 18s - loss: 0.0431 - mean_pred: 0.5907 - mean_true: 0.6119 - c_metric: 0.0691 - c_length: 20.0000 - val_loss: 0.0551 - val_mean_pred: 0.6696 - val_mean_true: 0.5670 - val_c_metric: -1.6882e-01 - val_c_length: 20.0000\n",
      "Epoch 3/30\n",
      " - 19s - loss: 0.0417 - mean_pred: 0.6025 - mean_true: 0.6156 - c_metric: 0.1147 - c_length: 20.0000 - val_loss: 0.0389 - val_mean_pred: 0.5817 - val_mean_true: 0.5640 - val_c_metric: -1.3626e-01 - val_c_length: 20.0000\n",
      "Epoch 4/30\n",
      " - 19s - loss: 0.0425 - mean_pred: 0.6033 - mean_true: 0.6207 - c_metric: 0.0950 - c_length: 20.0000 - val_loss: 0.0374 - val_mean_pred: 0.5525 - val_mean_true: 0.5657 - val_c_metric: -1.8455e-01 - val_c_length: 20.0000\n",
      "Epoch 5/30\n",
      " - 21s - loss: 0.0381 - mean_pred: 0.6039 - mean_true: 0.6176 - c_metric: 0.1465 - c_length: 20.0000 - val_loss: 0.0334 - val_mean_pred: 0.5406 - val_mean_true: 0.5727 - val_c_metric: -1.1720e-01 - val_c_length: 20.0000\n",
      "Epoch 6/30\n",
      " - 32s - loss: 0.0376 - mean_pred: 0.6052 - mean_true: 0.6202 - c_metric: 0.1623 - c_length: 20.0000 - val_loss: 0.0358 - val_mean_pred: 0.5817 - val_mean_true: 0.5661 - val_c_metric: -1.7132e-01 - val_c_length: 20.0000\n",
      "Epoch 7/30\n",
      " - 27s - loss: 0.0380 - mean_pred: 0.6089 - mean_true: 0.6196 - c_metric: 0.1308 - c_length: 20.0000 - val_loss: 0.0343 - val_mean_pred: 0.5364 - val_mean_true: 0.5658 - val_c_metric: -1.5809e-01 - val_c_length: 20.0000\n",
      "Epoch 8/30\n",
      " - 28s - loss: 0.0362 - mean_pred: 0.6102 - mean_true: 0.6207 - c_metric: 0.2026 - c_length: 20.0000 - val_loss: 0.0327 - val_mean_pred: 0.5624 - val_mean_true: 0.5614 - val_c_metric: -1.4410e-01 - val_c_length: 20.0000\n",
      "Epoch 9/30\n",
      " - 27s - loss: 0.0372 - mean_pred: 0.6117 - mean_true: 0.6232 - c_metric: 0.2063 - c_length: 20.0000 - val_loss: 0.0322 - val_mean_pred: 0.5595 - val_mean_true: 0.5671 - val_c_metric: -1.7157e-01 - val_c_length: 20.0000\n",
      "Epoch 10/30\n",
      " - 30s - loss: 0.0351 - mean_pred: 0.6048 - mean_true: 0.6168 - c_metric: 0.2031 - c_length: 19.7628 - val_loss: 0.0342 - val_mean_pred: 0.6156 - val_mean_true: 0.5746 - val_c_metric: -1.5390e-01 - val_c_length: 19.8999\n",
      "Epoch 11/30\n",
      " - 27s - loss: 0.0343 - mean_pred: 0.6126 - mean_true: 0.6191 - c_metric: 0.3115 - c_length: 20.0000 - val_loss: 0.0334 - val_mean_pred: 0.5981 - val_mean_true: 0.5654 - val_c_metric: -1.7453e-01 - val_c_length: 20.0000\n",
      "Epoch 12/30\n",
      " - 26s - loss: 0.0340 - mean_pred: 0.6094 - mean_true: 0.6161 - c_metric: 0.2577 - c_length: 20.0000 - val_loss: 0.0304 - val_mean_pred: 0.5452 - val_mean_true: 0.5595 - val_c_metric: -1.0388e-01 - val_c_length: 20.0000\n",
      "Epoch 13/30\n",
      " - 29s - loss: 0.0302 - mean_pred: 0.6204 - mean_true: 0.6250 - c_metric: 0.3312 - c_length: 20.0000 - val_loss: 0.0323 - val_mean_pred: 0.5159 - val_mean_true: 0.5586 - val_c_metric: -1.2778e-01 - val_c_length: 20.0000\n",
      "Epoch 14/30\n",
      " - 31s - loss: 0.0314 - mean_pred: 0.6016 - mean_true: 0.6087 - c_metric: 0.2897 - c_length: 20.0000 - val_loss: 0.0297 - val_mean_pred: 0.5734 - val_mean_true: 0.5569 - val_c_metric: -7.8456e-02 - val_c_length: 20.0000\n",
      "Epoch 15/30\n",
      " - 29s - loss: 0.0312 - mean_pred: 0.6123 - mean_true: 0.6206 - c_metric: 0.3115 - c_length: 20.0000 - val_loss: 0.0304 - val_mean_pred: 0.6454 - val_mean_true: 0.5838 - val_c_metric: -4.7223e-02 - val_c_length: 20.0000\n",
      "Epoch 16/30\n",
      " - 29s - loss: 0.0325 - mean_pred: 0.6110 - mean_true: 0.6158 - c_metric: 0.2872 - c_length: 20.0000 - val_loss: 0.0271 - val_mean_pred: 0.5438 - val_mean_true: 0.5670 - val_c_metric: -7.7029e-02 - val_c_length: 20.0000\n",
      "Epoch 17/30\n",
      " - 26s - loss: 0.0310 - mean_pred: 0.6188 - mean_true: 0.6258 - c_metric: 0.3329 - c_length: 20.0000 - val_loss: 0.0326 - val_mean_pred: 0.6387 - val_mean_true: 0.5634 - val_c_metric: -1.3447e-02 - val_c_length: 20.0000\n",
      "Epoch 18/30\n",
      " - 31s - loss: 0.0314 - mean_pred: 0.6127 - mean_true: 0.6173 - c_metric: 0.3336 - c_length: 20.0000 - val_loss: 0.0261 - val_mean_pred: 0.6001 - val_mean_true: 0.5690 - val_c_metric: -5.0858e-02 - val_c_length: 20.0000\n",
      "Epoch 19/30\n",
      " - 29s - loss: 0.0296 - mean_pred: 0.6125 - mean_true: 0.6150 - c_metric: 0.3671 - c_length: 19.7628 - val_loss: 0.0247 - val_mean_pred: 0.5757 - val_mean_true: 0.5636 - val_c_metric: -3.9296e-02 - val_c_length: 19.8999\n",
      "Epoch 20/30\n",
      " - 26s - loss: 0.0304 - mean_pred: 0.6140 - mean_true: 0.6185 - c_metric: 0.3343 - c_length: 20.0000 - val_loss: 0.0236 - val_mean_pred: 0.5615 - val_mean_true: 0.5672 - val_c_metric: 0.0176 - val_c_length: 20.0000\n",
      "Epoch 21/30\n",
      " - 27s - loss: 0.0298 - mean_pred: 0.6062 - mean_true: 0.6095 - c_metric: 0.3754 - c_length: 20.0000 - val_loss: 0.0221 - val_mean_pred: 0.5445 - val_mean_true: 0.5683 - val_c_metric: 0.0933 - val_c_length: 20.0000\n",
      "Epoch 22/30\n",
      " - 29s - loss: 0.0285 - mean_pred: 0.6150 - mean_true: 0.6194 - c_metric: 0.3853 - c_length: 20.0000 - val_loss: 0.0248 - val_mean_pred: 0.5985 - val_mean_true: 0.5652 - val_c_metric: -2.0791e-03 - val_c_length: 20.0000\n",
      "Epoch 23/30\n",
      " - 27s - loss: 0.0291 - mean_pred: 0.6161 - mean_true: 0.6197 - c_metric: 0.4147 - c_length: 20.0000 - val_loss: 0.0307 - val_mean_pred: 0.6308 - val_mean_true: 0.5579 - val_c_metric: 0.0106 - val_c_length: 20.0000\n",
      "Epoch 24/30\n",
      " - 29s - loss: 0.0274 - mean_pred: 0.6287 - mean_true: 0.6285 - c_metric: 0.4640 - c_length: 20.0000 - val_loss: 0.0239 - val_mean_pred: 0.5909 - val_mean_true: 0.5690 - val_c_metric: 0.0667 - val_c_length: 20.0000\n",
      "Epoch 25/30\n",
      " - 31s - loss: 0.0283 - mean_pred: 0.6189 - mean_true: 0.6201 - c_metric: 0.4257 - c_length: 20.0000 - val_loss: 0.0236 - val_mean_pred: 0.5788 - val_mean_true: 0.5654 - val_c_metric: 0.0477 - val_c_length: 20.0000\n",
      "Epoch 26/30\n",
      " - 33s - loss: 0.0276 - mean_pred: 0.6168 - mean_true: 0.6195 - c_metric: 0.3820 - c_length: 20.0000 - val_loss: 0.0243 - val_mean_pred: 0.5838 - val_mean_true: 0.5694 - val_c_metric: -1.6194e-02 - val_c_length: 20.0000\n",
      "Epoch 27/30\n",
      " - 29s - loss: 0.0273 - mean_pred: 0.6166 - mean_true: 0.6164 - c_metric: 0.4426 - c_length: 20.0000 - val_loss: 0.0237 - val_mean_pred: 0.5418 - val_mean_true: 0.5672 - val_c_metric: 0.1109 - val_c_length: 20.0000\n",
      "Epoch 28/30\n",
      " - 27s - loss: 0.0282 - mean_pred: 0.6114 - mean_true: 0.6138 - c_metric: 0.4175 - c_length: 19.7628 - val_loss: 0.0244 - val_mean_pred: 0.5736 - val_mean_true: 0.5607 - val_c_metric: 0.0808 - val_c_length: 19.8999\n",
      "Epoch 29/30\n",
      " - 29s - loss: 0.0265 - mean_pred: 0.6096 - mean_true: 0.6106 - c_metric: 0.4694 - c_length: 20.0000 - val_loss: 0.0218 - val_mean_pred: 0.5500 - val_mean_true: 0.5647 - val_c_metric: 0.0956 - val_c_length: 20.0000\n",
      "Epoch 30/30\n",
      " - 30s - loss: 0.0267 - mean_pred: 0.6139 - mean_true: 0.6155 - c_metric: 0.4403 - c_length: 20.0000 - val_loss: 0.0227 - val_mean_pred: 0.5430 - val_mean_true: 0.5651 - val_c_metric: 0.1628 - val_c_length: 20.0000\n"
     ]
    }
   ],
   "source": [
    "#tf.group(tf.global_variables_initializer(), tf.local_variables_initializer())\n",
    "\n",
    "history = model.fit_generator(\n",
    "      train_generator,\n",
    "      steps_per_epoch=50,\n",
    "      epochs=30,\n",
    "      validation_data=val_generator,\n",
    "      validation_steps=50,\n",
    "      callbacks=[mcp_save],\n",
    "      verbose=2)"
   ]
  },
  {
   "cell_type": "markdown",
   "metadata": {},
   "source": [
    "# Validation vs. Training"
   ]
  },
  {
   "cell_type": "code",
   "execution_count": 27,
   "metadata": {
    "ExecuteTime": {
     "end_time": "2019-10-14T07:59:36.593446Z",
     "start_time": "2019-10-14T07:59:34.352234Z"
    }
   },
   "outputs": [
    {
     "data": {
      "image/png": "[encoded data removed]",
      "text/plain": [
       "<Figure size 432x288 with 1 Axes>"
      ]
     },
     "metadata": {
      "needs_background": "light"
     },
     "output_type": "display_data"
    },
    {
     "data": {
      "image/png": "[encoded data removed]",
      "text/plain": [
       "<Figure size 432x288 with 1 Axes>"
      ]
     },
     "metadata": {
      "needs_background": "light"
     },
     "output_type": "display_data"
    }
   ],
   "source": [
    "acc = history.history['c_metric']\n",
    "val_acc = history.history['val_c_metric']\n",
    "#acc = history.history['acc']\n",
    "#val_acc = history.history['val_acc']\n",
    "\n",
    "\n",
    "loss = history.history['loss']\n",
    "val_loss = history.history['val_loss']\n",
    "\n",
    "epochs = range(len(acc))\n",
    "\n",
    "plt.plot(epochs, acc, 'bo', label='Training acc')\n",
    "plt.plot(epochs, val_acc, 'b', label='Validation acc')\n",
    "plt.title('Training and validation accuracy')\n",
    "plt.legend()\n",
    "\n",
    "plt.figure()\n",
    "\n",
    "plt.plot(epochs, loss, 'bo', label='Training loss')\n",
    "plt.plot(epochs, val_loss, 'b', label='Validation loss')\n",
    "plt.title('Training and validation loss')\n",
    "plt.legend()\n",
    "\n",
    "plt.show()\n",
    "\n",
    "\n"
   ]
  },
  {
   "cell_type": "markdown",
   "metadata": {},
   "source": [
    "# Model selection"
   ]
  },
  {
   "cell_type": "code",
   "execution_count": 28,
   "metadata": {
    "ExecuteTime": {
     "end_time": "2019-10-14T08:00:50.332807Z",
     "start_time": "2019-10-14T08:00:50.327040Z"
    }
   },
   "outputs": [
    {
     "data": {
      "text/plain": [
       "'models/model-regression-unfreezed-2-layer-2-layer-classification-6497-turbines-0117-0.0177.h5'"
      ]
     },
     "execution_count": 28,
     "metadata": {},
     "output_type": "execute_result"
    }
   ],
   "source": [
    "min_val_loss = min(val_loss)\n",
    "\n",
    "i = val_loss.index(min_val_loss) + 1\n",
    "\n",
    "best_model = \"models/model-regression-unfreezed-2-layer-2-layer-classification-6497-turbines-\" + \"{0:0=4d}\".format(i) + \"-\" + \"{0:.4f}\".format(min_val_loss) + \".h5\"\n",
    "\n",
    "#best_model = \"models/model-regression-unfreezed-2-layer-2-layer-classification-6497-turbines-0029-0.0218.h5\"\n",
    "\n",
    "best_model"
   ]
  },
  {
   "cell_type": "markdown",
   "metadata": {},
   "source": [
    "# Test"
   ]
  },
  {
   "cell_type": "code",
   "execution_count": 29,
   "metadata": {
    "ExecuteTime": {
     "end_time": "2019-10-14T08:05:31.950008Z",
     "start_time": "2019-10-14T08:00:55.733943Z"
    }
   },
   "outputs": [
    {
     "name": "stdout",
     "output_type": "stream",
     "text": [
      "Found 9128 validated image filenames.\n"
     ]
    }
   ],
   "source": [
    "test_base_dir = fpr.get_param(COUNTRY, \"PATH_ML_IMAGES_TURBINES_TEST\", 18)+\"../\"\n",
    "\n",
    "#test_model = models.load_model(best_model)\n",
    "\n",
    "test_model = model\n",
    "\n",
    "test_datagen = ImageDataGenerator(rescale=1./255)\n",
    "\n",
    "test_generator = test_datagen.flow_from_dataframe(dataframe = pd_test, \n",
    "                                                    directory = test_dir, \n",
    "                                                    x_col = \"id_s\", \n",
    "                                                    y_col = \"score\", \n",
    "                                                    has_ext = True, \n",
    "                                                    class_mode=None, \n",
    "                                                    batch_size=1)\n",
    "\n",
    "filenames = test_generator.filenames\n",
    "nb_samples = len(filenames)\n",
    "\n",
    "predict = model.predict_generator(test_generator,steps = nb_samples)\n",
    "\n",
    "#test_loss, test_acc = test_model.evaluate_generator(test_generator, steps=32)\n",
    "#print('test acc:', test_acc)\n",
    "#print('test loss:', test_loss)\n"
   ]
  },
  {
   "cell_type": "code",
   "execution_count": 30,
   "metadata": {
    "ExecuteTime": {
     "end_time": "2019-10-14T08:05:32.457615Z",
     "start_time": "2019-10-14T08:05:32.143108Z"
    }
   },
   "outputs": [],
   "source": [
    "predict\n",
    "pd_test['predict'] = predict"
   ]
  },
  {
   "cell_type": "code",
   "execution_count": 31,
   "metadata": {
    "ExecuteTime": {
     "end_time": "2019-10-14T08:05:39.974893Z",
     "start_time": "2019-10-14T08:05:32.460268Z"
    }
   },
   "outputs": [
    {
     "data": {
      "text/html": [
       "<div>\n",
       "<style scoped>\n",
       "    .dataframe tbody tr th:only-of-type {\n",
       "        vertical-align: middle;\n",
       "    }\n",
       "\n",
       "    .dataframe tbody tr th {\n",
       "        vertical-align: top;\n",
       "    }\n",
       "\n",
       "    .dataframe thead th {\n",
       "        text-align: right;\n",
       "    }\n",
       "</style>\n",
       "<table border=\"1\" class=\"dataframe\">\n",
       "  <thead>\n",
       "    <tr style=\"text-align: right;\">\n",
       "      <th></th>\n",
       "      <th>Unnamed: 0</th>\n",
       "      <th>id</th>\n",
       "      <th>t_hh</th>\n",
       "      <th>id_s</th>\n",
       "      <th>t_rd</th>\n",
       "      <th>t_cap</th>\n",
       "      <th>power_density</th>\n",
       "      <th>score</th>\n",
       "      <th>predict</th>\n",
       "    </tr>\n",
       "  </thead>\n",
       "  <tbody>\n",
       "    <tr>\n",
       "      <th>0</th>\n",
       "      <td>41529</td>\n",
       "      <td>41530</td>\n",
       "      <td>80.0</td>\n",
       "      <td>41530.png</td>\n",
       "      <td>100.0</td>\n",
       "      <td>2000.0</td>\n",
       "      <td>0.063662</td>\n",
       "      <td>0.735294</td>\n",
       "      <td>0.757999</td>\n",
       "    </tr>\n",
       "    <tr>\n",
       "      <th>1</th>\n",
       "      <td>41530</td>\n",
       "      <td>41531</td>\n",
       "      <td>80.0</td>\n",
       "      <td>41531.png</td>\n",
       "      <td>100.0</td>\n",
       "      <td>2000.0</td>\n",
       "      <td>0.063662</td>\n",
       "      <td>0.735294</td>\n",
       "      <td>0.588120</td>\n",
       "    </tr>\n",
       "    <tr>\n",
       "      <th>2</th>\n",
       "      <td>41531</td>\n",
       "      <td>41532</td>\n",
       "      <td>80.0</td>\n",
       "      <td>41532.png</td>\n",
       "      <td>100.0</td>\n",
       "      <td>2000.0</td>\n",
       "      <td>0.063662</td>\n",
       "      <td>0.735294</td>\n",
       "      <td>0.862283</td>\n",
       "    </tr>\n",
       "    <tr>\n",
       "      <th>3</th>\n",
       "      <td>41532</td>\n",
       "      <td>41533</td>\n",
       "      <td>80.0</td>\n",
       "      <td>41533.png</td>\n",
       "      <td>100.0</td>\n",
       "      <td>2000.0</td>\n",
       "      <td>0.063662</td>\n",
       "      <td>0.735294</td>\n",
       "      <td>0.780256</td>\n",
       "    </tr>\n",
       "    <tr>\n",
       "      <th>4</th>\n",
       "      <td>41533</td>\n",
       "      <td>41534</td>\n",
       "      <td>80.0</td>\n",
       "      <td>41534.png</td>\n",
       "      <td>100.0</td>\n",
       "      <td>2000.0</td>\n",
       "      <td>0.063662</td>\n",
       "      <td>0.735294</td>\n",
       "      <td>0.709472</td>\n",
       "    </tr>\n",
       "  </tbody>\n",
       "</table>\n",
       "</div>"
      ],
      "text/plain": [
       "   Unnamed: 0     id  t_hh       id_s   t_rd   t_cap  power_density     score  \\\n",
       "0       41529  41530  80.0  41530.png  100.0  2000.0       0.063662  0.735294   \n",
       "1       41530  41531  80.0  41531.png  100.0  2000.0       0.063662  0.735294   \n",
       "2       41531  41532  80.0  41532.png  100.0  2000.0       0.063662  0.735294   \n",
       "3       41532  41533  80.0  41533.png  100.0  2000.0       0.063662  0.735294   \n",
       "4       41533  41534  80.0  41534.png  100.0  2000.0       0.063662  0.735294   \n",
       "\n",
       "    predict  \n",
       "0  0.757999  \n",
       "1  0.588120  \n",
       "2  0.862283  \n",
       "3  0.780256  \n",
       "4  0.709472  "
      ]
     },
     "execution_count": 31,
     "metadata": {},
     "output_type": "execute_result"
    }
   ],
   "source": [
    "pd_test.head()"
   ]
  },
  {
   "cell_type": "code",
   "execution_count": 32,
   "metadata": {
    "ExecuteTime": {
     "end_time": "2019-10-14T08:05:43.025549Z",
     "start_time": "2019-10-14T08:05:39.976290Z"
    }
   },
   "outputs": [
    {
     "data": {
      "image/png": "[encoded data removed]",
      "text/plain": [
       "<Figure size 432x288 with 1 Axes>"
      ]
     },
     "metadata": {
      "needs_background": "light"
     },
     "output_type": "display_data"
    }
   ],
   "source": [
    "plt.figure()\n",
    "\n",
    "plt.plot(pd_test['score'], pd_test['predict'], 'bo', label='Training loss')\n",
    "plt.title('Score vs. prediction')\n",
    "\n",
    "plt.show()"
   ]
  }
 ],
 "metadata": {
  "kernelspec": {
   "display_name": "Python [conda env:.conda-windturbine-identification]",
   "language": "python",
   "name": "conda-env-.conda-windturbine-identification-py"
  },
  "language_info": {
   "codemirror_mode": {
    "name": "ipython",
    "version": 3
   },
   "file_extension": ".py",
   "mimetype": "text/x-python",
   "name": "python",
   "nbconvert_exporter": "python",
   "pygments_lexer": "ipython3",
   "version": "3.7.0"
  }
 },
 "nbformat": 4,
 "nbformat_minor": 2
}
