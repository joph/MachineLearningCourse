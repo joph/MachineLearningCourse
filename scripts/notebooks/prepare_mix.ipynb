{
 "cells": [
  {
   "cell_type": "code",
   "execution_count": 26,
   "metadata": {},
   "outputs": [
    {
     "name": "stdout",
     "output_type": "stream",
     "text": [
      "/data/projects/windturbine-identification/MachineLearningCourse\n"
     ]
    }
   ],
   "source": [
    "cd /data/projects/windturbine-identification/MachineLearningCourse"
   ]
  },
  {
   "cell_type": "code",
   "execution_count": 34,
   "metadata": {},
   "outputs": [],
   "source": [
    "\"\"\"\n",
    "Created on Mon Feb 18 20:30:48 2019\n",
    "\n",
    "@author: jschmidt\n",
    "\"\"\"\n",
    "\n",
    "import os, shutil, random\n",
    "\n",
    "import pandas as pd\n",
    "import sys\n",
    "import gdal\n",
    "import imp\n",
    "import numpy as np\n",
    "\n",
    "\n",
    "import scripts.windturbines.functions_pattern_recognition as fpr\n",
    "imp.reload(fpr)\n",
    "from scripts.windturbines.functions_pattern_recognition import get_param\n",
    "from scripts.windturbines.functions_pattern_recognition import cop_predict\n",
    "from scripts.windturbines.functions_pattern_recognition import check_image\n",
    "from scripts.windturbines.functions_pattern_recognition import read_params"
   ]
  },
  {
   "cell_type": "code",
   "execution_count": 38,
   "metadata": {},
   "outputs": [],
   "source": [
    "COUNTRY = \"MIX\"\n",
    "\n",
    "train_dir = get_param(COUNTRY,\"PATH_ML_IMAGES_TURBINES_TRAIN\")\n",
    "test_dir = get_param(COUNTRY,\"PATH_ML_IMAGES_TURBINES_TEST\")\n",
    "validation_dir = get_param(COUNTRY,\"PATH_ML_IMAGES_TURBINES_VALIDATION\")\n",
    "\n",
    "train_no_dir = get_param(COUNTRY,\"PATH_ML_IMAGES_NOTURBINES_TRAIN\")\n",
    "test_no_dir = get_param(COUNTRY,\"PATH_ML_IMAGES_NOTURBINES_TEST\")\n",
    "validation_no_dir = get_param(COUNTRY,\"PATH_ML_IMAGES_NOTURBINES_VALIDATION\")\n",
    "\n",
    "\n",
    "#### delete directories if exist\n",
    "#### create if not exist\n",
    "\n",
    "shutil.rmtree(train_dir,ignore_errors=True)\n",
    "shutil.rmtree(test_dir,ignore_errors=True)\n",
    "shutil.rmtree(validation_dir,ignore_errors=True)\n",
    "shutil.rmtree(train_no_dir,ignore_errors=True)\n",
    "shutil.rmtree(test_no_dir,ignore_errors=True)\n",
    "shutil.rmtree(validation_no_dir,ignore_errors=True)\n",
    "\n",
    "os.makedirs(train_dir)\n",
    "os.makedirs(test_dir)\n",
    "os.makedirs(validation_dir)\n",
    "os.makedirs(train_no_dir)\n",
    "os.makedirs(test_no_dir)\n",
    "os.makedirs(validation_no_dir)\n",
    "\n",
    "src_dir_tb = get_param(COUNTRY,\"PATH_RAW_IMAGES_TURBINES\")\n",
    "src_dir_notb = get_param(COUNTRY,\"PATH_RAW_IMAGES_NOTURBINES\")\n",
    "\n",
    "\n",
    "#### copy turbine images\n",
    "#### select subset depending on quality check file\n",
    "quality_check = pd.read_csv(get_param(COUNTRY,\"FILE_QUALITY_CHECK\")).dropna(subset=[\"quality\"])\n",
    "\n",
    "quality_check_sub = quality_check.loc[quality_check['quality']>=90]\n",
    "\n",
    "nmbfiles = quality_check_sub.shape[0]\n",
    "\n",
    "quality_check_sub = quality_check_sub.reindex(np.random.permutation(quality_check_sub.index))\n"
   ]
  },
  {
   "cell_type": "code",
   "execution_count": 39,
   "metadata": {},
   "outputs": [
    {
     "data": {
      "text/plain": [
       "6497"
      ]
     },
     "execution_count": 39,
     "metadata": {},
     "output_type": "execute_result"
    }
   ],
   "source": [
    "nmbfiles"
   ]
  },
  {
   "cell_type": "code",
   "execution_count": 40,
   "metadata": {},
   "outputs": [
    {
     "name": "stdout",
     "output_type": "stream",
     "text": [
      "6497\n",
      "4548\n",
      "5522\n"
     ]
    }
   ],
   "source": [
    "share_train=round(0.7*nmbfiles)\n",
    "share_validate=round(0.85*nmbfiles)\n",
    "\n",
    "print(nmbfiles)\n",
    "print(share_train)\n",
    "print(share_validate)"
   ]
  },
  {
   "cell_type": "code",
   "execution_count": 41,
   "metadata": {},
   "outputs": [
    {
     "name": "stdout",
     "output_type": "stream",
     "text": [
      "1000\n",
      "data/aerialImages/GOOGLE/RESOLUTION19/MIX/raw/Turbines/7825_BR.png\n",
      "2000\n",
      "data/aerialImages/GOOGLE/RESOLUTION19/MIX/raw/Turbines/106.7026_37.8042_1.0_Huadian Ningxia Ningdong Phase 4_CN.png\n",
      "3000\n",
      "data/aerialImages/GOOGLE/RESOLUTION19/MIX/raw/Turbines/114_AT.png\n",
      "4000\n",
      "data/aerialImages/GOOGLE/RESOLUTION19/MIX/raw/Turbines/1047_AT.png\n",
      "5000\n",
      "data/aerialImages/GOOGLE/RESOLUTION19/MIX/raw/Turbines/7839_BR.png\n",
      "6000\n",
      "data/aerialImages/GOOGLE/RESOLUTION19/MIX/raw/Turbines/534_AT.png\n"
     ]
    }
   ],
   "source": [
    "cnt = 0\n",
    "\n",
    "for i in range(0,nmbfiles-1):\n",
    "    cnt += 1\n",
    "        \n",
    "    #file=str(int(quality_check_sub.iloc[i,:].loc[\"id\"]))\n",
    "    file = quality_check_sub.iloc[i,:].loc[\"id\"]\n",
    "    \n",
    "    #print(file)\n",
    "    src_ = os.path.join(src_dir_tb,file)\n",
    "    if(cnt % 1000 == 0):\n",
    "        print(cnt)\n",
    "        print(src_)\n",
    "    if(os.path.isfile(src_)):\n",
    "        \n",
    "        if(cnt<share_train):\n",
    "            src = os.path.join(src_dir_tb,file)\n",
    "            dst = os.path.join(train_dir,file)\n",
    "            shutil.copyfile(src,dst)\n",
    "        \n",
    "        if(cnt>share_train and cnt<share_validate):\n",
    "            src = os.path.join(src_dir_tb,file)\n",
    "            dst = os.path.join(validation_dir,file)\n",
    "            shutil.copyfile(src,dst)\n",
    "        \n",
    "        if(cnt>share_validate):\n",
    "            src = os.path.join(src_dir_tb,file)\n",
    "            dst = os.path.join(test_dir,file)\n",
    "            shutil.copyfile(src,dst)\n",
    "            \n",
    "    #### copy no-turbine images"
   ]
  },
  {
   "cell_type": "code",
   "execution_count": 42,
   "metadata": {},
   "outputs": [
    {
     "name": "stdout",
     "output_type": "stream",
     "text": [
      "1000\n",
      "5601_BR.png\n",
      "2000\n",
      "1316_BR.png\n",
      "3000\n",
      "112.1256_39.5896_0.9999284744262696_Guodian Shanxi Pinglubeishan Phase 1 Wind_CN.png\n",
      "4000\n",
      "22617_0.10267598181962967__DE.png\n",
      "5000\n",
      "3770_BR.png\n",
      "6000\n",
      "19136_0.05273553729057312__DE.png\n",
      "total training turbine images: 4528\n",
      "total testing turbine images: 972\n",
      "total validation turbine images: 971\n",
      "total training no-turbine images: 4547\n",
      "total testing no-turbine images: 974\n",
      "total validation no-turbine images: 973\n"
     ]
    }
   ],
   "source": [
    "cnt = 0\n",
    "\n",
    "files = random.sample([x for x in os.listdir(src_dir_notb) if x.endswith(\".png\")], nmbfiles)\n",
    "    \n",
    "\n",
    "for i in range(0,nmbfiles-1):\n",
    "    cnt += 1\n",
    "    \n",
    "    file = files[i]\n",
    "    \n",
    "    if(cnt % 1000 == 0):\n",
    "        print(cnt)\n",
    "        print(file)\n",
    "\n",
    "    if(cnt<share_train):\n",
    "        src = os.path.join(src_dir_notb, file)\n",
    "        dst = os.path.join(train_no_dir, file)\n",
    "        shutil.copyfile(src, dst)\n",
    "            \n",
    "    if(cnt>share_train and cnt<share_validate):\n",
    "        src = os.path.join(src_dir_notb, file)\n",
    "        dst = os.path.join(validation_no_dir, file)\n",
    "        shutil.copyfile(src, dst)\n",
    "            \n",
    "    if(cnt>share_validate):\n",
    "        src = os.path.join(src_dir_notb, file)\n",
    "        dst = os.path.join(test_no_dir, file)\n",
    "        shutil.copyfile(src, dst)\n",
    "    \n",
    "\n",
    "\n",
    "\n",
    "print('total training turbine images:', len(os.listdir(train_dir)))\n",
    "print('total testing turbine images:', len(os.listdir(test_dir)))\n",
    "print('total validation turbine images:', len(os.listdir(validation_dir)))\n",
    "print('total training no-turbine images:', len(os.listdir(train_no_dir)))\n",
    "print('total testing no-turbine images:', len(os.listdir(test_no_dir)))\n",
    "print('total validation no-turbine images:', len(os.listdir(validation_no_dir)))"
   ]
  },
  {
   "cell_type": "code",
   "execution_count": 11,
   "metadata": {},
   "outputs": [
    {
     "data": {
      "text/plain": [
       "16502"
      ]
     },
     "execution_count": 11,
     "metadata": {},
     "output_type": "execute_result"
    }
   ],
   "source": [
    "\n"
   ]
  }
 ],
 "metadata": {
  "kernelspec": {
   "display_name": "Python [conda env:.conda-windturbine-identification]",
   "language": "python",
   "name": "conda-env-.conda-windturbine-identification-py"
  },
  "language_info": {
   "codemirror_mode": {
    "name": "ipython",
    "version": 3
   },
   "file_extension": ".py",
   "mimetype": "text/x-python",
   "name": "python",
   "nbconvert_exporter": "python",
   "pygments_lexer": "ipython3",
   "version": "3.7.0"
  }
 },
 "nbformat": 4,
 "nbformat_minor": 2
}
